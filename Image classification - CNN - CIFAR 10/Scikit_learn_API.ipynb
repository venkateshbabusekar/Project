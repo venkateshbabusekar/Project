{
 "cells": [
  {
   "cell_type": "markdown",
   "metadata": {},
   "source": [
    "# Scikit_learn_API - \"Grid Scearch Api to change Multiple Parameter\""
   ]
  },
  {
   "cell_type": "markdown",
   "metadata": {},
   "source": [
    "## Build own Base Model "
   ]
  },
  {
   "cell_type": "code",
   "execution_count": 48,
   "metadata": {
    "collapsed": true
   },
   "outputs": [],
   "source": [
    "\n",
    "# Importing all the necessary package \n",
    "\n",
    "seed= np.random.seed(10)\n",
    "import keras\n",
    "from keras.datasets import cifar10\n",
    "from keras.models import Sequential\n",
    "from keras.layers import Dense, Dropout, Activation, Flatten\n",
    "from keras.layers import Convolution2D, MaxPooling2D\n",
    "from keras.optimizers import RMSprop\n",
    "from keras.utils import np_utils\n",
    "from helpers import printoptions  # make numpy printouts prettier\n",
    "from display import plot_training_curves, visualize_keras_model\n",
    "from sklearn.model_selection import train_test_split\n",
    "from sklearn.model_selection import GridSearchCV\n",
    "from keras.wrappers.scikit_learn import KerasClassifier\n",
    "from sklearn.model_selection import StratifiedKFold\n",
    "from sklearn.model_selection import cross_val_score"
   ]
  },
  {
   "cell_type": "code",
   "execution_count": 50,
   "metadata": {},
   "outputs": [
    {
     "data": {
      "text/plain": [
       "(500, 10000, 49500, 500, 10000, 49500)"
      ]
     },
     "execution_count": 50,
     "metadata": {},
     "output_type": "execute_result"
    }
   ],
   "source": [
    "#(x_train, y_train), (x_test, y_test) = cifar10.load_data()\n",
    "(x, y), (x_test, y_test) = cifar10.load_data()\n",
    "\n",
    "# Spliting the data into TEST , TRAIN , VALIDATE \n",
    "x_train,x_valid,  y_train, y_valid = train_test_split(x, y, test_size=0.99, random_state=42,shuffle=False)\n",
    "len(x_train), len(x_test), len(x_valid),len(y_train),len(y_test), len(y_valid)"
   ]
  },
  {
   "cell_type": "code",
   "execution_count": 51,
   "metadata": {},
   "outputs": [
    {
     "name": "stdout",
     "output_type": "stream",
     "text": [
      "x_train shape: (500, 32, 32, 3)\n",
      "500 train samples\n",
      "10000 test samples\n"
     ]
    }
   ],
   "source": [
    "# We are changing the dimension input image dimensions\n",
    "img_rows, img_cols, img_colour = 32,32,3\n",
    "x_train = x_train.reshape(-1, img_rows, img_cols, 3)\n",
    "x_valid = x_valid.reshape(-1, img_rows, img_cols, 3)\n",
    "x_test = x_test.reshape(-1, img_rows, img_cols, 3)\n",
    "\n",
    "input_shape = (img_rows, img_cols, 3)\n",
    "print(\"x_train shape:\", x_train.shape)\n",
    "print(x_train.shape[0], 'train samples')\n",
    "#print(x_valid.shape[0], 'valid samples')\n",
    "print(x_test.shape[0], 'test samples')\n",
    "\n",
    "\n"
   ]
  },
  {
   "cell_type": "code",
   "execution_count": 52,
   "metadata": {
    "collapsed": true
   },
   "outputs": [],
   "source": [
    "# We are changing the dimension uotput lable\n",
    "y_train = np_utils.to_categorical(y_train, num_classes=10)\n",
    "y_test = np_utils.to_categorical(y_test, num_classes=10)\n",
    "y_valid = np_utils.to_categorical(y_valid, num_classes=10)"
   ]
  },
  {
   "cell_type": "code",
   "execution_count": 53,
   "metadata": {},
   "outputs": [
    {
     "data": {
      "text/plain": [
       "(500, 10)"
      ]
     },
     "execution_count": 53,
     "metadata": {},
     "output_type": "execute_result"
    }
   ],
   "source": [
    "y_train.shape"
   ]
  },
  {
   "cell_type": "code",
   "execution_count": 54,
   "metadata": {},
   "outputs": [
    {
     "data": {
      "text/plain": [
       "array([[ 0.,  0.,  0., ...,  0.,  0.,  0.],\n",
       "       [ 0.,  0.,  0., ...,  0.,  0.,  1.],\n",
       "       [ 0.,  0.,  0., ...,  0.,  0.,  1.],\n",
       "       ..., \n",
       "       [ 1.,  0.,  0., ...,  0.,  0.,  0.],\n",
       "       [ 0.,  1.,  0., ...,  0.,  0.,  0.],\n",
       "       [ 0.,  0.,  0., ...,  1.,  0.,  0.]])"
      ]
     },
     "execution_count": 54,
     "metadata": {},
     "output_type": "execute_result"
    }
   ],
   "source": [
    "y_train"
   ]
  },
  {
   "cell_type": "code",
   "execution_count": 12,
   "metadata": {
    "collapsed": true
   },
   "outputs": [],
   "source": [
    "# Setting up the default value ; We are giving small value for epoc and every thing so that out model rum fast .\n",
    "#It is jsut for explantion \n",
    "nb_filters = 10\n",
    "batch_size = 10\n",
    "nb_classes = 10\n",
    "nb_epoch = 2\n",
    "# size of pooling area for max pooling\n",
    "pool_size = (2, 2)\n",
    "# convolution kernel size\n",
    "kernel_size = (3, 3)"
   ]
  },
  {
   "cell_type": "code",
   "execution_count": 13,
   "metadata": {},
   "outputs": [
    {
     "name": "stderr",
     "output_type": "stream",
     "text": [
      "C:\\Users\\BABU\\AppData\\Local\\conda\\conda\\envs\\my_root\\lib\\site-packages\\ipykernel_launcher.py:4: UserWarning: Update your `Conv2D` call to the Keras 2 API: `Conv2D(10, (3, 3), input_shape=(32, 32, 3..., padding=\"valid\")`\n",
      "  after removing the cwd from sys.path.\n"
     ]
    },
    {
     "name": "stdout",
     "output_type": "stream",
     "text": [
      "_________________________________________________________________\n",
      "Layer (type)                 Output Shape              Param #   \n",
      "=================================================================\n",
      "conv2d_1 (Conv2D)            (None, 30, 30, 10)        280       \n",
      "_________________________________________________________________\n",
      "activation_1 (Activation)    (None, 30, 30, 10)        0         \n",
      "_________________________________________________________________\n",
      "max_pooling2d_1 (MaxPooling2 (None, 15, 15, 10)        0         \n",
      "_________________________________________________________________\n",
      "dropout_1 (Dropout)          (None, 15, 15, 10)        0         \n",
      "_________________________________________________________________\n",
      "flatten_1 (Flatten)          (None, 2250)              0         \n",
      "_________________________________________________________________\n",
      "dense_1 (Dense)              (None, 128)               288128    \n",
      "_________________________________________________________________\n",
      "dense_2 (Dense)              (None, 10)                1290      \n",
      "_________________________________________________________________\n",
      "activation_2 (Activation)    (None, 10)                0         \n",
      "=================================================================\n",
      "Total params: 289,698\n",
      "Trainable params: 289,698\n",
      "Non-trainable params: 0\n",
      "_________________________________________________________________\n"
     ]
    }
   ],
   "source": [
    "# Build the base model \n",
    "model = Sequential()\n",
    "\n",
    "model.add(Convolution2D(nb_filters, kernel_size[0], kernel_size[1],border_mode='valid',input_shape=input_shape))\n",
    "model.add(Activation('relu'))\n",
    "\n",
    "model.add(MaxPooling2D(pool_size=pool_size))\n",
    "model.add(Dropout(0.25))\n",
    "\n",
    "model.add(Flatten())\n",
    "model.add(Dense(128))\n",
    "\n",
    "model.add(Dense(nb_classes))\n",
    "model.add(Activation('softmax'))\n",
    "model.summary()\n",
    "model.compile(loss='categorical_crossentropy',optimizer='adadelta',metrics=['accuracy'])"
   ]
  },
  {
   "cell_type": "code",
   "execution_count": 17,
   "metadata": {},
   "outputs": [
    {
     "name": "stderr",
     "output_type": "stream",
     "text": [
      "C:\\Users\\BABU\\AppData\\Local\\conda\\conda\\envs\\my_root\\lib\\site-packages\\keras\\models.py:844: UserWarning: The `nb_epoch` argument in `fit` has been renamed `epochs`.\n",
      "  warnings.warn('The `nb_epoch` argument in `fit` '\n"
     ]
    },
    {
     "name": "stdout",
     "output_type": "stream",
     "text": [
      "Train on 500 samples, validate on 49500 samples\n",
      "Epoch 1/2\n",
      "500/500 [==============================] - 14s - loss: 14.4529 - acc: 0.1000 - val_loss: 14.5112 - val_acc: 0.0997\n",
      "Epoch 2/2\n",
      "500/500 [==============================] - 13s - loss: 14.0227 - acc: 0.1300 - val_loss: 14.5112 - val_acc: 0.0997\n",
      "Test score: 14.5062860001\n",
      "Test accuracy: 0.1\n"
     ]
    }
   ],
   "source": [
    "# We are fitting the model \n",
    "history = model.fit(x_train, y_train,\n",
    "                    batch_size=batch_size, nb_epoch=nb_epoch,\n",
    "                    verbose=1, validation_data=(x_valid, y_valid))\n",
    "score = model.evaluate(x_test, y_test, verbose=0)\n",
    "print('Test score:', score[0])\n",
    "print('Test accuracy:', score[1])"
   ]
  },
  {
   "cell_type": "markdown",
   "metadata": {
    "collapsed": true
   },
   "source": [
    "## Implementing the SCIKIT_LEARN_API "
   ]
  },
  {
   "cell_type": "code",
   "execution_count": 56,
   "metadata": {},
   "outputs": [
    {
     "data": {
      "text/plain": [
       "(500, 10000, 49500, 500, 10000, 49500)"
      ]
     },
     "execution_count": 56,
     "metadata": {},
     "output_type": "execute_result"
    }
   ],
   "source": [
    "#(x_train, y_train), (x_test, y_test) = cifar10.load_data()\n",
    "(x, y), (x_test, y_test) = cifar10.load_data()\n",
    "x_train,x_valid,  y_train, y_valid = train_test_split(x, y, test_size=0.99, random_state=42,shuffle=False)\n",
    "#len(x_train), len(x_test), len(y_train),len(y_test)\n",
    "len(x_train), len(x_test), len(x_valid),len(y_train),len(y_test), len(y_valid)"
   ]
  },
  {
   "cell_type": "code",
   "execution_count": 57,
   "metadata": {},
   "outputs": [
    {
     "name": "stdout",
     "output_type": "stream",
     "text": [
      "x_train shape: (500, 32, 32, 3)\n",
      "500 train samples\n",
      "10000 test samples\n"
     ]
    }
   ],
   "source": [
    "# input image dimensions\n",
    "img_rows, img_cols, img_colour = 32,32,3\n",
    "x_train = x_train.reshape(-1, img_rows, img_cols, 3)\n",
    "x_valid = x_valid.reshape(-1, img_rows, img_cols, 3)\n",
    "x_test = x_test.reshape(-1, img_rows, img_cols, 3)\n",
    "\n",
    "input_shape = (img_rows, img_cols, 3)\n",
    "print(\"x_train shape:\", x_train.shape)\n",
    "print(x_train.shape[0], 'train samples')\n",
    "#print(x_valid.shape[0], 'valid samples')\n",
    "print(x_test.shape[0], 'test samples')\n",
    "\n"
   ]
  },
  {
   "cell_type": "code",
   "execution_count": 58,
   "metadata": {},
   "outputs": [
    {
     "data": {
      "text/plain": [
       "(500, 1)"
      ]
     },
     "execution_count": 58,
     "metadata": {},
     "output_type": "execute_result"
    }
   ],
   "source": [
    "y_train.shape"
   ]
  },
  {
   "cell_type": "code",
   "execution_count": null,
   "metadata": {},
   "outputs": [],
   "source": []
  },
  {
   "cell_type": "code",
   "execution_count": 61,
   "metadata": {},
   "outputs": [
    {
     "data": {
      "text/plain": [
       "(500,)"
      ]
     },
     "execution_count": 61,
     "metadata": {},
     "output_type": "execute_result"
    }
   ],
   "source": [
    "y_train = y_train.reshape(-1,)\n",
    "y_train.shape"
   ]
  },
  {
   "cell_type": "code",
   "execution_count": 66,
   "metadata": {},
   "outputs": [
    {
     "data": {
      "text/plain": [
       "array([6, 9, 9, 4, 1, 1, 2, 7, 8, 3, 4, 7, 7, 2, 9, 9, 9, 3, 2, 6, 4, 3, 6,\n",
       "       6, 2, 6, 3, 5, 4, 0, 0, 9, 1, 3, 4, 0, 3, 7, 3, 3, 5, 2, 2, 7, 1, 1,\n",
       "       1, 2, 2, 0, 9, 5, 7, 9, 2, 2, 5, 2, 4, 3, 1, 1, 8, 2, 1, 1, 4, 9, 7,\n",
       "       8, 5, 9, 6, 7, 3, 1, 9, 0, 3, 1, 3, 5, 4, 5, 7, 7, 4, 7, 9, 4, 2, 3,\n",
       "       8, 0, 1, 6, 1, 1, 4, 1, 8, 3, 9, 6, 6, 1, 8, 5, 2, 9, 9, 8, 1, 7, 7,\n",
       "       0, 0, 6, 9, 1, 2, 2, 9, 2, 6, 6, 1, 9, 5, 0, 4, 7, 6, 7, 1, 8, 1, 1,\n",
       "       2, 8, 1, 3, 3, 6, 2, 4, 9, 9, 5, 4, 3, 6, 7, 4, 6, 8, 5, 5, 4, 3, 1,\n",
       "       8, 4, 7, 6, 0, 9, 5, 1, 3, 8, 2, 7, 5, 3, 4, 1, 5, 7, 0, 4, 7, 5, 5,\n",
       "       1, 0, 9, 6, 9, 0, 8, 7, 8, 8, 2, 5, 2, 3, 5, 0, 6, 1, 9, 3, 6, 9, 1,\n",
       "       3, 9, 6, 6, 7, 1, 0, 9, 5, 8, 5, 2, 9, 0, 8, 8, 0, 6, 9, 1, 1, 6, 3,\n",
       "       7, 6, 6, 0, 6, 6, 1, 7, 1, 5, 8, 3, 6, 6, 8, 6, 8, 4, 6, 6, 1, 3, 8,\n",
       "       3, 4, 1, 7, 1, 3, 8, 5, 1, 1, 4, 0, 9, 3, 7, 4, 9, 9, 2, 4, 9, 9, 1,\n",
       "       0, 5, 9, 0, 8, 2, 1, 2, 0, 5, 6, 3, 2, 7, 8, 8, 6, 0, 7, 9, 4, 5, 6,\n",
       "       4, 2, 1, 1, 2, 1, 5, 9, 9, 0, 8, 4, 1, 1, 6, 3, 3, 9, 0, 7, 9, 7, 7,\n",
       "       9, 1, 5, 1, 6, 6, 8, 7, 1, 3, 0, 3, 3, 2, 4, 5, 7, 5, 9, 0, 3, 4, 0,\n",
       "       4, 4, 6, 0, 0, 6, 6, 0, 8, 1, 6, 2, 9, 2, 5, 9, 6, 7, 4, 1, 8, 7, 3,\n",
       "       6, 9, 3, 0, 4, 0, 5, 1, 0, 3, 4, 8, 5, 4, 7, 2, 3, 9, 7, 6, 7, 1, 4,\n",
       "       7, 0, 1, 7, 3, 1, 8, 4, 4, 2, 0, 2, 2, 0, 0, 9, 0, 9, 6, 8, 2, 7, 7,\n",
       "       4, 0, 3, 0, 8, 9, 4, 2, 7, 2, 5, 2, 5, 1, 9, 4, 8, 5, 1, 7, 4, 4, 0,\n",
       "       6, 9, 0, 7, 8, 8, 9, 9, 3, 3, 4, 0, 4, 5, 6, 6, 0, 1, 0, 8, 0, 4, 8,\n",
       "       8, 1, 5, 2, 6, 8, 1, 0, 0, 7, 7, 5, 9, 6, 2, 8, 3, 4, 7, 3, 9, 0, 1,\n",
       "       2, 4, 8, 1, 8, 6, 4, 4, 5, 7, 1, 3, 9, 8, 0, 1, 7], dtype=uint8)"
      ]
     },
     "execution_count": 66,
     "metadata": {},
     "output_type": "execute_result"
    }
   ],
   "source": [
    "y_train"
   ]
  },
  {
   "cell_type": "code",
   "execution_count": 29,
   "metadata": {
    "collapsed": true
   },
   "outputs": [],
   "source": [
    "def create_model():\n",
    "    model = Sequential()\n",
    "\n",
    "    model.add(Convolution2D(nb_filters, kernel_size[0], kernel_size[1],border_mode='valid',input_shape=input_shape))\n",
    "    model.add(Activation('relu'))\n",
    "\n",
    "    model.add(MaxPooling2D(pool_size=pool_size))\n",
    "    model.add(Dropout(0.25))\n",
    "\n",
    "    model.add(Flatten())\n",
    "    model.add(Dense(128))\n",
    "\n",
    "    model.add(Dense(nb_classes))\n",
    "    model.add(Activation('softmax'))\n",
    "    model.compile(loss='categorical_crossentropy',optimizer='adadelta',metrics=['accuracy'])\n",
    "    model.summary()\n",
    "    return model\n"
   ]
  },
  {
   "cell_type": "code",
   "execution_count": 30,
   "metadata": {},
   "outputs": [
    {
     "name": "stderr",
     "output_type": "stream",
     "text": [
      "C:\\Users\\BABU\\AppData\\Local\\conda\\conda\\envs\\my_root\\lib\\site-packages\\ipykernel_launcher.py:4: UserWarning: Update your `Conv2D` call to the Keras 2 API: `Conv2D(10, (3, 3), input_shape=(32, 32, 3..., padding=\"valid\")`\n",
      "  after removing the cwd from sys.path.\n"
     ]
    },
    {
     "name": "stdout",
     "output_type": "stream",
     "text": [
      "_________________________________________________________________\n",
      "Layer (type)                 Output Shape              Param #   \n",
      "=================================================================\n",
      "conv2d_4 (Conv2D)            (None, 30, 30, 10)        280       \n",
      "_________________________________________________________________\n",
      "activation_7 (Activation)    (None, 30, 30, 10)        0         \n",
      "_________________________________________________________________\n",
      "max_pooling2d_4 (MaxPooling2 (None, 15, 15, 10)        0         \n",
      "_________________________________________________________________\n",
      "dropout_4 (Dropout)          (None, 15, 15, 10)        0         \n",
      "_________________________________________________________________\n",
      "flatten_4 (Flatten)          (None, 2250)              0         \n",
      "_________________________________________________________________\n",
      "dense_7 (Dense)              (None, 128)               288128    \n",
      "_________________________________________________________________\n",
      "dense_8 (Dense)              (None, 10)                1290      \n",
      "_________________________________________________________________\n",
      "activation_8 (Activation)    (None, 10)                0         \n",
      "=================================================================\n",
      "Total params: 289,698\n",
      "Trainable params: 289,698\n",
      "Non-trainable params: 0\n",
      "_________________________________________________________________\n",
      "Epoch 1/1\n",
      "247/247 [==============================] - 0s - loss: 14.1757 - acc: 0.1174     \n",
      "150/253 [================>.............] - ETA: 0s_________________________________________________________________\n",
      "Layer (type)                 Output Shape              Param #   \n",
      "=================================================================\n",
      "conv2d_5 (Conv2D)            (None, 30, 30, 10)        280       \n",
      "_________________________________________________________________\n",
      "activation_9 (Activation)    (None, 30, 30, 10)        0         \n",
      "_________________________________________________________________\n",
      "max_pooling2d_5 (MaxPooling2 (None, 15, 15, 10)        0         \n",
      "_________________________________________________________________\n",
      "dropout_5 (Dropout)          (None, 15, 15, 10)        0         \n",
      "_________________________________________________________________\n",
      "flatten_5 (Flatten)          (None, 2250)              0         \n",
      "_________________________________________________________________\n",
      "dense_9 (Dense)              (None, 128)               288128    \n",
      "_________________________________________________________________\n",
      "dense_10 (Dense)             (None, 10)                1290      \n",
      "_________________________________________________________________\n",
      "activation_10 (Activation)   (None, 10)                0         \n",
      "=================================================================\n",
      "Total params: 289,698\n",
      "Trainable params: 289,698\n",
      "Non-trainable params: 0\n",
      "_________________________________________________________________\n",
      "Epoch 1/1\n",
      "253/253 [==============================] - 0s - loss: 14.4152 - acc: 0.1028     \n",
      "140/247 [================>.............] - ETA: 0s"
     ]
    }
   ],
   "source": [
    "# We are using KerasClassifier form sciki learn \n",
    "model = KerasClassifier(build_fn=create_model, epochs=1, batch_size=10, verbose=1)\n",
    "# evaluate using 2-fold cross validation\n",
    "kfold = StratifiedKFold(n_splits=2, shuffle=True, random_state=1337)\n",
    "results = cross_val_score(model, x_train, y_train, cv=kfold)"
   ]
  },
  {
   "cell_type": "code",
   "execution_count": 28,
   "metadata": {},
   "outputs": [
    {
     "name": "stdout",
     "output_type": "stream",
     "text": [
      "0.100014404099\n"
     ]
    }
   ],
   "source": [
    "print(results.mean())"
   ]
  },
  {
   "cell_type": "markdown",
   "metadata": {
    "collapsed": true
   },
   "source": [
    "# Grid Search with multiple parameters  "
   ]
  },
  {
   "cell_type": "code",
   "execution_count": 44,
   "metadata": {
    "collapsed": true
   },
   "outputs": [],
   "source": [
    "def create_model_2():\n",
    "    model = Sequential()\n",
    "\n",
    "    model.add(Convolution2D(nb_filters, kernel_size[0], kernel_size[1],border_mode='valid',input_shape=input_shape))\n",
    "    model.add(Activation('relu'))\n",
    "\n",
    "    model.add(MaxPooling2D(pool_size=pool_size))\n",
    "    model.add(Dropout(0.25))\n",
    "\n",
    "    model.add(Flatten())\n",
    "    model.add(Dense(128))\n",
    "\n",
    "    model.add(Dense(nb_classes))\n",
    "    model.add(Activation('softmax'))\n",
    "    model.compile(loss='categorical_crossentropy',optimizer='adadelta',metrics=['accuracy'])\n",
    "    model.summary()\n",
    "    return model\n"
   ]
  },
  {
   "cell_type": "code",
   "execution_count": 63,
   "metadata": {},
   "outputs": [
    {
     "name": "stdout",
     "output_type": "stream",
     "text": [
      "{'epochs': [1, 2, 3], 'batch_size': [3, 4, 5]}\n"
     ]
    },
    {
     "name": "stderr",
     "output_type": "stream",
     "text": [
      "C:\\Users\\BABU\\AppData\\Local\\conda\\conda\\envs\\my_root\\lib\\site-packages\\ipykernel_launcher.py:4: UserWarning: Update your `Conv2D` call to the Keras 2 API: `Conv2D(10, (3, 3), input_shape=(32, 32, 3..., padding=\"valid\")`\n",
      "  after removing the cwd from sys.path.\n"
     ]
    },
    {
     "name": "stdout",
     "output_type": "stream",
     "text": [
      "_________________________________________________________________\n",
      "Layer (type)                 Output Shape              Param #   \n",
      "=================================================================\n",
      "conv2d_75 (Conv2D)           (None, 30, 30, 10)        280       \n",
      "_________________________________________________________________\n",
      "activation_149 (Activation)  (None, 30, 30, 10)        0         \n",
      "_________________________________________________________________\n",
      "max_pooling2d_75 (MaxPooling (None, 15, 15, 10)        0         \n",
      "_________________________________________________________________\n",
      "dropout_75 (Dropout)         (None, 15, 15, 10)        0         \n",
      "_________________________________________________________________\n",
      "flatten_75 (Flatten)         (None, 2250)              0         \n",
      "_________________________________________________________________\n",
      "dense_149 (Dense)            (None, 128)               288128    \n",
      "_________________________________________________________________\n",
      "dense_150 (Dense)            (None, 10)                1290      \n",
      "_________________________________________________________________\n",
      "activation_150 (Activation)  (None, 10)                0         \n",
      "=================================================================\n",
      "Total params: 289,698\n",
      "Trainable params: 289,698\n",
      "Non-trainable params: 0\n",
      "_________________________________________________________________\n",
      "_________________________________________________________________\n",
      "Layer (type)                 Output Shape              Param #   \n",
      "=================================================================\n",
      "conv2d_76 (Conv2D)           (None, 30, 30, 10)        280       \n",
      "_________________________________________________________________\n",
      "activation_151 (Activation)  (None, 30, 30, 10)        0         \n",
      "_________________________________________________________________\n",
      "max_pooling2d_76 (MaxPooling (None, 15, 15, 10)        0         \n",
      "_________________________________________________________________\n",
      "dropout_76 (Dropout)         (None, 15, 15, 10)        0         \n",
      "_________________________________________________________________\n",
      "flatten_76 (Flatten)         (None, 2250)              0         \n",
      "_________________________________________________________________\n",
      "dense_151 (Dense)            (None, 128)               288128    \n",
      "_________________________________________________________________\n",
      "dense_152 (Dense)            (None, 10)                1290      \n",
      "_________________________________________________________________\n",
      "activation_152 (Activation)  (None, 10)                0         \n",
      "=================================================================\n",
      "Total params: 289,698\n",
      "Trainable params: 289,698\n",
      "Non-trainable params: 0\n",
      "_________________________________________________________________\n",
      "_________________________________________________________________\n",
      "Layer (type)                 Output Shape              Param #   \n",
      "=================================================================\n",
      "conv2d_77 (Conv2D)           (None, 30, 30, 10)        280       \n",
      "_________________________________________________________________\n",
      "activation_153 (Activation)  (None, 30, 30, 10)        0         \n",
      "_________________________________________________________________\n",
      "max_pooling2d_77 (MaxPooling (None, 15, 15, 10)        0         \n",
      "_________________________________________________________________\n",
      "dropout_77 (Dropout)         (None, 15, 15, 10)        0         \n",
      "_________________________________________________________________\n",
      "flatten_77 (Flatten)         (None, 2250)              0         \n",
      "_________________________________________________________________\n",
      "dense_153 (Dense)            (None, 128)               288128    \n",
      "_________________________________________________________________\n",
      "dense_154 (Dense)            (None, 10)                1290      \n",
      "_________________________________________________________________\n",
      "activation_154 (Activation)  (None, 10)                0         \n",
      "=================================================================\n",
      "Total params: 289,698\n",
      "Trainable params: 289,698\n",
      "Non-trainable params: 0\n",
      "_________________________________________________________________\n",
      "_________________________________________________________________\n",
      "Layer (type)                 Output Shape              Param #   \n",
      "=================================================================\n",
      "conv2d_78 (Conv2D)           (None, 30, 30, 10)        280       \n",
      "_________________________________________________________________\n",
      "activation_155 (Activation)  (None, 30, 30, 10)        0         \n",
      "_________________________________________________________________\n",
      "max_pooling2d_78 (MaxPooling (None, 15, 15, 10)        0         \n",
      "_________________________________________________________________\n",
      "dropout_78 (Dropout)         (None, 15, 15, 10)        0         \n",
      "_________________________________________________________________\n",
      "flatten_78 (Flatten)         (None, 2250)              0         \n",
      "_________________________________________________________________\n",
      "dense_155 (Dense)            (None, 128)               288128    \n",
      "_________________________________________________________________\n",
      "dense_156 (Dense)            (None, 10)                1290      \n",
      "_________________________________________________________________\n",
      "activation_156 (Activation)  (None, 10)                0         \n",
      "=================================================================\n",
      "Total params: 289,698\n",
      "Trainable params: 289,698\n",
      "Non-trainable params: 0\n",
      "_________________________________________________________________\n",
      "_________________________________________________________________\n",
      "Layer (type)                 Output Shape              Param #   \n",
      "=================================================================\n",
      "conv2d_79 (Conv2D)           (None, 30, 30, 10)        280       \n",
      "_________________________________________________________________\n",
      "activation_157 (Activation)  (None, 30, 30, 10)        0         \n",
      "_________________________________________________________________\n",
      "max_pooling2d_79 (MaxPooling (None, 15, 15, 10)        0         \n",
      "_________________________________________________________________\n",
      "dropout_79 (Dropout)         (None, 15, 15, 10)        0         \n",
      "_________________________________________________________________\n",
      "flatten_79 (Flatten)         (None, 2250)              0         \n",
      "_________________________________________________________________\n",
      "dense_157 (Dense)            (None, 128)               288128    \n",
      "_________________________________________________________________\n",
      "dense_158 (Dense)            (None, 10)                1290      \n",
      "_________________________________________________________________\n",
      "activation_158 (Activation)  (None, 10)                0         \n",
      "=================================================================\n",
      "Total params: 289,698\n",
      "Trainable params: 289,698\n",
      "Non-trainable params: 0\n",
      "_________________________________________________________________\n",
      "_________________________________________________________________\n",
      "Layer (type)                 Output Shape              Param #   \n",
      "=================================================================\n",
      "conv2d_80 (Conv2D)           (None, 30, 30, 10)        280       \n",
      "_________________________________________________________________\n",
      "activation_159 (Activation)  (None, 30, 30, 10)        0         \n",
      "_________________________________________________________________\n",
      "max_pooling2d_80 (MaxPooling (None, 15, 15, 10)        0         \n",
      "_________________________________________________________________\n",
      "dropout_80 (Dropout)         (None, 15, 15, 10)        0         \n",
      "_________________________________________________________________\n",
      "flatten_80 (Flatten)         (None, 2250)              0         \n",
      "_________________________________________________________________\n",
      "dense_159 (Dense)            (None, 128)               288128    \n",
      "_________________________________________________________________\n",
      "dense_160 (Dense)            (None, 10)                1290      \n",
      "_________________________________________________________________\n",
      "activation_160 (Activation)  (None, 10)                0         \n",
      "=================================================================\n",
      "Total params: 289,698\n",
      "Trainable params: 289,698\n",
      "Non-trainable params: 0\n",
      "_________________________________________________________________\n"
     ]
    },
    {
     "name": "stdout",
     "output_type": "stream",
     "text": [
      "_________________________________________________________________\n",
      "Layer (type)                 Output Shape              Param #   \n",
      "=================================================================\n",
      "conv2d_81 (Conv2D)           (None, 30, 30, 10)        280       \n",
      "_________________________________________________________________\n",
      "activation_161 (Activation)  (None, 30, 30, 10)        0         \n",
      "_________________________________________________________________\n",
      "max_pooling2d_81 (MaxPooling (None, 15, 15, 10)        0         \n",
      "_________________________________________________________________\n",
      "dropout_81 (Dropout)         (None, 15, 15, 10)        0         \n",
      "_________________________________________________________________\n",
      "flatten_81 (Flatten)         (None, 2250)              0         \n",
      "_________________________________________________________________\n",
      "dense_161 (Dense)            (None, 128)               288128    \n",
      "_________________________________________________________________\n",
      "dense_162 (Dense)            (None, 10)                1290      \n",
      "_________________________________________________________________\n",
      "activation_162 (Activation)  (None, 10)                0         \n",
      "=================================================================\n",
      "Total params: 289,698\n",
      "Trainable params: 289,698\n",
      "Non-trainable params: 0\n",
      "_________________________________________________________________\n",
      "_________________________________________________________________\n",
      "Layer (type)                 Output Shape              Param #   \n",
      "=================================================================\n",
      "conv2d_82 (Conv2D)           (None, 30, 30, 10)        280       \n",
      "_________________________________________________________________\n",
      "activation_163 (Activation)  (None, 30, 30, 10)        0         \n",
      "_________________________________________________________________\n",
      "max_pooling2d_82 (MaxPooling (None, 15, 15, 10)        0         \n",
      "_________________________________________________________________\n",
      "dropout_82 (Dropout)         (None, 15, 15, 10)        0         \n",
      "_________________________________________________________________\n",
      "flatten_82 (Flatten)         (None, 2250)              0         \n",
      "_________________________________________________________________\n",
      "dense_163 (Dense)            (None, 128)               288128    \n",
      "_________________________________________________________________\n",
      "dense_164 (Dense)            (None, 10)                1290      \n",
      "_________________________________________________________________\n",
      "activation_164 (Activation)  (None, 10)                0         \n",
      "=================================================================\n",
      "Total params: 289,698\n",
      "Trainable params: 289,698\n",
      "Non-trainable params: 0\n",
      "_________________________________________________________________\n",
      "_________________________________________________________________\n",
      "Layer (type)                 Output Shape              Param #   \n",
      "=================================================================\n",
      "conv2d_83 (Conv2D)           (None, 30, 30, 10)        280       \n",
      "_________________________________________________________________\n",
      "activation_165 (Activation)  (None, 30, 30, 10)        0         \n",
      "_________________________________________________________________\n",
      "max_pooling2d_83 (MaxPooling (None, 15, 15, 10)        0         \n",
      "_________________________________________________________________\n",
      "dropout_83 (Dropout)         (None, 15, 15, 10)        0         \n",
      "_________________________________________________________________\n",
      "flatten_83 (Flatten)         (None, 2250)              0         \n",
      "_________________________________________________________________\n",
      "dense_165 (Dense)            (None, 128)               288128    \n",
      "_________________________________________________________________\n",
      "dense_166 (Dense)            (None, 10)                1290      \n",
      "_________________________________________________________________\n",
      "activation_166 (Activation)  (None, 10)                0         \n",
      "=================================================================\n",
      "Total params: 289,698\n",
      "Trainable params: 289,698\n",
      "Non-trainable params: 0\n",
      "_________________________________________________________________\n",
      "_________________________________________________________________\n",
      "Layer (type)                 Output Shape              Param #   \n",
      "=================================================================\n",
      "conv2d_84 (Conv2D)           (None, 30, 30, 10)        280       \n",
      "_________________________________________________________________\n",
      "activation_167 (Activation)  (None, 30, 30, 10)        0         \n",
      "_________________________________________________________________\n",
      "max_pooling2d_84 (MaxPooling (None, 15, 15, 10)        0         \n",
      "_________________________________________________________________\n",
      "dropout_84 (Dropout)         (None, 15, 15, 10)        0         \n",
      "_________________________________________________________________\n",
      "flatten_84 (Flatten)         (None, 2250)              0         \n",
      "_________________________________________________________________\n",
      "dense_167 (Dense)            (None, 128)               288128    \n",
      "_________________________________________________________________\n",
      "dense_168 (Dense)            (None, 10)                1290      \n",
      "_________________________________________________________________\n",
      "activation_168 (Activation)  (None, 10)                0         \n",
      "=================================================================\n",
      "Total params: 289,698\n",
      "Trainable params: 289,698\n",
      "Non-trainable params: 0\n",
      "_________________________________________________________________\n",
      "_________________________________________________________________\n",
      "Layer (type)                 Output Shape              Param #   \n",
      "=================================================================\n",
      "conv2d_85 (Conv2D)           (None, 30, 30, 10)        280       \n",
      "_________________________________________________________________\n",
      "activation_169 (Activation)  (None, 30, 30, 10)        0         \n",
      "_________________________________________________________________\n",
      "max_pooling2d_85 (MaxPooling (None, 15, 15, 10)        0         \n",
      "_________________________________________________________________\n",
      "dropout_85 (Dropout)         (None, 15, 15, 10)        0         \n",
      "_________________________________________________________________\n",
      "flatten_85 (Flatten)         (None, 2250)              0         \n",
      "_________________________________________________________________\n",
      "dense_169 (Dense)            (None, 128)               288128    \n",
      "_________________________________________________________________\n",
      "dense_170 (Dense)            (None, 10)                1290      \n",
      "_________________________________________________________________\n",
      "activation_170 (Activation)  (None, 10)                0         \n",
      "=================================================================\n",
      "Total params: 289,698\n",
      "Trainable params: 289,698\n",
      "Non-trainable params: 0\n",
      "_________________________________________________________________\n",
      "_________________________________________________________________\n",
      "Layer (type)                 Output Shape              Param #   \n",
      "=================================================================\n",
      "conv2d_86 (Conv2D)           (None, 30, 30, 10)        280       \n",
      "_________________________________________________________________\n",
      "activation_171 (Activation)  (None, 30, 30, 10)        0         \n",
      "_________________________________________________________________\n",
      "max_pooling2d_86 (MaxPooling (None, 15, 15, 10)        0         \n",
      "_________________________________________________________________\n",
      "dropout_86 (Dropout)         (None, 15, 15, 10)        0         \n",
      "_________________________________________________________________\n",
      "flatten_86 (Flatten)         (None, 2250)              0         \n",
      "_________________________________________________________________\n",
      "dense_171 (Dense)            (None, 128)               288128    \n",
      "_________________________________________________________________\n",
      "dense_172 (Dense)            (None, 10)                1290      \n",
      "_________________________________________________________________\n",
      "activation_172 (Activation)  (None, 10)                0         \n",
      "=================================================================\n",
      "Total params: 289,698\n",
      "Trainable params: 289,698\n",
      "Non-trainable params: 0\n",
      "_________________________________________________________________\n"
     ]
    },
    {
     "name": "stdout",
     "output_type": "stream",
     "text": [
      "_________________________________________________________________\n",
      "Layer (type)                 Output Shape              Param #   \n",
      "=================================================================\n",
      "conv2d_87 (Conv2D)           (None, 30, 30, 10)        280       \n",
      "_________________________________________________________________\n",
      "activation_173 (Activation)  (None, 30, 30, 10)        0         \n",
      "_________________________________________________________________\n",
      "max_pooling2d_87 (MaxPooling (None, 15, 15, 10)        0         \n",
      "_________________________________________________________________\n",
      "dropout_87 (Dropout)         (None, 15, 15, 10)        0         \n",
      "_________________________________________________________________\n",
      "flatten_87 (Flatten)         (None, 2250)              0         \n",
      "_________________________________________________________________\n",
      "dense_173 (Dense)            (None, 128)               288128    \n",
      "_________________________________________________________________\n",
      "dense_174 (Dense)            (None, 10)                1290      \n",
      "_________________________________________________________________\n",
      "activation_174 (Activation)  (None, 10)                0         \n",
      "=================================================================\n",
      "Total params: 289,698\n",
      "Trainable params: 289,698\n",
      "Non-trainable params: 0\n",
      "_________________________________________________________________\n",
      "_________________________________________________________________\n",
      "Layer (type)                 Output Shape              Param #   \n",
      "=================================================================\n",
      "conv2d_88 (Conv2D)           (None, 30, 30, 10)        280       \n",
      "_________________________________________________________________\n",
      "activation_175 (Activation)  (None, 30, 30, 10)        0         \n",
      "_________________________________________________________________\n",
      "max_pooling2d_88 (MaxPooling (None, 15, 15, 10)        0         \n",
      "_________________________________________________________________\n",
      "dropout_88 (Dropout)         (None, 15, 15, 10)        0         \n",
      "_________________________________________________________________\n",
      "flatten_88 (Flatten)         (None, 2250)              0         \n",
      "_________________________________________________________________\n",
      "dense_175 (Dense)            (None, 128)               288128    \n",
      "_________________________________________________________________\n",
      "dense_176 (Dense)            (None, 10)                1290      \n",
      "_________________________________________________________________\n",
      "activation_176 (Activation)  (None, 10)                0         \n",
      "=================================================================\n",
      "Total params: 289,698\n",
      "Trainable params: 289,698\n",
      "Non-trainable params: 0\n",
      "_________________________________________________________________\n",
      "_________________________________________________________________\n",
      "Layer (type)                 Output Shape              Param #   \n",
      "=================================================================\n",
      "conv2d_89 (Conv2D)           (None, 30, 30, 10)        280       \n",
      "_________________________________________________________________\n",
      "activation_177 (Activation)  (None, 30, 30, 10)        0         \n",
      "_________________________________________________________________\n",
      "max_pooling2d_89 (MaxPooling (None, 15, 15, 10)        0         \n",
      "_________________________________________________________________\n",
      "dropout_89 (Dropout)         (None, 15, 15, 10)        0         \n",
      "_________________________________________________________________\n",
      "flatten_89 (Flatten)         (None, 2250)              0         \n",
      "_________________________________________________________________\n",
      "dense_177 (Dense)            (None, 128)               288128    \n",
      "_________________________________________________________________\n",
      "dense_178 (Dense)            (None, 10)                1290      \n",
      "_________________________________________________________________\n",
      "activation_178 (Activation)  (None, 10)                0         \n",
      "=================================================================\n",
      "Total params: 289,698\n",
      "Trainable params: 289,698\n",
      "Non-trainable params: 0\n",
      "_________________________________________________________________\n",
      "_________________________________________________________________\n",
      "Layer (type)                 Output Shape              Param #   \n",
      "=================================================================\n",
      "conv2d_90 (Conv2D)           (None, 30, 30, 10)        280       \n",
      "_________________________________________________________________\n",
      "activation_179 (Activation)  (None, 30, 30, 10)        0         \n",
      "_________________________________________________________________\n",
      "max_pooling2d_90 (MaxPooling (None, 15, 15, 10)        0         \n",
      "_________________________________________________________________\n",
      "dropout_90 (Dropout)         (None, 15, 15, 10)        0         \n",
      "_________________________________________________________________\n",
      "flatten_90 (Flatten)         (None, 2250)              0         \n",
      "_________________________________________________________________\n",
      "dense_179 (Dense)            (None, 128)               288128    \n",
      "_________________________________________________________________\n",
      "dense_180 (Dense)            (None, 10)                1290      \n",
      "_________________________________________________________________\n",
      "activation_180 (Activation)  (None, 10)                0         \n",
      "=================================================================\n",
      "Total params: 289,698\n",
      "Trainable params: 289,698\n",
      "Non-trainable params: 0\n",
      "_________________________________________________________________\n",
      "_________________________________________________________________\n",
      "Layer (type)                 Output Shape              Param #   \n",
      "=================================================================\n",
      "conv2d_91 (Conv2D)           (None, 30, 30, 10)        280       \n",
      "_________________________________________________________________\n",
      "activation_181 (Activation)  (None, 30, 30, 10)        0         \n",
      "_________________________________________________________________\n",
      "max_pooling2d_91 (MaxPooling (None, 15, 15, 10)        0         \n",
      "_________________________________________________________________\n",
      "dropout_91 (Dropout)         (None, 15, 15, 10)        0         \n",
      "_________________________________________________________________\n",
      "flatten_91 (Flatten)         (None, 2250)              0         \n",
      "_________________________________________________________________\n",
      "dense_181 (Dense)            (None, 128)               288128    \n",
      "_________________________________________________________________\n",
      "dense_182 (Dense)            (None, 10)                1290      \n",
      "_________________________________________________________________\n",
      "activation_182 (Activation)  (None, 10)                0         \n",
      "=================================================================\n",
      "Total params: 289,698\n",
      "Trainable params: 289,698\n",
      "Non-trainable params: 0\n",
      "_________________________________________________________________\n",
      "_________________________________________________________________\n",
      "Layer (type)                 Output Shape              Param #   \n",
      "=================================================================\n",
      "conv2d_92 (Conv2D)           (None, 30, 30, 10)        280       \n",
      "_________________________________________________________________\n",
      "activation_183 (Activation)  (None, 30, 30, 10)        0         \n",
      "_________________________________________________________________\n",
      "max_pooling2d_92 (MaxPooling (None, 15, 15, 10)        0         \n",
      "_________________________________________________________________\n",
      "dropout_92 (Dropout)         (None, 15, 15, 10)        0         \n",
      "_________________________________________________________________\n",
      "flatten_92 (Flatten)         (None, 2250)              0         \n",
      "_________________________________________________________________\n",
      "dense_183 (Dense)            (None, 128)               288128    \n",
      "_________________________________________________________________\n",
      "dense_184 (Dense)            (None, 10)                1290      \n",
      "_________________________________________________________________\n",
      "activation_184 (Activation)  (None, 10)                0         \n",
      "=================================================================\n",
      "Total params: 289,698\n",
      "Trainable params: 289,698\n",
      "Non-trainable params: 0\n",
      "_________________________________________________________________\n"
     ]
    },
    {
     "name": "stdout",
     "output_type": "stream",
     "text": [
      "_________________________________________________________________\n",
      "Layer (type)                 Output Shape              Param #   \n",
      "=================================================================\n",
      "conv2d_93 (Conv2D)           (None, 30, 30, 10)        280       \n",
      "_________________________________________________________________\n",
      "activation_185 (Activation)  (None, 30, 30, 10)        0         \n",
      "_________________________________________________________________\n",
      "max_pooling2d_93 (MaxPooling (None, 15, 15, 10)        0         \n",
      "_________________________________________________________________\n",
      "dropout_93 (Dropout)         (None, 15, 15, 10)        0         \n",
      "_________________________________________________________________\n",
      "flatten_93 (Flatten)         (None, 2250)              0         \n",
      "_________________________________________________________________\n",
      "dense_185 (Dense)            (None, 128)               288128    \n",
      "_________________________________________________________________\n",
      "dense_186 (Dense)            (None, 10)                1290      \n",
      "_________________________________________________________________\n",
      "activation_186 (Activation)  (None, 10)                0         \n",
      "=================================================================\n",
      "Total params: 289,698\n",
      "Trainable params: 289,698\n",
      "Non-trainable params: 0\n",
      "_________________________________________________________________\n",
      "_________________________________________________________________\n",
      "Layer (type)                 Output Shape              Param #   \n",
      "=================================================================\n",
      "conv2d_94 (Conv2D)           (None, 30, 30, 10)        280       \n",
      "_________________________________________________________________\n",
      "activation_187 (Activation)  (None, 30, 30, 10)        0         \n",
      "_________________________________________________________________\n",
      "max_pooling2d_94 (MaxPooling (None, 15, 15, 10)        0         \n",
      "_________________________________________________________________\n",
      "dropout_94 (Dropout)         (None, 15, 15, 10)        0         \n",
      "_________________________________________________________________\n",
      "flatten_94 (Flatten)         (None, 2250)              0         \n",
      "_________________________________________________________________\n",
      "dense_187 (Dense)            (None, 128)               288128    \n",
      "_________________________________________________________________\n",
      "dense_188 (Dense)            (None, 10)                1290      \n",
      "_________________________________________________________________\n",
      "activation_188 (Activation)  (None, 10)                0         \n",
      "=================================================================\n",
      "Total params: 289,698\n",
      "Trainable params: 289,698\n",
      "Non-trainable params: 0\n",
      "_________________________________________________________________\n",
      "_________________________________________________________________\n",
      "Layer (type)                 Output Shape              Param #   \n",
      "=================================================================\n",
      "conv2d_95 (Conv2D)           (None, 30, 30, 10)        280       \n",
      "_________________________________________________________________\n",
      "activation_189 (Activation)  (None, 30, 30, 10)        0         \n",
      "_________________________________________________________________\n",
      "max_pooling2d_95 (MaxPooling (None, 15, 15, 10)        0         \n",
      "_________________________________________________________________\n",
      "dropout_95 (Dropout)         (None, 15, 15, 10)        0         \n",
      "_________________________________________________________________\n",
      "flatten_95 (Flatten)         (None, 2250)              0         \n",
      "_________________________________________________________________\n",
      "dense_189 (Dense)            (None, 128)               288128    \n",
      "_________________________________________________________________\n",
      "dense_190 (Dense)            (None, 10)                1290      \n",
      "_________________________________________________________________\n",
      "activation_190 (Activation)  (None, 10)                0         \n",
      "=================================================================\n",
      "Total params: 289,698\n",
      "Trainable params: 289,698\n",
      "Non-trainable params: 0\n",
      "_________________________________________________________________\n",
      "_________________________________________________________________\n",
      "Layer (type)                 Output Shape              Param #   \n",
      "=================================================================\n",
      "conv2d_96 (Conv2D)           (None, 30, 30, 10)        280       \n",
      "_________________________________________________________________\n",
      "activation_191 (Activation)  (None, 30, 30, 10)        0         \n",
      "_________________________________________________________________\n",
      "max_pooling2d_96 (MaxPooling (None, 15, 15, 10)        0         \n",
      "_________________________________________________________________\n",
      "dropout_96 (Dropout)         (None, 15, 15, 10)        0         \n",
      "_________________________________________________________________\n",
      "flatten_96 (Flatten)         (None, 2250)              0         \n",
      "_________________________________________________________________\n",
      "dense_191 (Dense)            (None, 128)               288128    \n",
      "_________________________________________________________________\n",
      "dense_192 (Dense)            (None, 10)                1290      \n",
      "_________________________________________________________________\n",
      "activation_192 (Activation)  (None, 10)                0         \n",
      "=================================================================\n",
      "Total params: 289,698\n",
      "Trainable params: 289,698\n",
      "Non-trainable params: 0\n",
      "_________________________________________________________________\n",
      "_________________________________________________________________\n",
      "Layer (type)                 Output Shape              Param #   \n",
      "=================================================================\n",
      "conv2d_97 (Conv2D)           (None, 30, 30, 10)        280       \n",
      "_________________________________________________________________\n",
      "activation_193 (Activation)  (None, 30, 30, 10)        0         \n",
      "_________________________________________________________________\n",
      "max_pooling2d_97 (MaxPooling (None, 15, 15, 10)        0         \n",
      "_________________________________________________________________\n",
      "dropout_97 (Dropout)         (None, 15, 15, 10)        0         \n",
      "_________________________________________________________________\n",
      "flatten_97 (Flatten)         (None, 2250)              0         \n",
      "_________________________________________________________________\n",
      "dense_193 (Dense)            (None, 128)               288128    \n",
      "_________________________________________________________________\n",
      "dense_194 (Dense)            (None, 10)                1290      \n",
      "_________________________________________________________________\n",
      "activation_194 (Activation)  (None, 10)                0         \n",
      "=================================================================\n",
      "Total params: 289,698\n",
      "Trainable params: 289,698\n",
      "Non-trainable params: 0\n",
      "_________________________________________________________________\n",
      "_________________________________________________________________\n",
      "Layer (type)                 Output Shape              Param #   \n",
      "=================================================================\n",
      "conv2d_98 (Conv2D)           (None, 30, 30, 10)        280       \n",
      "_________________________________________________________________\n",
      "activation_195 (Activation)  (None, 30, 30, 10)        0         \n",
      "_________________________________________________________________\n",
      "max_pooling2d_98 (MaxPooling (None, 15, 15, 10)        0         \n",
      "_________________________________________________________________\n",
      "dropout_98 (Dropout)         (None, 15, 15, 10)        0         \n",
      "_________________________________________________________________\n",
      "flatten_98 (Flatten)         (None, 2250)              0         \n",
      "_________________________________________________________________\n",
      "dense_195 (Dense)            (None, 128)               288128    \n",
      "_________________________________________________________________\n",
      "dense_196 (Dense)            (None, 10)                1290      \n",
      "_________________________________________________________________\n",
      "activation_196 (Activation)  (None, 10)                0         \n",
      "=================================================================\n",
      "Total params: 289,698\n",
      "Trainable params: 289,698\n",
      "Non-trainable params: 0\n",
      "_________________________________________________________________\n"
     ]
    },
    {
     "name": "stdout",
     "output_type": "stream",
     "text": [
      "_________________________________________________________________\n",
      "Layer (type)                 Output Shape              Param #   \n",
      "=================================================================\n",
      "conv2d_99 (Conv2D)           (None, 30, 30, 10)        280       \n",
      "_________________________________________________________________\n",
      "activation_197 (Activation)  (None, 30, 30, 10)        0         \n",
      "_________________________________________________________________\n",
      "max_pooling2d_99 (MaxPooling (None, 15, 15, 10)        0         \n",
      "_________________________________________________________________\n",
      "dropout_99 (Dropout)         (None, 15, 15, 10)        0         \n",
      "_________________________________________________________________\n",
      "flatten_99 (Flatten)         (None, 2250)              0         \n",
      "_________________________________________________________________\n",
      "dense_197 (Dense)            (None, 128)               288128    \n",
      "_________________________________________________________________\n",
      "dense_198 (Dense)            (None, 10)                1290      \n",
      "_________________________________________________________________\n",
      "activation_198 (Activation)  (None, 10)                0         \n",
      "=================================================================\n",
      "Total params: 289,698\n",
      "Trainable params: 289,698\n",
      "Non-trainable params: 0\n",
      "_________________________________________________________________\n",
      "_________________________________________________________________\n",
      "Layer (type)                 Output Shape              Param #   \n",
      "=================================================================\n",
      "conv2d_100 (Conv2D)          (None, 30, 30, 10)        280       \n",
      "_________________________________________________________________\n",
      "activation_199 (Activation)  (None, 30, 30, 10)        0         \n",
      "_________________________________________________________________\n",
      "max_pooling2d_100 (MaxPoolin (None, 15, 15, 10)        0         \n",
      "_________________________________________________________________\n",
      "dropout_100 (Dropout)        (None, 15, 15, 10)        0         \n",
      "_________________________________________________________________\n",
      "flatten_100 (Flatten)        (None, 2250)              0         \n",
      "_________________________________________________________________\n",
      "dense_199 (Dense)            (None, 128)               288128    \n",
      "_________________________________________________________________\n",
      "dense_200 (Dense)            (None, 10)                1290      \n",
      "_________________________________________________________________\n",
      "activation_200 (Activation)  (None, 10)                0         \n",
      "=================================================================\n",
      "Total params: 289,698\n",
      "Trainable params: 289,698\n",
      "Non-trainable params: 0\n",
      "_________________________________________________________________\n",
      "_________________________________________________________________\n",
      "Layer (type)                 Output Shape              Param #   \n",
      "=================================================================\n",
      "conv2d_101 (Conv2D)          (None, 30, 30, 10)        280       \n",
      "_________________________________________________________________\n",
      "activation_201 (Activation)  (None, 30, 30, 10)        0         \n",
      "_________________________________________________________________\n",
      "max_pooling2d_101 (MaxPoolin (None, 15, 15, 10)        0         \n",
      "_________________________________________________________________\n",
      "dropout_101 (Dropout)        (None, 15, 15, 10)        0         \n",
      "_________________________________________________________________\n",
      "flatten_101 (Flatten)        (None, 2250)              0         \n",
      "_________________________________________________________________\n",
      "dense_201 (Dense)            (None, 128)               288128    \n",
      "_________________________________________________________________\n",
      "dense_202 (Dense)            (None, 10)                1290      \n",
      "_________________________________________________________________\n",
      "activation_202 (Activation)  (None, 10)                0         \n",
      "=================================================================\n",
      "Total params: 289,698\n",
      "Trainable params: 289,698\n",
      "Non-trainable params: 0\n",
      "_________________________________________________________________\n",
      "_________________________________________________________________\n",
      "Layer (type)                 Output Shape              Param #   \n",
      "=================================================================\n",
      "conv2d_102 (Conv2D)          (None, 30, 30, 10)        280       \n",
      "_________________________________________________________________\n",
      "activation_203 (Activation)  (None, 30, 30, 10)        0         \n",
      "_________________________________________________________________\n",
      "max_pooling2d_102 (MaxPoolin (None, 15, 15, 10)        0         \n",
      "_________________________________________________________________\n",
      "dropout_102 (Dropout)        (None, 15, 15, 10)        0         \n",
      "_________________________________________________________________\n",
      "flatten_102 (Flatten)        (None, 2250)              0         \n",
      "_________________________________________________________________\n",
      "dense_203 (Dense)            (None, 128)               288128    \n",
      "_________________________________________________________________\n",
      "dense_204 (Dense)            (None, 10)                1290      \n",
      "_________________________________________________________________\n",
      "activation_204 (Activation)  (None, 10)                0         \n",
      "=================================================================\n",
      "Total params: 289,698\n",
      "Trainable params: 289,698\n",
      "Non-trainable params: 0\n",
      "_________________________________________________________________\n"
     ]
    }
   ],
   "source": [
    "seed = 7\n",
    "np.random.seed(seed)\n",
    "# load pima indians dataset\n",
    "\n",
    "model2 = KerasClassifier(build_fn=create_model_2, verbose=0)\n",
    "# grid search epochs, batch size and optimizer\n",
    "\n",
    "epochs = [1,2,3]\n",
    "batches = [3, 4, 5]\n",
    "param_grid = dict( epochs=epochs, batch_size=batches)\n",
    "print(param_grid)\n",
    "grid = GridSearchCV(estimator=model2, param_grid=param_grid)\n",
    "grid_result = grid.fit( x_train, y_train)"
   ]
  },
  {
   "cell_type": "code",
   "execution_count": 64,
   "metadata": {},
   "outputs": [
    {
     "name": "stdout",
     "output_type": "stream",
     "text": [
      "Best: 0.122000 using {'batch_size': 5, 'epochs': 3}\n",
      "0.096000 (0.004668) with: {'batch_size': 3, 'epochs': 1}\n",
      "0.082000 (0.017208) with: {'batch_size': 3, 'epochs': 2}\n",
      "0.102000 (0.005154) with: {'batch_size': 3, 'epochs': 3}\n",
      "0.094000 (0.024261) with: {'batch_size': 4, 'epochs': 1}\n",
      "0.082000 (0.015821) with: {'batch_size': 4, 'epochs': 2}\n",
      "0.098000 (0.021869) with: {'batch_size': 4, 'epochs': 3}\n",
      "0.106000 (0.032932) with: {'batch_size': 5, 'epochs': 1}\n",
      "0.080000 (0.014250) with: {'batch_size': 5, 'epochs': 2}\n",
      "0.122000 (0.033714) with: {'batch_size': 5, 'epochs': 3}\n"
     ]
    }
   ],
   "source": [
    "# the best combination \n",
    "print(\"Best: %f using %s\" % (grid_result.best_score_, grid_result.best_params_))\n",
    "means = grid_result.cv_results_['mean_test_score']\n",
    "stds = grid_result.cv_results_['std_test_score']\n",
    "params = grid_result.cv_results_['params']\n",
    "for mean, stdev, param in zip(means, stds, params):\n",
    "\tprint(\"%f (%f) with: %r\" % (mean, stdev, param))"
   ]
  },
  {
   "cell_type": "code",
   "execution_count": null,
   "metadata": {
    "collapsed": true
   },
   "outputs": [],
   "source": []
  },
  {
   "cell_type": "code",
   "execution_count": null,
   "metadata": {
    "collapsed": true
   },
   "outputs": [],
   "source": []
  },
  {
   "cell_type": "code",
   "execution_count": null,
   "metadata": {
    "collapsed": true
   },
   "outputs": [],
   "source": []
  },
  {
   "cell_type": "code",
   "execution_count": null,
   "metadata": {
    "collapsed": true
   },
   "outputs": [],
   "source": []
  },
  {
   "cell_type": "code",
   "execution_count": null,
   "metadata": {
    "collapsed": true
   },
   "outputs": [],
   "source": []
  },
  {
   "cell_type": "code",
   "execution_count": null,
   "metadata": {
    "collapsed": true
   },
   "outputs": [],
   "source": []
  }
 ],
 "metadata": {
  "kernelspec": {
   "display_name": "Python 3",
   "language": "python",
   "name": "python3"
  },
  "language_info": {
   "codemirror_mode": {
    "name": "ipython",
    "version": 3
   },
   "file_extension": ".py",
   "mimetype": "text/x-python",
   "name": "python",
   "nbconvert_exporter": "python",
   "pygments_lexer": "ipython3",
   "version": "3.6.2"
  }
 },
 "nbformat": 4,
 "nbformat_minor": 2
}
