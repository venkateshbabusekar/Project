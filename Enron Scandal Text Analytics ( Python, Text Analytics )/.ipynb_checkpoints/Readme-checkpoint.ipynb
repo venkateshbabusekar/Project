{
 "cells": [
  {
   "cell_type": "markdown",
   "metadata": {},
   "source": [
    "## Question 1 :  Enron Scandal Analysis"
   ]
  },
  {
   "cell_type": "markdown",
   "metadata": {},
   "source": [
    "\n",
    "# Summary about the scandal\n",
    "\n",
    "- Enron Corp. is a company that reached dramatic heights, only to face a dizzying collapse. The story ends with the bankruptcy of one of America's largest corporations.Enron's collapse affected the lives of thousands of employees and shook Wall Street to its core. At Enron's peak, its shares were worth $90.7 but fter the company declared bankruptcy on December 2, 2001, they plummeted to $0.67 by January 2002.\n",
    "\n",
    "\n",
    "\n"
   ]
  },
  {
   "cell_type": "markdown",
   "metadata": {},
   "source": [
    "# Intial findings about Data : \n",
    "    - We are given set of email which are related to enron corp.\n",
    "    - we were given 5,17,401\n",
    "    - Email are date from 2000 to 2001 , conversation between 150 people hwo worked in enron"
   ]
  },
  {
   "cell_type": "markdown",
   "metadata": {},
   "source": [
    "# Process for storing the Data :\n",
    "\n",
    "    - We are targeting the email which are in the sent mail of all the 150 employee\n",
    "    - We are writting a recursive function , to fetch all the sent mail of the each employee\n",
    "    - We are storing the obtained data from recursive function in csv , for the later use \n",
    "     "
   ]
  },
  {
   "cell_type": "markdown",
   "metadata": {},
   "source": [
    "!['kkk'](QUESTION 1/Output_Image/EMAIL_SAVE.jpg)"
   ]
  },
  {
   "cell_type": "markdown",
   "metadata": {},
   "source": [
    "# Analysis _ 1 \n",
    "    \n",
    "    -Finding 1 \n",
    "\n",
    "        - We are trying to find all the most number of email sent by a person , We are analysing only the sent email's  \n",
    "        - We are trying to generate the data dynamicaly by give range for year, day, month rather than finding the \n",
    "           value for a particular year, day, month . \n",
    "\n",
    "    -Finding 2 \n",
    "\n",
    "        - We are trying to find all the most number of email received by a person , We are analysing only the sent \n",
    "          email's  \n",
    "        - We are trying to generate the data dynamicaly by give range for year, day, month rather than finding the \n",
    "           value for a particular year, day, month . \n"
   ]
  },
  {
   "cell_type": "markdown",
   "metadata": {},
   "source": [
    "# Processing Steps \n",
    "   \n",
    "   #### Analysis _ 1  -->  Finding 1 \n",
    "   \n",
    "       - We are loading the csv file which has only the data of sent email from all the 150 employee \n",
    "       - We are looping thru all the row and we are getting the data of the rows which ever satisfiy the give range for \n",
    "         year, day, month\n",
    "       - We are storing that value in a dictionary \n",
    "       - We are sorting the dictionary \n",
    "       - Then we are find the top 10 person who has sent most no of emails and the count \n",
    "       - We are saving the final data to a csv \n",
    "\n",
    "   #### Analysis _ 1  --> Finding 2\n",
    "   \n",
    "       - We are loading the csv file which has only the data of sent email from all the 150 employee \n",
    "       - We are looping thru all the row and we are getting the data of the rows which ever satisfiy the give range for \n",
    "         year, day, month\n",
    "       - We are storing that value in a dictionary \n",
    "       - We are sorting the dictionary \n",
    "       - Then we are find the top 10 person who has received most no of emails and the count \n",
    "       - We are saving the final data to a csv \n",
    "    "
   ]
  },
  {
   "cell_type": "markdown",
   "metadata": {},
   "source": [
    "# Output\n",
    "   #### Analysis _ 1  -->  Finding 1 "
   ]
  },
  {
   "cell_type": "markdown",
   "metadata": {},
   "source": [
    "!['kkk'](QUESTION 1/Output_Image/out1.jpg)"
   ]
  },
  {
   "cell_type": "markdown",
   "metadata": {},
   "source": [
    "# Output\n",
    "   #### Analysis _ 1  -->  Finding 2 "
   ]
  },
  {
   "cell_type": "markdown",
   "metadata": {},
   "source": [
    "!['kkk'](QUESTION 1/Output_Image/out2.jpg)"
   ]
  },
  {
   "cell_type": "markdown",
   "metadata": {},
   "source": [
    "# Conclusion \n",
    " - We have found out the list of most number of email sent by a particular person and email sent to particular person\n",
    " \n",
    " # Further Analysis \n",
    "\n",
    "- Since we have the top sender and receiver , we can start our investigation from them . \n",
    "- We can dig deeper into these people histroy , what they were sending and receiving .\n",
    "\n",
    "\n",
    "\n",
    "\n"
   ]
  },
  {
   "cell_type": "markdown",
   "metadata": {},
   "source": [
    "# Analysis _ 2 \n",
    "    \n",
    "    -Finding 1 \n",
    "\n",
    "        - we are trying to analyze the most occuring word in the subject of the sent email \n",
    "        - We are trying to generate the data dynamicaly by give range for year, day, month rather than finding the \n",
    "           value for a particular year, day, month . \n",
    "\n",
    "    -Finding 2 \n",
    "\n",
    "        - We are trying to find the email which was forwarded many times by taking the occurance of each subject   \n",
    "        - We are trying to generate the data dynamicaly by give range for year, day, month rather than finding the \n",
    "           value for a particular year, day, month . \n"
   ]
  },
  {
   "cell_type": "markdown",
   "metadata": {},
   "source": [
    "# Processing Steps \n",
    "   \n",
    "   #### Analysis _ 2  -->  Finding 1 \n",
    "   \n",
    "       - We are loading the csv file which has only the data of sent email from all the 150 employee \n",
    "       - We are looping thru all the row and we are getting the data of the rows which ever satisfiy the give range for \n",
    "         year, day, month\n",
    "       - We are getting the subject of each mail \n",
    "       - we are tokenizing the subject \n",
    "       - We are storing the tokenized value in a dictionary \n",
    "       - We are sorting the dictionary \n",
    "       - Then we are find the top 10 words which was used in the subject and the count for the give time frame\n",
    "       - We are saving the final data to a csv \n",
    "\n",
    "   #### Analysis _ 2  --> Finding 2 \n",
    "   \n",
    "       - We are loading the csv file which has only the data of sent email from all the 150 employee \n",
    "       - We are looping thru all the row and we are getting the data of the rows which ever satisfiy the give range for \n",
    "         year, day, month\n",
    "       - We are getting the subject of each mail \n",
    "       - We are cleaning the subject by removing the \"RE: , FW:\" from the subject\n",
    "       - We are storing that value and the occurance in a dictionary \n",
    "       - We are sorting the dictionary \n",
    "       - Then we are find the top 10 subject which was spoke for the give time frame \n",
    "       - We are saving the final data to a csv \n",
    "    "
   ]
  },
  {
   "cell_type": "markdown",
   "metadata": {},
   "source": [
    "# Output\n",
    "   #### Analysis _ 2  -->  Finding 1 "
   ]
  },
  {
   "cell_type": "markdown",
   "metadata": {},
   "source": [
    "!['kkk'](QUESTION 1/Output_Image/q2_p1.jpg)"
   ]
  },
  {
   "cell_type": "markdown",
   "metadata": {},
   "source": [
    "# Output\n",
    "   #### Analysis _ 2  -->  Finding 2 "
   ]
  },
  {
   "cell_type": "markdown",
   "metadata": {},
   "source": [
    "!['kkk'](QUESTION 1/Output_Image/q2_p2.JPG)"
   ]
  },
  {
   "cell_type": "markdown",
   "metadata": {},
   "source": [
    "# Conclusion \n",
    " - We have found out the list of most number of words used in the subject and which subject has be forwarded the most \n",
    "    for the given time period \n",
    " \n",
    " # Further Analysis \n",
    "\n",
    "- Since we have the top list of most number of words used in the subject and which subject has be forwarded the most, \n",
    "   we can start our investigation by analysisng those email. \n",
    "- We can dig deeper into those email and what they were talking about  .\n",
    "\n",
    "\n",
    "\n",
    "\n"
   ]
  },
  {
   "cell_type": "markdown",
   "metadata": {},
   "source": [
    "# Analysis _ 3\n",
    "\n",
    "\n",
    "    -Finding 1 \n",
    "        - We are trying to analyze only the email which was sent during the weekend and find the topic that was discussed\n",
    "        - We are trying to generate the data dynamicaly by give range for year, day, month rather than finding the \n",
    "           value for a particular year, day, month . \n",
    "\n",
    "    -Finding 2 \n",
    "\n",
    "        - We are trying to get the list of person who is receving email during weekend \n",
    "        - We are trying to generate the data dynamicaly by give range for year, day, month rather than finding the \n",
    "           value for a particular year, day, month . \n",
    "\n",
    "    -Finding 3\n",
    "    \n",
    "        - We are trying to get the list of person who is working during weekend \n",
    "        - We are trying to generate the data dynamicaly by give range for year, day, month rather than finding the \n",
    "           value for a particular year, day, month . \n"
   ]
  },
  {
   "cell_type": "markdown",
   "metadata": {},
   "source": [
    "# Processing Steps \n",
    "   \n",
    "   #### Analysis _ 3  -->  Finding 1 \n",
    "   \n",
    "       - We are loading the csv file which has only the data of sent email from all the 150 employee \n",
    "       - We are looping thru all the row and we are getting the data of the rows which ever satisfiy the give range for \n",
    "         year, day, month\n",
    "       - We are getting the content of each mail \n",
    "       - We are cleaning the subject by removing the stop words\n",
    "       - we are tokenizing the content \n",
    "       - We are storing the tokenized value in a dictionary \n",
    "       - We are sorting the dictionary \n",
    "       - Then we are find the top 10 words which was used in the content and the count during the weekend for the give \n",
    "          time frame\n",
    "       - We are saving the final data to a csv \n",
    "\n",
    "   #### Analysis _ 3  --> Finding 2 \n",
    "   \n",
    "       - We are loading the csv file which has only the data of sent email from all the 150 employee \n",
    "       - We are looping thru all the row and we are getting the data of the rows which ever satisfiy the give range for \n",
    "         year, day, month\n",
    "       - We are getting the \"TO\" of each mail \n",
    "       - We are storing that value and the occurance in a dictionary \n",
    "       - We are sorting the dictionary \n",
    "       - Then we are find the top 10 person received the email during the weekend for the give time frame \n",
    "       - We are saving the final data to a csv \n",
    " \n",
    "   #### Analysis _ 3  --> Finding 3\n",
    "   \n",
    "       - We are loading the csv file which has only the data of sent email from all the 150 employee \n",
    "       - We are looping thru all the row and we are getting the data of the rows which ever satisfiy the give range for \n",
    "         year, day, month\n",
    "       - We are getting the \"TO\" of each mail \n",
    "       - We are storing that value and the occurance in a dictionary \n",
    "       - We are sorting the dictionary \n",
    "       - Then we are find the top 10 person who was working during the weekend for the give time frame \n",
    "       - We are saving the final data to a csv \n",
    " \n"
   ]
  },
  {
   "cell_type": "markdown",
   "metadata": {},
   "source": [
    "# Output\n",
    "   #### Analysis _ 3  -->  Finding 1 "
   ]
  },
  {
   "cell_type": "markdown",
   "metadata": {},
   "source": [
    "!['kkk'](QUESTION 1/Output_Image/q3_p1.JPG)"
   ]
  },
  {
   "cell_type": "markdown",
   "metadata": {},
   "source": [
    "# Output\n",
    "   #### Analysis _ 3  -->  Finding 2"
   ]
  },
  {
   "cell_type": "markdown",
   "metadata": {},
   "source": [
    "!['kkk'](QUESTION 1/Output_Image/q3_p2.JPG)"
   ]
  },
  {
   "cell_type": "markdown",
   "metadata": {},
   "source": [
    "# Output\n",
    "   #### Analysis _ 3  -->  Finding 3"
   ]
  },
  {
   "cell_type": "markdown",
   "metadata": {},
   "source": [
    "!['kkk'](QUESTION 1/Output_Image/q3_p3.JPG)"
   ]
  },
  {
   "cell_type": "markdown",
   "metadata": {},
   "source": [
    "# Conclusion \n",
    " - We have found out the list of person who was working during the weekend and the received the email during the weekend\n",
    "    and what was all the topic is about for the given time period \n",
    " \n",
    " # Further Analysis \n",
    "\n",
    "    - Since we have the list of person who was working during the weekend and the received the email during the weekend\n",
    "        and what was all the topic is about we can start our investigation by analysing those email and person. \n",
    "    - We can dig deeper into those email and check what they were talking about  .\n",
    "\n",
    "\n",
    "\n",
    "\n"
   ]
  },
  {
   "cell_type": "code",
   "execution_count": null,
   "metadata": {
    "collapsed": true
   },
   "outputs": [],
   "source": []
  },
  {
   "cell_type": "code",
   "execution_count": null,
   "metadata": {
    "collapsed": true
   },
   "outputs": [],
   "source": []
  },
  {
   "cell_type": "code",
   "execution_count": null,
   "metadata": {
    "collapsed": true
   },
   "outputs": [],
   "source": []
  },
  {
   "cell_type": "markdown",
   "metadata": {},
   "source": [
    "# Question 2 : The New York Times Developer Network"
   ]
  },
  {
   "cell_type": "markdown",
   "metadata": {},
   "source": [
    "# Summary :\n",
    " We are using NYTimes.com which is an unparalleled source of news and information. We are getting data froom different  \n",
    " API and analysing the data from the obtained data   "
   ]
  },
  {
   "cell_type": "markdown",
   "metadata": {},
   "source": [
    "# Intial findings about Data : \n",
    "    - We many differnt type of API , decide which API we are going to analyse .\n",
    "    - Then register you are mail and get the API key  \n"
   ]
  },
  {
   "cell_type": "markdown",
   "metadata": {},
   "source": [
    "# Process for storing the Data :\n",
    "\n",
    "    - With the help of the API key write a programm to get the data from API\n",
    "    - Given all the necessary parameter in the code\n",
    "    - Then dump the data into json file\n",
    "    - Then break down the data into smaller size json file so that we can perform the operation effeciently "
   ]
  },
  {
   "cell_type": "markdown",
   "metadata": {},
   "source": [
    "!['kkk'](QUESTION 2/Output_Image/data.JPG)"
   ]
  },
  {
   "cell_type": "markdown",
   "metadata": {},
   "source": [
    "\n",
    "# Analysis _ 1\n",
    "\n",
    "    - Finding 1 \n",
    "\n",
    "        - We are trying to find out the frequency of words related to world war over the period from 1940 to 1943 \n",
    "        "
   ]
  },
  {
   "cell_type": "markdown",
   "metadata": {},
   "source": [
    "# Processing Steps \n",
    "   \n",
    "   #### Analysis _ 1 -->  Finding 1 \n",
    "   \n",
    "       - We are specifing the path wer all the data is stored \n",
    "       - we are creating a text file whcih contains thw word related to word war \n",
    "       - We Looping thru each file from the path  \n",
    "       - We getting the content of the file \n",
    "       - we are tokenizing the content \n",
    "       - we are cleaning the data by removing the stop words \n",
    "       - For the cleaned data we are comparing it with the list \n",
    "       - Then we are finding out the frequenty of each words\n",
    "       - Then we are potting the graph \n"
   ]
  },
  {
   "cell_type": "markdown",
   "metadata": {},
   "source": [
    "# Output\n",
    "   #### Analysis _ 1  -->  Finding 1"
   ]
  },
  {
   "cell_type": "markdown",
   "metadata": {},
   "source": [
    "!['kkk'](QUESTION 2/Output_Image/qq2_a1.JPG)"
   ]
  },
  {
   "cell_type": "markdown",
   "metadata": {},
   "source": [
    "# Conclusion \n",
    "\n",
    "- over the period 1941 we can see there is more artical talk about war and the talk wer gradually decreasing over the\n",
    "    period of time "
   ]
  },
  {
   "cell_type": "markdown",
   "metadata": {},
   "source": [
    "# Analysis _ 2\n",
    "   #### Analysis _ 2 -->  Finding 1    \n",
    "   \n",
    "   - For any give N no of article , we are find the relation between the section and most frequent words from the \n",
    "       paragraph that are related to section \n",
    "       "
   ]
  },
  {
   "cell_type": "markdown",
   "metadata": {},
   "source": [
    "# Processing Steps \n",
    "   \n",
    "   #### Analysis _ 2 -->  Finding 1 \n",
    "   \n",
    "       - We are specifing the path were all the data is stored \n",
    "       - We Looping thru each file from the path  \n",
    "       - We getting the words from section the of each file\n",
    "       - creating a dictionary and add the adding the word in the section\n",
    "       - we are tokenizing the content \n",
    "       - we are cleaning the data by removing the stop words \n",
    "       - Then we are finding out the frequenty of each words\n",
    "       - For the cleaned data we are adding it as the value to each key in dictionalry  \n",
    "       - Then we are potting the graph \n"
   ]
  },
  {
   "cell_type": "markdown",
   "metadata": {},
   "source": [
    "# Output\n",
    "   #### Analysis _ 2  -->  Finding 1"
   ]
  },
  {
   "cell_type": "markdown",
   "metadata": {},
   "source": [
    "!['kkk'](QUESTION 2/Output_Image/qq2_a2.JPG)"
   ]
  },
  {
   "cell_type": "markdown",
   "metadata": {},
   "source": [
    "# Conclusion\n",
    "- Based on the unique section in any give article , we can the find the relationship between the top most words present acros any given article for the given section."
   ]
  },
  {
   "cell_type": "markdown",
   "metadata": {},
   "source": [
    "# Analysis 3\n",
    "   #### Analysis _ 3\n",
    "        - We are taking the data from  most popular API \n",
    "        - For the given year 2016 we are analysing the views and shares for past 30 days"
   ]
  },
  {
   "cell_type": "markdown",
   "metadata": {},
   "source": [
    "# Processing Steps \n",
    "   \n",
    "   #### Analysis _ 2 -->  Finding 1 \n",
    "   \n",
    "       - We are specifing the path were all the data is stored \n",
    "       - We Looping thru each file from the path  \n",
    "       - We getting the value for the view and the value for share\n",
    "       - creating a dictionary and add the adding the value and key to the dictionary \n",
    "       - Then we are potting the graph with the dictionary  \n"
   ]
  },
  {
   "cell_type": "markdown",
   "metadata": {
    "collapsed": true
   },
   "source": [
    "# Output\n",
    "   #### Analysis _ 3  -->  Share"
   ]
  },
  {
   "cell_type": "markdown",
   "metadata": {
    "collapsed": true
   },
   "source": [
    "!['kkk'](QUESTION 2/Output_Image/l2.JPG)"
   ]
  },
  {
   "cell_type": "markdown",
   "metadata": {
    "collapsed": true
   },
   "source": [
    "# Output\n",
    "   #### Analysis _ 3  -->  View graph"
   ]
  },
  {
   "cell_type": "markdown",
   "metadata": {
    "collapsed": true
   },
   "source": [
    "!['kkk'](QUESTION 2/Output_Image/l3.JPG)"
   ]
  },
  {
   "cell_type": "markdown",
   "metadata": {
    "collapsed": true
   },
   "source": [
    "# CONCLUSION\n",
    "    - From the above two graph we can conclude that people are sharing more than they are veiwing  "
   ]
  },
  {
   "cell_type": "code",
   "execution_count": null,
   "metadata": {
    "collapsed": true
   },
   "outputs": [],
   "source": []
  }
 ],
 "metadata": {
  "anaconda-cloud": {},
  "kernelspec": {
   "display_name": "Python [default]",
   "language": "python",
   "name": "python3"
  },
  "language_info": {
   "codemirror_mode": {
    "name": "ipython",
    "version": 3
   },
   "file_extension": ".py",
   "mimetype": "text/x-python",
   "name": "python",
   "nbconvert_exporter": "python",
   "pygments_lexer": "ipython3",
   "version": "3.5.2"
  }
 },
 "nbformat": 4,
 "nbformat_minor": 1
}
