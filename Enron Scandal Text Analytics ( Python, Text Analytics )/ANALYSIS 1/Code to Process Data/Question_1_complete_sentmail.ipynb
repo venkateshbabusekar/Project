{
 "cells": [
  {
   "cell_type": "markdown",
   "metadata": {
    "collapsed": false
   },
   "source": [
    "# Cleaning the data \n",
    "- We are looping thru all the folder and find nly the sent items folder \n",
    "- For all the value in the sent items folder we are cleaning the data \n",
    "- Once the data is cleaned , we are writing it to csv file "
   ]
  },
  {
   "cell_type": "code",
   "execution_count": 1,
   "metadata": {
    "collapsed": true
   },
   "outputs": [],
   "source": [
    "#We are importing the CSV file and setting the limit \n",
    "import os\n",
    "import glob\n",
    "import re\n",
    "from email.parser import Parser \n",
    "import email.utils \n"
   ]
  },
  {
   "cell_type": "code",
   "execution_count": 2,
   "metadata": {
    "collapsed": true
   },
   "outputs": [],
   "source": [
    "#We are defining the empty list and dictionary \n",
    "emailfrom = []\n",
    "emailto = []\n",
    "emailsubject = []\n",
    "miltipart =[]\n",
    "body=[]\n",
    "updated=[]\n",
    "tempbody=\"\"\n",
    "Date = []\n"
   ]
  },
  {
   "cell_type": "code",
   "execution_count": 3,
   "metadata": {
    "collapsed": true
   },
   "outputs": [],
   "source": [
    "# We are defining the path from which we need to get the data \n",
    "root_dir=\"C:\\\\Users\\\\USER\\\\Downloads\\\\enron_mail_20150507\"\n",
    "filetype=\".\"\n"
   ]
  },
  {
   "cell_type": "code",
   "execution_count": 4,
   "metadata": {
    "collapsed": false
   },
   "outputs": [],
   "source": [
    "# Function which we run recursively to all the folders \n",
    "def recursive(root_dir):\n",
    "\n",
    "    for name1 in os.listdir(root_dir): # It will list all the directory \n",
    "        newd1= os.path.join(root_dir,name1) # it will join two path \n",
    "        if os.path.isdir(newd1): # it will chceck if it directory \n",
    "            recursive(newd1)\n",
    "        if not os.path.isdir(newd1): # it will chceck if it directory \n",
    "                if os.path.isfile(newd1): # it will chceck if it is file \n",
    "                    filepath_filename = newd1 + filetype\n",
    "                    read(filepath_filename)\n",
    "                    \n",
    "                    \n"
   ]
  },
  {
   "cell_type": "code",
   "execution_count": 5,
   "metadata": {
    "collapsed": false
   },
   "outputs": [],
   "source": [
    "# Function which we run recursively to all the folders to find the send item folder \n",
    "\n",
    "def recursive_sent(directory):\n",
    "    if os.path.isdir(directory):\n",
    "        for name1 in os.listdir(directory):# It will list all the directory\n",
    "            if not name1==\"sent_items\":\n",
    "                newpath= os.path.join(directory,name1) # it will join two path \n",
    "                recursive_sent(newpath)\n",
    "            if name1==\"sent_items\":\n",
    "                path= os.path.join(directory,name1)\n",
    "                recursive(path)\n",
    "\n",
    "\n"
   ]
  },
  {
   "cell_type": "code",
   "execution_count": 6,
   "metadata": {
    "collapsed": true
   },
   "outputs": [],
   "source": [
    "#wE ARE createing a csv file to write all the data\n",
    "with open (\"All_Content_file_sent_Email.csv\",'a+') as outputfile1:\n",
    "            outputfile1.write(\"From_email\" +','+ \"Tomail\"+','+ \"Year\"+\",\"+\"Month\"+\",\"+\"Date\"+\",\"+\"Hours\"+\"Day's\"+\",\"+\"Subject\"+','+\"Full Date\"+','+\"Email_body\"+\"\\n\")\n",
    "\n"
   ]
  },
  {
   "cell_type": "code",
   "execution_count": 7,
   "metadata": {
    "collapsed": false
   },
   "outputs": [],
   "source": [
    "# this is main function whci will call other function and get the data \n",
    "def read(filepath_filename):\n",
    "    temp_list=[]\n",
    "    tempbody=\"\"\n",
    "                \n",
    "    for names in glob.glob(filepath_filename): # glob with will list all the files \n",
    "        with open(names, \"r\") as f :\n",
    "                new= f.read() # we are reading the file \n",
    "                email_content = Parser().parsestr(new) # we are parsing the email to get the data from it \n",
    "                fromemail = email_content[\"from\"] # we are getting the content from from the email \n",
    "                fromemail = str(fromemail)\n",
    "                fromemail = fromemail.replace('\\n','') # we are cleaning the data by replacong it with empty string  \n",
    "\n",
    "                fromemail = fromemail.replace(\",\",\"\") # we are cleaning the data by replacong it with empty string \n",
    "                emailfrom.append(fromemail)\n",
    "                tomail= email_content[\"to\"]# we are getting the content to from the email \n",
    "                tomail = str(tomail)\n",
    "                tomail = tomail.replace('\\n','') # we are cleaning the data by replacong it with empty string \n",
    "                tomail = tomail.replace(\",\",\"  \") # we are cleaning the data by replacong it with empty string \n",
    "                emailto.append(tomail)\n",
    "                subj = email_content[\"subject\"]# we are getting the content subject  from the email \n",
    "                subj= str(subj)\n",
    "                subj = subj.replace('\\n','') # we are cleaning the data by replacong it with empty string \n",
    "\n",
    "                subj = subj.replace(\",\",\"\") # we are cleaning the data by replacong it with empty string \n",
    "                emailsubject.append(subj)\n",
    "                DateS = email_content[\"Date\"]# we are getting the content date from the email \n",
    "                date= str(DateS)\n",
    "                date = date.replace(\",\",\"\") # we are cleaning the data by replacong it with empty string \n",
    "                date = date.replace(\",\",\"\") # we are cleaning the data by replacong it with empty string \n",
    "                Date.append(date)\n",
    "                time = email.utils.parsedate(email_content[\"date\"])\n",
    "        \n",
    "                if email_content.is_multipart():# we are getting the content main body  from the email \n",
    "                    print(\"true\")\n",
    "                    for part in email_content.get_payload():\n",
    "                        miltipart.append(part.get_payload())\n",
    "                else:\n",
    "                        \n",
    "                        tempbody = email_content.get_payload()\n",
    "                        tempbody = str(tempbody)\n",
    "                        tempbody = tempbody.replace('\\n','') # we are cleaning the data by replacong it with empty string \n",
    "                        tempbody = tempbody.replace('\\t','') # we are cleaning the data by replacong it with empty string \n",
    "                        tempbody = tempbody.replace(\",\",\"\") # we are cleaning the data by replacong it with empty string \n",
    "                        body.append (tempbody)\n",
    "\n",
    "                temp_list.append(email_content[\"from\"]) # Appending the value to list \n",
    "                temp_list.append(email_content[\"to\"])# Appending the value to list \n",
    "                temp_list.append(date)# Appending the value to list \n",
    "                temp_list.append(email_content[\"subject\"])# Appending the value to list \n",
    "                temp_list.append(tempbody)# Appending the value to list \n",
    "                updated.append(temp_list)# Appending the value to list \n",
    "                temp_list=[]\n",
    "                with open (\"All_Content_file_sent_Email.csv\",'a+') as outputfile1:\n",
    "                            outputfile1.write(str(fromemail) +','+ str(tomail)+','+ str(time[0])+\",\"+str(time[1])+\",\"+str(time[2])+\",\"+str(time[3])+\",\"+str(date[0:3])+\",\"+str(subj)+','+str(date)+','+str(tempbody)+\"\\n\")\n",
    "\n",
    "                tempbody=\"\"\n",
    "                \n",
    "                \n",
    " "
   ]
  },
  {
   "cell_type": "code",
   "execution_count": 8,
   "metadata": {
    "collapsed": false
   },
   "outputs": [],
   "source": [
    "recursive_sent(root_dir)"
   ]
  },
  {
   "cell_type": "markdown",
   "metadata": {
    "collapsed": true
   },
   "source": [
    "# Conclusion \n",
    "- We have cleaned the data and stored all the data into a csv file . \n",
    "- we can use this data for further analysis"
   ]
  }
 ],
 "metadata": {
  "anaconda-cloud": {},
  "kernelspec": {
   "display_name": "Python [conda root]",
   "language": "python",
   "name": "conda-root-py"
  },
  "language_info": {
   "codemirror_mode": {
    "name": "ipython",
    "version": 3
   },
   "file_extension": ".py",
   "mimetype": "text/x-python",
   "name": "python",
   "nbconvert_exporter": "python",
   "pygments_lexer": "ipython3",
   "version": "3.5.2"
  }
 },
 "nbformat": 4,
 "nbformat_minor": 1
}
