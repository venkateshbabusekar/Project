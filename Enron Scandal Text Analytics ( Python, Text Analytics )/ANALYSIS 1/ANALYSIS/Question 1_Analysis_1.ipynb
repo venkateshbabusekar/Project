{
 "cells": [
  {
   "cell_type": "markdown",
   "metadata": {
    "collapsed": false
   },
   "source": [
    "# Analysis _ 1 \n",
    "    \n",
    "   #### Finding 1 \n",
    "\n",
    "       - We are trying to find all the most number of email sent by a person , We are analysing only the sent email  \n",
    "       - We are trying to generate the data dynamicaly by give range for year, day, month rather than finding the \n",
    "           value for a particular year, day, month . \n",
    "\n",
    "   #### Finding 2\n",
    "\n",
    "       - We are trying to find all the most number of email received by a person , We are analysing only the sent \n",
    "          email's  \n",
    "       - We are trying to generate the data dynamicaly by give range for year, day, month rather than finding the \n",
    "           value for a particular year, day, month . \n"
   ]
  },
  {
   "cell_type": "code",
   "execution_count": 1,
   "metadata": {
    "collapsed": false
   },
   "outputs": [
    {
     "data": {
      "text/plain": [
       "131072"
      ]
     },
     "execution_count": 1,
     "metadata": {},
     "output_type": "execute_result"
    }
   ],
   "source": [
    "#We are importing the CSV file and setting the limit \n",
    "import csv\n",
    "csv.field_size_limit(399999991)"
   ]
  },
  {
   "cell_type": "code",
   "execution_count": 2,
   "metadata": {
    "collapsed": false
   },
   "outputs": [
    {
     "data": {
      "text/plain": [
       "399999991"
      ]
     },
     "execution_count": 2,
     "metadata": {},
     "output_type": "execute_result"
    }
   ],
   "source": [
    "#We are importing the CSV file and setting the limit \n",
    "import csv\n",
    "csv.field_size_limit(399999991)"
   ]
  },
  {
   "cell_type": "code",
   "execution_count": 22,
   "metadata": {
    "collapsed": false
   },
   "outputs": [],
   "source": [
    "#We importing the necessary package \n",
    "import glob\n",
    "import os\n",
    "from operator import itemgetter # Importing the itemgetter\n"
   ]
  },
  {
   "cell_type": "code",
   "execution_count": 26,
   "metadata": {
    "collapsed": false
   },
   "outputs": [],
   "source": [
    "#We are defining the filepath \n",
    "filepath= os.getcwd()"
   ]
  },
  {
   "cell_type": "code",
   "execution_count": 4,
   "metadata": {
    "collapsed": false
   },
   "outputs": [],
   "source": [
    "#we are defining function to get the create a dictionary to store the email from the list \n",
    "def emailfromdictionary():\n",
    "    for word in emailfromlist: \n",
    "        if word not in emailfromdic:\n",
    "            emailfromdic[word] = 1   # Adding to the dictionary if the words are not present \n",
    "        else:\n",
    "            emailfromdic[word] += 1  # incrementing the count if the are present in the  dictionary "
   ]
  },
  {
   "cell_type": "code",
   "execution_count": 5,
   "metadata": {
    "collapsed": false
   },
   "outputs": [],
   "source": [
    "#we are defining function to get the create a dictionary to store the email to the list \n",
    "def emailtodictionary():\n",
    "    for word in emailtolist: \n",
    "        if word not in emailtodic:\n",
    "            emailtodic[word] = 1   # Adding to the dictionary if the words are not present \n",
    "        else:\n",
    "            emailtodic[word] += 1  # incrementing the count if the are present in the  dictionary "
   ]
  },
  {
   "cell_type": "code",
   "execution_count": 6,
   "metadata": {
    "collapsed": true
   },
   "outputs": [],
   "source": [
    "#We are defining the empty list and dictionary \n",
    "emailfromlist=[]\n",
    "emailtolist =[]\n",
    "emailfromdic={}\n",
    "emailtodic={}\n"
   ]
  },
  {
   "cell_type": "code",
   "execution_count": 27,
   "metadata": {
    "collapsed": false
   },
   "outputs": [],
   "source": [
    "#we are defining  the main funtion whic will perform the operation \n",
    "def mainmet(ys,ye,ms,me,ds,de):\n",
    "    for names in glob.glob(filepath): # using glob to scan the directory \n",
    "        with open('All_Content_file_sent_Email.csv','r') as csvfile:# opening the file\n",
    "            reader = csv.reader(csvfile)\n",
    "            month= list (range(ms,me))# creating the list to find the range\n",
    "            days= list (range(ds,de))# creating the list to find the range\n",
    "            years= list(range(ys,ye))# creating the list to find the range\n",
    "            for row in reader:# looping all the row to check the condition\n",
    "                for m in month:\n",
    "                    m1 = str(m)# covering the value to string \n",
    "                    m2 = str (row[3])# covering the value to string \n",
    "                    if m1 == m2: \n",
    "                        for d in days:\n",
    "                            d1 = str(d)# covering the value to string \n",
    "                            d2 = str (row[4])# covering the value to string \n",
    "                            if d1 == d2:\n",
    "                                for y in years:\n",
    "                                    y1 = str(y)# covering the value to string \n",
    "                                    y2 = str (row[2])# covering the value to string \n",
    "                                    if y1 == y2:\n",
    "                                        emailfromlist.append(row[0]) # Appending the value to teh list \n",
    "                                        emailtolist.append(row[1])# Appending the value to teh list \n",
    "\n",
    "        emailfromdictionary()   \n",
    "        emailtodictionary()\n"
   ]
  },
  {
   "cell_type": "code",
   "execution_count": 29,
   "metadata": {
    "collapsed": false
   },
   "outputs": [],
   "source": [
    "#we are calling the main funtion , the value can be changed dynamically \n",
    "mainmet(2001,2002,1,5,1,5)\n"
   ]
  },
  {
   "cell_type": "code",
   "execution_count": 30,
   "metadata": {
    "collapsed": false
   },
   "outputs": [],
   "source": [
    "sortingfrom = sorted(emailfromdic.items(), key=itemgetter(1),reverse=True) \n",
    "# using the item getter to sort the dictionary based on the value in descending order "
   ]
  },
  {
   "cell_type": "code",
   "execution_count": 31,
   "metadata": {
    "collapsed": false
   },
   "outputs": [
    {
     "name": "stdout",
     "output_type": "stream",
     "text": [
      "For the given period the top 10 most no of email sent from \n",
      "  [('sally.beck@enron.com', 310), ('james.derrick@enron.com', 270), ('lavorato@enron.com', 210), ('susan.scott@enron.com', 200), ('rick.buy@enron.com', 150), ('john.lavorato@enron.com', 90), ('jason.williams@enron.com', 90), ('daren.farmer@enron.com', 70), ('patrice.mims@enron.com', 70), ('kim.ward@enron.com', 70)]\n"
     ]
    }
   ],
   "source": [
    "# Printing top 10 most frequent email sent from and their frequency\n",
    "print(\"For the given period the top 10 most no of email sent from \\n \",sortingfrom[:10] )"
   ]
  },
  {
   "cell_type": "code",
   "execution_count": 32,
   "metadata": {
    "collapsed": true
   },
   "outputs": [],
   "source": [
    "#wE ARE createing a csv file to write all the data\n",
    "with open (\"Analysis1_part1.csv\",'a+') as outputfile1:\n",
    "    outputfile1.write(\"For the given period the top 10 most no of email sent from  \\n\\n\\n\")\n",
    "    outputfile1.write(\"Email id\"+\",\"+\"No of emails\"+\"\\n\")\n",
    "\n",
    "for i in range (0,10):\n",
    "    with open (\"Analysis1_part1.csv\",'a+') as outputfile1:\n",
    "        outputfile1.write(str(sortingfrom[i][0])+\",\"+str(sortingfrom[i][1])+\"\\n\")\n"
   ]
  },
  {
   "cell_type": "code",
   "execution_count": 12,
   "metadata": {
    "collapsed": true
   },
   "outputs": [],
   "source": [
    "sortingto = sorted(emailtodic.items(), key=itemgetter(1),reverse=True) \n",
    "# using the item getter to sort the dictionary based on the value in descending order "
   ]
  },
  {
   "cell_type": "code",
   "execution_count": 13,
   "metadata": {
    "collapsed": false
   },
   "outputs": [
    {
     "name": "stdout",
     "output_type": "stream",
     "text": [
      "For the given period the top 10 most no of email sent TO \n",
      " [('j.harris@enron.com', 8), ('jason.williams@enron.com', 6), ('beth.apollo@enron.com', 6), ('ehillegeist@hotmail.com', 5), ('david.gorte@enron.com', 4), ('lisa.gillette@enron.com', 4), ('lexi.elliott@enron.com', 4), ('chris.foster@enron.com', 3), ('john.zufferli@enron.com', 3), ('jkbowles@hotmail.com', 3)]\n"
     ]
    }
   ],
   "source": [
    "# Printing top 10 most frequent email sent to and their frequency\n",
    "print(\"For the given period the top 10 most no of email sent TO \\n\",sortingto[:10] )"
   ]
  },
  {
   "cell_type": "code",
   "execution_count": 14,
   "metadata": {
    "collapsed": true
   },
   "outputs": [],
   "source": [
    "#wE ARE createing a csv file to write all the data\n",
    "with open (\"Analysis1_part2.csv\",'a+') as outputfile1:\n",
    "    outputfile1.write(\"For the given period the top 10 most no of email sent TO  \\n\\n\\n\")\n",
    "    outputfile1.write(\"Email id\"+\",\"+\"No of emails\"+\"\\n\")\n",
    "\n",
    "for i in range (0,10):\n",
    "    with open (\"Analysis1_part2.csv\",'a+') as outputfile1:\n",
    "        outputfile1.write(str(sortingto[i][0])+\",\"+str(sortingto[i][1])+\"\\n\")\n"
   ]
  },
  {
   "cell_type": "markdown",
   "metadata": {
    "collapsed": true
   },
   "source": [
    "# Conclusion \n",
    " - We have found out the list of most number of email sent by a particular person and email sent to particular person\n",
    " \n",
    " # Further Analysis \n",
    "\n",
    "- Since we have the top sender and receiver , we can start our investigation from them . \n",
    "- We can dig deeper into these people histroy , what they were sending and receiving .\n",
    "\n",
    "\n",
    "\n",
    "\n"
   ]
  },
  {
   "cell_type": "code",
   "execution_count": null,
   "metadata": {
    "collapsed": true
   },
   "outputs": [],
   "source": []
  }
 ],
 "metadata": {
  "anaconda-cloud": {},
  "kernelspec": {
   "display_name": "Python [default]",
   "language": "python",
   "name": "python3"
  },
  "language_info": {
   "codemirror_mode": {
    "name": "ipython",
    "version": 3
   },
   "file_extension": ".py",
   "mimetype": "text/x-python",
   "name": "python",
   "nbconvert_exporter": "python",
   "pygments_lexer": "ipython3",
   "version": "3.5.2"
  }
 },
 "nbformat": 4,
 "nbformat_minor": 1
}
