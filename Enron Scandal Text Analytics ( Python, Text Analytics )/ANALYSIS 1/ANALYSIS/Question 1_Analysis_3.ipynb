{
 "cells": [
  {
   "cell_type": "markdown",
   "metadata": {
    "collapsed": false
   },
   "source": [
    "# Analysis _ 3\n",
    "\n",
    "\n",
    "    -Finding 1 \n",
    "        - We are trying to analyze only the email which was sent during the weekend and find the topic that was discussed\n",
    "        - We are trying to generate the data dynamicaly by give range for year, day, month rather than finding the \n",
    "           value for a particular year, day, month . \n",
    "\n",
    "    -Finding 2 \n",
    "\n",
    "        - We are trying to get the list of person who is receving email during weekend \n",
    "        - We are trying to generate the data dynamicaly by give range for year, day, month rather than finding the \n",
    "           value for a particular year, day, month . \n",
    "\n",
    "    -Finding 3\n",
    "    \n",
    "        - We are trying to get the list of person who is working during weekend \n",
    "        - We are trying to generate the data dynamicaly by give range for year, day, month rather than finding the \n",
    "           value for a particular year, day, month . \n"
   ]
  },
  {
   "cell_type": "code",
   "execution_count": 1,
   "metadata": {
    "collapsed": false
   },
   "outputs": [
    {
     "data": {
      "text/plain": [
       "131072"
      ]
     },
     "execution_count": 1,
     "metadata": {},
     "output_type": "execute_result"
    }
   ],
   "source": [
    "#We are importing the CSV file and setting the limit \n",
    "import csv\n",
    "csv.field_size_limit(399999991)"
   ]
  },
  {
   "cell_type": "code",
   "execution_count": 2,
   "metadata": {
    "collapsed": false
   },
   "outputs": [],
   "source": [
    "#We importing the necessary package \n",
    "from nltk.tokenize import sent_tokenize, word_tokenize\n",
    "import glob\n",
    "from nltk.corpus import stopwords# We are importing the stopwords file package from nltk\n",
    "from operator import itemgetter # Importing the itemgetter\n",
    "import os"
   ]
  },
  {
   "cell_type": "code",
   "execution_count": 3,
   "metadata": {
    "collapsed": true
   },
   "outputs": [],
   "source": [
    "#We are defining the empty list and dictionary \n",
    "emailfromlist=[]\n",
    "emailtolist =[]\n",
    "emailfromdic={}\n",
    "emailtodic={}\n",
    "personsentmail=[]\n",
    "personreceivedmail=[]\n",
    "bodyofmail=[]\n",
    "weekend=[\"Sun\",\"Sat\"]"
   ]
  },
  {
   "cell_type": "code",
   "execution_count": 4,
   "metadata": {
    "collapsed": false
   },
   "outputs": [],
   "source": [
    "#We are defining the filepath \n",
    "filepath= os.getcwd()"
   ]
  },
  {
   "cell_type": "code",
   "execution_count": 5,
   "metadata": {
    "collapsed": true
   },
   "outputs": [],
   "source": [
    "# Defining  the stop words to clean the data \n",
    "stop=stopwords.words('english')\n"
   ]
  },
  {
   "cell_type": "code",
   "execution_count": 6,
   "metadata": {
    "collapsed": false
   },
   "outputs": [],
   "source": [
    "#we are defining  the main funtion whic will perform the operation \n",
    "def mainmet(ys,ye,ms,me):\n",
    "    for names in glob.glob(filepath): # using glob to scan the directory \n",
    "        with open('All_Content_file_sent_Email.csv','r') as csvfile: # opening the file \n",
    "            reader = csv.reader(csvfile) # reading the csv \n",
    "            month= list (range(ms,me)) # creating the list to find the range \n",
    "            years= list(range(ys,ye))# creating the list to find the range \n",
    "            \n",
    "            for row in reader: # looping all the row to check the condition\n",
    "                for m in month: \n",
    "                    m1 = str(m)# covering the value to string \n",
    "                    m2 = str (row[3])# covering the value to string \n",
    "                    if m1 == m2: \n",
    "                        for d in weekend:\n",
    "                            d1 = str(d)# covering the value to string \n",
    "                            d2 = str (row[6])# covering the value to string \n",
    "                            if d1 == d2:\n",
    "                                for y in years:\n",
    "                                    y1 = str(y)# covering the value to string \n",
    "                                    y2 = str (row[2])# covering the value to string \n",
    "                                    if y1 == y2:\n",
    "                                        personsentmail.append(row[0])# Appending the value to teh list \n",
    "                                        personreceivedmail.append(row[1])# Appending the value to teh list \n",
    "                                        bodyofmail.append((row[9]))# Appending the value to the list \n",
    "                                        \n"
   ]
  },
  {
   "cell_type": "code",
   "execution_count": 7,
   "metadata": {
    "collapsed": false
   },
   "outputs": [],
   "source": [
    "#we are calling the main funtion , the value can be changed dynamically \n",
    "mainmet(2001,2002,1,7)"
   ]
  },
  {
   "cell_type": "code",
   "execution_count": 8,
   "metadata": {
    "collapsed": false
   },
   "outputs": [],
   "source": [
    "# We are tokenizing the string to words \n",
    "justwords=[] \n",
    "for word in bodyofmail:\n",
    "    justwords.extend(word_tokenize(word))\n",
    "    "
   ]
  },
  {
   "cell_type": "code",
   "execution_count": 9,
   "metadata": {
    "collapsed": false
   },
   "outputs": [],
   "source": [
    "# We are cleing the data by checking if its alpha and not in stop words \n",
    "bodywordlist=[]\n",
    "for words in justwords:\n",
    "    words= words.lower()\n",
    "    if words not in stop:\n",
    "        if words.isalpha():\n",
    "            bodywordlist.append(words)\n",
    "                                             "
   ]
  },
  {
   "cell_type": "code",
   "execution_count": 10,
   "metadata": {
    "collapsed": false
   },
   "outputs": [],
   "source": [
    "# We are creating a dictionary for the wordlist \n",
    "bodywordlistdic={}\n",
    "for word in bodywordlist:\n",
    "    if word not in bodywordlistdic:\n",
    "        bodywordlistdic[word] = 1   # Adding to the dictionary if the words are not present \n",
    "    else:\n",
    "        bodywordlistdic[word] += 1  # incrementing the count if the are present in the  dictionary "
   ]
  },
  {
   "cell_type": "code",
   "execution_count": 11,
   "metadata": {
    "collapsed": true
   },
   "outputs": [],
   "source": [
    "bodywordlistss = sorted(bodywordlistdic.items(), key=itemgetter(1),reverse=True) \n",
    "# using the item getter to sort the dictionary based on the value in descending order "
   ]
  },
  {
   "cell_type": "code",
   "execution_count": 12,
   "metadata": {
    "collapsed": false
   },
   "outputs": [
    {
     "name": "stdout",
     "output_type": "stream",
     "text": [
      "For the given period the 10 most frequently words are \n",
      "  [('enron', 346), ('enronxgate', 188), ('message', 130), ('subject', 126), ('company', 126), ('sent', 111), ('epao', 104), ('get', 98), ('pmto', 95), ('please', 85)]\n"
     ]
    }
   ],
   "source": [
    "# Printing top 10 most frequent words and their frequency\n",
    "print(\"For the given period the 10 most frequently words are \\n \",bodywordlistss[:10] )"
   ]
  },
  {
   "cell_type": "code",
   "execution_count": 13,
   "metadata": {
    "collapsed": true
   },
   "outputs": [],
   "source": [
    "#wE ARE createing a csv file to write all the data\n",
    "with open (\"Analysis3_part1.csv\",'a+') as outputfile1:\n",
    "    outputfile1.write(\"For the given period the 10 most frequently words are\\n\\n\\n\")\n",
    "    outputfile1.write(\"Words\"+\",\"+\"No of Occurance\"+\"\\n\")\n",
    "\n",
    "for i in range (0,10):\n",
    "    with open (\"Analysis3_part1.csv\",'a+') as outputfile1:\n",
    "        outputfile1.write(str(bodywordlistss[i][0])+\",\"+str(bodywordlistss[i][1])+\"\\n\")\n"
   ]
  },
  {
   "cell_type": "markdown",
   "metadata": {},
   "source": [
    "# We are checking for the most no of people who receive email during weekend"
   ]
  },
  {
   "cell_type": "code",
   "execution_count": 14,
   "metadata": {
    "collapsed": true
   },
   "outputs": [],
   "source": [
    "# We are creating a dictionary for the wordlist \n",
    "\n",
    "personreceiveddic={}\n",
    "for word in personreceivedmail:\n",
    "    if word not in personreceiveddic:\n",
    "        personreceiveddic[word] = 1   # Adding to the dictionary if the words are not present \n",
    "    else:\n",
    "        personreceiveddic[word] += 1  # incrementing the count if the are present in the  dictionary "
   ]
  },
  {
   "cell_type": "code",
   "execution_count": 15,
   "metadata": {
    "collapsed": false
   },
   "outputs": [],
   "source": [
    "personreceived = sorted(personreceiveddic.items(), key=itemgetter(1),reverse=True) \n",
    "# using the item getter to sort the dictionary based on the value in descending order "
   ]
  },
  {
   "cell_type": "code",
   "execution_count": 16,
   "metadata": {
    "collapsed": false
   },
   "outputs": [
    {
     "name": "stdout",
     "output_type": "stream",
     "text": [
      "For the given period the top 10 most no of email received by  \n",
      "  [('epao@mba2002.hbs.edu', 18), ('ava.garcia@enron.com', 5), ('kimberly.hillis@enron.com', 4), ('twanda.sweet@enron.com', 4), ('john.arnold@enron.com', 3), ('shift.portland@enron.com', 3), ('mark.knippa@enron.com', 2), ('janette.elbertson@enron.com', 2), ('lynn.blair@enron.com', 2), ('terry.kowalke@enron.com', 2)]\n"
     ]
    }
   ],
   "source": [
    "# Printing top 10 most frequent words and their frequency\n",
    "print(\"For the given period the top 10 most no of email received by  \\n \",personreceived[:10] )"
   ]
  },
  {
   "cell_type": "code",
   "execution_count": 17,
   "metadata": {
    "collapsed": true
   },
   "outputs": [],
   "source": [
    "#wE ARE createing a csv file to write all the data\n",
    "with open (\"Analysis3_part2.csv\",'a+') as outputfile1:\n",
    "    outputfile1.write(\"For the given period the top 10 most no of email received by  are\\n\\n\\n\")\n",
    "    outputfile1.write(\"email_id\"+\",\"+\"No of Occurance\"+\"\\n\")\n",
    "\n",
    "for i in range (0,10):\n",
    "    with open (\"Analysis3_part2.csv\",'a+') as outputfile1:\n",
    "        outputfile1.write(str(personreceived[i][0])+\",\"+str(personreceived[i][1])+\"\\n\")\n"
   ]
  },
  {
   "cell_type": "markdown",
   "metadata": {},
   "source": [
    "# We are checking for the most no of people who worked during the weekend by tracking the sent mail  "
   ]
  },
  {
   "cell_type": "code",
   "execution_count": 18,
   "metadata": {
    "collapsed": true
   },
   "outputs": [],
   "source": [
    "personsentdic={}\n",
    "for word in personsentmail:\n",
    "    if word not in personsentdic:\n",
    "        personsentdic[word] = 1   # Adding to the dictionary if the words are not present \n",
    "    else:\n",
    "        personsentdic[word] += 1  # incrementing the count if the are present in the  dictionary "
   ]
  },
  {
   "cell_type": "code",
   "execution_count": 19,
   "metadata": {
    "collapsed": true
   },
   "outputs": [],
   "source": [
    "personsent = sorted(personsentdic.items(), key=itemgetter(1),reverse=True) \n",
    "# using the item getter to sort the dictionary based on the value in descending order "
   ]
  },
  {
   "cell_type": "code",
   "execution_count": 20,
   "metadata": {
    "collapsed": false
   },
   "outputs": [
    {
     "name": "stdout",
     "output_type": "stream",
     "text": [
      "For the given period the top 10 most no of email sent from \n",
      "  [('john.arnold@enron.com', 32), ('lynn.blair@enron.com', 28), ('b..sanders@enron.com', 26), ('lavorato@enron.com', 23), ('ryan.slinger@enron.com', 7), ('james.derrick@enron.com', 5), ('andy.zipper@enron.com', 4), ('elizabeth.sager@enron.com', 4), ('geir.solberg@enron.com', 4), ('michelle.cash@enron.com', 4)]\n"
     ]
    }
   ],
   "source": [
    "# Printing top 10 most frequent words and their frequency\n",
    "print(\"For the given period the top 10 most no of email sent from \\n \",personsent[:10] )"
   ]
  },
  {
   "cell_type": "code",
   "execution_count": 21,
   "metadata": {
    "collapsed": true
   },
   "outputs": [],
   "source": [
    "#wE ARE createing a csv file to write all the data\n",
    "with open (\"Analysis3_part3.csv\",'a+') as outputfile1:\n",
    "    outputfile1.write(\"For the given period the top 10 most no of email sent from are\\n\\n\\n\")\n",
    "    outputfile1.write(\"email_id\"+\",\"+\"No of Occurance\"+\"\\n\")\n",
    "\n",
    "for i in range (0,10):\n",
    "    with open (\"Analysis3_part3.csv\",'a+') as outputfile1:\n",
    "        outputfile1.write(str(personsent[i][0])+\",\"+str(personsent[i][1])+\"\\n\")\n"
   ]
  },
  {
   "cell_type": "markdown",
   "metadata": {
    "collapsed": true
   },
   "source": [
    "# Conclusion \n",
    " - We have found out the list of person who was working during the weekend and the received the email during the weekend\n",
    "    and what was all the topic is about for the given time period \n",
    " \n",
    " # Further Analysis \n",
    "\n",
    "    - Since we have the list of person who was working during the weekend and the received the email during the weekend\n",
    "        and what was all the topic is about we can start our investigation by analysing those email and person. \n",
    "    - We can dig deeper into those email and check what they were talking about  .\n",
    "\n",
    "\n",
    "\n",
    "\n"
   ]
  },
  {
   "cell_type": "code",
   "execution_count": null,
   "metadata": {
    "collapsed": true
   },
   "outputs": [],
   "source": []
  },
  {
   "cell_type": "code",
   "execution_count": null,
   "metadata": {
    "collapsed": true
   },
   "outputs": [],
   "source": []
  }
 ],
 "metadata": {
  "anaconda-cloud": {},
  "kernelspec": {
   "display_name": "Python [default]",
   "language": "python",
   "name": "python3"
  },
  "language_info": {
   "codemirror_mode": {
    "name": "ipython",
    "version": 3
   },
   "file_extension": ".py",
   "mimetype": "text/x-python",
   "name": "python",
   "nbconvert_exporter": "python",
   "pygments_lexer": "ipython3",
   "version": "3.5.2"
  }
 },
 "nbformat": 4,
 "nbformat_minor": 1
}
