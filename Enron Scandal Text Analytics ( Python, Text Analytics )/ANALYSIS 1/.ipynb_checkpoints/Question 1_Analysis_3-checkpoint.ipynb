{
 "cells": [
  {
   "cell_type": "code",
   "execution_count": 2,
   "metadata": {
    "collapsed": false
   },
   "outputs": [
    {
     "data": {
      "text/plain": [
       "399999991"
      ]
     },
     "execution_count": 2,
     "metadata": {},
     "output_type": "execute_result"
    }
   ],
   "source": []
  },
  {
   "cell_type": "code",
   "execution_count": null,
   "metadata": {
    "collapsed": true
   },
   "outputs": [],
   "source": [
    "import csv\n",
    "\n",
    "csv.field_size_limit(399999991)"
   ]
  },
  {
   "cell_type": "code",
   "execution_count": 3,
   "metadata": {
    "collapsed": false
   },
   "outputs": [],
   "source": [
    "import glob\n",
    "from nltk.corpus import stopwords# We are importing the stopwords file package from nltk\n",
    "emailfromlist=[]\n",
    "emailtolist =[]\n",
    "emailfromdic={}\n",
    "emailtodic={}\n",
    "from nltk.tokenize import sent_tokenize, word_tokenize\n",
    "from operator import itemgetter # Importing the itemgetter\n",
    "from nltk.corpus import stopwords# We are importing the stopwords file package from nltk\n"
   ]
  },
  {
   "cell_type": "code",
   "execution_count": 4,
   "metadata": {
    "collapsed": true
   },
   "outputs": [],
   "source": [
    "filepath =\"E:\\\\NEU_MIS\\\\Spring_2016\\\\PYTHON\\\\Assignment_GitHub\\\\sekar_venkateshbabu_2017\\\\Midterm\\\\question 1\""
   ]
  },
  {
   "cell_type": "code",
   "execution_count": null,
   "metadata": {
    "collapsed": true
   },
   "outputs": [],
   "source": []
  },
  {
   "cell_type": "code",
   "execution_count": 5,
   "metadata": {
    "collapsed": true
   },
   "outputs": [],
   "source": [
    "stop=stopwords.words('english')\n"
   ]
  },
  {
   "cell_type": "code",
   "execution_count": 6,
   "metadata": {
    "collapsed": false
   },
   "outputs": [],
   "source": [
    "personsentmail=[]\n",
    "personreceivedmail=[]\n",
    "bodyofmail=[]\n",
    "weekend=[\"Sun\",\"Sat\"]\n",
    "def mainmet(ys,ye,ms,me):\n",
    "    for names in glob.glob(filepath):\n",
    "        with open('All_Content_file_sent_Email.csv','r') as csvfile:\n",
    "            reader = csv.reader(csvfile)\n",
    "            month= list (range(ms,me))\n",
    "            years= list(range(ys,ye))\n",
    "            \n",
    "            for row in reader:\n",
    "                for m in month:\n",
    "                    m1 = str(m)\n",
    "                    m2 = str (row[3])\n",
    "                    if m1 == m2: \n",
    "                        for d in weekend:\n",
    "                            d1 = str(d)\n",
    "                            d2 = str (row[6])\n",
    "                            if d1 == d2:\n",
    "                                for y in years:\n",
    "                                    y1 = str(y)\n",
    "                                    y2 = str (row[2])\n",
    "                                    if y1 == y2:\n",
    "                                        personsentmail.append(row[0])\n",
    "                                        personreceivedmail.append(row[1])\n",
    "                                        bodyofmail.append((row[9]))\n",
    "                                        #for words in bodywords:\n",
    "                                        \n"
   ]
  },
  {
   "cell_type": "code",
   "execution_count": 7,
   "metadata": {
    "collapsed": true
   },
   "outputs": [],
   "source": [
    "                                        #bodywords=row[9]\n",
    "                                        #bodywords = bodywords.replace('\\n','')\n",
    "                                        #bodywords = bodywords.replace(\",\",\"\")\n",
    "#                                             if words not in stop:\n",
    "#                                                 if words.isalpha():\n",
    "#                                                     bodyofmail.extend(words)\n"
   ]
  },
  {
   "cell_type": "code",
   "execution_count": 8,
   "metadata": {
    "collapsed": false
   },
   "outputs": [],
   "source": [
    "mainmet(2001,2002,1,7)"
   ]
  },
  {
   "cell_type": "code",
   "execution_count": 9,
   "metadata": {
    "collapsed": false
   },
   "outputs": [],
   "source": [
    "justwords=[] \n",
    "for word in bodyofmail:\n",
    "    justwords.extend(word_tokenize(word))\n",
    "    "
   ]
  },
  {
   "cell_type": "code",
   "execution_count": 10,
   "metadata": {
    "collapsed": false
   },
   "outputs": [],
   "source": [
    "bodywordlist=[]\n",
    "for words in justwords:\n",
    "    words= words.lower()\n",
    "    if words not in stop:\n",
    "        if words.isalpha():\n",
    "            bodywordlist.append(words)\n",
    "                                             "
   ]
  },
  {
   "cell_type": "code",
   "execution_count": 11,
   "metadata": {
    "collapsed": false
   },
   "outputs": [],
   "source": [
    "bodywordlistdic={}\n",
    "for word in bodywordlist:\n",
    "    if word not in bodywordlistdic:\n",
    "        bodywordlistdic[word] = 1   # Adding to the dictionary if the words are not present \n",
    "    else:\n",
    "        bodywordlistdic[word] += 1  # incrementing the count if the are present in the  dictionary "
   ]
  },
  {
   "cell_type": "code",
   "execution_count": 12,
   "metadata": {
    "collapsed": true
   },
   "outputs": [],
   "source": [
    "bodywordlistss = sorted(bodywordlistdic.items(), key=itemgetter(1),reverse=True) \n",
    "# using the item getter to sort the dictionary based on the value in descending order "
   ]
  },
  {
   "cell_type": "code",
   "execution_count": 13,
   "metadata": {
    "collapsed": false
   },
   "outputs": [
    {
     "name": "stdout",
     "output_type": "stream",
     "text": [
      "For the given period the top 10 most no of email sent from \n",
      "  [('enron', 346), ('enronxgate', 188), ('message', 130), ('subject', 126), ('company', 126), ('sent', 111), ('epao', 104), ('get', 98), ('pmto', 95), ('please', 85)]\n"
     ]
    }
   ],
   "source": [
    "# Printing top 10 most frequent words and their frequency\n",
    "print(\"For the given period the top 10 most no of email sent from \\n \",bodywordlistss[:10] )"
   ]
  },
  {
   "cell_type": "code",
   "execution_count": 14,
   "metadata": {
    "collapsed": true
   },
   "outputs": [],
   "source": [
    "personreceiveddic={}\n",
    "for word in personreceivedmail:\n",
    "    if word not in personreceiveddic:\n",
    "        personreceiveddic[word] = 1   # Adding to the dictionary if the words are not present \n",
    "    else:\n",
    "        personreceiveddic[word] += 1  # incrementing the count if the are present in the  dictionary "
   ]
  },
  {
   "cell_type": "code",
   "execution_count": 15,
   "metadata": {
    "collapsed": false
   },
   "outputs": [],
   "source": [
    "personreceived = sorted(personreceiveddic.items(), key=itemgetter(1),reverse=True) \n",
    "# using the item getter to sort the dictionary based on the value in descending order "
   ]
  },
  {
   "cell_type": "code",
   "execution_count": 16,
   "metadata": {
    "collapsed": false
   },
   "outputs": [
    {
     "name": "stdout",
     "output_type": "stream",
     "text": [
      "For the given period the top 10 most no of email sent from \n",
      "  [('epao@mba2002.hbs.edu', 18), ('ava.garcia@enron.com', 5), ('twanda.sweet@enron.com', 4), ('kimberly.hillis@enron.com', 4), ('shift.portland@enron.com', 3), ('john.arnold@enron.com', 3), ('john.zufferli@enron.com', 2), ('r..guinn@enron.com', 2), ('terry.kowalke@enron.com', 2), ('mark.evans@enron.com', 2)]\n"
     ]
    }
   ],
   "source": [
    "# Printing top 10 most frequent words and their frequency\n",
    "print(\"For the given period the top 10 most no of email sent from \\n \",personreceived[:10] )"
   ]
  },
  {
   "cell_type": "code",
   "execution_count": 17,
   "metadata": {
    "collapsed": true
   },
   "outputs": [],
   "source": [
    "personsentdic={}\n",
    "for word in personsentmail:\n",
    "    if word not in personsentdic:\n",
    "        personsentdic[word] = 1   # Adding to the dictionary if the words are not present \n",
    "    else:\n",
    "        personsentdic[word] += 1  # incrementing the count if the are present in the  dictionary "
   ]
  },
  {
   "cell_type": "code",
   "execution_count": 18,
   "metadata": {
    "collapsed": true
   },
   "outputs": [],
   "source": [
    "personsent = sorted(personsentdic.items(), key=itemgetter(1),reverse=True) \n",
    "# using the item getter to sort the dictionary based on the value in descending order "
   ]
  },
  {
   "cell_type": "code",
   "execution_count": 19,
   "metadata": {
    "collapsed": false
   },
   "outputs": [
    {
     "name": "stdout",
     "output_type": "stream",
     "text": [
      "For the given period the top 10 most no of email sent from \n",
      "  [('john.arnold@enron.com', 32), ('lynn.blair@enron.com', 28), ('b..sanders@enron.com', 26), ('lavorato@enron.com', 23), ('ryan.slinger@enron.com', 7), ('james.derrick@enron.com', 5), ('elizabeth.sager@enron.com', 4), ('michelle.cash@enron.com', 4), ('geir.solberg@enron.com', 4), ('andy.zipper@enron.com', 4)]\n"
     ]
    }
   ],
   "source": [
    "# Printing top 10 most frequent words and their frequency\n",
    "print(\"For the given period the top 10 most no of email sent from \\n \",personsent[:10] )"
   ]
  },
  {
   "cell_type": "code",
   "execution_count": null,
   "metadata": {
    "collapsed": true
   },
   "outputs": [],
   "source": []
  },
  {
   "cell_type": "code",
   "execution_count": null,
   "metadata": {
    "collapsed": true
   },
   "outputs": [],
   "source": []
  },
  {
   "cell_type": "code",
   "execution_count": null,
   "metadata": {
    "collapsed": true
   },
   "outputs": [],
   "source": []
  },
  {
   "cell_type": "code",
   "execution_count": null,
   "metadata": {
    "collapsed": true
   },
   "outputs": [],
   "source": []
  }
 ],
 "metadata": {
  "anaconda-cloud": {},
  "kernelspec": {
   "display_name": "Python [default]",
   "language": "python",
   "name": "python3"
  },
  "language_info": {
   "codemirror_mode": {
    "name": "ipython",
    "version": 3
   },
   "file_extension": ".py",
   "mimetype": "text/x-python",
   "name": "python",
   "nbconvert_exporter": "python",
   "pygments_lexer": "ipython3",
   "version": "3.5.2"
  }
 },
 "nbformat": 4,
 "nbformat_minor": 1
}
