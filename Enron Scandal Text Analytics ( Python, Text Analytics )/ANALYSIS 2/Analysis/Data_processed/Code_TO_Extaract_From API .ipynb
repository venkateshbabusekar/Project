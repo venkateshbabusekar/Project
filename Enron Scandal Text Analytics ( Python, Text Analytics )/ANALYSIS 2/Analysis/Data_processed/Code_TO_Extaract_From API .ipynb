{
 "cells": [
  {
   "cell_type": "markdown",
   "metadata": {
    "collapsed": false,
    "scrolled": true
   },
   "source": [
    "# Code to fetch the data form API \n",
    "- we are hitting the server and getting the data from the server dynamically \n",
    "- Below is the code for fetchinh the data "
   ]
  },
  {
   "cell_type": "code",
   "execution_count": null,
   "metadata": {
    "collapsed": true
   },
   "outputs": [],
   "source": [
    "#Import all the package\n",
    "from urllib.error import HTTPError\n",
    "import configparser\n",
    "from configparser import SafeConfigParser\n",
    "import urllib.request\n",
    "import time\n",
    "import sys, os\n",
    "import logging\n",
    "import json\n",
    "import datetime\n",
    "import glob\n",
    "import urllib.error\n"
   ]
  },
  {
   "cell_type": "code",
   "execution_count": 16,
   "metadata": {
    "collapsed": true
   },
   "outputs": [],
   "source": [
    "#Defining the function for the finfing the date \n",
    "def daterange( sdate, edate ):\n",
    "    if sdate <= edate: # checking the date which is greater \n",
    "        for n in range( ( edate - sdate ).days + 1 ):\n",
    "            yield sdate + datetime.timedelta( n ) # finding the value for date \n",
    "    else:\n",
    "        for n in range( ( sdate - edate ).days + 1 ): \n",
    "            yield sdate - datetime.timedelta( n ) # finding the value for date "
   ]
  },
  {
   "cell_type": "code",
   "execution_count": 17,
   "metadata": {
    "collapsed": true
   },
   "outputs": [],
   "source": [
    "def fileconverter(input): # We are converting the file here \n",
    "    if isinstance(input, dict):\n",
    "        return {convert(keys): convert(values) for keys, values in input.items()}\n",
    "    elif isinstance(input, list):\n",
    "        return [convert(elements) for elements in input]\n",
    "    else:\n",
    "        return input"
   ]
  },
  {
   "cell_type": "code",
   "execution_count": 18,
   "metadata": {
    "collapsed": false
   },
   "outputs": [],
   "source": [
    "# get the articles from the NYTimes Article API    \n",
    "def getingArticles(date, query, api_key, json_file_path):\n",
    "    for page in range(2): # we are giving the range of the page \n",
    "        for n in range(2): # we are giving the range  \n",
    "                request_string = \"http://api.nytimes.com/svc/search/v2/articlesearch.json?q=\"+query+\"&begin_date=\" + date + \"&end_date=\" + date + \"&page=\" + str(page) + \"&api-key=\" + api_key\n",
    "                response = urllib.request.urlopen(request_string)\n",
    "                content = response.read().decode('utf-8') # we are decoding the record and storing it in content \n",
    "                if content:\n",
    "                    articles = fileconverter(json.loads(content))\n",
    "                    if len(articles[\"response\"][\"docs\"]) >= 1: #we are checking the respose of the file \n",
    "                        docs = articles[\"response\"][\"docs\"]\n",
    "                        file_name = \".\".join([date,str(page),'json']) # we are loading the file path \n",
    "                        file_name = \"\".join([json_file_path,'\\\\', file_name])\n",
    "                        json_file = open(file_name, 'w')\n",
    "                        json_file.write(content)\n",
    "                        json_file.close()\n",
    "                    else:\n",
    "                        return\n",
    "                time.sleep(3) "
   ]
  },
  {
   "cell_type": "code",
   "execution_count": null,
   "metadata": {
    "collapsed": false
   },
   "outputs": [],
   "source": [
    "# This is the main function in which u will get the data, it will call the rest of the function \n",
    "def main():\n",
    "    sy=\"2001\"\n",
    "    sm=\"11\"\n",
    "    sd=\"7\"\n",
    "    ey=\"2001\"\n",
    "    em=\"11\"\n",
    "    ed=\"7\"\n",
    "    \n",
    "    config = SafeConfigParser()\n",
    "    script_dir = os.getcwd()\n",
    "    config_file = os.path.join(script_dir, 'config\\config.cfg')# Joining the path to find a new value for the path \n",
    "    config.read(config_file) # we are reading the config file \n",
    "    json_file_path = config.get('files','json_folder') # getting the path of jason folder \n",
    "    api_key = config.get('nytimes','api_key')     # getting the key from the congig file \n",
    "    start = datetime.date( year = int(sy) , month = int(sm), day = int(sd )) # value input to the system\n",
    "    end = datetime.date( year = int(sy) , month = int(sm), day = int(sd ) ) # value input to the system\n",
    "    query = config.get('nytimes','query')\n",
    "    for date in daterange( start, end ):\n",
    "            date = date.strftime(\"%Y%m%d\")\n",
    "            getingArticles(date, query, api_key, json_file_path) # calling another function\n",
    "if __name__ == '__main__' :\n",
    "    main()"
   ]
  },
  {
   "cell_type": "code",
   "execution_count": null,
   "metadata": {
    "collapsed": true
   },
   "outputs": [],
   "source": []
  },
  {
   "cell_type": "code",
   "execution_count": null,
   "metadata": {
    "collapsed": true
   },
   "outputs": [],
   "source": []
  }
 ],
 "metadata": {
  "anaconda-cloud": {},
  "kernelspec": {
   "display_name": "Python [conda root]",
   "language": "python",
   "name": "conda-root-py"
  },
  "language_info": {
   "codemirror_mode": {
    "name": "ipython",
    "version": 3
   },
   "file_extension": ".py",
   "mimetype": "text/x-python",
   "name": "python",
   "nbconvert_exporter": "python",
   "pygments_lexer": "ipython3",
   "version": "3.5.2"
  }
 },
 "nbformat": 4,
 "nbformat_minor": 1
}
