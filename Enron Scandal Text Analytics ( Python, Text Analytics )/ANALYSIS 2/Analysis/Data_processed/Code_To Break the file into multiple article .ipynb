{
 "cells": [
  {
   "cell_type": "markdown",
   "metadata": {
    "collapsed": true
   },
   "source": [
    "# We are trying to break down the single json file into multiple small file to the process the data effectively "
   ]
  },
  {
   "cell_type": "code",
   "execution_count": 1,
   "metadata": {
    "collapsed": true
   },
   "outputs": [],
   "source": [
    "#We importing the necessary package \n",
    "import json\n",
    "import glob\n",
    "import os"
   ]
  },
  {
   "cell_type": "code",
   "execution_count": 2,
   "metadata": {
    "collapsed": false
   },
   "outputs": [],
   "source": [
    "filepath =\"E:\\\\NEU_MIS\\\\Spring_2016\\\\PYTHON\\\\Assignment_GitHub\\\\sekar_venkateshbabu_2017\\\\Midterm\\\\question2\\\\babu\\\\question 2\\\\war\\\\1940\""
   ]
  },
  {
   "cell_type": "code",
   "execution_count": 3,
   "metadata": {
    "collapsed": false
   },
   "outputs": [],
   "source": [
    "count = 1           \n",
    "for file in glob.glob(os.path.join( filepath,'*.json')):# using glob to scan the directory \n",
    "        with open(file) as json_file:# we are reading the file \n",
    "            json_data = json.load(json_file) # reading the json data\n",
    "            location = json_data[\"response\"] # finding the location key \n",
    "            docs = location[\"docs\"]# finding the docs key \n",
    "            for eachdoc in docs: \n",
    "                    name =\"Article_\" # giving the name  \n",
    "                    filetype=\".json\" # file type\n",
    "                    filename = name+str(count)+filetype # we are naming the articel \n",
    "                    with open(filename,\"w\") as json_file:\n",
    "                            json_file.write(json.dumps(eachdoc))# and saving the article\n",
    "                            json_file.close()\n",
    "                            count = count+1\n",
    "                    "
   ]
  },
  {
   "cell_type": "markdown",
   "metadata": {
    "collapsed": true
   },
   "source": [
    "# Conclusion \n",
    "- we have splitted the file "
   ]
  },
  {
   "cell_type": "code",
   "execution_count": null,
   "metadata": {
    "collapsed": true
   },
   "outputs": [],
   "source": []
  }
 ],
 "metadata": {
  "anaconda-cloud": {},
  "kernelspec": {
   "display_name": "Python [default]",
   "language": "python",
   "name": "python3"
  },
  "language_info": {
   "codemirror_mode": {
    "name": "ipython",
    "version": 3
   },
   "file_extension": ".py",
   "mimetype": "text/x-python",
   "name": "python",
   "nbconvert_exporter": "python",
   "pygments_lexer": "ipython3",
   "version": "3.5.2"
  }
 },
 "nbformat": 4,
 "nbformat_minor": 1
}
