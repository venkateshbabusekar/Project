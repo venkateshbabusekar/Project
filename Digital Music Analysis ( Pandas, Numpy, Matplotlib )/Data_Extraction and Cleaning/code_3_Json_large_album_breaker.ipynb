{
 "cells": [
  {
   "cell_type": "code",
   "execution_count": 11,
   "metadata": {
    "collapsed": true
   },
   "outputs": [],
   "source": [
    "# We are importing all the necessary package \n",
    "import glob\n",
    "import re\n",
    "from shutil import copy\n",
    "import json\n",
    "import os\n",
    "import xlsxwriter\n",
    "import datetime as dt\n"
   ]
  },
  {
   "cell_type": "code",
   "execution_count": 12,
   "metadata": {
    "collapsed": true
   },
   "outputs": [],
   "source": [
    "# we are find the root of the directory on which the python is running \n",
    "Root_path=os.getcwd()\n",
    "Creating_path1=\"Data\"\n",
    "path_for_Data = os.path.join(Root_path,Creating_path1) # we are joining the old with new value to form a new path \n",
    "Data_Need_tobe_Processed = 'Spotify_Album_Large_json'\n",
    "Data_path=os.path.join(path_for_Data,Data_Need_tobe_Processed)\n"
   ]
  },
  {
   "cell_type": "code",
   "execution_count": 13,
   "metadata": {
    "collapsed": true
   },
   "outputs": [],
   "source": [
    "# we are specifing the file type on which we are going to work on\n",
    "filetype = \"*.json\"\n"
   ]
  },
  {
   "cell_type": "code",
   "execution_count": null,
   "metadata": {
    "collapsed": false,
    "scrolled": true
   },
   "outputs": [],
   "source": []
  },
  {
   "cell_type": "code",
   "execution_count": 22,
   "metadata": {
    "collapsed": false
   },
   "outputs": [],
   "source": [
    "# we are creating  the directory \n",
    "Todaydate=dt.datetime.today().strftime(\"%Y_%m_%d\")\n",
    "Creating_path2=\"Spotify_Individual_Album_json\"\n",
    "path_for_Data1 = os.path.join(path_for_Data,Creating_path2) # we are joining the old with new value to form a new path \n",
    "if not os.path.exists(path_for_Data1):\n",
    "    os.mkdir(path_for_Data1) \n",
    "\n",
    "path_inside_for_Data = \"Album_Name_Match\"\n",
    "path_inside_for_Data1 = os.path.join(path_for_Data1,path_inside_for_Data) # we are joining the old with new value to form a new path \n",
    "if not os.path.exists(path_inside_for_Data1):\n",
    "    os.mkdir(path_inside_for_Data1) \n",
    "    \n",
    "\n",
    "path_notinside_for_Data = \"Album_Name_Not_Match\"\n",
    "path_notinside_for_Data1 = os.path.join(path_for_Data1,path_notinside_for_Data) # we are joining the old with new value to form a new path \n",
    "if not os.path.exists(path_notinside_for_Data1):\n",
    "    os.mkdir(path_notinside_for_Data1) \n",
    "\n"
   ]
  },
  {
   "cell_type": "code",
   "execution_count": 23,
   "metadata": {
    "collapsed": false
   },
   "outputs": [],
   "source": [
    "# we are looping thru all the file and reading the data \n",
    "\n",
    "for file in glob.glob(os.path.join(Data_path,filetype)):# using glob to scan the directory \n",
    "        with open(file) as json_file:# we are reading the file \n",
    "            with open (\"Filename_thats_.csv\",'a+') as outputfile1:\n",
    "                            outputfile1.write(str(file)+\"\\n\")\n",
    "\n",
    "            json_data = json.load(json_file) # reading the json data\n",
    "            albums = json_data[\"albums\"] # finding the location key \n",
    "            items = albums[\"items\"]# finding the docs key \n",
    "            for eachdoc in items: \n",
    "                Extracted_name = file.split(Data_path,1)[1]\n",
    "                Extracted_name = Extracted_name[1:-5]\n",
    "                name_inside = eachdoc[\"name\"]\n",
    "                name_inside= name_inside.lower()\n",
    "                if name_inside == Extracted_name:\n",
    "                    filename= eachdoc[\"name\"] \n",
    "                    filename = re.sub('\\W+',' ', filename )\n",
    "                    filename=filename[:50]\n",
    "                    ID= eachdoc[\"id\"]\n",
    "                    ID = re.sub('\\W+',' ', ID )\n",
    "                    Finalname = \"ID_\"+ID+\"__\"+filename+\".json\"\n",
    "                    Finalname_path = os.path.join(path_inside_for_Data1,Finalname) # we are joining the old with new value to form a new path \n",
    "                    with open(Finalname_path,\"w\") as files:\n",
    "                            files.write(json.dumps(eachdoc))# and saving the article\n",
    "                            files.close()\n",
    "                if name_inside != Extracted_name:\n",
    "                    N_filename= eachdoc[\"name\"] \n",
    "                    N_filename = re.sub('\\W+',' ', N_filename )\n",
    "                    N_filename=N_filename[:50]\n",
    "                    N_ID= eachdoc[\"id\"]\n",
    "                    N_ID = re.sub('\\W+',' ', N_ID )\n",
    "                    N_Finalname = \"ID_\"+N_ID+\"__\"+N_filename+\".json\"\n",
    "                    N_Finalname_path = os.path.join(path_notinside_for_Data1,N_Finalname) # we are joining the old with new value to form a new path \n",
    "                    with open(N_Finalname_path,\"w\") as files:\n",
    "                            files.write(json.dumps(eachdoc))# and saving the article\n",
    "                            files.close()\n",
    "            \n"
   ]
  },
  {
   "cell_type": "code",
   "execution_count": null,
   "metadata": {
    "collapsed": true
   },
   "outputs": [],
   "source": []
  },
  {
   "cell_type": "code",
   "execution_count": null,
   "metadata": {
    "collapsed": true
   },
   "outputs": [],
   "source": []
  },
  {
   "cell_type": "code",
   "execution_count": null,
   "metadata": {
    "collapsed": true
   },
   "outputs": [],
   "source": []
  },
  {
   "cell_type": "code",
   "execution_count": null,
   "metadata": {
    "collapsed": true
   },
   "outputs": [],
   "source": []
  }
 ],
 "metadata": {
  "anaconda-cloud": {},
  "kernelspec": {
   "display_name": "Python [conda root]",
   "language": "python",
   "name": "conda-root-py"
  },
  "language_info": {
   "codemirror_mode": {
    "name": "ipython",
    "version": 3
   },
   "file_extension": ".py",
   "mimetype": "text/x-python",
   "name": "python",
   "nbconvert_exporter": "python",
   "pygments_lexer": "ipython3",
   "version": "3.5.2"
  }
 },
 "nbformat": 4,
 "nbformat_minor": 1
}
