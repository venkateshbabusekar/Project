{
 "cells": [
  {
   "cell_type": "code",
   "execution_count": 1,
   "metadata": {
    "collapsed": true
   },
   "outputs": [],
   "source": [
    "# We are importing all the necessary package \n",
    "import os\n",
    "import glob\n",
    "import json\n"
   ]
  },
  {
   "cell_type": "code",
   "execution_count": 2,
   "metadata": {
    "collapsed": false
   },
   "outputs": [],
   "source": [
    "\n",
    "#path_for_Data\n",
    "Root_path=os.getcwd()\n",
    "Creating_path1=\"Data\\Spotify_Complete_Album_Details_Found_json\"\n",
    "path_for_Data = os.path.join(Root_path,Creating_path1) # we are joining the old with new value to form a new path \n"
   ]
  },
  {
   "cell_type": "code",
   "execution_count": 3,
   "metadata": {
    "collapsed": false
   },
   "outputs": [],
   "source": [
    "# we are specifing the file type on which we are going to work on\n",
    "filetype = \"*.json\"\n",
    "             "
   ]
  },
  {
   "cell_type": "code",
   "execution_count": 8,
   "metadata": {
    "collapsed": false
   },
   "outputs": [],
   "source": [
    "# we are find the root of the directory on which the python is running \n",
    "Path_for_csv = \"Data\\Spotify_CSV\"\n",
    "path_for_CSV_Data = os.path.join(Root_path,Path_for_csv) # we are joining the old with new value to form a new path \n",
    "        \n",
    "CSV_FILE_NAME_TO_APPEND= \"Spotify_Album_complete_details.csv\" \n",
    "CSV_FILE_NAME = os.path.join(path_for_CSV_Data,CSV_FILE_NAME_TO_APPEND) # we are joining the old with new value to form a new path \n",
    "    \n",
    "with open (CSV_FILE_NAME,'a+') as outputfile1:\n",
    "    outputfile1.write(\"Album_ids,Album_name,Album_type,Total_no_Track,Album_label,Album_popularity,Album_release_date,Types,Album_href,Available_markets,Album_images,Artist1_name,Artist1_id,Artist2_name,Artist2_id,Title_lower\\n\")\n",
    "\n",
    "CSV_FILE_ARTIST_ID= \"Spotify_Just_Artist_ID.csv\" \n",
    "CSV_FILE_Only_ARTIST_ID = os.path.join(path_for_CSV_Data,CSV_FILE_ARTIST_ID) # we are joining the old with new value to form a new path \n",
    "    \n",
    "with open (CSV_FILE_Only_ARTIST_ID,'a+') as outputfile1:\n",
    "    outputfile1.write(\"ARTIST_Ids,\\n\")\n",
    " "
   ]
  },
  {
   "cell_type": "code",
   "execution_count": null,
   "metadata": {
    "collapsed": false
   },
   "outputs": [],
   "source": [
    "#We ae looping thru all the file TO EXTRACT THE DATA \n",
    "\n",
    "for file in glob.glob(os.path.join(path_for_Data,filetype)):# using glob to scan the directory \n",
    "        with open(file) as json_file:# we are reading the file \n",
    "            json_data = json.load(json_file) # reading the json data\n",
    "  \n",
    "            album_ids = json_data[\"id\"]\n",
    "            album_name= json_data[\"name\"]\n",
    "            album_names = str(album_name).replace('[','').replace(']','').replace(\"'\",'').replace(\",\",'')\n",
    "            album_lowers = str(album_name).lower()\n",
    "            album_type =json_data[\"album_type\"]\n",
    "            album_label =json_data[\"label\"]\n",
    "            album_labels= str(album_label).replace('[','').replace(']','').replace(\"'\",'').replace(\",\",'')\n",
    "            album_popularity =json_data[\"popularity\"]\n",
    "            album_release_date =json_data[\"release_date\"]\n",
    "            album_href=json_data[\"href\"]\n",
    "            types =json_data[\"type\"]\n",
    "            \n",
    "            album_track =json_data[\"tracks\"]\n",
    "            total_no_Track=album_track[\"total\"]\n",
    "            \n",
    "            available_markets = json_data[\"available_markets\"]\n",
    "            available_markets = str(available_markets)\n",
    "            available_markets = available_markets.replace('[','').replace(']','').replace(\"'\",'') .replace(\",\",\" - \") # we are cleaning the data by replacong it with empty string  \n",
    "            Album_images= json_data[\"images\"]\n",
    "            album_images = \"Null\"    \n",
    "            if len(Album_images)>=1:\n",
    "                album_images =Album_images[0]\n",
    "                album_images = album_images[\"url\"]\n",
    "\n",
    "            artist_data = json_data[\"artists\"]\n",
    "            if len(artist_data)==1:\n",
    "                Artist1_names = \"Null\"\n",
    "                Artist1_id=0\n",
    "                Artist1_href=\"Null\"\n",
    "                Artist2_names = \"Null\"\n",
    "                Artist2_id=0\n",
    "                Artist2_href=\"Null\"\n",
    "/\n",
    "                Artist_1= artist_data[0]\n",
    "                Artist1_name = Artist_1[\"name\"]\n",
    "                Artist1_names =str(Artist1_name).replace('[','').replace(']','').replace(\",\",'').replace(\"'\",'')\n",
    "                Artist1_id= Artist_1[\"id\"]\n",
    "                Artist1_href=Artist_1[\"href\"]\n",
    "\n",
    "            if len(artist_data)>1:\n",
    "                Artist1_names = \"Null\"\n",
    "                Artist1_id=0\n",
    "                Artist1_href=\"Null\"\n",
    "                Artist2_names = \"Null\"\n",
    "                Artist2_id=0\n",
    "                Artist2_href=\"Null\"\n",
    "\n",
    "                Artist_1= artist_data[0]\n",
    "                Artist1_name= Artist_1[\"name\"]\n",
    "                Artist1_names =str(Artist1_name).replace('[','').replace(']','').replace(\",\",'').replace(\"'\",'')\n",
    "                Artist1_id = Artist_1[\"id\"]\n",
    "                Artist1_href = Artist_1[\"href\"]\n",
    "                Artist_2= artist_data[1]\n",
    "                Artist2_name = Artist_2[\"name\"]\n",
    "                Artist2_names =str(Artist2_name).replace('[','').replace(']','').replace(\",\",'').replace(\"'\",'')\n",
    "                Artist2_id = Artist_2[\"id\"]\n",
    "                Artist2_href =Artist_2[\"href\"]\n",
    "            \n",
    "\n",
    "            for i in range(0,len(artist_data)):\n",
    "                Artist_t= artist_data[i]\n",
    "                Artist1_ids = Artist_t[\"id\"]\n",
    "                with open (CSV_FILE_Only_ARTIST_ID,'a+') as outputfile1:\n",
    "                    outputfile1.write(str(Artist1_ids)+\"\\n\")\n",
    "\n",
    "            with open (CSV_FILE_NAME,'a+') as outputfile1:\n",
    "                    outputfile1.write(str(album_ids)+','+str(album_names)+','+str(album_type)+','+str(total_no_Track)+','+str(album_labels)+','+str(album_popularity)+','+str(album_release_date)+','+str(types)+','+str(album_href)+','+str(available_markets)+','+str(album_images)+','+str(Artist1_names)+','+str(Artist1_id)+','+str(Artist2_names)+','+str(Artist2_id)+','+str(album_lowers)+\"\\n\")\n",
    "\n"
   ]
  },
  {
   "cell_type": "code",
   "execution_count": null,
   "metadata": {
    "collapsed": true
   },
   "outputs": [],
   "source": []
  },
  {
   "cell_type": "code",
   "execution_count": null,
   "metadata": {
    "collapsed": true
   },
   "outputs": [],
   "source": []
  },
  {
   "cell_type": "code",
   "execution_count": null,
   "metadata": {
    "collapsed": true
   },
   "outputs": [],
   "source": []
  },
  {
   "cell_type": "code",
   "execution_count": null,
   "metadata": {
    "collapsed": true
   },
   "outputs": [],
   "source": []
  }
 ],
 "metadata": {
  "anaconda-cloud": {},
  "kernelspec": {
   "display_name": "Python [conda root]",
   "language": "python",
   "name": "conda-root-py"
  },
  "language_info": {
   "codemirror_mode": {
    "name": "ipython",
    "version": 3
   },
   "file_extension": ".py",
   "mimetype": "text/x-python",
   "name": "python",
   "nbconvert_exporter": "python",
   "pygments_lexer": "ipython3",
   "version": "3.5.2"
  }
 },
 "nbformat": 4,
 "nbformat_minor": 1
}
