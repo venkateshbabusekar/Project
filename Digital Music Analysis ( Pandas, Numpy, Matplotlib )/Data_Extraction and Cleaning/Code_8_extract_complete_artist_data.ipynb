{
 "cells": [
  {
   "cell_type": "code",
   "execution_count": 6,
   "metadata": {
    "collapsed": true
   },
   "outputs": [],
   "source": [
    "#Import all the package\n",
    "\n",
    "import os\n",
    "import glob\n",
    "import json\n"
   ]
  },
  {
   "cell_type": "code",
   "execution_count": 7,
   "metadata": {
    "collapsed": false
   },
   "outputs": [],
   "source": [
    "#path_for_Data\n",
    "Root_path=os.getcwd()\n",
    "Creating_path1=\"Data\\Spotify_Complete_Artist_Details_Found\"\n",
    "path_for_Data = os.path.join(Root_path,Creating_path1) # we are joining the old with new value to form a new path \n",
    "\n",
    "#path_for_Data"
   ]
  },
  {
   "cell_type": "code",
   "execution_count": 8,
   "metadata": {
    "collapsed": false
   },
   "outputs": [],
   "source": [
    "# we are specifing the file type on which we are going to work on\n",
    "filetype = \"*.json\"\n",
    "             "
   ]
  },
  {
   "cell_type": "code",
   "execution_count": 9,
   "metadata": {
    "collapsed": false
   },
   "outputs": [],
   "source": [
    "# we are creating  the directory \n",
    "\n",
    "Path_for_csv = \"Data\\Spotify_CSV\"\n",
    "path_for_CSV_Data = os.path.join(Root_path,Path_for_csv) # we are joining the old with new value to form a new path \n",
    "        \n",
    "CSV_FILE_NAME_TO_APPEND= \"Spotify_Artist_CompleteS_details.csv\" \n",
    "CSV_FILE_NAME = os.path.join(path_for_CSV_Data,CSV_FILE_NAME_TO_APPEND) # we are joining the old with new value to form a new path \n",
    "    \n",
    "with open (CSV_FILE_NAME,'a+') as outputfile1:\n",
    "    outputfile1.write(\"Artist_ids,Artist_name,Artist_popularity,Artist_href,Artist_followers,Artist_genres,Artist_images,Types\\n\")\n",
    "\n"
   ]
  },
  {
   "cell_type": "code",
   "execution_count": 10,
   "metadata": {
    "collapsed": false
   },
   "outputs": [],
   "source": [
    "#We ae looping thru all the file TO EXTRACT THE DATA \n",
    "\n",
    "for file in glob.glob(os.path.join(path_for_Data,filetype)):# using glob to scan the directory \n",
    "        with open(file) as json_file:# we are reading the file \n",
    "            json_data = json.load(json_file) # reading the json data\n",
    "            Artist_ids = json_data[\"id\"]\n",
    "            Artist_name= json_data[\"name\"]\n",
    "            Artist_name= Artist_name.replace(\",\",'')\n",
    "            Artist_popularity =json_data[\"popularity\"]\n",
    "            Artist_href=json_data[\"href\"]\n",
    "            types =json_data[\"type\"]\n",
    "            \n",
    "            Artist_followersss =json_data[\"followers\"]\n",
    "            Artist_followers=Artist_followersss[\"total\"]\n",
    "            \n",
    "            Artist_genress = json_data[\"genres\"]\n",
    "            Artist_genres = str(Artist_genress)\n",
    "            Artist_genres = Artist_genres.replace('[','').replace(']','').replace(\"'\",'').replace(\",\",\" - \") # we are cleaning the data by replacong it with empty string  \n",
    "            \n",
    "            Artist_imagess= json_data[\"images\"]\n",
    "            album_images = \"Null\"    \n",
    "            if len(Artist_imagess)>=1:\n",
    "            \n",
    "                Artist_images =Artist_imagess[0]\n",
    "                Artist_images = Artist_images[\"url\"]\n",
    "\n",
    "            \n",
    "            with open (CSV_FILE_NAME,'a+') as outputfile1:\n",
    "                    outputfile1.write(str(Artist_ids)+','+str(Artist_name)+','+str(Artist_popularity)+','+str(Artist_href)+','+str(Artist_followers)+','+str(Artist_genres)+','+str(Artist_images)+','+str(types)+\"\\n\")\n",
    "\n"
   ]
  },
  {
   "cell_type": "code",
   "execution_count": null,
   "metadata": {
    "collapsed": true
   },
   "outputs": [],
   "source": []
  },
  {
   "cell_type": "code",
   "execution_count": null,
   "metadata": {
    "collapsed": true
   },
   "outputs": [],
   "source": []
  },
  {
   "cell_type": "code",
   "execution_count": null,
   "metadata": {
    "collapsed": true
   },
   "outputs": [],
   "source": []
  },
  {
   "cell_type": "code",
   "execution_count": null,
   "metadata": {
    "collapsed": true
   },
   "outputs": [],
   "source": []
  }
 ],
 "metadata": {
  "anaconda-cloud": {},
  "kernelspec": {
   "display_name": "Python [conda root]",
   "language": "python",
   "name": "conda-root-py"
  },
  "language_info": {
   "codemirror_mode": {
    "name": "ipython",
    "version": 3
   },
   "file_extension": ".py",
   "mimetype": "text/x-python",
   "name": "python",
   "nbconvert_exporter": "python",
   "pygments_lexer": "ipython3",
   "version": "3.5.2"
  }
 },
 "nbformat": 4,
 "nbformat_minor": 1
}
