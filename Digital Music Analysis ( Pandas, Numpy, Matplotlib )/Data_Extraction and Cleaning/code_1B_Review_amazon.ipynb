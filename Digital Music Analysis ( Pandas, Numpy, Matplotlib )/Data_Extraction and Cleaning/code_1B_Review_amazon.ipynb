{
 "cells": [
  {
   "cell_type": "code",
   "execution_count": 1,
   "metadata": {
    "collapsed": true
   },
   "outputs": [],
   "source": []
  },
  {
   "cell_type": "code",
   "execution_count": 3,
   "metadata": {
    "collapsed": false
   },
   "outputs": [
    {
     "data": {
      "text/plain": [
       "399999991"
      ]
     },
     "execution_count": 3,
     "metadata": {},
     "output_type": "execute_result"
    }
   ],
   "source": [
    "# importing the csv \n",
    "import csv\n",
    "import os\n",
    "\n",
    "csv.field_size_limit(399999991)"
   ]
  },
  {
   "cell_type": "code",
   "execution_count": 4,
   "metadata": {
    "collapsed": false
   },
   "outputs": [],
   "source": [
    "# loading the data set \n",
    "lo=[]\n",
    "import pandas as pd \n",
    "import gzip \n",
    "def parse(path): \n",
    "    g = gzip.open(path, 'rb') \n",
    "    for l in g: \n",
    "        yield eval(l)\n",
    "\n",
    "def getDF(path): \n",
    "    i = 0 \n",
    "    df = {} \n",
    "    for d in parse(path): \n",
    "        df[i] = d \n",
    "        i += 1 \n",
    "        lo.append(df)\n",
    "        #print(type(df))\n",
    "        #print(pd.DataFrame.from_dict(df, orient='index'))\n",
    "\n",
    "\n",
    "df = getDF('reviews_Digital_Music.json.gz')"
   ]
  },
  {
   "cell_type": "code",
   "execution_count": null,
   "metadata": {
    "collapsed": true
   },
   "outputs": [],
   "source": []
  },
  {
   "cell_type": "code",
   "execution_count": 21,
   "metadata": {
    "collapsed": true
   },
   "outputs": [],
   "source": [
    "# looping thru the data set to exract the value \n",
    "ASIN=[]\n",
    "Helpful=[]\n",
    "OVERALL=[]\n",
    "ReviewText=[]\n",
    "ReviewTime=[]\n",
    "ReviewerID=[]\n",
    "ReviewerName=[]\n",
    "Summary=[]\n",
    "UnixReviewTime=[]\n",
    "for i in range(0,len(lo[0])):\n",
    "    d =lo[0][i]\n",
    "    asin= d.get(\"asin\",\"NULL\")\n",
    "    asin = str(asin)\n",
    "    asin = asin.replace('\\n','') # we are cleaning the data by replacong it with empty string  \n",
    "    asin = asin.replace(\",\",\"\")\n",
    "    asin = \"'\"+str(asin)\n",
    "    ASIN.append(asin)\n",
    "\n",
    "    overall= d.get(\"overall\",\"NULL\")\n",
    "    overall = str(overall)\n",
    "    overall = overall.replace('\\n','') # we are cleaning the data by replacong it with empty string  \n",
    "    overall = overall.replace(\",\",\"\")\n",
    "    OVERALL.append(overall)\n",
    "\n",
    "    reviewText= d.get(\"reviewText\",\"NULL\")\n",
    "    reviewText = str(reviewText)\n",
    "    reviewText = reviewText.replace('\\n','') # we are cleaning the data by replacong it with empty string  \n",
    "    reviewText = reviewText.replace(\",\",\"\")\n",
    "    ReviewText.append(reviewText)\n",
    "    \n",
    "    reviewTime= d.get(\"reviewTime\", \"0\")\n",
    "    reviewTime = str(reviewTime)\n",
    "    reviewTime = reviewTime.replace('\\n','') # we are cleaning the data by replacong it with empty string  \n",
    "    reviewTime = reviewTime.replace(\",\",\"\")\n",
    "    ReviewTime.append(reviewTime)\n",
    "    \n",
    "    reviewerID= d.get(\"reviewerID\", \"NULL\")\n",
    "    reviewerID = str(reviewerID)\n",
    "    reviewerID = reviewerID.replace('\\n','') # we are cleaning the data by replacong it with empty string  \n",
    "    reviewerID = reviewerID.replace('[','') # we are cleaning the data by replacong it with empty string  \n",
    "    reviewerID = reviewerID.replace(']','') # we are cleaning the data by replacong it with empty string  \n",
    "    reviewerID = reviewerID.replace(\"'\",'') # we are cleaning the data by replacong it with empty string  \n",
    "    reviewerID = reviewerID.replace(\",\",\"\")\n",
    "    ReviewerID.append(reviewerID)\n",
    "    \n",
    "    reviewerName= d.get(\"reviewerName\",\"NULL\")\n",
    "    reviewerName = str(reviewerName)\n",
    "    reviewerName = reviewerName.replace(\",\",\"\")\n",
    "    ReviewerName.append(reviewerName)\n",
    "    \n",
    "    summary= d.get(\"summary\",\"NULL\")\n",
    "    summary = str(summary)\n",
    "    summary = summary.replace('\\n','') # we are cleaning the data by replacong it with empty string  \n",
    "    summary = summary.replace(\",\",\"\")\n",
    "    summary = \"'\"+str(summary)\n",
    "    Summary.append(summary)\n",
    "    \n",
    "    unixReviewTime= d.get(\"unixReviewTime\",\"NULL\")\n",
    "    unixReviewTime = str(unixReviewTime)\n",
    "    unixReviewTime = unixReviewTime.replace('\\n','') # we are cleaning the data by replacong it with empty string  \n",
    "    unixReviewTime = unixReviewTime.replace(\",\",\"\")\n",
    "    unixReviewTime = \"'\"+str(unixReviewTime)\n",
    "    UnixReviewTime.append(unixReviewTime)\n",
    "    \n",
    "    helpful= d.get(\"helpful\",\"NULL\")\n",
    "    helpful = str(helpful)\n",
    "    helpful = helpful.replace('[','') # we are cleaning the data by replacong it with empty string  \n",
    "    helpful = helpful.replace(']','') # we are cleaning the data by replacong it with empty string  \n",
    "    helpful = helpful.replace(\"'\",'') # we are cleaning the data by replacong it with empty string  \n",
    "    helpful = helpful.replace(\",\",\" \\ \")\n",
    "    Helpful.append(helpful)\n",
    "    \n",
    "\n"
   ]
  },
  {
   "cell_type": "code",
   "execution_count": 30,
   "metadata": {
    "collapsed": true
   },
   "outputs": [],
   "source": [
    "# we are careting a dataframe \n",
    "D1= pd.DataFrame(ASIN, columns=[\"ASIN\"])\n",
    "D2= pd.DataFrame(OVERALL, columns=[\"OVERALL\"])\n",
    "D3= pd.DataFrame(ReviewText, columns=[\"ReviewText\"])\n",
    "D4= pd.DataFrame(ReviewTime, columns=[\"ReviewTime\"])\n",
    "D5= pd.DataFrame(ReviewerID, columns=[\"ReviewerID\"])\n",
    "D6= pd.DataFrame(ReviewerName, columns=[\"ReviewerName\"])\n",
    "D7= pd.DataFrame(Summary, columns=[\"Summary\"])\n",
    "D8= pd.DataFrame(UnixReviewTime, columns=[\"UnixReviewTime\"])\n",
    "D9= pd.DataFrame(Helpful, columns=[\"Helpful\"])\n"
   ]
  },
  {
   "cell_type": "code",
   "execution_count": 31,
   "metadata": {
    "collapsed": false
   },
   "outputs": [],
   "source": [
    "FINAL_DATA= pd.concat([D1, D2,D3,D4,D5,D6,D7,D8,D9], axis=1)"
   ]
  },
  {
   "cell_type": "code",
   "execution_count": 32,
   "metadata": {
    "collapsed": false
   },
   "outputs": [
    {
     "data": {
      "text/html": [
       "<div>\n",
       "<table border=\"1\" class=\"dataframe\">\n",
       "  <thead>\n",
       "    <tr style=\"text-align: right;\">\n",
       "      <th></th>\n",
       "      <th>ASIN</th>\n",
       "      <th>OVERALL</th>\n",
       "      <th>ReviewText</th>\n",
       "      <th>ReviewTime</th>\n",
       "      <th>ReviewerID</th>\n",
       "      <th>ReviewerName</th>\n",
       "      <th>Summary</th>\n",
       "      <th>UnixReviewTime</th>\n",
       "      <th>Helpful</th>\n",
       "    </tr>\n",
       "  </thead>\n",
       "  <tbody>\n",
       "    <tr>\n",
       "      <th>0</th>\n",
       "      <td>'5555991584</td>\n",
       "      <td>5.0</td>\n",
       "      <td>The anthemic title track begins &amp;quot;The Memo...</td>\n",
       "      <td>01 3 2001</td>\n",
       "      <td>A2EFCYXHNK06IS</td>\n",
       "      <td>Abigail Perkins \"Abby &amp;#34;Reads Too Much&amp;#34...</td>\n",
       "      <td>'Enya Experiments And Succeeds</td>\n",
       "      <td>'978480000</td>\n",
       "      <td>4 \\  5</td>\n",
       "    </tr>\n",
       "    <tr>\n",
       "      <th>1</th>\n",
       "      <td>'5555991584</td>\n",
       "      <td>5.0</td>\n",
       "      <td>Just when I thought Enya couldn't possibly get...</td>\n",
       "      <td>03 19 2000</td>\n",
       "      <td>A1WR23ER5HMAA9</td>\n",
       "      <td>AKB</td>\n",
       "      <td>'How to improve upon perfection.</td>\n",
       "      <td>'953424000</td>\n",
       "      <td>1 \\  1</td>\n",
       "    </tr>\n",
       "  </tbody>\n",
       "</table>\n",
       "</div>"
      ],
      "text/plain": [
       "          ASIN OVERALL                                         ReviewText  \\\n",
       "0  '5555991584     5.0  The anthemic title track begins &quot;The Memo...   \n",
       "1  '5555991584     5.0  Just when I thought Enya couldn't possibly get...   \n",
       "\n",
       "   ReviewTime      ReviewerID  \\\n",
       "0   01 3 2001  A2EFCYXHNK06IS   \n",
       "1  03 19 2000  A1WR23ER5HMAA9   \n",
       "\n",
       "                                       ReviewerName  \\\n",
       "0  Abigail Perkins \"Abby &#34;Reads Too Much&#34...   \n",
       "1                                               AKB   \n",
       "\n",
       "                            Summary UnixReviewTime Helpful  \n",
       "0    'Enya Experiments And Succeeds     '978480000  4 \\  5  \n",
       "1  'How to improve upon perfection.     '953424000  1 \\  1  "
      ]
     },
     "execution_count": 32,
     "metadata": {},
     "output_type": "execute_result"
    }
   ],
   "source": [
    "FINAL_DATA.head(2)"
   ]
  },
  {
   "cell_type": "code",
   "execution_count": 33,
   "metadata": {
    "collapsed": false
   },
   "outputs": [],
   "source": [
    "# writinh the file \n",
    "with open (\"Final_Reviews.csv\",'a+') as outputfile1:\n",
    "    outputfile1.write(FINAL_DATA.to_csv(index=False))\n"
   ]
  },
  {
   "cell_type": "code",
   "execution_count": null,
   "metadata": {
    "collapsed": true
   },
   "outputs": [],
   "source": []
  }
 ],
 "metadata": {
  "anaconda-cloud": {},
  "kernelspec": {
   "display_name": "Python [default]",
   "language": "python",
   "name": "python3"
  },
  "language_info": {
   "codemirror_mode": {
    "name": "ipython",
    "version": 3
   },
   "file_extension": ".py",
   "mimetype": "text/x-python",
   "name": "python",
   "nbconvert_exporter": "python",
   "pygments_lexer": "ipython3",
   "version": "3.5.2"
  }
 },
 "nbformat": 4,
 "nbformat_minor": 2
}
