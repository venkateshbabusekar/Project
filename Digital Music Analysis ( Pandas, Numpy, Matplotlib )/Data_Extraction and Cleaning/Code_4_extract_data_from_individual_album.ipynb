{
 "cells": [
  {
   "cell_type": "code",
   "execution_count": 27,
   "metadata": {
    "collapsed": true
   },
   "outputs": [],
   "source": [
    "# We are importing all the necessary package \n",
    "\n",
    "import os\n",
    "import glob\n",
    "import json\n"
   ]
  },
  {
   "cell_type": "code",
   "execution_count": 30,
   "metadata": {
    "collapsed": false
   },
   "outputs": [],
   "source": [
    "# we are find the root of the directory on which the python is running \n",
    "\n",
    "Root_path=os.getcwd()\n",
    "Creating_path1=\"Data\\Spotify_Individual_Album_json\\Album_Name_Match\"\n",
    "path_for_Data = os.path.join(Root_path,Creating_path1) # we are joining the old with new value to form a new path \n",
    "\n"
   ]
  },
  {
   "cell_type": "code",
   "execution_count": 31,
   "metadata": {
    "collapsed": false
   },
   "outputs": [],
   "source": [
    "# we are specifing the file type on which we are going to work on\n",
    "filetype = \"*.json\"\n",
    "             "
   ]
  },
  {
   "cell_type": "code",
   "execution_count": 32,
   "metadata": {
    "collapsed": false
   },
   "outputs": [],
   "source": [
    "# we are creating  the directory \n",
    "\n",
    "Path_for_csv = \"Data\\Spotify_CSV\"\n",
    "path_for_CSV_Data = os.path.join(Root_path,Path_for_csv) # we are joining the old with new value to form a new path \n",
    "if not os.path.exists(path_for_CSV_Data):\n",
    "        os.mkdir(path_for_CSV_Data) \n",
    "        \n",
    "CSV_FILE_NAME_TO_APPEND= \"Spotify_Search_Album_Names_Id_Details.csv\" \n",
    "CSV_FILE_NAME = os.path.join(path_for_CSV_Data,CSV_FILE_NAME_TO_APPEND) # we are joining the old with new value to form a new path \n",
    "    \n",
    "with open (CSV_FILE_NAME,'a+') as outputfile1:\n",
    "    outputfile1.write(\"Album_ids,Album_name,\\n\")\n",
    "\n",
    "    \n",
    "CSV_FILE_ALBUM_ID= \"Spotify_SEARCH_Just_Album_ID.csv\" \n",
    "CSV_FILE_Only_ALBUM_ID = os.path.join(path_for_CSV_Data,CSV_FILE_ALBUM_ID) # we are joining the old with new value to form a new path \n",
    "    \n",
    "with open (CSV_FILE_Only_ALBUM_ID,'a+') as outputfile1:\n",
    "    outputfile1.write(\"Album_Ids,\\n\")\n"
   ]
  },
  {
   "cell_type": "code",
   "execution_count": 33,
   "metadata": {
    "collapsed": false
   },
   "outputs": [],
   "source": [
    "#We ae looping thru all the file TO EXTRACT THE DATA \n",
    "for file in glob.glob(os.path.join(path_for_Data,filetype)):# using glob to scan the directory \n",
    "        with open(file) as json_file:# we are reading the file \n",
    "            json_data = json.load(json_file) # reading the json data\n",
    "            album_ids = json_data[\"id\"]\n",
    "            album_name= json_data[\"name\"]\n",
    "            with open (CSV_FILE_NAME,'a+') as outputfile1:\n",
    "                    outputfile1.write(str(album_ids)+','+str(album_name)+\"\\n\")\n",
    "\n",
    "            with open (CSV_FILE_Only_ALBUM_ID,'a+') as outputfile1:\n",
    "                outputfile1.write(str(album_ids)+\"\\n\")\n",
    "\n"
   ]
  },
  {
   "cell_type": "code",
   "execution_count": null,
   "metadata": {
    "collapsed": true
   },
   "outputs": [],
   "source": []
  },
  {
   "cell_type": "code",
   "execution_count": null,
   "metadata": {
    "collapsed": true
   },
   "outputs": [],
   "source": []
  },
  {
   "cell_type": "code",
   "execution_count": null,
   "metadata": {
    "collapsed": true
   },
   "outputs": [],
   "source": []
  },
  {
   "cell_type": "code",
   "execution_count": null,
   "metadata": {
    "collapsed": true
   },
   "outputs": [],
   "source": []
  }
 ],
 "metadata": {
  "anaconda-cloud": {},
  "kernelspec": {
   "display_name": "Python [conda root]",
   "language": "python",
   "name": "conda-root-py"
  },
  "language_info": {
   "codemirror_mode": {
    "name": "ipython",
    "version": 3
   },
   "file_extension": ".py",
   "mimetype": "text/x-python",
   "name": "python",
   "nbconvert_exporter": "python",
   "pygments_lexer": "ipython3",
   "version": "3.5.2"
  }
 },
 "nbformat": 4,
 "nbformat_minor": 1
}
