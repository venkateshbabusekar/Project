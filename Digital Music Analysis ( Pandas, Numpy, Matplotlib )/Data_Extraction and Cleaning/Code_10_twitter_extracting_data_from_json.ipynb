{
 "cells": [
  {
   "cell_type": "code",
   "execution_count": 4,
   "metadata": {
    "collapsed": true
   },
   "outputs": [],
   "source": [
    "#Import all the package\n",
    "\n",
    "import requests\n",
    "from requests_oauthlib import OAuth1\n",
    "import argparse\n",
    "import urllib.request,json\n",
    "import datetime\n",
    "import requests\n",
    "import os\n",
    "import glob"
   ]
  },
  {
   "cell_type": "code",
   "execution_count": 46,
   "metadata": {
    "collapsed": true
   },
   "outputs": [],
   "source": [
    "#path_for_Data\n",
    "\n",
    "Root_path=os.getcwd()\n",
    "\n",
    "Creating_path1=\"Data\\Twitter\"\n",
    "path_toread_Data = os.path.join(Root_path,Creating_path1) # we are joining the old with new value to form a new path \n",
    "filetype=\"*.json\"\n",
    "\n",
    "\n",
    "Creating_path=\"Data\\Twitter_csv\\Twitter_details.csv\"\n",
    "csv_path = os.path.join(Root_path,Creating_path) # we are joining the old with new value to form a new path \n"
   ]
  },
  {
   "cell_type": "code",
   "execution_count": 47,
   "metadata": {
    "collapsed": false
   },
   "outputs": [],
   "source": [
    "#We ae looping thru all the file TO EXTRACT THE DATA \n",
    "\n",
    "with open (csv_path,'a+', encoding=\"utf-8\") as outputfile1:\n",
    "            outputfile1.write(\"Counter,searchname,retweet_count,favorite_count,statuses_count,friends_count,followers_count,user_ids,time_zone,username,profile_image_url,text,\\n\")\n",
    "counter=0\n",
    "for name in glob.glob(os.path.join(path_toread_Data,filetype) ):# we are using glob to loop thru the file\n",
    "    a = name\n",
    "    searchname = a[105:-16]\n",
    "    Readfile = json.loads(open(name).read())  # we are loading the file \n",
    "    statuses = Readfile[\"statuses\"]\n",
    "    for i in range(0,len(statuses)):\n",
    "        statusess= statuses[i]\n",
    "        #text = statuses[\"text\"]\n",
    "        #place = statuses[\"place\"]\n",
    "        retweet_count= statusess.get(\"retweet_count\",0)\n",
    "        favorite_count= statusess.get(\"favorite_count\",0)\n",
    "        user_details= statusess.get(\"user\")\n",
    "        statuses_count= user_details.get(\"statuses_count\",0)\n",
    "        friends_count = user_details.get(\"friends_count\",0)\n",
    "        followers_count = user_details.get(\"followers_count\",0)\n",
    "        \n",
    "        user_ids= user_details.get(\"id\",0)\n",
    "        time_zone = user_details.get(\"time_zone\",0)\n",
    "        profile_image_url = user_details.get(\"profile_image_url\",0)\n",
    "        username = user_details.get(\"name\",0)\n",
    "        usernames =str(username).replace('[','').replace('.','').replace(\",\",\"\").replace(\"'\",'')\n",
    "        \n",
    "        counter= counter+1\n",
    "        \n",
    "        with open (csv_path,'a+', encoding=\"utf-8\") as outputfile1:\n",
    "                    outputfile1.write(str(counter)+','+str(searchname)+','+str(retweet_count)+','+str(favorite_count)+','+str(statuses_count)+','+str(friends_count)+','+str(followers_count)+','+str(user_ids)+','+str(time_zone)+','+str(usernames)+','+str(profile_image_url)+\"\\n\")\n",
    "\n",
    "        with open (csv_path,'a+', encoding=\"utf-8\") as outputfile1:\n",
    "                    outputfile1.write(str(user_ids)+','+str(time_zone)+','+str(usernames)+','+str(profile_image_url)+\"\\n\")\n",
    "\n",
    "         \n",
    "    \n",
    "    \n"
   ]
  },
  {
   "cell_type": "code",
   "execution_count": null,
   "metadata": {
    "collapsed": true
   },
   "outputs": [],
   "source": []
  },
  {
   "cell_type": "code",
   "execution_count": null,
   "metadata": {
    "collapsed": true
   },
   "outputs": [],
   "source": []
  },
  {
   "cell_type": "code",
   "execution_count": null,
   "metadata": {
    "collapsed": true
   },
   "outputs": [],
   "source": []
  },
  {
   "cell_type": "code",
   "execution_count": null,
   "metadata": {
    "collapsed": true
   },
   "outputs": [],
   "source": []
  }
 ],
 "metadata": {
  "anaconda-cloud": {},
  "kernelspec": {
   "display_name": "Python [conda root]",
   "language": "python",
   "name": "conda-root-py"
  },
  "language_info": {
   "codemirror_mode": {
    "name": "ipython",
    "version": 3
   },
   "file_extension": ".py",
   "mimetype": "text/x-python",
   "name": "python",
   "nbconvert_exporter": "python",
   "pygments_lexer": "ipython3",
   "version": "3.5.2"
  }
 },
 "nbformat": 4,
 "nbformat_minor": 2
}
