{
 "cells": [
  {
   "cell_type": "code",
   "execution_count": 1,
   "metadata": {
    "collapsed": true
   },
   "outputs": [],
   "source": [
    "#Import all the package\n",
    "from urllib.error import HTTPError\n",
    "import configparser\n",
    "from configparser import SafeConfigParser\n",
    "import urllib.request\n",
    "import time\n",
    "import sys, os\n",
    "import logging\n",
    "import json\n",
    "import datetime as dt\n",
    "import glob\n",
    "import urllib.error\n",
    "import csv\n",
    "import re\n",
    "import pandas as pd"
   ]
  },
  {
   "cell_type": "code",
   "execution_count": 2,
   "metadata": {
    "collapsed": false
   },
   "outputs": [],
   "source": [
    "# we are find the root of the directory on which the python is running \n",
    "Root_path=os.getcwd()\n",
    "\n",
    "Creating_path1=\"Data\\Spotify_CSV\\Spotify_SEARCH_Just_Album_ID.csv\"\n",
    "path_toread_Data = os.path.join(Root_path,Creating_path1) # we are joining the old with new value to form a new path \n",
    "path_toread_Data\n",
    "\n",
    "path_for_album_json= \"Data\\Spotify_Complete_Album_Details_Found_json\"\n",
    "path_toread_Datas = os.path.join(Root_path,path_for_album_json) # we are joining the old with new value to form a new path \n",
    "if not os.path.exists(path_toread_Datas):\n",
    "        os.mkdir(path_toread_Datas) \n",
    "path_for_album_Not_matched_notfound= \"Data\\Spotify_Album_Ids_Notfound_csv\"\n",
    "path_for_album_Not_matched = os.path.join(Root_path,path_for_album_Not_matched_notfound) # we are joining the old with new value to form a new path \n",
    "if not os.path.exists(path_for_album_Not_matched):\n",
    "        os.mkdir(path_for_album_Not_matched) \n",
    "\n",
    "path_for_name_notin = \"Spotify_Album_ID_Notfound.csv\"    \n",
    "path_for_name_notin_sporify = os.path.join(path_for_album_Not_matched,path_for_name_notin) # we are joining the old with new value to form a new path \n",
    "with open (path_for_name_notin_sporify,'a+') as outputfile1:\n",
    "                outputfile1.write(\"Album_ID_Details_Notfound\"+\"\\n\")\n",
    "                    "
   ]
  },
  {
   "cell_type": "code",
   "execution_count": 3,
   "metadata": {
    "collapsed": false
   },
   "outputs": [],
   "source": [
    "filetype=\"*.csv\"\n",
    "\n",
    "# we are looping thru all the file and reading the data \n",
    "\n",
    "Album_IDs=[]\n",
    "for name in glob.glob(path_toread_Data):# we are using glob to loop thru the file\n",
    "    f = open(name, 'r')\n",
    "    reader = csv.reader(f)\n",
    "    for row in reader:\n",
    "        Album_IDs.append(row)\n",
    "    f.close()"
   ]
  },
  {
   "cell_type": "code",
   "execution_count": 4,
   "metadata": {
    "collapsed": true
   },
   "outputs": [],
   "source": [
    "#We are defining a fuction to covert the request to json \n",
    "def convert(input):\n",
    "    if isinstance(input, dict):\n",
    "        return {convert(key): convert(value) for key, value in input.items()}\n",
    "    elif isinstance(input, list):\n",
    "        return [convert(element) for element in input]\n",
    "    else:\n",
    "        return input"
   ]
  },
  {
   "cell_type": "code",
   "execution_count": 7,
   "metadata": {
    "collapsed": false
   },
   "outputs": [],
   "source": [
    "# get the articles from the NYTimes Article API    \n",
    "\n",
    "\n",
    "def getingArticles( Album_IDs,path_toread_Datas,path_for_name_notin_sporify):\n",
    "        for i in range (15410,len(Album_IDs)):\n",
    "            with open (\"Albumid_.csv\",'a+') as outputfile1:\n",
    "                            outputfile1.write(str(i)+\"\\n\")\n",
    "\n",
    "            Id = str(Album_IDs[i]).replace('[','').replace(']','').replace(\"'\",'')\n",
    "            request_string = \"https://api.spotify.com/v1/albums/\"+Id\n",
    "            response = urllib.request.urlopen(request_string)\n",
    "            content = response.read().decode('utf-8').encode('cp850','replace').decode('cp850') # we are decoding the record and storing it in content \n",
    "            if content:\n",
    "                articles = convert(json.loads(content))\n",
    "                if len(articles[\"tracks\"]) >= 1: #we are checking the respose of the file \n",
    "                    #docs = articles[\"album_type\"]\n",
    "                    #single_name = re.sub('\\W+',' ', single_name )\n",
    "                    #single_name=single_name[:50]\n",
    "                    single_name= articles[\"id\"]\n",
    "                    file_name = str(single_name)+ \".json\"\n",
    "                    path_name_filename = os.path.join(path_toread_Datas,file_name) # we are joining the old with new value to form a new path \n",
    "                    json_file = open(path_name_filename, 'w')\n",
    "                    json_file.write(content)\n",
    "                    json_file.close()\n",
    "                if len(articles[\"tracks\"]) == 0:\n",
    "                    single_name= articles[\"id\"]\n",
    "                    file_names = str(single_name)\n",
    "                    with open (spofiy_csv_file_for_notin_name,'a+') as outputfile1:\n",
    "                            outputfile1.write(single_name+\"\\n\")\n",
    "                    \n",
    "            time.sleep(1) \n",
    "    "
   ]
  },
  {
   "cell_type": "code",
   "execution_count": null,
   "metadata": {
    "collapsed": false
   },
   "outputs": [],
   "source": [
    "# This is the main function in which u will get the data, it will call the rest of the function \n",
    "def main( Album_IDs,path_toread_Datas,path_for_name_notin_sporify):\n",
    "    \n",
    "\n",
    "    getingArticles(  Album_IDs,path_toread_Datas,path_for_name_notin_sporify) # calling another function\n",
    "if __name__ == '__main__' :\n",
    "    main( Album_IDs,path_toread_Datas,path_for_name_notin_sporify)"
   ]
  },
  {
   "cell_type": "code",
   "execution_count": null,
   "metadata": {
    "collapsed": true
   },
   "outputs": [],
   "source": []
  },
  {
   "cell_type": "code",
   "execution_count": null,
   "metadata": {
    "collapsed": true
   },
   "outputs": [],
   "source": []
  }
 ],
 "metadata": {
  "anaconda-cloud": {},
  "kernelspec": {
   "display_name": "Python [conda root]",
   "language": "python",
   "name": "conda-root-py"
  },
  "language_info": {
   "codemirror_mode": {
    "name": "ipython",
    "version": 3
   },
   "file_extension": ".py",
   "mimetype": "text/x-python",
   "name": "python",
   "nbconvert_exporter": "python",
   "pygments_lexer": "ipython3",
   "version": "3.5.2"
  }
 },
 "nbformat": 4,
 "nbformat_minor": 1
}
