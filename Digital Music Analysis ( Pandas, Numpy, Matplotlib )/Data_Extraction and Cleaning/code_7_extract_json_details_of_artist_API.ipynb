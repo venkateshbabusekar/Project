{
 "cells": [
  {
   "cell_type": "code",
   "execution_count": 1,
   "metadata": {
    "collapsed": true
   },
   "outputs": [],
   "source": [
    "#Import all the package\n",
    "from urllib.error import HTTPError\n",
    "import configparser\n",
    "from configparser import SafeConfigParser\n",
    "import urllib.request\n",
    "import time\n",
    "import sys, os\n",
    "import logging\n",
    "import json\n",
    "import datetime as dt\n",
    "import glob\n",
    "import urllib.error\n",
    "import csv\n",
    "import re\n",
    "import pandas as pd"
   ]
  },
  {
   "cell_type": "code",
   "execution_count": 2,
   "metadata": {
    "collapsed": false
   },
   "outputs": [],
   "source": [
    "# we are find the root of the directory on which the python is running \n",
    "Root_path=os.getcwd()\n",
    "\n",
    "Creating_path1=\"Data\\Spotify_CSV\\Spotify_Just_Artist_ID.csv\"\n",
    "path_toread_Data = os.path.join(Root_path,Creating_path1) # we are joining the old with new value to form a new path \n",
    "path_toread_Data\n",
    "\n",
    "path_for_album_json= \"Data\\Spotify_Complete_Artist_Details_Found\"\n",
    "path_toread_Datas = os.path.join(Root_path,path_for_album_json) # we are joining the old with new value to form a new path \n",
    "if not os.path.exists(path_toread_Datas):\n",
    "        os.mkdir(path_toread_Datas) \n",
    "                    "
   ]
  },
  {
   "cell_type": "code",
   "execution_count": 3,
   "metadata": {
    "collapsed": false
   },
   "outputs": [],
   "source": [
    "filetype=\"*.csv\"\n",
    "# we are looping thru all the file and reading the data \n",
    "\n",
    "Artist_IDs=[]\n",
    "for name in glob.glob(path_toread_Data):# we are using glob to loop thru the file\n",
    "    f = open(name, 'r')\n",
    "    reader = csv.reader(f)\n",
    "    for row in reader:\n",
    "        Artist_IDs.append(row)\n",
    "    f.close()"
   ]
  },
  {
   "cell_type": "code",
   "execution_count": 9,
   "metadata": {
    "collapsed": false
   },
   "outputs": [],
   "source": [
    "datefram = pd.DataFrame(Artist_IDs)\n",
    "datefram.columns =[\"Artist_Name\"]\n",
    "onlyArtist_Id= datefram[\"Artist_Name\"].unique()"
   ]
  },
  {
   "cell_type": "code",
   "execution_count": 11,
   "metadata": {
    "collapsed": true
   },
   "outputs": [],
   "source": [
    "#We are defining a fuction to covert the request to json \n",
    "\n",
    "def convert(input):\n",
    "    if isinstance(input, dict):\n",
    "        return {convert(key): convert(value) for key, value in input.items()}\n",
    "    elif isinstance(input, list):\n",
    "        return [convert(element) for element in input]\n",
    "    else:\n",
    "        return input"
   ]
  },
  {
   "cell_type": "code",
   "execution_count": 23,
   "metadata": {
    "collapsed": false
   },
   "outputs": [],
   "source": [
    "# get the articles from the NYTimes Article API    \n",
    "\n",
    "\n",
    "def getingArticles( onlyArtist_Id,path_toread_Datas):\n",
    "        for i in range (0,len(onlyArtist_Id)):\n",
    "            Id = str(onlyArtist_Id[i]).replace('[','').replace(']','').replace(\"'\",'')\n",
    "            request_string = \"https://api.spotify.com/v1/artists/\"+Id\n",
    "            print(request_string)\n",
    "            with open (\"just_name_for try.csv\",'a+') as outputfile1:\n",
    "                    outputfile1.write(str(onlyArtist_Id[i])+\"\\n\")\n",
    "\n",
    "            response = urllib.request.urlopen(request_string)\n",
    "            content = response.read().decode('utf-8').encode('cp850','replace').decode('cp850') # we are decoding the record and storing it in content \n",
    "            if content:\n",
    "                articles = convert(json.loads(content))\n",
    "                single_name= articles[\"id\"]\n",
    "                file_name = str(single_name)+ \".json\"\n",
    "                path_name_filename = os.path.join(path_toread_Datas,file_name) # we are joining the old with new value to form a new path \n",
    "                json_file = open(path_name_filename, 'w')\n",
    "                json_file.write(content)\n",
    "                json_file.close()\n",
    "\n",
    "            time.sleep(1) \n",
    "    "
   ]
  },
  {
   "cell_type": "code",
   "execution_count": null,
   "metadata": {
    "collapsed": false
   },
   "outputs": [
    {
     "name": "stdout",
     "output_type": "stream",
     "text": [
      "https://api.spotify.com/v1/artists/70CgtFRYY0VmzL1lvGVtCI\n",
      "https://api.spotify.com/v1/artists/0sMvmYe6Nswk0c2aUM107N\n",
      "https://api.spotify.com/v1/artists/2ymf20K44faiwDIsPdjGWS\n",
      "https://api.spotify.com/v1/artists/61WWbL8asVUuhoKPARU0Ng\n",
      "https://api.spotify.com/v1/artists/3sq3a77ehukDLNTyD82V3g\n",
      "https://api.spotify.com/v1/artists/5rX1EodZfwxmW4fQX2Caot\n",
      "https://api.spotify.com/v1/artists/442RYsYvSU2VcpoTcQDaU5\n",
      "https://api.spotify.com/v1/artists/5556RAgwP70PnXbaUTGNbR\n",
      "https://api.spotify.com/v1/artists/5NmNtWBgS3JpTlI7Wz10LY\n",
      "https://api.spotify.com/v1/artists/64ovxBmjJ9ZDqkzEXVWpVc\n",
      "https://api.spotify.com/v1/artists/21J3YJTyq1biE3SvSNjzuf\n",
      "https://api.spotify.com/v1/artists/6czfQ8MjHVmvJKA4LAnviG\n",
      "https://api.spotify.com/v1/artists/3YLFA4Zkxkzk8NV9RmYMXR\n",
      "https://api.spotify.com/v1/artists/3UuHo2IKWtcWhyPbbLAuIO\n",
      "https://api.spotify.com/v1/artists/0cdz3LevwYCRJ6DRwrpFIY\n",
      "https://api.spotify.com/v1/artists/2ABaMAWHkH85QPcp4PH3qn\n",
      "https://api.spotify.com/v1/artists/2vDV0T8sxx2ENnKXds75e5\n",
      "https://api.spotify.com/v1/artists/6g7CpRMjUC91G93kF4Gb1m\n",
      "https://api.spotify.com/v1/artists/24w6pkTh2C8yEPEvgjuvZ8\n",
      "https://api.spotify.com/v1/artists/0yaS8GwoTh59VnoDJzth5c\n",
      "https://api.spotify.com/v1/artists/1uhyIQ6bz332XEbnUAx0jW\n",
      "https://api.spotify.com/v1/artists/71OwUedemkVSz21Y6k33aJ\n",
      "https://api.spotify.com/v1/artists/1iH2Yx2Ea0kZ0zKI3Nlk30\n",
      "https://api.spotify.com/v1/artists/1TUNPwZWJyhaNZpLZzhOUj\n",
      "https://api.spotify.com/v1/artists/15cJEqQvfVczJK2DVdY6DV\n",
      "https://api.spotify.com/v1/artists/6MHtAMquLizE81oQLExQUq\n",
      "https://api.spotify.com/v1/artists/4N4BBMA8r8fVTvbhmyXXoG\n",
      "https://api.spotify.com/v1/artists/5Igpc9iLZ3YGtKeYfSrrOE\n",
      "https://api.spotify.com/v1/artists/4phr5rAgWhcZtWJu8w8lKv\n"
     ]
    }
   ],
   "source": [
    "# This is the main function in which u will get the data, it will call the rest of the function \n",
    "def main( onlyArtist_Id,path_toread_Datas):\n",
    "    \n",
    "\n",
    "    getingArticles(  onlyArtist_Id,path_toread_Datas) # calling another function\n",
    "if __name__ == '__main__' :\n",
    "    main( onlyArtist_Id,path_toread_Datas)"
   ]
  },
  {
   "cell_type": "code",
   "execution_count": null,
   "metadata": {
    "collapsed": true
   },
   "outputs": [],
   "source": []
  },
  {
   "cell_type": "code",
   "execution_count": null,
   "metadata": {
    "collapsed": true
   },
   "outputs": [],
   "source": []
  }
 ],
 "metadata": {
  "anaconda-cloud": {},
  "kernelspec": {
   "display_name": "Python [conda root]",
   "language": "python",
   "name": "conda-root-py"
  },
  "language_info": {
   "codemirror_mode": {
    "name": "ipython",
    "version": 3
   },
   "file_extension": ".py",
   "mimetype": "text/x-python",
   "name": "python",
   "nbconvert_exporter": "python",
   "pygments_lexer": "ipython3",
   "version": "3.5.2"
  }
 },
 "nbformat": 4,
 "nbformat_minor": 1
}
