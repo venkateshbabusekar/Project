{
 "cells": [
  {
   "cell_type": "code",
   "execution_count": null,
   "metadata": {
    "collapsed": true
   },
   "outputs": [],
   "source": []
  },
  {
   "cell_type": "markdown",
   "metadata": {
    "collapsed": true
   },
   "source": [
    "# Final Project "
   ]
  },
  {
   "cell_type": "markdown",
   "metadata": {},
   "source": [
    "# DIGITAL MUSIC & ARTIST ANALYSIS "
   ]
  },
  {
   "cell_type": "code",
   "execution_count": null,
   "metadata": {
    "collapsed": true
   },
   "outputs": [],
   "source": []
  },
  {
   "cell_type": "markdown",
   "metadata": {},
   "source": [
    "Data for analysing the digital music (ablums) has been collected from the source like **_TWITTER_** , **_SPOTFIY_** and **_AMAZON_** using **API** and **websites**.\n",
    "    1. Artists and album related details from SPOTFIY\n",
    "    2. Reviews related to album from AMAZON\n",
    "    3. Tweets realated to Artist from TWITTER"
   ]
  },
  {
   "cell_type": "markdown",
   "metadata": {},
   "source": [
    "### Data Formats\n",
    "    1. Amazon - http://jmcauley.ucsd.edu/data/amazon/  - Zip File contains album cost,ratings and reviews\n",
    "    2. SPOTIFY - https://api.spotify.com/v1/search?query - API Request \n",
    "    3. TWITTER - https://api.twitter.com/1.1/search/tweets.json - API Request"
   ]
  },
  {
   "cell_type": "markdown",
   "metadata": {},
   "source": [
    "## Data processing and cleaning "
   ]
  },
  {
   "cell_type": "markdown",
   "metadata": {},
   "source": [
    "### AMAZON DATA\n",
    "\n",
    "####     Steps to obtain the data:\n",
    "        - Hit the above metioned Url\n",
    "        - Download the metadata and reviews related to digital music form the link\n",
    "        - Data **_meta_Digital_Music.json.gz_** and **_reviews_Digital_Music.json.gz_** will downloaded \n",
    "\n",
    "####     Steps to Process the data:\n",
    "        - Run a python code to load the .json.gz file \n",
    "        - Meta_Digital_Music.json.gz\n",
    "            - File contains album ID, price , descrition of the product (Album)\n",
    "            - Once the data is loaded, convert it to a data frame \n",
    "            - Get only the necessary colums and write it to csv and save the csv  \n",
    "        \n",
    "        - Reviews_Digital_Music.json.gz\n",
    "            - File contains the reviews, overall rating of the product (Album) \n",
    "            - Once the data is loaded, convert it to a data frame \n",
    "            - Get only the necessary colums and write it to csv and save the csv\n",
    "\n",
    "### SPOTIFY DATA\n",
    "        \n",
    "####     Steps to obtain the data: (part 1)\n",
    "        \n",
    "        - Run a python code that will hit the API \n",
    "        - For each hit we get a respond in the form of json\n",
    "        - Process it and save the Json file \n",
    "####     Steps to Process the data: (part 2)\n",
    "        - Run a python code to Loop thru all the json file  \n",
    "        - Traverse thru the json file \n",
    "        - Get the necessary information only \n",
    "        - write the data in to csv and save the csv\n",
    "####     Amazon and Spotify data linkage :\n",
    "        - Album name obtained from amazon is used as a input for spotify search \n",
    "        - General Search :\n",
    "            - We pass the Album name from amazon to stopity general search API\n",
    "            - Repeat part 1 and part 2\n",
    "            - we will get a get search detils and Album Id for the general search\n",
    "        - Album Id Search:\n",
    "            - We pass the Album ID obtained from general search to stopity Album search API \n",
    "            - Repeat part 1 and part 2\n",
    "            - we will get a get Album deatils and artist ids from  Album search API\n",
    "        - Artist Id Search:\n",
    "            - We pass the Artist ID obtained from Album search to stopity Artist search API \n",
    "            - Repeat part 1 and part 2\n",
    "            - we will get a artist details  from  Artist search API\n",
    "            \n",
    "            \n",
    "        \n",
    "### TWITTER DATA\n",
    "        \n",
    "####     Steps to obtain the data: (part 1)\n",
    "        \n",
    "        - Run a python code that will hit the API \n",
    "        - For each hit we get a respond in the form of json\n",
    "        - Process it and save the Json file \n",
    "####     Steps to Process the data: (part 2)\n",
    "        - Run a python code to Loop thru all the json file  \n",
    "        - Traverse thru the json file \n",
    "        - Get the necessary information only \n",
    "        - write the data in to csv and save the csv\n",
    "####     Spotify and Twitter data linkage :\n",
    "        - Artist name obtained from Spotify is used as a input for Twitter search \n",
    "        - General Search :\n",
    "            - We pass the Album name from Spotify to  Twitter general search API\n",
    "            - Repeat part 1 and part 2\n",
    "            \n",
    "           \n",
    "        \n",
    "\n",
    "\n",
    "\n",
    "\n"
   ]
  },
  {
   "cell_type": "markdown",
   "metadata": {},
   "source": [
    "# Analysis "
   ]
  },
  {
   "cell_type": "markdown",
   "metadata": {},
   "source": [
    "## Analysis 1 \n",
    "\n",
    "### **we will analyse the spotify and amazon dataset to get a overview of the data**\n",
    "\n",
    "#### **Data Need**\n",
    "        Load the product details, Ablum details, Artist details file which are obtained from amazon and spotify\n",
    "\n",
    "- ## Finding - 1\n",
    "\n",
    "We are trying the find wether the artist gener really plays a import role in the popularity ?\n",
    "\n",
    "        - We are finding the Top 10 artist based on the follower\n",
    "        - We are finding the Top 10 artist based on the Popularity\n",
    "        - We are finding the gener of the artist who fall on the top based on the follower and popularity\n",
    "        - We are finding the 10 gener of all time  \n",
    "\n",
    "\n",
    "- ## Finding - 2\n",
    "\n",
    "We are trying to get a find out the trends in reivew over the period of time   \n",
    "\n",
    "        - We are finding the Top 10 reivew company based on the number of review they have writen\n",
    "        - We are finding the variation in the review over the period of time \n",
    "        \n",
    "\n",
    "- ## Finding - 3\n",
    "\n",
    "We are trying to get a overall idea about who are the top production compay for music and the oversll market avaliablity of the albums  \n",
    "\n",
    "\n",
    "        - We are finding the Top 10 production company based on the number of ablums they have produced\n",
    "        - We are finding the Top 10 country for which the  market avalibality is high\n",
    "        \n",
    "        \n",
    "        \n",
    "        \n",
    "# Processing Steps \n",
    "   \n",
    "   #### Analysis _ 1  -->  Finding 1 \n",
    "         \n",
    "         - First we load the artist data\n",
    "         - Sort the artist data by based on the follower\n",
    "         - Get the top 10 artist with most no of followers\n",
    "         - Sort the artist data by based on the Popularity\n",
    "         - Get the top 10 artist with most no of Popularity\n",
    "         - Now meger both the top 10 artist to find the artist who has both the Popularity and follower higest\n",
    "         - Then for those artist find the top most frequent gener(note: artist may have many different and repeating geners )\n",
    "         - Now Find the top 10 gener for the  entire album dataset\n",
    "         \n",
    "        \n",
    "        \n",
    "   #### Analysis _ 1  -->  Finding 2 \n",
    "         \n",
    "         - First we load the review data\n",
    "         - find how man reviews has been written by each reviewer\n",
    "         - Get the top 10 reviewer with most no of reviews\n",
    "         - Find the average number of reviews for each year\n",
    "         - Now plot the graph to see the trend of review over the period of time \n",
    "        \n",
    "        \n",
    "   #### Analysis _ 1  -->  Finding 3 \n",
    "         \n",
    "         - First we load the Album data\n",
    "         - find how many Album has been produced by each production company\n",
    "         - Get the top 10 production company with most no of Album\n",
    "         - Create a list which entire market avaliablity of each ablum \n",
    "         - Loop thru list and find the frequency of each country \n",
    "         - Find the top 10 country with most no of avaliablity\n",
    "         - Now link this table to iso_contry code table to get the country name        \n",
    "        \n",
    "        \n",
    "        "
   ]
  },
  {
   "cell_type": "markdown",
   "metadata": {},
   "source": [
    "# OUT PUT: \n",
    "### Analysis 1--> Finding - 1\n"
   ]
  },
  {
   "cell_type": "markdown",
   "metadata": {},
   "source": [
    "### Top Artist based on followers"
   ]
  },
  {
   "cell_type": "markdown",
   "metadata": {},
   "source": [
    "![1_a_p](https://cloud.githubusercontent.com/assets/25119470/25310384/39abbc7e-27b1-11e7-92f2-e662d4372b3a.JPG)\n"
   ]
  },
  {
   "cell_type": "markdown",
   "metadata": {},
   "source": [
    "### Top Artist based on popularity"
   ]
  },
  {
   "cell_type": "markdown",
   "metadata": {},
   "source": [
    "![2_a_f](https://cloud.githubusercontent.com/assets/25119470/25310388/431e8c14-27b1-11e7-82c8-b5f219527fb5.JPG)\n"
   ]
  },
  {
   "cell_type": "markdown",
   "metadata": {},
   "source": [
    "### Graph for top artist "
   ]
  },
  {
   "cell_type": "markdown",
   "metadata": {},
   "source": []
  },
  {
   "cell_type": "markdown",
   "metadata": {},
   "source": [
    "### Graph "
   ]
  },
  {
   "cell_type": "markdown",
   "metadata": {},
   "source": [
    "![top_10_f_p](https://cloud.githubusercontent.com/assets/25119470/25310307/9a1ca7be-27af-11e7-89e6-9622d9a0f7f8.JPG)\n"
   ]
  },
  {
   "cell_type": "markdown",
   "metadata": {},
   "source": [
    "### Artist who have top followers  and populatity"
   ]
  },
  {
   "cell_type": "markdown",
   "metadata": {},
   "source": [
    "![3_a_con](https://cloud.githubusercontent.com/assets/25119470/25310391/4e9f86ec-27b1-11e7-9e61-dfce31faad5f.JPG)\n"
   ]
  },
  {
   "cell_type": "markdown",
   "metadata": {},
   "source": [
    "# Graph for artist gener and the popularity "
   ]
  },
  {
   "cell_type": "markdown",
   "metadata": {},
   "source": [
    "![2_a1_f1](https://cloud.githubusercontent.com/assets/25119470/25310418/a24be0e2-27b1-11e7-81d8-daba4bf60c1d.JPG)\n"
   ]
  },
  {
   "cell_type": "markdown",
   "metadata": {
    "collapsed": true
   },
   "source": [
    "### Conclusion \n",
    "\n",
    "- ## For Finding - 1\n",
    "\n",
    "From the above graph its very clear that geners specifiy to artist doesnt really plays a import role in their popularity . There is no relation between the artist popularity and their geners\n"
   ]
  },
  {
   "cell_type": "markdown",
   "metadata": {},
   "source": [
    "# OUT PUT: \n",
    "### Analysis 1--> Finding - 2\n"
   ]
  },
  {
   "cell_type": "markdown",
   "metadata": {
    "collapsed": true
   },
   "source": [
    "# Grapg for top reviwers and treand of reviews"
   ]
  },
  {
   "cell_type": "markdown",
   "metadata": {
    "collapsed": true
   },
   "source": [
    "![3_a1_f2_reviewtrends](https://cloud.githubusercontent.com/assets/25119470/25310445/55209104-27b2-11e7-8e14-83594ac00f8b.JPG)\n"
   ]
  },
  {
   "cell_type": "markdown",
   "metadata": {
    "collapsed": true
   },
   "source": [
    "### Conclusion \n",
    "\n",
    "\n",
    "- ## For  Finding - 2\n",
    "\n",
    "-From the above graph we can infere that Over the period of time the count of people give review has been reduced        \n",
    "-From the above graph we can seen that \"Michael and mistermax gave most no of reviews nearly 1000 reviews \"\n",
    "\n"
   ]
  },
  {
   "cell_type": "markdown",
   "metadata": {},
   "source": [
    "# OUT PUT: \n",
    "### Analysis 1--> Finding - 3\n"
   ]
  },
  {
   "cell_type": "markdown",
   "metadata": {},
   "source": [
    "# Graph  fo top production company and market avalibality "
   ]
  },
  {
   "cell_type": "markdown",
   "metadata": {},
   "source": [
    "![4_a1_f3_distribution](https://cloud.githubusercontent.com/assets/25119470/25310448/621a1664-27b2-11e7-86c6-7beae35462fc.JPG)\n"
   ]
  },
  {
   "cell_type": "markdown",
   "metadata": {},
   "source": [
    "### Conclusion \n",
    "\n",
    "- ## For  Finding - 3\n",
    "\n",
    "-From the above graph we can infere that most no of album are sold in the us.So if artist lauch a new ablum he shuld consider us  \n",
    "-From the above graph we can seen that \"Universal and columbia gave most no of albums. So if artist lauch a new ablum he can approch these company for the production\n"
   ]
  },
  {
   "cell_type": "markdown",
   "metadata": {},
   "source": [
    "## Analysis 2 \n",
    "\n",
    "### **we will analyse the product reviews from amazon dataset and try to implement sentimental analysis on those reviews and dig deeper into the reviews and rating**\n",
    "\n",
    "#### **Data Need**\n",
    "        Load the product details, review details,  file which are obtained from amazon \n",
    "\n",
    "- ## Finding - 1\n",
    "\n",
    "We are trying to implement sentimental analysis on the top most review product\n",
    "\n",
    "        - We are finding the Top 10 product based on the no of review \n",
    "        - We are doing sentiment analysis on the review\n",
    "        - We are calculating the sentimental score \n",
    "        - we are analysing the rating and the helpfulness of each review based on the review sentimental score \n",
    "\n",
    "\n",
    "- ## Finding - 2\n",
    "\n",
    "We are extending our analysis furter to find the relationship between postive negative reviews  over the helpfulness of each\n",
    "product review through out the year \n",
    "\n",
    "        - We are finding the review with postitive  and negative sentiment\n",
    "        - Finding the helpfulness for the product reviews  \n",
    "        \n",
    "\n",
    "- ## Finding - 3\n",
    "\n",
    "We are extending our analysis furter to find the relationship between overall rating and the sentimental score \n",
    "\n",
    "\n",
    "        \n",
    "        \n",
    "        \n",
    "# Processing Steps \n",
    "   \n",
    "   #### Analysis _ 2  -->  Finding 1 \n",
    "         \n",
    "         - First we load the product data\n",
    "         - Get the top 6 product with most no of reviews\n",
    "         - Take all the review of that 6 product and do sentimental analysis\n",
    "         - Assing the score 1 if the review is positive \n",
    "         - Assing the score 0 if the review is negative  \n",
    "         - For the negative reviews we are find the helpfulness of each product \n",
    "         - For the Positive reviews we are find the helpfulness of each product \n",
    "         \n",
    "        \n",
    "        \n",
    "   #### Analysis _ 2  -->  Finding 2 \n",
    "         \n",
    "         - We are getting the data which contain only postive sentiment \n",
    "         - We are getting the data which contain only negative sentiment \n",
    "         - For product with postive sentiment we are calculating how  helpful of the reviews is \n",
    "         - For product with postive sentiment we are calculating how the reviews is not  helpful  \n",
    "         - For product with negative sentiment we are calculating how  helpful of the reviews is \n",
    "         - For product with negative sentiment we are calculating how   the reviews is not  helpful \n",
    "         - Now plot all the graph to see the trend over the period of time \n",
    "        \n",
    "        \n",
    "   #### Analysis _ 2  -->  Finding 3 \n",
    "         \n",
    "         - We are getting the data which contain only postive sentiment \n",
    "         - We are getting the data which contain only negative sentiment \n",
    "         - Now we are calculating the mean of overall rating for postive sentiment \n",
    "         - Now we are calculating the mean of overall rating for negative sentiment \n",
    "         - Now plot all the graph to see the trend over the period of time \n",
    "        \n",
    "        \n",
    "        \n",
    "        \n",
    "        \n",
    "        \n",
    "        \n",
    "        \n",
    "        \n",
    "        \n",
    "        \n",
    "        \n",
    "        \n",
    "        \n",
    "        \n",
    "        \n",
    "        \n",
    "        "
   ]
  },
  {
   "cell_type": "markdown",
   "metadata": {
    "collapsed": true
   },
   "source": [
    "# OUT PUT: \n",
    "## For Analysis 2--> Finding - 1\n",
    "\n"
   ]
  },
  {
   "cell_type": "markdown",
   "metadata": {},
   "source": [
    "![5_a2_f1-1](https://cloud.githubusercontent.com/assets/25119470/25310463/c4b89110-27b2-11e7-890f-4dcc74e5db8a.JPG)\n"
   ]
  },
  {
   "cell_type": "markdown",
   "metadata": {},
   "source": [
    "![6_a2_f1-2](https://cloud.githubusercontent.com/assets/25119470/25310465/d1619aec-27b2-11e7-8e50-7f7b1a6ec276.JPG)\n"
   ]
  },
  {
   "cell_type": "markdown",
   "metadata": {},
   "source": [
    "### Conclusion \n",
    "\n",
    "- ## For Analysis 2--> Finding - 1\n",
    "\n",
    "Identified Top 6  product based on the no of review and done the sentimantal analysis.\n",
    "From the above graph its is very clear that what ever the review may be (positive or negative) peopel always tend to say tht the review is **NOT HELPFUL**\n"
   ]
  },
  {
   "cell_type": "markdown",
   "metadata": {},
   "source": [
    "# OUT PUT: \n",
    "## For Analysis 2--> Finding - 2\n",
    "\n"
   ]
  },
  {
   "cell_type": "markdown",
   "metadata": {},
   "source": [
    "# ##Graph show the trends in the review"
   ]
  },
  {
   "cell_type": "markdown",
   "metadata": {},
   "source": [
    "![7_a2_f2_1](https://cloud.githubusercontent.com/assets/25119470/25310480/3f2dd432-27b3-11e7-97d9-00b75b1ea13a.JPG)\n"
   ]
  },
  {
   "cell_type": "markdown",
   "metadata": {},
   "source": [
    "![8_a2_f2_2](https://cloud.githubusercontent.com/assets/25119470/25310481/473f26c6-27b3-11e7-841e-2fcca0847534.JPG)\n"
   ]
  },
  {
   "cell_type": "markdown",
   "metadata": {},
   "source": [
    "### Conclusion \n",
    "\n",
    "- ## For Analysis 2--> Finding - 2\n",
    "\n",
    "From the above graph we can clearlyn see a pattern , no matter wether the review is helpfull or not helpfull the way people tend to give review is same except for the review count .\n",
    "Its is also clear that every product tends to get positive and negative review at the begining , but over the period it get saturated to zero . \n"
   ]
  },
  {
   "cell_type": "markdown",
   "metadata": {},
   "source": [
    "# OUT PUT: \n",
    "## For Analysis 2--> Finding - 3\n",
    "\n"
   ]
  },
  {
   "cell_type": "markdown",
   "metadata": {},
   "source": [
    "# Graph which showas the avg of overall rating fpr the product based on the sentiment "
   ]
  },
  {
   "cell_type": "markdown",
   "metadata": {},
   "source": [
    "![9_a2_f3](https://cloud.githubusercontent.com/assets/25119470/25310501/a0e29cee-27b3-11e7-88d5-69574e9e9391.JPG)\n"
   ]
  },
  {
   "cell_type": "code",
   "execution_count": null,
   "metadata": {
    "collapsed": true
   },
   "outputs": [],
   "source": []
  },
  {
   "cell_type": "markdown",
   "metadata": {
    "collapsed": true
   },
   "source": [
    "### Conclusion \n",
    "\n",
    "\n",
    "- ## For Analysis 2--> Finding - 3\n",
    "\n",
    "From the graph its clear that if the product get a postive review the avg overall rating is high when compared to the negative reivews whoes avg overall rating is low \n",
    "\n"
   ]
  },
  {
   "cell_type": "code",
   "execution_count": null,
   "metadata": {
    "collapsed": true
   },
   "outputs": [],
   "source": []
  },
  {
   "cell_type": "code",
   "execution_count": null,
   "metadata": {
    "collapsed": true
   },
   "outputs": [],
   "source": []
  },
  {
   "cell_type": "markdown",
   "metadata": {},
   "source": [
    "## Analysis 3\n",
    "\n",
    "### **we will analyse wether the artist popularity have an impact on the ablum sung by the artist and dig deep into the twitter dataset  **\n",
    "\n",
    "#### **Data Need**\n",
    "        Load the Twitter details, ablum details file which are obtained from spotify, twitter and amazon  \n",
    "\n",
    "- ## For Analysis 3--> Finding - 1\n",
    "\n",
    "We are trying to find the most popular album for each year for the given time frame and also most popular album with in that year  \n",
    "\n",
    "        - User can enter the input \n",
    "        - We are finding the Top ablum  based on the no the maximun popluarity for the given yaer  \n",
    "        - Then with the year we are find the ablum with max popularity and ploting the ablum image \n",
    "\n",
    "- ## For Analysis 3-->  Finding - 2\n",
    "\n",
    "We are extending our analysis furter to find the relationship between album popularity and artist popularity \n",
    "\n",
    "        \n",
    "\n",
    "- ## For Analysis 3-->  Finding - 3\n",
    "\n",
    "We are extending our analysis furter in twitter data set to find the top time zone and the details related to that time zone  \n",
    "\n",
    "        - Find the top artist with most no of retweets \n",
    "        - Find the top timezone with most no of retweets \n",
    "        - Find the followers of users in the top timezone \n",
    "        - Find the Friends of users in the top timezone \n",
    "        \n",
    "        \n",
    "# Processing Steps \n",
    "   \n",
    "   #### Analysis _ 3  -->  Finding 1 \n",
    "         \n",
    "         - Get the user input for the years range \n",
    "         - Sort the album for each year based on popularity and get the max \n",
    "         - Get the popular Ablum for each year for the input range \n",
    "         - Now the album based on popularity and get the max \n",
    "        \n",
    "        \n",
    "   #### Analysis _ 3  -->  Finding 2 \n",
    "         \n",
    "         - For the above albums we are getting the artist name \n",
    "         - Then we are passing the Artist name in Twitter API\n",
    "         - Getting infromation related to artist \n",
    "         - We are getting the  popularity of the artist by count the tweets related to the artist \n",
    "         - We have the popularity of each albums in the file  \n",
    "         - Now plot all the graph for popularity of artist and albums to see the trend \n",
    "        \n",
    "   #### Analysis _ 3  -->  Finding 3 \n",
    "         \n",
    "         - We are aggregating the reweet count for each artist  \n",
    "         - Find the top artist with most no of retweets  \n",
    "         - Find the frequecy of the timezone of the users \n",
    "         - Getting the top 5 timezone with most no of user \n",
    "         - Getting the Count of follower of user in the top  time zone \n",
    "         - Getting the Count of friends of user in the top  time zone \n",
    "        \n",
    "        \n",
    "        \n",
    "        \n",
    "        \n",
    "        \n",
    "        \n",
    "        \n",
    "        \n",
    "        \n",
    "        \n",
    "        \n",
    "        \n",
    "        \n",
    "        \n",
    "        \n",
    "        \n",
    "        "
   ]
  },
  {
   "cell_type": "markdown",
   "metadata": {},
   "source": [
    "# OUT PUT: \n",
    "## For Analysis 3--> Finding - 1\n",
    "\n"
   ]
  },
  {
   "cell_type": "markdown",
   "metadata": {},
   "source": [
    "### Graph for the top 5 ablum \n",
    "### Top most all ablum image \n"
   ]
  },
  {
   "cell_type": "markdown",
   "metadata": {},
   "source": [
    "![11_a3_f1_1](https://cloud.githubusercontent.com/assets/25119470/25310530/35a96e2a-27b4-11e7-9dba-7c87efb35238.JPG)\n"
   ]
  },
  {
   "cell_type": "markdown",
   "metadata": {},
   "source": [
    "### Album image "
   ]
  },
  {
   "cell_type": "markdown",
   "metadata": {},
   "source": [
    "![12_a3_f1_2](https://cloud.githubusercontent.com/assets/25119470/25310534/3f2cea3a-27b4-11e7-8d9d-dcffbea76573.JPG)\n"
   ]
  },
  {
   "cell_type": "markdown",
   "metadata": {},
   "source": [
    "# Conclusion \n",
    "\n",
    "- ## For Analysis 3--> Finding - 1\n",
    "\n",
    "We have plotted the graph for album with the maximum popularity for the give year range . With in the range have found the max popularity and pulled the album  image .\n",
    "\n"
   ]
  },
  {
   "cell_type": "markdown",
   "metadata": {},
   "source": [
    "# OUT PUT: \n",
    "## For Analysis 3--> Finding - 2\n",
    "\n"
   ]
  },
  {
   "cell_type": "markdown",
   "metadata": {},
   "source": [
    "## Album popularity and artist popularity "
   ]
  },
  {
   "cell_type": "markdown",
   "metadata": {},
   "source": [
    "![13_a3_f2](https://cloud.githubusercontent.com/assets/25119470/25310535/4bb90388-27b4-11e7-91f4-bf486486356e.JPG)\n"
   ]
  },
  {
   "cell_type": "markdown",
   "metadata": {},
   "source": [
    "# Conclusion \n",
    "\n",
    "- ## For Analysis 3--> Finding - 2\n",
    "\n",
    "from the above graph it is very clear that artist popularity doesnt have a any impact on the ablum popularity . \n",
    "        \n"
   ]
  },
  {
   "cell_type": "markdown",
   "metadata": {},
   "source": [
    "# OUT PUT: \n",
    "## For Analysis 3--> Finding - 3\n",
    "\n"
   ]
  },
  {
   "cell_type": "markdown",
   "metadata": {
    "collapsed": true
   },
   "source": [
    "## Tweets talk abt artist "
   ]
  },
  {
   "cell_type": "markdown",
   "metadata": {},
   "source": [
    "![14_a3_f3_1](https://cloud.githubusercontent.com/assets/25119470/25310538/5db35d22-27b4-11e7-9be3-473ccf68f7a4.JPG)\n"
   ]
  },
  {
   "cell_type": "markdown",
   "metadata": {},
   "source": [
    "### Friends and followers of users based on the time zone "
   ]
  },
  {
   "cell_type": "markdown",
   "metadata": {},
   "source": [
    "![15_a3_f3_2](https://cloud.githubusercontent.com/assets/25119470/25310539/67dac538-27b4-11e7-8960-e6da3d0f1deb.JPG)\n"
   ]
  },
  {
   "cell_type": "markdown",
   "metadata": {
    "collapsed": true
   },
   "source": [
    "# Conclusion \n",
    "        \n",
    "\n",
    "- ## For Analysis 3--> Finding - 3\n",
    "From the graph we can say thayt rihanna and Drake are the most popular artist in the tweeter and many people talk about them .\n",
    "As per the tweets , tht top 5 time zone in which more no of tweets happen . So if people form these region have many frinds and follower so if they post anythinh it will reach to huge number of people. \n"
   ]
  },
  {
   "cell_type": "code",
   "execution_count": null,
   "metadata": {
    "collapsed": true
   },
   "outputs": [],
   "source": []
  },
  {
   "cell_type": "code",
   "execution_count": null,
   "metadata": {
    "collapsed": true
   },
   "outputs": [],
   "source": []
  },
  {
   "cell_type": "code",
   "execution_count": null,
   "metadata": {
    "collapsed": true
   },
   "outputs": [],
   "source": []
  },
  {
   "cell_type": "code",
   "execution_count": null,
   "metadata": {
    "collapsed": true
   },
   "outputs": [],
   "source": []
  },
  {
   "cell_type": "code",
   "execution_count": null,
   "metadata": {
    "collapsed": true
   },
   "outputs": [],
   "source": []
  },
  {
   "cell_type": "code",
   "execution_count": null,
   "metadata": {
    "collapsed": true
   },
   "outputs": [],
   "source": []
  }
 ],
 "metadata": {
  "anaconda-cloud": {},
  "kernelspec": {
   "display_name": "Python [conda root]",
   "language": "python",
   "name": "conda-root-py"
  },
  "language_info": {
   "codemirror_mode": {
    "name": "ipython",
    "version": 3
   },
   "file_extension": ".py",
   "mimetype": "text/x-python",
   "name": "python",
   "nbconvert_exporter": "python",
   "pygments_lexer": "ipython3",
   "version": "3.5.2"
  }
 },
 "nbformat": 4,
 "nbformat_minor": 2
}
