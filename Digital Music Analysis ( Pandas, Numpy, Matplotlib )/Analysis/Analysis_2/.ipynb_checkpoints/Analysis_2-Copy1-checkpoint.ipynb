{
 "cells": [
  {
   "cell_type": "code",
   "execution_count": 2,
   "metadata": {
    "collapsed": true
   },
   "outputs": [],
   "source": [
    "import pandas as pd\n",
    "import os"
   ]
  },
  {
   "cell_type": "code",
   "execution_count": 3,
   "metadata": {
    "collapsed": true
   },
   "outputs": [],
   "source": [
    "Root_path=os.getcwd()\n",
    "data= \"Data\"\n",
    "Data= os.path.join(Root_path,data) # we are joining the old with new value to form a new path "
   ]
  },
  {
   "cell_type": "code",
   "execution_count": 12,
   "metadata": {
    "collapsed": false
   },
   "outputs": [
    {
     "name": "stderr",
     "output_type": "stream",
     "text": [
      "C:\\Users\\USER\\Anaconda3\\lib\\site-packages\\IPython\\core\\interactiveshell.py:2821: DtypeWarning: Columns (1) have mixed types. Specify dtype option on import or set low_memory=False.\n",
      "  if self.run_code(code, result):\n"
     ]
    }
   ],
   "source": [
    "review_details_file=\"Final_Reviews.csv\"\n",
    "Data_review_details= os.path.join(Data,review_details_file) # we are joining the old with new value to form a new path \n",
    "\n",
    "path_product_details=\"meta_Digital_Music.csv\"\n",
    "Data_product_details= os.path.join(Data,path_product_details) # we are joining the old with new value to form a new path \n",
    "\n",
    "product_details = pd.DataFrame.from_csv(Data_product_details).reset_index()\n",
    "review_details = pd.DataFrame.from_csv(Data_review_details, encoding = \"ISO-8859-1\").reset_index()\n"
   ]
  },
  {
   "cell_type": "code",
   "execution_count": 8,
   "metadata": {
    "collapsed": false
   },
   "outputs": [
    {
     "data": {
      "text/html": [
       "<div>\n",
       "<table border=\"1\" class=\"dataframe\">\n",
       "  <thead>\n",
       "    <tr style=\"text-align: right;\">\n",
       "      <th></th>\n",
       "      <th>ASIN</th>\n",
       "      <th>TITLE</th>\n",
       "      <th>DESCRIPTION</th>\n",
       "      <th>PRICE</th>\n",
       "      <th>CATEGORIES</th>\n",
       "      <th>URL</th>\n",
       "    </tr>\n",
       "  </thead>\n",
       "  <tbody>\n",
       "    <tr>\n",
       "      <th>0</th>\n",
       "      <td>'5555991584</td>\n",
       "      <td>Memory of Trees</td>\n",
       "      <td>NaN</td>\n",
       "      <td>9.49</td>\n",
       "      <td>CDs &amp; Vinyl New Age Celtic New Age CDs &amp; Vinyl...</td>\n",
       "      <td>http://ecx.images-amazon.com/images/I/51b5WDjd...</td>\n",
       "    </tr>\n",
       "    <tr>\n",
       "      <th>1</th>\n",
       "      <td>'6308051551</td>\n",
       "      <td>Don't Drink His Blood</td>\n",
       "      <td>NEW Combo BLUWAVS CD and FLAC FILE</td>\n",
       "      <td>8.91</td>\n",
       "      <td>Digital Music Alternative Rock Indie &amp; Lo-Fi</td>\n",
       "      <td>http://ecx.images-amazon.com/images/I/31LT2n7Q...</td>\n",
       "    </tr>\n",
       "  </tbody>\n",
       "</table>\n",
       "</div>"
      ],
      "text/plain": [
       "          ASIN                  TITLE                         DESCRIPTION  \\\n",
       "0  '5555991584        Memory of Trees                                 NaN   \n",
       "1  '6308051551  Don't Drink His Blood  NEW Combo BLUWAVS CD and FLAC FILE   \n",
       "\n",
       "   PRICE                                         CATEGORIES  \\\n",
       "0   9.49  CDs & Vinyl New Age Celtic New Age CDs & Vinyl...   \n",
       "1   8.91       Digital Music Alternative Rock Indie & Lo-Fi   \n",
       "\n",
       "                                                 URL  \n",
       "0  http://ecx.images-amazon.com/images/I/51b5WDjd...  \n",
       "1  http://ecx.images-amazon.com/images/I/31LT2n7Q...  "
      ]
     },
     "execution_count": 8,
     "metadata": {},
     "output_type": "execute_result"
    }
   ],
   "source": [
    "product_details.head(2)"
   ]
  },
  {
   "cell_type": "code",
   "execution_count": 9,
   "metadata": {
    "collapsed": true
   },
   "outputs": [],
   "source": [
    "\n",
    "product_details_null= product_details[product_details.TITLE.notnull()].reset_index()"
   ]
  },
  {
   "cell_type": "code",
   "execution_count": 14,
   "metadata": {
    "collapsed": true
   },
   "outputs": [],
   "source": [
    "product_details_SAMPLE =product_details[[\"ASIN\",\"TITLE\",\"PRICE\"]].copy()"
   ]
  },
  {
   "cell_type": "code",
   "execution_count": 15,
   "metadata": {
    "collapsed": true
   },
   "outputs": [],
   "source": [
    "product_details_Onlyid= product_details_SAMPLE.ASIN.drop_duplicates()"
   ]
  },
  {
   "cell_type": "code",
   "execution_count": 26,
   "metadata": {
    "collapsed": true
   },
   "outputs": [],
   "source": [
    "product_details_SAMPLE_uniqe= product_details_Onlyid"
   ]
  },
  {
   "cell_type": "code",
   "execution_count": null,
   "metadata": {
    "collapsed": false
   },
   "outputs": [],
   "source": []
  },
  {
   "cell_type": "code",
   "execution_count": 28,
   "metadata": {
    "collapsed": false
   },
   "outputs": [],
   "source": [
    "review_details_withname= pd.DataFrame(review_details[review_details['ASIN'].isin(product_details_SAMPLE_uniqe)]).reset_index()"
   ]
  },
  {
   "cell_type": "code",
   "execution_count": null,
   "metadata": {
    "collapsed": false
   },
   "outputs": [],
   "source": []
  },
  {
   "cell_type": "code",
   "execution_count": 30,
   "metadata": {
    "collapsed": true
   },
   "outputs": [],
   "source": [
    "review_details_withname[\"Count\"]=1"
   ]
  },
  {
   "cell_type": "code",
   "execution_count": 31,
   "metadata": {
    "collapsed": true
   },
   "outputs": [],
   "source": [
    "Product_most_reviews = pd.DataFrame( review_details_withname.groupby(\"ASIN\",sort=True).Count.sum().reset_index())"
   ]
  },
  {
   "cell_type": "code",
   "execution_count": 32,
   "metadata": {
    "collapsed": false
   },
   "outputs": [],
   "source": [
    "\n",
    "Product_most_reviews_sort=Product_most_reviews.sort_values('Count', ascending=False)"
   ]
  },
  {
   "cell_type": "code",
   "execution_count": 38,
   "metadata": {
    "collapsed": false
   },
   "outputs": [],
   "source": [
    "Top_Products= Product_most_reviews_sort.head(6)"
   ]
  },
  {
   "cell_type": "code",
   "execution_count": 39,
   "metadata": {
    "collapsed": true
   },
   "outputs": [],
   "source": [
    "Top_Products_ids=Top_Products.ASIN"
   ]
  },
  {
   "cell_type": "code",
   "execution_count": 40,
   "metadata": {
    "collapsed": true
   },
   "outputs": [],
   "source": [
    "Top_6_Product_Reviews= pd.DataFrame(review_details[review_details['ASIN'].isin(Top_Products_ids)]).reset_index()"
   ]
  },
  {
   "cell_type": "code",
   "execution_count": 44,
   "metadata": {
    "collapsed": false
   },
   "outputs": [],
   "source": [
    "Just_top_product_reviews= Top_6_Product_Reviews.ReviewText"
   ]
  },
  {
   "cell_type": "code",
   "execution_count": null,
   "metadata": {
    "collapsed": true
   },
   "outputs": [],
   "source": []
  },
  {
   "cell_type": "code",
   "execution_count": 54,
   "metadata": {
    "collapsed": true
   },
   "outputs": [],
   "source": [
    "ALL_path_Review_details=\"Data\\All_filtered_Review.csv\"\n",
    "ALL_Filtered_reviews = os.path.join(Root_path,ALL_path_Review_details) # we are joining the old with new value to form a new path \n",
    "\n",
    "with open (ALL_Filtered_reviews,'a+') as outputfile1:\n",
    "            outputfile1.write(Top_6_Product_Reviews.to_csv(index=False))\n",
    "\n"
   ]
  },
  {
   "cell_type": "code",
   "execution_count": 57,
   "metadata": {
    "collapsed": false
   },
   "outputs": [
    {
     "data": {
      "text/plain": [
       "9940"
      ]
     },
     "execution_count": 57,
     "metadata": {},
     "output_type": "execute_result"
    }
   ],
   "source": [
    "len(Just_top_product_reviews)"
   ]
  },
  {
   "cell_type": "code",
   "execution_count": 70,
   "metadata": {
    "collapsed": true
   },
   "outputs": [],
   "source": [
    "sentimental=\"Data\\Sentiment_score_Review.csv\"\n",
    "sentimental_score = os.path.join(Root_path,sentimental) # we are joining the old with new value to form a new path \n",
    "\n",
    "with open (sentimental_score,'a+') as outputfile1:\n",
    "            outputfile1.write(\"Counter,sentimental_score\"+\"\\n\")\n"
   ]
  },
  {
   "cell_type": "code",
   "execution_count": null,
   "metadata": {
    "collapsed": false
   },
   "outputs": [],
   "source": [
    "count = []\n",
    "from textblob import TextBlob\n",
    "from textblob.sentiments import NaiveBayesAnalyzer\n",
    "\n",
    "for i in range(0,len(Just_top_product_reviews)):\n",
    "    sentence= Just_top_product_reviews[i]\n",
    "    blob = TextBlob(sentence, analyzer=NaiveBayesAnalyzer())\n",
    "    VALUE=[]\n",
    "    if blob.sentiment.classification == 'pos':\n",
    "        count.append(1)\n",
    "        VALUE.append(1)\n",
    "    if blob.sentiment.classification == 'neg':\n",
    "        count.append(0)\n",
    "        VALUE.append(0)\n",
    "    with open (sentimental_score,'a+') as outputfile1:\n",
    "            outputfile1.write(str(i)+\",\"+str(VALUE[0])+\",\"+\"\\n\")\n",
    "\n"
   ]
  },
  {
   "cell_type": "code",
   "execution_count": null,
   "metadata": {
    "collapsed": true
   },
   "outputs": [],
   "source": []
  },
  {
   "cell_type": "code",
   "execution_count": null,
   "metadata": {
    "collapsed": true
   },
   "outputs": [],
   "source": []
  },
  {
   "cell_type": "code",
   "execution_count": null,
   "metadata": {
    "collapsed": true
   },
   "outputs": [],
   "source": []
  },
  {
   "cell_type": "code",
   "execution_count": null,
   "metadata": {
    "collapsed": true
   },
   "outputs": [],
   "source": []
  },
  {
   "cell_type": "code",
   "execution_count": null,
   "metadata": {
    "collapsed": true
   },
   "outputs": [],
   "source": []
  },
  {
   "cell_type": "code",
   "execution_count": null,
   "metadata": {
    "collapsed": false
   },
   "outputs": [],
   "source": [
    "Review_details = pd.DataFrame.from_csv(Data_Review_details, encoding = \"ISO-8859-1\").reset_index()"
   ]
  },
  {
   "cell_type": "code",
   "execution_count": 11,
   "metadata": {
    "collapsed": false
   },
   "outputs": [
    {
     "data": {
      "text/html": [
       "<div>\n",
       "<table border=\"1\" class=\"dataframe\">\n",
       "  <thead>\n",
       "    <tr style=\"text-align: right;\">\n",
       "      <th></th>\n",
       "      <th>index</th>\n",
       "      <th>ASIN</th>\n",
       "      <th>OVERALL</th>\n",
       "      <th>ReviewText</th>\n",
       "      <th>ReviewTime</th>\n",
       "      <th>ReviewerID</th>\n",
       "      <th>ReviewerName</th>\n",
       "      <th>Summary</th>\n",
       "      <th>UnixReviewTime</th>\n",
       "      <th>Helpful</th>\n",
       "      <th>Count</th>\n",
       "      <th>0</th>\n",
       "    </tr>\n",
       "  </thead>\n",
       "  <tbody>\n",
       "    <tr>\n",
       "      <th>0</th>\n",
       "      <td>148043</td>\n",
       "      <td>'B00005YW4H</td>\n",
       "      <td>5</td>\n",
       "      <td>This cd has great music and is easy to listen ...</td>\n",
       "      <td>07 20 2014</td>\n",
       "      <td>A2ANZYE6HTIUAO</td>\n",
       "      <td>NaN</td>\n",
       "      <td>'Five Stars</td>\n",
       "      <td>'1405814400</td>\n",
       "      <td>0 \\  0</td>\n",
       "      <td>1</td>\n",
       "      <td>1</td>\n",
       "    </tr>\n",
       "    <tr>\n",
       "      <th>1</th>\n",
       "      <td>148044</td>\n",
       "      <td>'B00005YW4H</td>\n",
       "      <td>4</td>\n",
       "      <td>i just picked this cd up not knowing a thing a...</td>\n",
       "      <td>04 16 2002</td>\n",
       "      <td>A10WN0I140TE70</td>\n",
       "      <td>30 wk preemie mom</td>\n",
       "      <td>'great buy</td>\n",
       "      <td>'1018915200</td>\n",
       "      <td>0 \\  1</td>\n",
       "      <td>1</td>\n",
       "      <td>1</td>\n",
       "    </tr>\n",
       "  </tbody>\n",
       "</table>\n",
       "</div>"
      ],
      "text/plain": [
       "    index         ASIN  OVERALL  \\\n",
       "0  148043  'B00005YW4H        5   \n",
       "1  148044  'B00005YW4H        4   \n",
       "\n",
       "                                          ReviewText  ReviewTime  \\\n",
       "0  This cd has great music and is easy to listen ...  07 20 2014   \n",
       "1  i just picked this cd up not knowing a thing a...  04 16 2002   \n",
       "\n",
       "       ReviewerID       ReviewerName      Summary UnixReviewTime Helpful  \\\n",
       "0  A2ANZYE6HTIUAO                NaN  'Five Stars    '1405814400  0 \\  0   \n",
       "1  A10WN0I140TE70  30 wk preemie mom   'great buy    '1018915200  0 \\  1   \n",
       "\n",
       "   Count  0  \n",
       "0      1  1  \n",
       "1      1  1  "
      ]
     },
     "execution_count": 11,
     "metadata": {},
     "output_type": "execute_result"
    }
   ],
   "source": [
    "Review_details.head(2)"
   ]
  },
  {
   "cell_type": "code",
   "execution_count": 57,
   "metadata": {
    "collapsed": false
   },
   "outputs": [],
   "source": [
    "# we are creating a lambda function \n",
    "Review_details[\"Really_Helpfull\"] = Review_details[\"Helpful\"].apply(lambda x:x.split(\"\\\\\",1)[-2]).astype(int)"
   ]
  },
  {
   "cell_type": "code",
   "execution_count": 58,
   "metadata": {
    "collapsed": false
   },
   "outputs": [],
   "source": [
    "Review_details[\"Not_Helpfull\"] = Review_details[\"Helpful\"].apply(lambda x:x.split(\"\\\\\",1)[-1]).astype(int)"
   ]
  },
  {
   "cell_type": "code",
   "execution_count": 59,
   "metadata": {
    "collapsed": false
   },
   "outputs": [
    {
     "data": {
      "text/html": [
       "<div>\n",
       "<table border=\"1\" class=\"dataframe\">\n",
       "  <thead>\n",
       "    <tr style=\"text-align: right;\">\n",
       "      <th></th>\n",
       "      <th>index</th>\n",
       "      <th>ASIN</th>\n",
       "      <th>OVERALL</th>\n",
       "      <th>ReviewText</th>\n",
       "      <th>ReviewTime</th>\n",
       "      <th>ReviewerID</th>\n",
       "      <th>ReviewerName</th>\n",
       "      <th>Summary</th>\n",
       "      <th>UnixReviewTime</th>\n",
       "      <th>Helpful</th>\n",
       "      <th>Count</th>\n",
       "      <th>Sentimental_score</th>\n",
       "      <th>Really_Helpfull</th>\n",
       "      <th>Not_Helpfull</th>\n",
       "    </tr>\n",
       "  </thead>\n",
       "  <tbody>\n",
       "    <tr>\n",
       "      <th>0</th>\n",
       "      <td>148043</td>\n",
       "      <td>'B00005YW4H</td>\n",
       "      <td>5</td>\n",
       "      <td>This cd has great music and is easy to listen ...</td>\n",
       "      <td>07 20 2014</td>\n",
       "      <td>A2ANZYE6HTIUAO</td>\n",
       "      <td>NaN</td>\n",
       "      <td>'Five Stars</td>\n",
       "      <td>'1405814400</td>\n",
       "      <td>0 \\  0</td>\n",
       "      <td>1</td>\n",
       "      <td>1</td>\n",
       "      <td>0</td>\n",
       "      <td>0</td>\n",
       "    </tr>\n",
       "    <tr>\n",
       "      <th>1</th>\n",
       "      <td>148044</td>\n",
       "      <td>'B00005YW4H</td>\n",
       "      <td>4</td>\n",
       "      <td>i just picked this cd up not knowing a thing a...</td>\n",
       "      <td>04 16 2002</td>\n",
       "      <td>A10WN0I140TE70</td>\n",
       "      <td>30 wk preemie mom</td>\n",
       "      <td>'great buy</td>\n",
       "      <td>'1018915200</td>\n",
       "      <td>0 \\  1</td>\n",
       "      <td>1</td>\n",
       "      <td>1</td>\n",
       "      <td>0</td>\n",
       "      <td>1</td>\n",
       "    </tr>\n",
       "  </tbody>\n",
       "</table>\n",
       "</div>"
      ],
      "text/plain": [
       "    index         ASIN  OVERALL  \\\n",
       "0  148043  'B00005YW4H        5   \n",
       "1  148044  'B00005YW4H        4   \n",
       "\n",
       "                                          ReviewText  ReviewTime  \\\n",
       "0  This cd has great music and is easy to listen ...  07 20 2014   \n",
       "1  i just picked this cd up not knowing a thing a...  04 16 2002   \n",
       "\n",
       "       ReviewerID       ReviewerName      Summary UnixReviewTime Helpful  \\\n",
       "0  A2ANZYE6HTIUAO                NaN  'Five Stars    '1405814400  0 \\  0   \n",
       "1  A10WN0I140TE70  30 wk preemie mom   'great buy    '1018915200  0 \\  1   \n",
       "\n",
       "   Count  Sentimental_score  Really_Helpfull  Not_Helpfull  \n",
       "0      1                  1                0             0  \n",
       "1      1                  1                0             1  "
      ]
     },
     "execution_count": 59,
     "metadata": {},
     "output_type": "execute_result"
    }
   ],
   "source": [
    "Review_details.head(2)"
   ]
  },
  {
   "cell_type": "code",
   "execution_count": 48,
   "metadata": {
    "collapsed": false
   },
   "outputs": [],
   "source": [
    "Review_details=Review_details.rename(columns = {\"0\":\"Sentimental_score\"})\n"
   ]
  },
  {
   "cell_type": "code",
   "execution_count": 64,
   "metadata": {
    "collapsed": false
   },
   "outputs": [],
   "source": [
    "# We are creating a data frame where we finter the data for n\n",
    "Helpful=pd.DataFrame( Review_details.groupby([\"ASIN\",\"Sentimental_score\"],sort=False).Really_Helpfull.sum().reset_index())"
   ]
  },
  {
   "cell_type": "code",
   "execution_count": 61,
   "metadata": {
    "collapsed": false
   },
   "outputs": [
    {
     "data": {
      "text/html": [
       "<div>\n",
       "<table border=\"1\" class=\"dataframe\">\n",
       "  <thead>\n",
       "    <tr style=\"text-align: right;\">\n",
       "      <th></th>\n",
       "      <th>ASIN</th>\n",
       "      <th>Sentimental_score</th>\n",
       "      <th>Really_Helpfull</th>\n",
       "    </tr>\n",
       "  </thead>\n",
       "  <tbody>\n",
       "    <tr>\n",
       "      <th>0</th>\n",
       "      <td>'B00005YW4H</td>\n",
       "      <td>1</td>\n",
       "      <td>3932</td>\n",
       "    </tr>\n",
       "    <tr>\n",
       "      <th>1</th>\n",
       "      <td>'B00005YW4H</td>\n",
       "      <td>0</td>\n",
       "      <td>380</td>\n",
       "    </tr>\n",
       "    <tr>\n",
       "      <th>2</th>\n",
       "      <td>'B000084T18</td>\n",
       "      <td>1</td>\n",
       "      <td>1625</td>\n",
       "    </tr>\n",
       "    <tr>\n",
       "      <th>3</th>\n",
       "      <td>'B000084T18</td>\n",
       "      <td>0</td>\n",
       "      <td>839</td>\n",
       "    </tr>\n",
       "    <tr>\n",
       "      <th>4</th>\n",
       "      <td>'B00008H2LB</td>\n",
       "      <td>0</td>\n",
       "      <td>439</td>\n",
       "    </tr>\n",
       "    <tr>\n",
       "      <th>5</th>\n",
       "      <td>'B00008H2LB</td>\n",
       "      <td>1</td>\n",
       "      <td>1640</td>\n",
       "    </tr>\n",
       "  </tbody>\n",
       "</table>\n",
       "</div>"
      ],
      "text/plain": [
       "          ASIN  Sentimental_score  Really_Helpfull\n",
       "0  'B00005YW4H                  1             3932\n",
       "1  'B00005YW4H                  0              380\n",
       "2  'B000084T18                  1             1625\n",
       "3  'B000084T18                  0              839\n",
       "4  'B00008H2LB                  0              439\n",
       "5  'B00008H2LB                  1             1640"
      ]
     },
     "execution_count": 61,
     "metadata": {},
     "output_type": "execute_result"
    }
   ],
   "source": [
    "NEWYORK.head(10)"
   ]
  },
  {
   "cell_type": "code",
   "execution_count": 65,
   "metadata": {
    "collapsed": true
   },
   "outputs": [],
   "source": [
    "# We are creating a data frame where we finter the data for newyork \n",
    "NotHelpful =pd.DataFrame( Review_details.groupby([\"ASIN\",\"Sentimental_score\"],sort=False).Not_Helpfull.sum().reset_index())"
   ]
  },
  {
   "cell_type": "code",
   "execution_count": 66,
   "metadata": {
    "collapsed": true
   },
   "outputs": [],
   "source": [
    "Filtered_with_merged=pd.merge(NotHelpful,Helpful, on=(\"ASIN\",\"Sentimental_score\"))"
   ]
  },
  {
   "cell_type": "code",
   "execution_count": 67,
   "metadata": {
    "collapsed": false
   },
   "outputs": [
    {
     "data": {
      "text/html": [
       "<div>\n",
       "<table border=\"1\" class=\"dataframe\">\n",
       "  <thead>\n",
       "    <tr style=\"text-align: right;\">\n",
       "      <th></th>\n",
       "      <th>ASIN</th>\n",
       "      <th>Sentimental_score</th>\n",
       "      <th>Not_Helpfull</th>\n",
       "      <th>Really_Helpfull</th>\n",
       "    </tr>\n",
       "  </thead>\n",
       "  <tbody>\n",
       "    <tr>\n",
       "      <th>0</th>\n",
       "      <td>'B00005YW4H</td>\n",
       "      <td>1</td>\n",
       "      <td>5877</td>\n",
       "      <td>3932</td>\n",
       "    </tr>\n",
       "    <tr>\n",
       "      <th>1</th>\n",
       "      <td>'B00005YW4H</td>\n",
       "      <td>0</td>\n",
       "      <td>943</td>\n",
       "      <td>380</td>\n",
       "    </tr>\n",
       "    <tr>\n",
       "      <th>2</th>\n",
       "      <td>'B000084T18</td>\n",
       "      <td>1</td>\n",
       "      <td>2775</td>\n",
       "      <td>1625</td>\n",
       "    </tr>\n",
       "    <tr>\n",
       "      <th>3</th>\n",
       "      <td>'B000084T18</td>\n",
       "      <td>0</td>\n",
       "      <td>1409</td>\n",
       "      <td>839</td>\n",
       "    </tr>\n",
       "    <tr>\n",
       "      <th>4</th>\n",
       "      <td>'B00008H2LB</td>\n",
       "      <td>0</td>\n",
       "      <td>1135</td>\n",
       "      <td>439</td>\n",
       "    </tr>\n",
       "    <tr>\n",
       "      <th>5</th>\n",
       "      <td>'B00008H2LB</td>\n",
       "      <td>1</td>\n",
       "      <td>2719</td>\n",
       "      <td>1640</td>\n",
       "    </tr>\n",
       "    <tr>\n",
       "      <th>6</th>\n",
       "      <td>'B0000AGWEC</td>\n",
       "      <td>1</td>\n",
       "      <td>12537</td>\n",
       "      <td>8874</td>\n",
       "    </tr>\n",
       "    <tr>\n",
       "      <th>7</th>\n",
       "      <td>'B0000AGWEC</td>\n",
       "      <td>0</td>\n",
       "      <td>2069</td>\n",
       "      <td>687</td>\n",
       "    </tr>\n",
       "    <tr>\n",
       "      <th>8</th>\n",
       "      <td>'B0007NFL18</td>\n",
       "      <td>0</td>\n",
       "      <td>3034</td>\n",
       "      <td>1769</td>\n",
       "    </tr>\n",
       "    <tr>\n",
       "      <th>9</th>\n",
       "      <td>'B0007NFL18</td>\n",
       "      <td>1</td>\n",
       "      <td>3703</td>\n",
       "      <td>2249</td>\n",
       "    </tr>\n",
       "    <tr>\n",
       "      <th>10</th>\n",
       "      <td>'B000BGR18W</td>\n",
       "      <td>1</td>\n",
       "      <td>10313</td>\n",
       "      <td>5785</td>\n",
       "    </tr>\n",
       "    <tr>\n",
       "      <th>11</th>\n",
       "      <td>'B000BGR18W</td>\n",
       "      <td>0</td>\n",
       "      <td>2416</td>\n",
       "      <td>1240</td>\n",
       "    </tr>\n",
       "    <tr>\n",
       "      <th>12</th>\n",
       "      <td>'B0026P3G12</td>\n",
       "      <td>1</td>\n",
       "      <td>8133</td>\n",
       "      <td>6093</td>\n",
       "    </tr>\n",
       "    <tr>\n",
       "      <th>13</th>\n",
       "      <td>'B0026P3G12</td>\n",
       "      <td>0</td>\n",
       "      <td>314</td>\n",
       "      <td>226</td>\n",
       "    </tr>\n",
       "    <tr>\n",
       "      <th>14</th>\n",
       "      <td>'B004D1GZ2E</td>\n",
       "      <td>1</td>\n",
       "      <td>717</td>\n",
       "      <td>438</td>\n",
       "    </tr>\n",
       "    <tr>\n",
       "      <th>15</th>\n",
       "      <td>'B004D1GZ2E</td>\n",
       "      <td>0</td>\n",
       "      <td>23</td>\n",
       "      <td>8</td>\n",
       "    </tr>\n",
       "  </tbody>\n",
       "</table>\n",
       "</div>"
      ],
      "text/plain": [
       "           ASIN  Sentimental_score  Not_Helpfull  Really_Helpfull\n",
       "0   'B00005YW4H                  1          5877             3932\n",
       "1   'B00005YW4H                  0           943              380\n",
       "2   'B000084T18                  1          2775             1625\n",
       "3   'B000084T18                  0          1409              839\n",
       "4   'B00008H2LB                  0          1135              439\n",
       "5   'B00008H2LB                  1          2719             1640\n",
       "6   'B0000AGWEC                  1         12537             8874\n",
       "7   'B0000AGWEC                  0          2069              687\n",
       "8   'B0007NFL18                  0          3034             1769\n",
       "9   'B0007NFL18                  1          3703             2249\n",
       "10  'B000BGR18W                  1         10313             5785\n",
       "11  'B000BGR18W                  0          2416             1240\n",
       "12  'B0026P3G12                  1          8133             6093\n",
       "13  'B0026P3G12                  0           314              226\n",
       "14  'B004D1GZ2E                  1           717              438\n",
       "15  'B004D1GZ2E                  0            23                8"
      ]
     },
     "execution_count": 67,
     "metadata": {},
     "output_type": "execute_result"
    }
   ],
   "source": [
    "Filtered_with_merged"
   ]
  },
  {
   "cell_type": "code",
   "execution_count": null,
   "metadata": {
    "collapsed": true
   },
   "outputs": [],
   "source": []
  },
  {
   "cell_type": "code",
   "execution_count": null,
   "metadata": {
    "collapsed": true
   },
   "outputs": [],
   "source": []
  },
  {
   "cell_type": "code",
   "execution_count": null,
   "metadata": {
    "collapsed": true
   },
   "outputs": [],
   "source": [
    "Top_reviewed_product = pd.DataFrame( review_details.groupby(\"ASIN\",sort=True).Count.sum().reset_index())"
   ]
  },
  {
   "cell_type": "code",
   "execution_count": null,
   "metadata": {
    "collapsed": true
   },
   "outputs": [],
   "source": [
    "\n",
    "Top_reviewed_product_sort=Top_reviewed_product.sort_values('Count', ascending=False)"
   ]
  },
  {
   "cell_type": "code",
   "execution_count": null,
   "metadata": {
    "collapsed": true
   },
   "outputs": [],
   "source": [
    "Top_10_Product=pd.DataFrame( Top_reviewed_product_sort.head(10))"
   ]
  },
  {
   "cell_type": "code",
   "execution_count": null,
   "metadata": {
    "collapsed": true
   },
   "outputs": [],
   "source": [
    "product_details_SAMPLE =product_details[[\"ASIN\",\"TITLE\",\"PRICE\"]].copy()"
   ]
  },
  {
   "cell_type": "code",
   "execution_count": null,
   "metadata": {
    "collapsed": true
   },
   "outputs": [],
   "source": [
    "product_details_SAMPLE_uniqe= product_details_SAMPLE.drop_duplicates()"
   ]
  },
  {
   "cell_type": "code",
   "execution_count": null,
   "metadata": {
    "collapsed": true
   },
   "outputs": [],
   "source": [
    "PRO_TRY= pd.merge(Top_10_Product,product_details_SAMPLE_uniqe, on =\"ASIN\")"
   ]
  },
  {
   "cell_type": "code",
   "execution_count": null,
   "metadata": {
    "collapsed": true
   },
   "outputs": [],
   "source": [
    "PRO_TRY"
   ]
  },
  {
   "cell_type": "code",
   "execution_count": null,
   "metadata": {
    "collapsed": true
   },
   "outputs": [],
   "source": []
  },
  {
   "cell_type": "code",
   "execution_count": null,
   "metadata": {
    "collapsed": true
   },
   "outputs": [],
   "source": []
  },
  {
   "cell_type": "code",
   "execution_count": null,
   "metadata": {
    "collapsed": true
   },
   "outputs": [],
   "source": []
  },
  {
   "cell_type": "code",
   "execution_count": null,
   "metadata": {
    "collapsed": true
   },
   "outputs": [],
   "source": []
  },
  {
   "cell_type": "code",
   "execution_count": null,
   "metadata": {
    "collapsed": true
   },
   "outputs": [],
   "source": []
  }
 ],
 "metadata": {
  "anaconda-cloud": {},
  "kernelspec": {
   "display_name": "Python [conda root]",
   "language": "python",
   "name": "conda-root-py"
  },
  "language_info": {
   "codemirror_mode": {
    "name": "ipython",
    "version": 3
   },
   "file_extension": ".py",
   "mimetype": "text/x-python",
   "name": "python",
   "nbconvert_exporter": "python",
   "pygments_lexer": "ipython3",
   "version": "3.5.2"
  }
 },
 "nbformat": 4,
 "nbformat_minor": 2
}
