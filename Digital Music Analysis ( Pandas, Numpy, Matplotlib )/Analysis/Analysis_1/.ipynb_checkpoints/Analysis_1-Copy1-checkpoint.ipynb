{
 "cells": [
  {
   "cell_type": "code",
   "execution_count": null,
   "metadata": {
    "collapsed": true
   },
   "outputs": [],
   "source": []
  },
  {
   "cell_type": "code",
   "execution_count": 1,
   "metadata": {
    "collapsed": true
   },
   "outputs": [],
   "source": [
    "import pandas as pd\n",
    "import os\n",
    "from operator import itemgetter # Importing the itemgetter"
   ]
  },
  {
   "cell_type": "code",
   "execution_count": 2,
   "metadata": {
    "collapsed": false
   },
   "outputs": [],
   "source": [
    "Root_path=os.getcwd()\n",
    "data= \"Data\"\n",
    "Data= os.path.join(Root_path,data) # we are joining the old with new value to form a new path "
   ]
  },
  {
   "cell_type": "code",
   "execution_count": 3,
   "metadata": {
    "collapsed": false
   },
   "outputs": [],
   "source": [
    "review_details_file=\"Final_Reviews.csv\"\n",
    "Data_review_details= os.path.join(Data,review_details_file) # we are joining the old with new value to form a new path \n",
    "\n",
    "path_album_details=\"Spotify_Album_complete_details.csv\"\n",
    "Data_album_details= os.path.join(Data,path_album_details) # we are joining the old with new value to form a new path \n",
    "\n",
    "path_artist_details=\"Spotify_Artist_CompleteS_details.csv\"\n",
    "Data_artist_details= os.path.join(Data,path_artist_details) # we are joining the old with new value to form a new path \n",
    "\n",
    "path_product_details=\"meta_Digital_Music.csv\"\n",
    "Data_product_details= os.path.join(Data,path_product_details) # we are joining the old with new value to form a new path \n"
   ]
  },
  {
   "cell_type": "code",
   "execution_count": 4,
   "metadata": {
    "collapsed": false
   },
   "outputs": [
    {
     "name": "stderr",
     "output_type": "stream",
     "text": [
      "C:\\Users\\USER\\Anaconda3\\lib\\site-packages\\IPython\\core\\interactiveshell.py:2821: DtypeWarning: Columns (1) have mixed types. Specify dtype option on import or set low_memory=False.\n",
      "  if self.run_code(code, result):\n"
     ]
    }
   ],
   "source": [
    "artist_details = pd.DataFrame.from_csv(Data_artist_details, encoding = \"ISO-8859-1\").reset_index()\n",
    "album_details = pd.DataFrame.from_csv(Data_album_details, encoding = \"ISO-8859-1\").reset_index()\n",
    "review_details = pd.DataFrame.from_csv(Data_review_details, encoding = \"ISO-8859-1\").reset_index()\n",
    "product_details = pd.DataFrame.from_csv(Data_product_details, encoding = \"ISO-8859-1\").reset_index()\n"
   ]
  },
  {
   "cell_type": "markdown",
   "metadata": {},
   "source": [
    "# Artist with most No of follower \n",
    "# Artist with most No of popularity\n",
    "# Finding the relation between follower and popularity"
   ]
  },
  {
   "cell_type": "code",
   "execution_count": 22,
   "metadata": {
    "collapsed": false
   },
   "outputs": [],
   "source": [
    "Artist_followers =  artist_details.sort_values(['Artist_followers'], ascending=[False])"
   ]
  },
  {
   "cell_type": "code",
   "execution_count": 23,
   "metadata": {
    "collapsed": true
   },
   "outputs": [],
   "source": [
    "Artist_followers_sorted =Artist_followers[[\"Artist_name\",\"Artist_followers\"]].copy().reset_index()"
   ]
  },
  {
   "cell_type": "code",
   "execution_count": 24,
   "metadata": {
    "collapsed": false
   },
   "outputs": [],
   "source": [
    "Artist_popularity =  artist_details.sort_values(['Artist_popularity'], ascending=[False])"
   ]
  },
  {
   "cell_type": "code",
   "execution_count": 25,
   "metadata": {
    "collapsed": true
   },
   "outputs": [],
   "source": [
    "Artist_popularity_sorted =Artist_popularity[[\"Artist_name\",\"Artist_popularity\"]].copy()"
   ]
  },
  {
   "cell_type": "code",
   "execution_count": 28,
   "metadata": {
    "collapsed": false
   },
   "outputs": [],
   "source": [
    "Relation_table = pd.merge(Artist_followers_sorted,Artist_popularity_sorted , on=\"Artist_name\")"
   ]
  },
  {
   "cell_type": "code",
   "execution_count": 134,
   "metadata": {
    "collapsed": false
   },
   "outputs": [],
   "source": [
    "Top_Artist_followers_populatity=Relation_table.head(10)"
   ]
  },
  {
   "cell_type": "markdown",
   "metadata": {},
   "source": [
    "# 3 - Graph , 1 for follower 1 - populatilty and 1 for combination "
   ]
  },
  {
   "cell_type": "code",
   "execution_count": null,
   "metadata": {
    "collapsed": true
   },
   "outputs": [],
   "source": []
  },
  {
   "cell_type": "markdown",
   "metadata": {},
   "source": [
    "# Over all distrubution of geners "
   ]
  },
  {
   "cell_type": "code",
   "execution_count": 50,
   "metadata": {
    "collapsed": true
   },
   "outputs": [],
   "source": [
    "artist_details_gener= pd.DataFrame(artist_details[artist_details.Artist_genres.notnull()].reset_index())"
   ]
  },
  {
   "cell_type": "code",
   "execution_count": 51,
   "metadata": {
    "collapsed": true
   },
   "outputs": [],
   "source": [
    "\n",
    "gener_series= artist_details_gener.Artist_genres"
   ]
  },
  {
   "cell_type": "code",
   "execution_count": 146,
   "metadata": {
    "collapsed": false
   },
   "outputs": [],
   "source": [
    "gener_list= []\n",
    "for i in range(0,len(gener_series)):\n",
    "    conv= str(gener_series[i])\n",
    "    a=conv.split(\"-\")\n",
    "    for n in range(0,len(a)):\n",
    "        b= a[n]\n",
    "        gener_list.append(b)"
   ]
  },
  {
   "cell_type": "code",
   "execution_count": 147,
   "metadata": {
    "collapsed": true
   },
   "outputs": [],
   "source": [
    "gener_dic ={}\n",
    "for word in gener_list: \n",
    "    word = word.strip()\n",
    "    if word not in gener_dic:\n",
    "        gener_dic [word] = 1   # Adding to the dictionary if the words are not present \n",
    "    else:\n",
    "        gener_dic[word] += 1  # incrementing the count if the are present in the  dictionary "
   ]
  },
  {
   "cell_type": "code",
   "execution_count": 148,
   "metadata": {
    "collapsed": true
   },
   "outputs": [],
   "source": [
    "sorting_gener = sorted(gener_dic.items(), key=itemgetter(1),reverse=True) \n",
    "# using the item getter to sort the dictionary based on the value in descending order "
   ]
  },
  {
   "cell_type": "code",
   "execution_count": 149,
   "metadata": {
    "collapsed": false
   },
   "outputs": [
    {
     "name": "stdout",
     "output_type": "stream",
     "text": [
      "The top 10 most frequent gener and their frequency are displayed below [('rock', 547), ('post', 542), ('folk', 468), ('pop', 446), ('punk', 372), ('mellow gold', 260), ('disco', 253), ('dance pop', 245), ('songwriter', 230), ('blues', 229)]\n"
     ]
    }
   ],
   "source": [
    "# Printing top 10 most frequent words and their frequency\n",
    "print(\"The top 10 most frequent gener and their frequency are displayed below\",sorting_gener[:10] )"
   ]
  },
  {
   "cell_type": "markdown",
   "metadata": {},
   "source": [
    "# grapg of distrubution of geners "
   ]
  },
  {
   "cell_type": "code",
   "execution_count": null,
   "metadata": {
    "collapsed": true
   },
   "outputs": [],
   "source": []
  },
  {
   "cell_type": "markdown",
   "metadata": {},
   "source": [
    "# top gener for each artist "
   ]
  },
  {
   "cell_type": "code",
   "execution_count": null,
   "metadata": {
    "collapsed": true
   },
   "outputs": [],
   "source": [
    "artist_details_geners= pd.DataFrame(artist_details[artist_details.Artist_genres.notnull()].reset_index())"
   ]
  },
  {
   "cell_type": "code",
   "execution_count": 110,
   "metadata": {
    "collapsed": false
   },
   "outputs": [],
   "source": [
    "Artist_and_gener =artist_details_geners[[\"Artist_name\",\"Artist_genres\"]].copy()"
   ]
  },
  {
   "cell_type": "code",
   "execution_count": 111,
   "metadata": {
    "collapsed": false
   },
   "outputs": [],
   "source": [
    "Artist_gener= Artist_and_gener.groupby('Artist_name').agg(lambda x: ''.join(set(x))).reset_index()"
   ]
  },
  {
   "cell_type": "code",
   "execution_count": 157,
   "metadata": {
    "collapsed": false
   },
   "outputs": [],
   "source": [
    "\n",
    "gener_Artist_name= Artist_gener.Artist_name\n",
    "\n",
    "gener_Artist_genres= Artist_gener.Artist_genres"
   ]
  },
  {
   "cell_type": "code",
   "execution_count": 158,
   "metadata": {
    "collapsed": false
   },
   "outputs": [],
   "source": [
    "gener_list= []\n",
    "Topgener_by_artict=[]\n",
    "gener_dic_artist={}\n",
    "frame_gener = []\n",
    "frame_artistname =[]\n",
    "for i in range(0,len(gener_Artist_genres)):\n",
    "    name = gener_Artist_name[i]\n",
    "    conv= str(gener_Artist_genres[i])\n",
    "    a=conv.split(\"-\")\n",
    "    for n in range(0,len(a)):\n",
    "        b= a[n]\n",
    "        gener_list.append(b)\n",
    "    for word in gener_list: \n",
    "        word = word.strip()\n",
    "        if word not in gener_dic_artist:\n",
    "            gener_dic_artist [word] = 1   # Adding to the dictionary if the words are not present \n",
    "        else:\n",
    "            gener_dic_artist[word] += 1  # incrementing the count if the are present in the  dictionary \n",
    "    sort_gener_dic_artist = sorted(gener_dic_artist.items(), key=itemgetter(1),reverse=True) \n",
    "    topgener = sort_gener_dic_artist[0][0]\n",
    "    Topgener_by_artict.append(topgener)\n",
    "    \n",
    "    frame_gener.append(topgener)\n",
    "    frame_artistname.append(name)\n",
    "    \n",
    "    gener_list= []\n",
    "    gener_dic_artist={}\n"
   ]
  },
  {
   "cell_type": "code",
   "execution_count": 159,
   "metadata": {
    "collapsed": false
   },
   "outputs": [],
   "source": [
    "Artist_top_gener = pd.DataFrame({\"Artist_name\" :frame_artistname,\"Geners\":frame_gener})"
   ]
  },
  {
   "cell_type": "code",
   "execution_count": 160,
   "metadata": {
    "collapsed": false
   },
   "outputs": [],
   "source": [
    "Top_Artist_followers_populatity_gener = pd.merge(Top_Artist_followers_populatity,Artist_top_gener , on=\"Artist_name\")"
   ]
  },
  {
   "cell_type": "code",
   "execution_count": 161,
   "metadata": {
    "collapsed": false
   },
   "outputs": [
    {
     "data": {
      "text/html": [
       "<div>\n",
       "<table border=\"1\" class=\"dataframe\">\n",
       "  <thead>\n",
       "    <tr style=\"text-align: right;\">\n",
       "      <th></th>\n",
       "      <th>index</th>\n",
       "      <th>Artist_name</th>\n",
       "      <th>Artist_followers</th>\n",
       "      <th>Artist_popularity</th>\n",
       "      <th>Geners</th>\n",
       "    </tr>\n",
       "  </thead>\n",
       "  <tbody>\n",
       "    <tr>\n",
       "      <th>0</th>\n",
       "      <td>11992</td>\n",
       "      <td>Rihanna</td>\n",
       "      <td>9882593</td>\n",
       "      <td>90</td>\n",
       "      <td>urban contemporary</td>\n",
       "    </tr>\n",
       "    <tr>\n",
       "      <th>1</th>\n",
       "      <td>8050</td>\n",
       "      <td>Drake</td>\n",
       "      <td>9550955</td>\n",
       "      <td>100</td>\n",
       "      <td>pop rap</td>\n",
       "    </tr>\n",
       "    <tr>\n",
       "      <th>2</th>\n",
       "      <td>2642</td>\n",
       "      <td>David Guetta</td>\n",
       "      <td>8473946</td>\n",
       "      <td>83</td>\n",
       "      <td>pop</td>\n",
       "    </tr>\n",
       "    <tr>\n",
       "      <th>3</th>\n",
       "      <td>15452</td>\n",
       "      <td>Eminem</td>\n",
       "      <td>7949903</td>\n",
       "      <td>88</td>\n",
       "      <td>pop rap</td>\n",
       "    </tr>\n",
       "    <tr>\n",
       "      <th>4</th>\n",
       "      <td>133</td>\n",
       "      <td>Maroon 5</td>\n",
       "      <td>7753799</td>\n",
       "      <td>87</td>\n",
       "      <td>pop</td>\n",
       "    </tr>\n",
       "    <tr>\n",
       "      <th>5</th>\n",
       "      <td>9280</td>\n",
       "      <td>Coldplay</td>\n",
       "      <td>7118430</td>\n",
       "      <td>90</td>\n",
       "      <td>permanent wave</td>\n",
       "    </tr>\n",
       "    <tr>\n",
       "      <th>6</th>\n",
       "      <td>14625</td>\n",
       "      <td>Beyoncé</td>\n",
       "      <td>6573488</td>\n",
       "      <td>84</td>\n",
       "      <td>r&amp;b</td>\n",
       "    </tr>\n",
       "    <tr>\n",
       "      <th>7</th>\n",
       "      <td>8861</td>\n",
       "      <td>One Direction</td>\n",
       "      <td>6348899</td>\n",
       "      <td>81</td>\n",
       "      <td>talent show</td>\n",
       "    </tr>\n",
       "    <tr>\n",
       "      <th>8</th>\n",
       "      <td>15380</td>\n",
       "      <td>Calvin Harris</td>\n",
       "      <td>5982108</td>\n",
       "      <td>87</td>\n",
       "      <td>edm</td>\n",
       "    </tr>\n",
       "    <tr>\n",
       "      <th>9</th>\n",
       "      <td>12909</td>\n",
       "      <td>Ariana Grande</td>\n",
       "      <td>5881168</td>\n",
       "      <td>87</td>\n",
       "      <td>teen pop</td>\n",
       "    </tr>\n",
       "  </tbody>\n",
       "</table>\n",
       "</div>"
      ],
      "text/plain": [
       "   index    Artist_name  Artist_followers  Artist_popularity  \\\n",
       "0  11992        Rihanna           9882593                 90   \n",
       "1   8050          Drake           9550955                100   \n",
       "2   2642   David Guetta           8473946                 83   \n",
       "3  15452         Eminem           7949903                 88   \n",
       "4    133       Maroon 5           7753799                 87   \n",
       "5   9280       Coldplay           7118430                 90   \n",
       "6  14625        Beyoncé           6573488                 84   \n",
       "7   8861  One Direction           6348899                 81   \n",
       "8  15380  Calvin Harris           5982108                 87   \n",
       "9  12909  Ariana Grande           5881168                 87   \n",
       "\n",
       "               Geners  \n",
       "0  urban contemporary  \n",
       "1             pop rap  \n",
       "2                 pop  \n",
       "3             pop rap  \n",
       "4                 pop  \n",
       "5      permanent wave  \n",
       "6                 r&b  \n",
       "7         talent show  \n",
       "8                 edm  \n",
       "9            teen pop  "
      ]
     },
     "execution_count": 161,
     "metadata": {},
     "output_type": "execute_result"
    }
   ],
   "source": [
    "Top_Artist_followers_populatity_gener"
   ]
  },
  {
   "cell_type": "markdown",
   "metadata": {},
   "source": [
    "# Graph which represent the table "
   ]
  },
  {
   "cell_type": "code",
   "execution_count": null,
   "metadata": {
    "collapsed": true
   },
   "outputs": [],
   "source": []
  },
  {
   "cell_type": "code",
   "execution_count": null,
   "metadata": {
    "collapsed": true
   },
   "outputs": [],
   "source": []
  },
  {
   "cell_type": "markdown",
   "metadata": {},
   "source": [
    "# analysis on Albums "
   ]
  },
  {
   "cell_type": "code",
   "execution_count": 7,
   "metadata": {
    "collapsed": false
   },
   "outputs": [
    {
     "data": {
      "text/html": [
       "<div>\n",
       "<table border=\"1\" class=\"dataframe\">\n",
       "  <thead>\n",
       "    <tr style=\"text-align: right;\">\n",
       "      <th></th>\n",
       "      <th>ASIN</th>\n",
       "      <th>TITLE</th>\n",
       "      <th>DESCRIPTION</th>\n",
       "      <th>PRICE</th>\n",
       "      <th>CATEGORIES</th>\n",
       "      <th>URL</th>\n",
       "    </tr>\n",
       "  </thead>\n",
       "  <tbody>\n",
       "    <tr>\n",
       "      <th>0</th>\n",
       "      <td>'5555991584</td>\n",
       "      <td>Memory of Trees</td>\n",
       "      <td>NaN</td>\n",
       "      <td>9.49</td>\n",
       "      <td>CDs &amp; Vinyl New Age Celtic New Age CDs &amp; Vinyl...</td>\n",
       "      <td>http://ecx.images-amazon.com/images/I/51b5WDjd...</td>\n",
       "    </tr>\n",
       "    <tr>\n",
       "      <th>1</th>\n",
       "      <td>'6308051551</td>\n",
       "      <td>Don't Drink His Blood</td>\n",
       "      <td>NEW Combo BLUWAVS CD and FLAC FILE</td>\n",
       "      <td>8.91</td>\n",
       "      <td>Digital Music Alternative Rock Indie &amp; Lo-Fi</td>\n",
       "      <td>http://ecx.images-amazon.com/images/I/31LT2n7Q...</td>\n",
       "    </tr>\n",
       "    <tr>\n",
       "      <th>2</th>\n",
       "      <td>'7901622466</td>\n",
       "      <td>On Fire</td>\n",
       "      <td>NaN</td>\n",
       "      <td>11.33</td>\n",
       "      <td>CDs &amp; Vinyl Christian Rock &amp; Alternative CDs &amp;...</td>\n",
       "      <td>http://ecx.images-amazon.com/images/I/21W29WZw...</td>\n",
       "    </tr>\n",
       "    <tr>\n",
       "      <th>3</th>\n",
       "      <td>'B0000000ZW</td>\n",
       "      <td>Changing Faces</td>\n",
       "      <td>NaN</td>\n",
       "      <td>23.64</td>\n",
       "      <td>CDs &amp; Vinyl Dance &amp; Electronic CDs &amp; Vinyl Pop...</td>\n",
       "      <td>http://ecx.images-amazon.com/images/I/51H3Bp-3...</td>\n",
       "    </tr>\n",
       "    <tr>\n",
       "      <th>4</th>\n",
       "      <td>'B00000016W</td>\n",
       "      <td>Pet Sounds</td>\n",
       "      <td>NaN</td>\n",
       "      <td>9.49</td>\n",
       "      <td>CDs &amp; Vinyl Classic Rock CDs &amp; Vinyl Pop Oldie...</td>\n",
       "      <td>http://ecx.images-amazon.com/images/I/51pDGkXj...</td>\n",
       "    </tr>\n",
       "  </tbody>\n",
       "</table>\n",
       "</div>"
      ],
      "text/plain": [
       "          ASIN                  TITLE                         DESCRIPTION  \\\n",
       "0  '5555991584        Memory of Trees                                 NaN   \n",
       "1  '6308051551  Don't Drink His Blood  NEW Combo BLUWAVS CD and FLAC FILE   \n",
       "2  '7901622466                On Fire                                 NaN   \n",
       "3  'B0000000ZW         Changing Faces                                 NaN   \n",
       "4  'B00000016W             Pet Sounds                                 NaN   \n",
       "\n",
       "   PRICE                                         CATEGORIES  \\\n",
       "0   9.49  CDs & Vinyl New Age Celtic New Age CDs & Vinyl...   \n",
       "1   8.91       Digital Music Alternative Rock Indie & Lo-Fi   \n",
       "2  11.33  CDs & Vinyl Christian Rock & Alternative CDs &...   \n",
       "3  23.64  CDs & Vinyl Dance & Electronic CDs & Vinyl Pop...   \n",
       "4   9.49  CDs & Vinyl Classic Rock CDs & Vinyl Pop Oldie...   \n",
       "\n",
       "                                                 URL  \n",
       "0  http://ecx.images-amazon.com/images/I/51b5WDjd...  \n",
       "1  http://ecx.images-amazon.com/images/I/31LT2n7Q...  \n",
       "2  http://ecx.images-amazon.com/images/I/21W29WZw...  \n",
       "3  http://ecx.images-amazon.com/images/I/51H3Bp-3...  \n",
       "4  http://ecx.images-amazon.com/images/I/51pDGkXj...  "
      ]
     },
     "execution_count": 7,
     "metadata": {},
     "output_type": "execute_result"
    }
   ],
   "source": [
    "product_details.head(5)"
   ]
  },
  {
   "cell_type": "code",
   "execution_count": 8,
   "metadata": {
    "collapsed": true
   },
   "outputs": [],
   "source": [
    "Product_price_NOTNUL= product_details[product_details.TITLE.notnull()]"
   ]
  },
  {
   "cell_type": "code",
   "execution_count": 11,
   "metadata": {
    "collapsed": false
   },
   "outputs": [],
   "source": [
    "Product_price_NOTNUL_sort =  Product_price_NOTNUL.sort_values(['PRICE'], ascending=[False])"
   ]
  },
  {
   "cell_type": "code",
   "execution_count": 14,
   "metadata": {
    "collapsed": false
   },
   "outputs": [],
   "source": [
    "Top_product = Product_price_NOTNUL_sort.head(1)"
   ]
  },
  {
   "cell_type": "code",
   "execution_count": 90,
   "metadata": {
    "collapsed": false
   },
   "outputs": [
    {
     "name": "stdout",
     "output_type": "stream",
     "text": [
      "Top product (Album) based on the price from product details data\n",
      "Album Name : Calypso  &   Album Price : 70.0\n"
     ]
    },
    {
     "data": {
      "image/jpeg": "[encoded data removed]",
      "text/plain": [
       "<IPython.core.display.Image object>"
      ]
     },
     "execution_count": 90,
     "metadata": {},
     "output_type": "execute_result"
    }
   ],
   "source": [
    "\n",
    "url=Top_product.URL.iloc[0]\n",
    "price= Top_product.PRICE.iloc[0]\n",
    "title= Top_product.TITLE.iloc[0]\n",
    "\n",
    "Image= \"Image\"\n",
    "Image_path= os.path.join(Root_path,Image) # we are joining the old with new value to form a new path \n",
    "Image_title= os.path.join(Image_path,title) # we are joining the old with new value to form a new path \n",
    "\n",
    "time=datetime.datetime.now()\n",
    "time=time.strftime(\"%y-%m-%d-%H-%M\")\n",
    "name = Image_title+time # we are joining the old with new value to form a new path \n",
    "\n",
    "print(\"Top product (Album) based on the price from product details data\")\n",
    "print(\"Album Name :\",  title , \" &   Album Price :\" , price)\n",
    "import matplotlib\n",
    "%matplotlib inline\n",
    "from PIL import Image\n",
    "import urllib.request\n",
    "from IPython.display import Image\n",
    "import datetime\n",
    "\n",
    "\n",
    "\n",
    "with urllib.request.urlopen(url) as url:\n",
    "    with open(name+'.jpg', \"wb\") as f:\n",
    "        f.write(url.read())\n",
    "\n",
    "\n",
    "Image(filename=name+'.jpg')\n"
   ]
  },
  {
   "cell_type": "code",
   "execution_count": null,
   "metadata": {
    "collapsed": true
   },
   "outputs": [],
   "source": []
  },
  {
   "cell_type": "markdown",
   "metadata": {},
   "source": [
    "# Album "
   ]
  },
  {
   "cell_type": "code",
   "execution_count": null,
   "metadata": {
    "collapsed": true
   },
   "outputs": [],
   "source": []
  },
  {
   "cell_type": "code",
   "execution_count": null,
   "metadata": {
    "collapsed": true
   },
   "outputs": [],
   "source": []
  },
  {
   "cell_type": "code",
   "execution_count": null,
   "metadata": {
    "collapsed": true
   },
   "outputs": [],
   "source": []
  },
  {
   "cell_type": "code",
   "execution_count": null,
   "metadata": {
    "collapsed": true
   },
   "outputs": [],
   "source": []
  },
  {
   "cell_type": "code",
   "execution_count": null,
   "metadata": {
    "collapsed": true
   },
   "outputs": [],
   "source": []
  }
 ],
 "metadata": {
  "anaconda-cloud": {},
  "kernelspec": {
   "display_name": "Python [conda root]",
   "language": "python",
   "name": "conda-root-py"
  },
  "language_info": {
   "codemirror_mode": {
    "name": "ipython",
    "version": 3
   },
   "file_extension": ".py",
   "mimetype": "text/x-python",
   "name": "python",
   "nbconvert_exporter": "python",
   "pygments_lexer": "ipython3",
   "version": "3.5.2"
  }
 },
 "nbformat": 4,
 "nbformat_minor": 2
}
