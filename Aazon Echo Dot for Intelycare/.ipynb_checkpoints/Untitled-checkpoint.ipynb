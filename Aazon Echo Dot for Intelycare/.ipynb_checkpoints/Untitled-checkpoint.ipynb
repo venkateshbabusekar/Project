{
 "cells": [
  {
   "cell_type": "code",
   "execution_count": 1,
   "metadata": {},
   "outputs": [],
   "source": [
    "import requests\n",
    "import json\n",
    "r2 = requests.post(\"http://intelycare.net/isystem/pages/partcare.php\", data={'uid': 152, 'section': 'Dashboard'})\n",
    "##print(r2.content)\n",
    "content = r2.content\n",
    "def convert(input):\n",
    "    if isinstance(input, dict):\n",
    "        return {convert(key): convert(value) for key, value in input.items()}\n",
    "    elif isinstance(input, list):\n",
    "        return [convert(element) for element in input]\n",
    "    else:\n",
    "        return input"
   ]
  },
  {
   "cell_type": "code",
   "execution_count": null,
   "metadata": {
    "collapsed": true
   },
   "outputs": [],
   "source": []
  },
  {
   "cell_type": "code",
   "execution_count": 2,
   "metadata": {},
   "outputs": [],
   "source": [
    "articles = convert(json.loads(content))\n",
    "json_file = open(\"a.json\", 'wb')\n",
    "json_file.write(content)\n",
    "json_file.close()\n",
    "with open('a.json') as provJson:\n",
    "    data = provJson.read()\n",
    "    apiData = json.loads(data)\n",
    "    "
   ]
  },
  {
   "cell_type": "code",
   "execution_count": null,
   "metadata": {},
   "outputs": [],
   "source": []
  },
  {
   "cell_type": "code",
   "execution_count": 6,
   "metadata": {},
   "outputs": [
    {
     "data": {
      "text/plain": [
       "{'CURRENT_WEEK': {'test_01': 3, 'test_02': 0, 'total': 3},\n",
       " 'LAST_WEEK': {'test_01': 0, 'test_02': 0, 'total': 0},\n",
       " 'NEXT_WEEK': {'test_01': 2, 'test_02': 0, 'total': 2},\n",
       " 'TODAY': {'test_01': 0, 'test_02': 0, 'total': 0},\n",
       " 'TOMORROW': {'test_01': 0, 'test_02': 0, 'total': 0},\n",
       " 'YESTERDAY': {'test_01': 1, 'test_02': 0, 'total': 1}}"
      ]
     },
     "execution_count": 6,
     "metadata": {},
     "output_type": "execute_result"
    }
   ],
   "source": [
    "TOTALCOUNT= apiData[\"TOTAL\"]\n",
    "TOTALCOUNT"
   ]
  },
  {
   "cell_type": "code",
   "execution_count": 8,
   "metadata": {},
   "outputs": [
    {
     "name": "stdout",
     "output_type": "stream",
     "text": [
      " number of employee working for the current week in the floor test_01 is 3 , test_02 is 0 , \n"
     ]
    }
   ],
   "source": [
    "keys=[]\n",
    "values=[]\n",
    "string_to_be_add=\"\"\n",
    "CURRENT_WEEK_FLOOR=TOTALCOUNT[\"CURRENT_WEEK\"]\n",
    "text2= \" number of employee working for the current week in the floor \"\n",
    "for k,v in CURRENT_WEEK_FLOOR.items():\n",
    "    if k !=\"total\":\n",
    "        keys.append(k)\n",
    "        values.append(v)\n",
    "\n",
    "        \n",
    "for i in range(0,2):\n",
    "    string_to_be_add += str(keys[i]) +\" is \" +str(values[i])+ \" , \"\n",
    "    \n",
    "    \n",
    "CURRENT_WEEK_FLOORWISE_DETAILS = text2 + string_to_be_add\n",
    "print(CURRENT_WEEK_FLOORWISE_DETAILS)\n"
   ]
  },
  {
   "cell_type": "code",
   "execution_count": 9,
   "metadata": {},
   "outputs": [
    {
     "name": "stdout",
     "output_type": "stream",
     "text": [
      " total number of employee working for the current week is  3\n"
     ]
    }
   ],
   "source": [
    "keys=[]\n",
    "values=[]\n",
    "CURRENT_WEEK_FLOOR=TOTALCOUNT[\"CURRENT_WEEK\"]\n",
    "text1= \" total number of employee working for the current week is  \"\n",
    "for k,v in CURRENT_WEEK_FLOOR.items():\n",
    "    if k ==\"total\":\n",
    "        value1 = str(v)\n",
    "        CURRENT_WEEK_TOTAL = text1 + value1\n",
    "\n",
    "print(CURRENT_WEEK_TOTAL)"
   ]
  },
  {
   "cell_type": "code",
   "execution_count": 12,
   "metadata": {},
   "outputs": [
    {
     "name": "stdout",
     "output_type": "stream",
     "text": [
      "The number of employee working for the current week in the floor test_01 is 3 , test_02 is 0 , \n",
      "The total number of employee working for the current week is  3\n"
     ]
    }
   ],
   "source": []
  },
  {
   "cell_type": "code",
   "execution_count": 14,
   "metadata": {},
   "outputs": [
    {
     "name": "stdout",
     "output_type": "stream",
     "text": [
      " number of employee working for the last week in the floor test_01 is 0 , test_02 is 0 , \n"
     ]
    }
   ],
   "source": [
    "##LAST_WEEK 1\n",
    "\n",
    "keys=[]\n",
    "values=[]\n",
    "string_to_be_add=\"\"\n",
    "LAST_WEEK_FLOOR=TOTALCOUNT[\"LAST_WEEK\"]\n",
    "text2= \" number of employee working for the last week in the floor \"\n",
    "for k,v in LAST_WEEK_FLOOR.items():\n",
    "    if k !=\"total\":\n",
    "        keys.append(k)\n",
    "        values.append(v)\n",
    "\n",
    "        \n",
    "for i in range(0,2):\n",
    "    string_to_be_add += str(keys[i]) +\" is \" +str(values[i])+ \" , \"\n",
    "    \n",
    "    \n",
    "LAST_WEEK_FLOORWISE_DETAILS = text2 + string_to_be_add\n",
    "print(LAST_WEEK_FLOORWISE_DETAILS)\n"
   ]
  },
  {
   "cell_type": "code",
   "execution_count": 15,
   "metadata": {},
   "outputs": [
    {
     "name": "stdout",
     "output_type": "stream",
     "text": [
      " total number of employee working for the last week is  0\n"
     ]
    }
   ],
   "source": [
    "##LAST_WEEK 2\n",
    "\n",
    "keys=[]\n",
    "values=[]\n",
    "LAST_WEEK_FLOOR=TOTALCOUNT[\"LAST_WEEK\"]\n",
    "text1= \" total number of employee working for the last week is  \"\n",
    "for k,v in LAST_WEEK_FLOOR.items():\n",
    "    if k ==\"total\":\n",
    "        value1 = str(v)\n",
    "        LAST_WEEK_TOTAL = text1 + value1\n",
    "\n",
    "print(LAST_WEEK_TOTAL)"
   ]
  },
  {
   "cell_type": "code",
   "execution_count": null,
   "metadata": {
    "collapsed": true
   },
   "outputs": [],
   "source": []
  },
  {
   "cell_type": "code",
   "execution_count": 18,
   "metadata": {},
   "outputs": [
    {
     "name": "stdout",
     "output_type": "stream",
     "text": [
      " total number of employee working for the NEXT week is  2\n"
     ]
    }
   ],
   "source": [
    "keys=[]\n",
    "values=[]\n",
    "NEXT_WEEK_FLOOR=TOTALCOUNT[\"NEXT_WEEK\"]\n",
    "text1= \" total number of employee working for the NEXT week is  \"\n",
    "for k,v in NEXT_WEEK_FLOOR.items():\n",
    "    if k ==\"total\":\n",
    "        value1 = str(v)\n",
    "        NEXT_WEEK_TOTAL = text1 + value1\n",
    "print(NEXT_WEEK_TOTAL)\n"
   ]
  },
  {
   "cell_type": "code",
   "execution_count": 19,
   "metadata": {},
   "outputs": [
    {
     "data": {
      "text/plain": [
       "' number of employee working for the NEXT week in the floor test_01 is 2 , test_02 is 0 , '"
      ]
     },
     "execution_count": 19,
     "metadata": {},
     "output_type": "execute_result"
    }
   ],
   "source": [
    "keys=[]\n",
    "values=[]\n",
    "string_to_be_add=\"\"\n",
    "NEXT_WEEK_FLOOR=TOTALCOUNT[\"NEXT_WEEK\"]\n",
    "text2= \" number of employee working for the NEXT week in the floor \"\n",
    "for k,v in NEXT_WEEK_FLOOR.items():\n",
    "    if k !=\"total\":\n",
    "        keys.append(k)\n",
    "        values.append(v)\n",
    "\n",
    "\n",
    "for i in range(0,2):\n",
    "    string_to_be_add += str(keys[i]) +\" is \" +str(values[i])+ \" , \"\n",
    "\n",
    "\n",
    "NEXT_WEEK_FLOORWISE_DETAILS = text2 + string_to_be_add\n",
    "NEXT_WEEK_FLOORWISE_DETAILS"
   ]
  },
  {
   "cell_type": "code",
   "execution_count": 21,
   "metadata": {},
   "outputs": [],
   "source": [
    "keys=[]\n",
    "values=[]\n",
    "TODAY_FLOOR=TOTALCOUNT[\"TODAY\"]\n",
    "text1= \" total number of employee working for the TODAY week is  \"\n",
    "for k,v in TODAY_FLOOR.items():\n",
    "    if k ==\"total\":\n",
    "        value1 = str(v)\n",
    "        TODAY_TOTAL = text1 + value1"
   ]
  },
  {
   "cell_type": "code",
   "execution_count": 22,
   "metadata": {},
   "outputs": [
    {
     "data": {
      "text/plain": [
       "' total number of employee working for the TODAY week is  0'"
      ]
     },
     "execution_count": 22,
     "metadata": {},
     "output_type": "execute_result"
    }
   ],
   "source": [
    "TODAY_TOTAL"
   ]
  },
  {
   "cell_type": "code",
   "execution_count": null,
   "metadata": {
    "collapsed": true
   },
   "outputs": [],
   "source": []
  },
  {
   "cell_type": "code",
   "execution_count": 110,
   "metadata": {},
   "outputs": [
    {
     "data": {
      "text/plain": [
       "{'CURRENT_WEEK': [{'caredate': '2017-10-20',\n",
       "   'caretime': '15:00:00',\n",
       "   'cid': '150',\n",
       "   'cname': 'Test Nursing Home',\n",
       "   'entrytime': '2017-10-05 10:36:37',\n",
       "   'floor': 'test_01',\n",
       "   'floorid': '17',\n",
       "   'hours': '8',\n",
       "   'pfname': 'suku',\n",
       "   'pid': '594',\n",
       "   'plname': 'D',\n",
       "   'reqdid': '11735',\n",
       "   'softtime': '2017-10-05 11:06:37',\n",
       "   'tel': '8575402666',\n",
       "   'type': 'Nurse'},\n",
       "  {'caredate': '2017-10-17',\n",
       "   'caretime': '07:00:00',\n",
       "   'cid': '150',\n",
       "   'cname': 'Test Nursing Home',\n",
       "   'entrytime': '2017-10-16 12:56:25',\n",
       "   'floor': 'test_01',\n",
       "   'floorid': '17',\n",
       "   'hours': '8',\n",
       "   'pfname': 'Pending',\n",
       "   'pid': None,\n",
       "   'plname': '',\n",
       "   'reqdid': '11814',\n",
       "   'softtime': '2017-10-16 13:26:25',\n",
       "   'tel': ' ',\n",
       "   'type': 'Nurse'},\n",
       "  {'caredate': '2017-10-17',\n",
       "   'caretime': '23:00:00',\n",
       "   'cid': '150',\n",
       "   'cname': 'Test Nursing Home',\n",
       "   'entrytime': '2017-10-16 12:56:32',\n",
       "   'floor': 'test_01',\n",
       "   'floorid': '17',\n",
       "   'hours': '8',\n",
       "   'pfname': 'Pending',\n",
       "   'pid': None,\n",
       "   'plname': '',\n",
       "   'reqdid': '11815',\n",
       "   'softtime': '2017-10-16 13:26:32',\n",
       "   'tel': ' ',\n",
       "   'type': 'Nurse'}],\n",
       " 'LAST_WEEK': [],\n",
       " 'NEXT_WEEK': [{'caredate': '2017-10-23',\n",
       "   'caretime': '15:00:00',\n",
       "   'cid': '150',\n",
       "   'cname': 'Test Nursing Home',\n",
       "   'entrytime': '2017-10-16 12:56:45',\n",
       "   'floor': 'test_01',\n",
       "   'floorid': '17',\n",
       "   'hours': '8',\n",
       "   'pfname': 'Pending',\n",
       "   'pid': None,\n",
       "   'plname': '',\n",
       "   'reqdid': '11816',\n",
       "   'softtime': '2017-10-16 13:26:45',\n",
       "   'tel': ' ',\n",
       "   'type': 'CNA'},\n",
       "  {'caredate': '2017-10-23',\n",
       "   'caretime': '15:00:00',\n",
       "   'cid': '150',\n",
       "   'cname': 'Test Nursing Home',\n",
       "   'entrytime': '2017-10-16 12:56:45',\n",
       "   'floor': 'test_01',\n",
       "   'floorid': '17',\n",
       "   'hours': '8',\n",
       "   'pfname': 'Pending',\n",
       "   'pid': None,\n",
       "   'plname': '',\n",
       "   'reqdid': '11817',\n",
       "   'softtime': '2017-10-16 13:26:45',\n",
       "   'tel': ' ',\n",
       "   'type': 'CNA'}],\n",
       " 'TODAY': [],\n",
       " 'TOMORROW': [],\n",
       " 'YESTERDAY': [{'caredate': '2017-10-20',\n",
       "   'caretime': '15:00:00',\n",
       "   'cid': '150',\n",
       "   'cname': 'Test Nursing Home',\n",
       "   'entrytime': '2017-10-05 10:36:37',\n",
       "   'floor': 'test_01',\n",
       "   'floorid': '17',\n",
       "   'hours': '8',\n",
       "   'pfname': 'suku',\n",
       "   'pid': '594',\n",
       "   'plname': 'D',\n",
       "   'reqdid': '11735',\n",
       "   'softtime': '2017-10-05 11:06:37',\n",
       "   'tel': '8575402666',\n",
       "   'type': 'Nurse'}]}"
      ]
     },
     "execution_count": 110,
     "metadata": {},
     "output_type": "execute_result"
    }
   ],
   "source": [
    "DATA= apiData['DATA']\n",
    "DATA"
   ]
  },
  {
   "cell_type": "code",
   "execution_count": null,
   "metadata": {},
   "outputs": [],
   "source": []
  },
  {
   "cell_type": "code",
   "execution_count": 30,
   "metadata": {},
   "outputs": [],
   "source": [
    "LAST_WEEK_DATA = DATA['LAST_WEEK']"
   ]
  },
  {
   "cell_type": "code",
   "execution_count": 31,
   "metadata": {},
   "outputs": [
    {
     "name": "stdout",
     "output_type": "stream",
     "text": [
      "There is no record for the week\n"
     ]
    }
   ],
   "source": [
    "if len(LAST_WEEK_DATA)==0:\n",
    "    lvalue1= \"There is no record for the week\"\n",
    "else:\n",
    "    for i in range(0,len(LAST_WEEK_DATA)):\n",
    "        LAST_WEEK_DATA[i]"
   ]
  },
  {
   "cell_type": "code",
   "execution_count": 33,
   "metadata": {},
   "outputs": [
    {
     "data": {
      "text/plain": [
       "{'caredate': '2017-10-20',\n",
       " 'caretime': '15:00:00',\n",
       " 'cid': '150',\n",
       " 'cname': 'Test Nursing Home',\n",
       " 'entrytime': '2017-10-05 10:36:37',\n",
       " 'floor': 'test_01',\n",
       " 'floorid': '17',\n",
       " 'hours': '8',\n",
       " 'pfname': 'suku',\n",
       " 'pid': '594',\n",
       " 'plname': 'D',\n",
       " 'reqdid': '11735',\n",
       " 'softtime': '2017-10-05 11:06:37',\n",
       " 'tel': '8575402666',\n",
       " 'type': 'Nurse'}"
      ]
     },
     "execution_count": 33,
     "metadata": {},
     "output_type": "execute_result"
    }
   ],
   "source": [
    "DATA['CURRENT_WEEK'][0]"
   ]
  },
  {
   "cell_type": "code",
   "execution_count": 118,
   "metadata": {},
   "outputs": [
    {
     "data": {
      "text/plain": [
       "'the current week, the nurse name and their pid number are following , suku , 594 , Nurse is yet to be assigned  , 0 , Nurse is yet to be assigned  , 0 , '"
      ]
     },
     "execution_count": 118,
     "metadata": {},
     "output_type": "execute_result"
    }
   ],
   "source": [
    "DATASS= apiData['DATA']\n",
    "DATASS=DATA\n",
    "CURRENT_WEEK= DATA['CURRENT_WEEK']\n",
    "usernames=[]\n",
    "pids=[]\n",
    "dstring_to_be_add=\"\"\n",
    "dtext1=\"the current week, the nurse name and their pid number are following , \"\n",
    "if len(CURRENT_WEEK)==0:\n",
    "    lvalue1= \"There is no record for the week\"\n",
    "else:\n",
    "    for i in range(0,len(CURRENT_WEEK)):\n",
    "        username=  DATA['CURRENT_WEEK'][i]['pfname']\n",
    "        \n",
    "\n",
    "        if username !=\"Pending\":\n",
    "            usernames.append(username)\n",
    "        else:\n",
    "            usernames.append('Nurse is yet to be assigned ')\n",
    "        \n",
    "        \n",
    "        pid =  DATA['CURRENT_WEEK'][i]['pid']\n",
    "        if pid is not None:\n",
    "            pids.append(pid)\n",
    "        else:\n",
    "            pids.append('0')\n",
    "    if len(usernames)>1:\n",
    "        for i in range(0,len(usernames)):\n",
    "            dstring_to_be_add += str(usernames[i]) +\" , \" +str(pids[i])+ \" , \"\n",
    "\n",
    "\n",
    "        lvalue1 = dtext1 + dstring_to_be_add\n",
    "\n",
    "    else:\n",
    "        dstring_to_be_add += str(usernames[0]) +\", \" +str(pids[0])+ \" , \"\n",
    "        lvalue1 = dtext1 + dstring_to_be_add\n",
    "lvalue1          "
   ]
  },
  {
   "cell_type": "code",
   "execution_count": 124,
   "metadata": {},
   "outputs": [
    {
     "data": {
      "text/plain": [
       "'suku'"
      ]
     },
     "execution_count": 124,
     "metadata": {},
     "output_type": "execute_result"
    }
   ],
   "source": [
    "str(usernames[0])"
   ]
  },
  {
   "cell_type": "code",
   "execution_count": null,
   "metadata": {
    "collapsed": true
   },
   "outputs": [],
   "source": []
  },
  {
   "cell_type": "code",
   "execution_count": 117,
   "metadata": {},
   "outputs": [
    {
     "data": {
      "text/plain": [
       "'There is no record for the week'"
      ]
     },
     "execution_count": 117,
     "metadata": {},
     "output_type": "execute_result"
    }
   ],
   "source": [
    "LAST_WEEK= DATA['LAST_WEEK']\n",
    "usernames=[]\n",
    "pids=[]\n",
    "dstring_to_be_add=\"\"\n",
    "dtext1=\"the current week, the nurse name and their pid number are following , \"\n",
    "if len(LAST_WEEK)==0:\n",
    "    lvalue1= \"There is no record for the week\"\n",
    "else:\n",
    "    for i in range(0,len(LAST_WEEK)):\n",
    "        username=  DATA['LAST_WEEK'][i]['pfname']\n",
    "        \n",
    "\n",
    "        if username !=\"Pending\":\n",
    "            usernames.append(username)\n",
    "        else:\n",
    "            usernames.append('Nurse is yet to be assigned ')\n",
    "        \n",
    "        \n",
    "        pid =  DATA['LAST_WEEK'][i]['pid']\n",
    "        if pid is not None:\n",
    "            pids.append(pid)\n",
    "        else:\n",
    "            pids.append('0')\n",
    "    if len(usernames)>1:\n",
    "        for i in range(0,len(usernames)):\n",
    "            dstring_to_be_add += str(usernames[i]) +\" , \" +str(pids[i])+ \" , \"\n",
    "\n",
    "\n",
    "        lvalue1 = dtext1 + dstring_to_be_add\n",
    "\n",
    "    else:\n",
    "        dstring_to_be_add += str(usernames[0]) +\", \" +str(pids[0])+ \" , \"\n",
    "        lvalue1 = dtext1 + dstring_to_be_add\n",
    "lvalue1            "
   ]
  },
  {
   "cell_type": "code",
   "execution_count": null,
   "metadata": {
    "collapsed": true
   },
   "outputs": [],
   "source": []
  },
  {
   "cell_type": "code",
   "execution_count": 119,
   "metadata": {},
   "outputs": [
    {
     "data": {
      "text/plain": [
       "'the current week, the nurse name and their pid number are following , Nurse is yet to be assigned  , 0 , Nurse is yet to be assigned  , 0 , '"
      ]
     },
     "execution_count": 119,
     "metadata": {},
     "output_type": "execute_result"
    }
   ],
   "source": [
    "NEXT_WEEK= DATA['NEXT_WEEK']\n",
    "usernames=[]\n",
    "pids=[]\n",
    "dstring_to_be_add=\"\"\n",
    "dtext1=\"the current week, the nurse name and their pid number are following , \"\n",
    "if len(NEXT_WEEK)==0:\n",
    "    lvalue1= \"There is no record for the week\"\n",
    "else:\n",
    "    for i in range(0,len(NEXT_WEEK)):\n",
    "        username=  DATA['NEXT_WEEK'][i]['pfname']\n",
    "        \n",
    "\n",
    "        if username !=\"Pending\":\n",
    "            usernames.append(username)\n",
    "        else:\n",
    "            usernames.append('Nurse is yet to be assigned ')\n",
    "        \n",
    "        \n",
    "        pid =  DATA['NEXT_WEEK'][i]['pid']\n",
    "        if pid is not None:\n",
    "            pids.append(pid)\n",
    "        else:\n",
    "            pids.append('0')\n",
    "    if len(usernames)>1:\n",
    "        for i in range(0,len(usernames)):\n",
    "            dstring_to_be_add += str(usernames[i]) +\" , \" +str(pids[i])+ \" , \"\n",
    "\n",
    "\n",
    "        lvalue1 = dtext1 + dstring_to_be_add\n",
    "\n",
    "    else:\n",
    "        dstring_to_be_add += str(usernames[0]) +\", \" +str(pids[0])+ \" , \"\n",
    "        lvalue1 = dtext1 + dstring_to_be_add\n",
    "lvalue1            "
   ]
  },
  {
   "cell_type": "code",
   "execution_count": null,
   "metadata": {
    "collapsed": true
   },
   "outputs": [],
   "source": []
  },
  {
   "cell_type": "code",
   "execution_count": 120,
   "metadata": {},
   "outputs": [
    {
     "data": {
      "text/plain": [
       "'There is no record for the week'"
      ]
     },
     "execution_count": 120,
     "metadata": {},
     "output_type": "execute_result"
    }
   ],
   "source": [
    "TODAY= DATA['TODAY']\n",
    "usernames=[]\n",
    "pids=[]\n",
    "dstring_to_be_add=\"\"\n",
    "dtext1=\"the current week, the nurse name and their pid number are following , \"\n",
    "if len(TODAY)==0:\n",
    "    lvalue1= \"There is no record for the week\"\n",
    "else:\n",
    "    for i in range(0,len(TODAY)):\n",
    "        username=  DATA['TODAY'][i]['pfname']\n",
    "        \n",
    "\n",
    "        if username !=\"Pending\":\n",
    "            usernames.append(username)\n",
    "        else:\n",
    "            usernames.append('Nurse is yet to be assigned ')\n",
    "        \n",
    "        \n",
    "        pid =  DATA['TODAY'][i]['pid']\n",
    "        if pid is not None:\n",
    "            pids.append(pid)\n",
    "        else:\n",
    "            pids.append('0')\n",
    "    if len(usernames)>1:\n",
    "        for i in range(0,len(usernames)):\n",
    "            dstring_to_be_add += str(usernames[i]) +\" , \" +str(pids[i])+ \" , \"\n",
    "\n",
    "\n",
    "        lvalue1 = dtext1 + dstring_to_be_add\n",
    "\n",
    "    else:\n",
    "        dstring_to_be_add += str(usernames[0]) +\", \" +str(pids[0])+ \" , \"\n",
    "        lvalue1 = dtext1 + dstring_to_be_add\n",
    "lvalue1            "
   ]
  },
  {
   "cell_type": "code",
   "execution_count": null,
   "metadata": {
    "collapsed": true
   },
   "outputs": [],
   "source": []
  },
  {
   "cell_type": "code",
   "execution_count": 121,
   "metadata": {},
   "outputs": [
    {
     "data": {
      "text/plain": [
       "'There is no record for the week'"
      ]
     },
     "execution_count": 121,
     "metadata": {},
     "output_type": "execute_result"
    }
   ],
   "source": [
    "TOMORROW= DATA['TOMORROW']\n",
    "usernames=[]\n",
    "pids=[]\n",
    "dstring_to_be_add=\"\"\n",
    "dtext1=\"the current week, the nurse name and their pid number are following , \"\n",
    "if len(TOMORROW)==0:\n",
    "    lvalue1= \"There is no record for the week\"\n",
    "else:\n",
    "    for i in range(0,len(TOMORROW)):\n",
    "        username=  DATA['TOMORROW'][i]['pfname']\n",
    "        \n",
    "\n",
    "        if username !=\"Pending\":\n",
    "            usernames.append(username)\n",
    "        else:\n",
    "            usernames.append('Nurse is yet to be assigned ')\n",
    "        \n",
    "        \n",
    "        pid =  DATA['TOMORROW'][i]['pid']\n",
    "        if pid is not None:\n",
    "            pids.append(pid)\n",
    "        else:\n",
    "            pids.append('0')\n",
    "    if len(usernames)>1:\n",
    "        for i in range(0,len(usernames)):\n",
    "            dstring_to_be_add += str(usernames[i]) +\" , \" +str(pids[i])+ \" , \"\n",
    "\n",
    "\n",
    "        lvalue1 = dtext1 + dstring_to_be_add\n",
    "\n",
    "    else:\n",
    "        dstring_to_be_add += str(usernames[0]) +\", \" +str(pids[0])+ \" , \"\n",
    "        lvalue1 = dtext1 + dstring_to_be_add\n",
    "lvalue1            "
   ]
  },
  {
   "cell_type": "code",
   "execution_count": 131,
   "metadata": {},
   "outputs": [
    {
     "data": {
      "text/plain": [
       "'the current week, the nurse name and their pid number are following , name suku, pid 594 , '"
      ]
     },
     "execution_count": 131,
     "metadata": {},
     "output_type": "execute_result"
    }
   ],
   "source": [
    "YESTERDAY= DATA['YESTERDAY']\n",
    "usernames=[]\n",
    "pids=[]\n",
    "dstring_to_be_add=\"\"\n",
    "dtext1=\"the current week, the nurse name and their pid number are following , \"\n",
    "if len(YESTERDAY)==0:\n",
    "    lvalue1= \"There is no record for the week\"\n",
    "else:\n",
    "    for i in range(0,len(YESTERDAY)):\n",
    "        username=  DATA['YESTERDAY'][i]['pfname']\n",
    "        \n",
    "\n",
    "        if username !=\"Pending\":\n",
    "            usernames.append(username)\n",
    "        else:\n",
    "            usernames.append('Nurse is yet to be assigned ')\n",
    "        \n",
    "        \n",
    "        pid =  DATA['YESTERDAY'][i]['pid']\n",
    "        if pid is not None:\n",
    "            pids.append(pid)\n",
    "        else:\n",
    "            pids.append('0')\n",
    "    if len(usernames)>1:\n",
    "        for i in range(0,len(usernames)):\n",
    "            dstring_to_be_add += \"name \"+ str(usernames[i]) +\", pid \"+str(pids[i])+ \" , \"\n",
    "\n",
    "\n",
    "        lvalue1 = dtext1 + dstring_to_be_add\n",
    "\n",
    "    else:\n",
    "        dstring_to_be_add += \"name \"+ str(usernames[0]) +\", pid \" +str(pids[0])+ \" , \"\n",
    "        lvalue1 = dtext1 + dstring_to_be_add\n",
    "lvalue1            "
   ]
  },
  {
   "cell_type": "code",
   "execution_count": 130,
   "metadata": {},
   "outputs": [],
   "source": [
    "a = \"name \"+ str(usernames[0])"
   ]
  },
  {
   "cell_type": "code",
   "execution_count": null,
   "metadata": {
    "collapsed": true
   },
   "outputs": [],
   "source": []
  },
  {
   "cell_type": "code",
   "execution_count": null,
   "metadata": {
    "collapsed": true
   },
   "outputs": [],
   "source": []
  },
  {
   "cell_type": "code",
   "execution_count": 136,
   "metadata": {},
   "outputs": [
    {
     "name": "stdout",
     "output_type": "stream",
     "text": [
      "b'[{\"cid\":\"151\",\"caredate\":\"2017-09-21\",\"caretime\":\"19:00:00\",\"hours\":\"12\",\"id\":\"10690\",\"status\":\"PNetwork\",\"pfname\":\"Not\",\"plname\":\"Assigned\",\"booked\":\"No\",\"entrytime\":\"2017-09-21 15:38:02\",\"softtime\":\"2017-09-21 16:08:02\",\"orientation\":\"No\"},{\"cid\":\"151\",\"caredate\":\"2017-09-21\",\"caretime\":\"23:00:00\",\"hours\":\"8\",\"id\":\"10691\",\"status\":\"PNetwork\",\"pfname\":\"Not\",\"plname\":\"Assigned\",\"booked\":\"No\",\"entrytime\":\"2017-09-21 15:38:14\",\"softtime\":\"2017-09-21 16:08:14\",\"orientation\":\"No\"},{\"cid\":\"151\",\"caredate\":\"2017-09-21\",\"caretime\":\"23:00:00\",\"hours\":\"8\",\"id\":\"10683\",\"status\":\"Accepted\",\"pfname\":\"Sandra\",\"plname\":\"White\",\"booked\":\"No\",\"entrytime\":\"2017-09-21 12:50:57\",\"softtime\":\"2017-09-21 13:20:57\",\"orientation\":\"No\"},{\"cid\":\"151\",\"caredate\":\"2017-09-21\",\"caretime\":\"23:00:00\",\"hours\":\"8\",\"id\":\"10684\",\"status\":\"PNetwork\",\"pfname\":\"Not\",\"plname\":\"Assigned\",\"booked\":\"No\",\"entrytime\":\"2017-09-21 12:50:57\",\"softtime\":\"2017-09-21 13:20:57\",\"orientation\":\"No\"},{\"cid\":\"151\",\"caredate\":\"2017-09-21\",\"caretime\":\"16:00:00\",\"hours\":\"8\",\"id\":\"10685\",\"status\":\"PNetwork\",\"pfname\":\"Not\",\"plname\":\"Assigned\",\"booked\":\"No\",\"entrytime\":\"2017-09-21 14:57:14\",\"softtime\":\"2017-09-21 15:27:14\",\"orientation\":\"No\"},{\"cid\":\"151\",\"caredate\":\"2017-09-21\",\"caretime\":\"23:00:00\",\"hours\":\"8\",\"id\":\"10686\",\"status\":\"PNetwork\",\"pfname\":\"Not\",\"plname\":\"Assigned\",\"booked\":\"No\",\"entrytime\":\"2017-09-21 14:57:19\",\"softtime\":\"2017-09-21 15:27:19\",\"orientation\":\"No\"},{\"cid\":\"151\",\"caredate\":\"2017-09-21\",\"caretime\":\"23:00:00\",\"hours\":\"8\",\"id\":\"10687\",\"status\":\"PNetwork\",\"pfname\":\"Not\",\"plname\":\"Assigned\",\"booked\":\"No\",\"entrytime\":\"2017-09-21 14:57:19\",\"softtime\":\"2017-09-21 15:27:19\",\"orientation\":\"No\"},{\"cid\":\"151\",\"caredate\":\"2017-09-21\",\"caretime\":\"23:00:00\",\"hours\":\"8\",\"id\":\"10688\",\"status\":\"Accepted\",\"pfname\":\"Bilal\",\"plname\":\"elezi\",\"booked\":\"No\",\"entrytime\":\"2017-09-21 15:31:26\",\"softtime\":\"2017-09-21 16:01:26\",\"orientation\":\"No\"},{\"cid\":\"151\",\"caredate\":\"2017-09-21\",\"caretime\":\"19:00:00\",\"hours\":\"12\",\"id\":\"10689\",\"status\":\"PNetwork\",\"pfname\":\"Not\",\"plname\":\"Assigned\",\"booked\":\"No\",\"entrytime\":\"2017-09-21 15:31:36\",\"softtime\":\"2017-09-21 16:01:36\",\"orientation\":\"No\"},{\"cid\":\"151\",\"caredate\":\"2017-09-22\",\"caretime\":\"23:00:00\",\"hours\":\"8\",\"id\":\"10673\",\"status\":\"PNetwork\",\"pfname\":\"Not\",\"plname\":\"Assigned\",\"booked\":\"No\",\"entrytime\":\"2017-09-21 09:16:41\",\"softtime\":\"2017-09-21 09:46:41\",\"orientation\":\"No\"},{\"cid\":\"151\",\"caredate\":\"2017-09-22\",\"caretime\":\"15:00:00\",\"hours\":\"8\",\"id\":\"10674\",\"status\":\"Accepted\",\"pfname\":\"Bilal\",\"plname\":\"elezi\",\"booked\":\"No\",\"entrytime\":\"2017-09-21 09:16:53\",\"softtime\":\"2017-09-21 09:46:53\",\"orientation\":\"No\"},{\"cid\":\"151\",\"caredate\":\"2017-09-22\",\"caretime\":\"15:00:00\",\"hours\":\"8\",\"id\":\"10675\",\"status\":\"PNetwork\",\"pfname\":\"Not\",\"plname\":\"Assigned\",\"booked\":\"No\",\"entrytime\":\"2017-09-21 09:16:53\",\"softtime\":\"2017-09-21 09:46:53\",\"orientation\":\"No\"},{\"cid\":\"151\",\"caredate\":\"2017-09-22\",\"caretime\":\"15:00:00\",\"hours\":\"8\",\"id\":\"10676\",\"status\":\"PNetwork\",\"pfname\":\"Not\",\"plname\":\"Assigned\",\"booked\":\"No\",\"entrytime\":\"2017-09-21 09:16:53\",\"softtime\":\"2017-09-21 09:46:53\",\"orientation\":\"No\"},{\"cid\":\"151\",\"caredate\":\"2017-09-22\",\"caretime\":\"07:00:00\",\"hours\":\"8\",\"id\":\"10633\",\"status\":\"Completed\",\"pfname\":\"Sandra\",\"plname\":\"White\",\"booked\":\"No\",\"entrytime\":\"2017-09-14 15:25:03\",\"softtime\":\"2017-09-14 15:55:03\",\"orientation\":\"No\"},{\"cid\":\"151\",\"caredate\":\"2017-09-22\",\"caretime\":\"15:00:00\",\"hours\":\"8\",\"id\":\"10634\",\"status\":\"Completed\",\"pfname\":\"Sandra\",\"plname\":\"White\",\"booked\":\"No\",\"entrytime\":\"2017-09-14 15:25:10\",\"softtime\":\"2017-09-14 15:55:10\",\"orientation\":\"No\"},{\"cid\":\"151\",\"caredate\":\"2017-09-22\",\"caretime\":\"15:00:00\",\"hours\":\"8\",\"id\":\"10635\",\"status\":\"PNetwork\",\"pfname\":\"Not\",\"plname\":\"Assigned\",\"booked\":\"No\",\"entrytime\":\"2017-09-14 15:25:10\",\"softtime\":\"2017-09-14 15:55:10\",\"orientation\":\"No\"},{\"cid\":\"151\",\"caredate\":\"2017-09-22\",\"caretime\":\"15:00:00\",\"hours\":\"8\",\"id\":\"10636\",\"status\":\"PNetwork\",\"pfname\":\"Not\",\"plname\":\"Assigned\",\"booked\":\"No\",\"entrytime\":\"2017-09-14 15:25:10\",\"softtime\":\"2017-09-14 15:55:10\",\"orientation\":\"No\"},{\"cid\":\"151\",\"caredate\":\"2017-09-22\",\"caretime\":\"23:00:00\",\"hours\":\"8\",\"id\":\"10637\",\"status\":\"PNetwork\",\"pfname\":\"Sandra\",\"plname\":\"White\",\"booked\":\"No\",\"entrytime\":\"2017-09-14 15:25:16\",\"softtime\":\"2017-09-14 15:55:16\",\"orientation\":\"No\"},{\"cid\":\"151\",\"caredate\":\"2017-09-22\",\"caretime\":\"07:00:00\",\"hours\":\"12\",\"id\":\"10639\",\"status\":\"PNetwork\",\"pfname\":\"Not\",\"plname\":\"Assigned\",\"booked\":\"No\",\"entrytime\":\"2017-09-14 15:25:24\",\"softtime\":\"2017-09-14 15:55:24\",\"orientation\":\"No\"},{\"cid\":\"151\",\"caredate\":\"2017-09-22\",\"caretime\":\"19:00:00\",\"hours\":\"12\",\"id\":\"10641\",\"status\":\"PNetwork\",\"pfname\":\"Not\",\"plname\":\"Assigned\",\"booked\":\"No\",\"entrytime\":\"2017-09-14 15:25:30\",\"softtime\":\"2017-09-14 15:55:30\",\"orientation\":\"No\"},{\"cid\":\"151\",\"caredate\":\"2017-09-22\",\"caretime\":\"07:00:00\",\"hours\":\"8\",\"id\":\"10669\",\"status\":\"Accepted\",\"pfname\":\"Bilal\",\"plname\":\"elezi\",\"booked\":\"No\",\"entrytime\":\"2017-09-21 09:16:23\",\"softtime\":\"2017-09-21 09:46:23\",\"orientation\":\"No\"},{\"cid\":\"151\",\"caredate\":\"2017-09-22\",\"caretime\":\"07:00:00\",\"hours\":\"8\",\"id\":\"10670\",\"status\":\"Accepted\",\"pfname\":\"Bilal\",\"plname\":\"elezi\",\"booked\":\"No\",\"entrytime\":\"2017-09-21 09:16:23\",\"softtime\":\"2017-09-21 09:46:23\",\"orientation\":\"No\"},{\"cid\":\"151\",\"caredate\":\"2017-09-22\",\"caretime\":\"23:00:00\",\"hours\":\"8\",\"id\":\"10671\",\"status\":\"PNetwork\",\"pfname\":\"Not\",\"plname\":\"Assigned\",\"booked\":\"No\",\"entrytime\":\"2017-09-21 09:16:40\",\"softtime\":\"2017-09-21 09:46:40\",\"orientation\":\"No\"},{\"cid\":\"151\",\"caredate\":\"2017-09-22\",\"caretime\":\"23:00:00\",\"hours\":\"8\",\"id\":\"10672\",\"status\":\"PNetwork\",\"pfname\":\"Not\",\"plname\":\"Assigned\",\"booked\":\"No\",\"entrytime\":\"2017-09-21 09:16:40\",\"softtime\":\"2017-09-21 09:46:40\",\"orientation\":\"No\"},{\"cid\":\"151\",\"caredate\":\"2017-09-23\",\"caretime\":\"23:00:00\",\"hours\":\"8\",\"id\":\"10653\",\"status\":\"PNetwork\",\"pfname\":\"Not\",\"plname\":\"Assigned\",\"booked\":\"No\",\"entrytime\":\"2017-09-19 15:45:18\",\"softtime\":\"2017-09-19 16:15:18\",\"orientation\":\"No\"},{\"cid\":\"151\",\"caredate\":\"2017-09-23\",\"caretime\":\"07:00:00\",\"hours\":\"8\",\"id\":\"10650\",\"status\":\"PNetwork\",\"pfname\":\"Not\",\"plname\":\"Assigned\",\"booked\":\"No\",\"entrytime\":\"2017-09-19 15:44:56\",\"softtime\":\"2017-09-19 16:14:56\",\"orientation\":\"No\"},{\"cid\":\"151\",\"caredate\":\"2017-09-23\",\"caretime\":\"15:00:00\",\"hours\":\"8\",\"id\":\"10651\",\"status\":\"Accepted\",\"pfname\":\"Sandra\",\"plname\":\"White\",\"booked\":\"No\",\"entrytime\":\"2017-09-19 15:45:13\",\"softtime\":\"2017-09-19 16:15:13\",\"orientation\":\"No\"},{\"cid\":\"151\",\"caredate\":\"2017-09-23\",\"caretime\":\"23:00:00\",\"hours\":\"8\",\"id\":\"10652\",\"status\":\"PNetwork\",\"pfname\":\"Not\",\"plname\":\"Assigned\",\"booked\":\"No\",\"entrytime\":\"2017-09-19 15:45:18\",\"softtime\":\"2017-09-19 16:15:18\",\"orientation\":\"No\"},{\"cid\":\"151\",\"caredate\":\"2017-09-24\",\"caretime\":\"23:00:00\",\"hours\":\"8\",\"id\":\"10654\",\"status\":\"PNetwork\",\"pfname\":\"Not\",\"plname\":\"Assigned\",\"booked\":\"No\",\"entrytime\":\"2017-09-19 15:45:22\",\"softtime\":\"2017-09-19 16:15:22\",\"orientation\":\"No\"},{\"cid\":\"151\",\"caredate\":\"2017-09-24\",\"caretime\":\"23:00:00\",\"hours\":\"8\",\"id\":\"10655\",\"status\":\"PNetwork\",\"pfname\":\"Not\",\"plname\":\"Assigned\",\"booked\":\"No\",\"entrytime\":\"2017-09-19 15:45:22\",\"softtime\":\"2017-09-19 16:15:22\",\"orientation\":\"No\"},{\"cid\":\"151\",\"caredate\":\"2017-09-24\",\"caretime\":\"07:00:00\",\"hours\":\"8\",\"id\":\"10656\",\"status\":\"PNetwork\",\"pfname\":\"Not\",\"plname\":\"Assigned\",\"booked\":\"No\",\"entrytime\":\"2017-09-19 15:45:27\",\"softtime\":\"2017-09-19 16:15:27\",\"orientation\":\"No\"},{\"cid\":\"151\",\"caredate\":\"2017-09-24\",\"caretime\":\"07:00:00\",\"hours\":\"8\",\"id\":\"10657\",\"status\":\"Accepted\",\"pfname\":\"Sandra\",\"plname\":\"White\",\"booked\":\"No\",\"entrytime\":\"2017-09-19 15:45:27\",\"softtime\":\"2017-09-19 16:15:27\",\"orientation\":\"No\"},{\"cid\":\"151\",\"caredate\":\"2017-09-24\",\"caretime\":\"19:00:00\",\"hours\":\"12\",\"id\":\"10677\",\"status\":\"PNetwork\",\"pfname\":\"Not\",\"plname\":\"Assigned\",\"booked\":\"No\",\"entrytime\":\"2017-09-21 09:17:05\",\"softtime\":\"2017-09-21 09:47:05\",\"orientation\":\"No\"},{\"cid\":\"151\",\"caredate\":\"2017-09-24\",\"caretime\":\"15:00:00\",\"hours\":\"8\",\"id\":\"10658\",\"status\":\"PNetwork\",\"pfname\":\"Not\",\"plname\":\"Assigned\",\"booked\":\"No\",\"entrytime\":\"2017-09-19 15:45:32\",\"softtime\":\"2017-09-19 16:15:32\",\"orientation\":\"No\"},{\"cid\":\"151\",\"caredate\":\"2017-09-24\",\"caretime\":\"19:00:00\",\"hours\":\"12\",\"id\":\"10678\",\"status\":\"PNetwork\",\"pfname\":\"Not\",\"plname\":\"Assigned\",\"booked\":\"No\",\"entrytime\":\"2017-09-21 09:17:05\",\"softtime\":\"2017-09-21 09:47:05\",\"orientation\":\"No\"},{\"cid\":\"151\",\"caredate\":\"2017-09-24\",\"caretime\":\"15:00:00\",\"hours\":\"8\",\"id\":\"10659\",\"status\":\"Accepted\",\"pfname\":\"Sandra\",\"plname\":\"White\",\"booked\":\"No\",\"entrytime\":\"2017-09-19 15:45:32\",\"softtime\":\"2017-09-19 16:15:32\",\"orientation\":\"No\"},{\"cid\":\"151\",\"caredate\":\"2017-09-24\",\"caretime\":\"19:00:00\",\"hours\":\"12\",\"id\":\"10679\",\"status\":\"PNetwork\",\"pfname\":\"Not\",\"plname\":\"Assigned\",\"booked\":\"No\",\"entrytime\":\"2017-09-21 09:17:05\",\"softtime\":\"2017-09-21 09:47:05\",\"orientation\":\"No\"},{\"cid\":\"151\",\"caredate\":\"2017-09-24\",\"caretime\":\"19:00:00\",\"hours\":\"12\",\"id\":\"10680\",\"status\":\"PNetwork\",\"pfname\":\"Not\",\"plname\":\"Assigned\",\"booked\":\"No\",\"entrytime\":\"2017-09-21 09:17:05\",\"softtime\":\"2017-09-21 09:47:05\",\"orientation\":\"No\"},{\"cid\":\"151\",\"caredate\":\"2017-09-24\",\"caretime\":\"07:00:00\",\"hours\":\"12\",\"id\":\"10681\",\"status\":\"PNetwork\",\"pfname\":\"Not\",\"plname\":\"Assigned\",\"booked\":\"No\",\"entrytime\":\"2017-09-21 09:52:25\",\"softtime\":\"2017-09-21 10:22:25\",\"orientation\":\"No\"},{\"cid\":\"151\",\"caredate\":\"2017-09-25\",\"caretime\":\"16:00:00\",\"hours\":\"8\",\"id\":\"10753\",\"status\":\"PNetwork\",\"pfname\":\"Not\",\"plname\":\"Assigned\",\"booked\":\"No\",\"entrytime\":\"2017-09-25 14:23:56\",\"softtime\":\"2017-09-25 14:53:56\",\"orientation\":\"No\"},{\"cid\":\"151\",\"caredate\":\"2017-09-25\",\"caretime\":\"21:00:00\",\"hours\":\"8\",\"id\":\"10769\",\"status\":\"Completed\",\"pfname\":\"Android\",\"plname\":\"Docs\",\"booked\":\"No\",\"entrytime\":\"2017-09-25 14:50:11\",\"softtime\":\"2017-09-25 15:20:11\",\"orientation\":\"No\"},{\"cid\":\"151\",\"caredate\":\"2017-09-25\",\"caretime\":\"16:00:00\",\"hours\":\"8\",\"id\":\"10754\",\"status\":\"PNetwork\",\"pfname\":\"Not\",\"plname\":\"Assigned\",\"booked\":\"No\",\"entrytime\":\"2017-09-25 14:25:02\",\"softtime\":\"2017-09-25 14:55:02\",\"orientation\":\"No\"},{\"cid\":\"151\",\"caredate\":\"2017-09-25\",\"caretime\":\"12:09:00\",\"hours\":\"8\",\"id\":\"10739\",\"status\":\"Completed\",\"pfname\":\"Android\",\"plname\":\"Docs\",\"booked\":\"No\",\"entrytime\":\"2017-09-25 12:08:28\",\"softtime\":\"2017-09-25 12:38:28\",\"orientation\":\"No\"},{\"cid\":\"151\",\"caredate\":\"2017-09-25\",\"caretime\":\"16:00:00\",\"hours\":\"8\",\"id\":\"10755\",\"status\":\"PNetwork\",\"pfname\":\"Not\",\"plname\":\"Assigned\",\"booked\":\"No\",\"entrytime\":\"2017-09-25 14:25:02\",\"softtime\":\"2017-09-25 14:55:02\",\"orientation\":\"No\"},{\"cid\":\"151\",\"caredate\":\"2017-09-25\",\"caretime\":\"16:00:00\",\"hours\":\"8\",\"id\":\"10740\",\"status\":\"Completed\",\"pfname\":\"suku\",\"plname\":\"Docs\",\"booked\":\"No\",\"entrytime\":\"2017-09-25 14:16:01\",\"softtime\":\"2017-09-25 14:46:01\",\"orientation\":\"No\"},{\"cid\":\"151\",\"caredate\":\"2017-09-25\",\"caretime\":\"16:00:00\",\"hours\":\"8\",\"id\":\"10756\",\"status\":\"Completed\",\"pfname\":\"Android\",\"plname\":\"Docs\",\"booked\":\"No\",\"entrytime\":\"2017-09-25 14:25:02\",\"softtime\":\"2017-09-25 14:55:02\",\"orientation\":\"No\"},{\"cid\":\"151\",\"caredate\":\"2017-09-25\",\"caretime\":\"16:00:00\",\"hours\":\"8\",\"id\":\"10757\",\"status\":\"PNetwork\",\"pfname\":\"Not\",\"plname\":\"Assigned\",\"booked\":\"No\",\"entrytime\":\"2017-09-25 14:25:02\",\"softtime\":\"2017-09-25 14:55:02\",\"orientation\":\"No\"},{\"cid\":\"151\",\"caredate\":\"2017-09-25\",\"caretime\":\"16:00:00\",\"hours\":\"8\",\"id\":\"10758\",\"status\":\"Completed\",\"pfname\":\"suku\",\"plname\":\"Docs\",\"booked\":\"No\",\"entrytime\":\"2017-09-25 14:42:19\",\"softtime\":\"2017-09-25 15:12:19\",\"orientation\":\"No\"},{\"cid\":\"151\",\"caredate\":\"2017-09-25\",\"caretime\":\"16:00:00\",\"hours\":\"8\",\"id\":\"10759\",\"status\":\"PNetwork\",\"pfname\":\"Not\",\"plname\":\"Assigned\",\"booked\":\"No\",\"entrytime\":\"2017-09-25 14:42:19\",\"softtime\":\"2017-09-25 15:12:19\",\"orientation\":\"No\"},{\"cid\":\"151\",\"caredate\":\"2017-09-25\",\"caretime\":\"15:21:54\",\"hours\":\"8\",\"id\":\"10744\",\"status\":\"PNetwork\",\"pfname\":\"Not\",\"plname\":\"Assigned\",\"booked\":\"No\",\"entrytime\":\"2017-09-25 14:21:12\",\"softtime\":\"2017-09-25 14:51:12\",\"orientation\":\"No\"},{\"cid\":\"151\",\"caredate\":\"2017-09-25\",\"caretime\":\"16:00:00\",\"hours\":\"8\",\"id\":\"10760\",\"status\":\"Completed\",\"pfname\":\"Android\",\"plname\":\"Docs\",\"booked\":\"No\",\"entrytime\":\"2017-09-25 14:42:19\",\"softtime\":\"2017-09-25 15:12:19\",\"orientation\":\"No\"},{\"cid\":\"151\",\"caredate\":\"2017-09-25\",\"caretime\":\"15:00:00\",\"hours\":\"8\",\"id\":\"10660\",\"status\":\"Completed\",\"pfname\":\"Sandra\",\"plname\":\"White\",\"booked\":\"No\",\"entrytime\":\"2017-09-19 15:45:37\",\"softtime\":\"2017-09-19 16:15:37\",\"orientation\":\"No\"},{\"cid\":\"151\",\"caredate\":\"2017-09-25\",\"caretime\":\"15:21:54\",\"hours\":\"8\",\"id\":\"10745\",\"status\":\"PNetwork\",\"pfname\":\"Not\",\"plname\":\"Assigned\",\"booked\":\"No\",\"entrytime\":\"2017-09-25 14:21:12\",\"softtime\":\"2017-09-25 14:51:12\",\"orientation\":\"No\"},{\"cid\":\"151\",\"caredate\":\"2017-09-25\",\"caretime\":\"16:00:00\",\"hours\":\"8\",\"id\":\"10761\",\"status\":\"PNetwork\",\"pfname\":\"Not\",\"plname\":\"Assigned\",\"booked\":\"No\",\"entrytime\":\"2017-09-25 14:42:19\",\"softtime\":\"2017-09-25 15:12:19\",\"orientation\":\"No\"},{\"cid\":\"151\",\"caredate\":\"2017-09-25\",\"caretime\":\"07:00:00\",\"hours\":\"8\",\"id\":\"10661\",\"status\":\"PNetwork\",\"pfname\":\"Not\",\"plname\":\"Assigned\",\"booked\":\"No\",\"entrytime\":\"2017-09-19 15:45:41\",\"softtime\":\"2017-09-19 16:15:41\",\"orientation\":\"No\"},{\"cid\":\"151\",\"caredate\":\"2017-09-25\",\"caretime\":\"15:21:54\",\"hours\":\"8\",\"id\":\"10746\",\"status\":\"PNetwork\",\"pfname\":\"Not\",\"plname\":\"Assigned\",\"booked\":\"No\",\"entrytime\":\"2017-09-25 14:21:12\",\"softtime\":\"2017-09-25 14:51:12\",\"orientation\":\"No\"},{\"cid\":\"151\",\"caredate\":\"2017-09-25\",\"caretime\":\"16:00:00\",\"hours\":\"8\",\"id\":\"10762\",\"status\":\"PNetwork\",\"pfname\":\"Not\",\"plname\":\"Assigned\",\"booked\":\"No\",\"entrytime\":\"2017-09-25 14:42:25\",\"softtime\":\"2017-09-25 15:12:25\",\"orientation\":\"No\"},{\"cid\":\"151\",\"caredate\":\"2017-09-25\",\"caretime\":\"07:00:00\",\"hours\":\"8\",\"id\":\"10662\",\"status\":\"Completed\",\"pfname\":\"Sandra\",\"plname\":\"White\",\"booked\":\"No\",\"entrytime\":\"2017-09-19 15:45:41\",\"softtime\":\"2017-09-19 16:15:41\",\"orientation\":\"No\"},{\"cid\":\"151\",\"caredate\":\"2017-09-25\",\"caretime\":\"15:21:54\",\"hours\":\"8\",\"id\":\"10747\",\"status\":\"PNetwork\",\"pfname\":\"Not\",\"plname\":\"Assigned\",\"booked\":\"No\",\"entrytime\":\"2017-09-25 14:21:12\",\"softtime\":\"2017-09-25 14:51:12\",\"orientation\":\"No\"},{\"cid\":\"151\",\"caredate\":\"2017-09-25\",\"caretime\":\"16:00:00\",\"hours\":\"8\",\"id\":\"10763\",\"status\":\"PNetwork\",\"pfname\":\"Not\",\"plname\":\"Assigned\",\"booked\":\"No\",\"entrytime\":\"2017-09-25 14:42:25\",\"softtime\":\"2017-09-25 15:12:25\",\"orientation\":\"No\"},{\"cid\":\"151\",\"caredate\":\"2017-09-25\",\"caretime\":\"19:00:00\",\"hours\":\"8\",\"id\":\"10663\",\"status\":\"PNetwork\",\"pfname\":\"Not\",\"plname\":\"Assigned\",\"booked\":\"No\",\"entrytime\":\"2017-09-20 16:48:44\",\"softtime\":\"2017-09-20 17:18:44\",\"orientation\":\"No\"},{\"cid\":\"151\",\"caredate\":\"2017-09-25\",\"caretime\":\"15:21:54\",\"hours\":\"8\",\"id\":\"10748\",\"status\":\"PNetwork\",\"pfname\":\"Not\",\"plname\":\"Assigned\",\"booked\":\"No\",\"entrytime\":\"2017-09-25 14:21:12\",\"softtime\":\"2017-09-25 14:51:12\",\"orientation\":\"No\"},{\"cid\":\"151\",\"caredate\":\"2017-09-25\",\"caretime\":\"16:00:00\",\"hours\":\"8\",\"id\":\"10764\",\"status\":\"PNetwork\",\"pfname\":\"Not\",\"plname\":\"Assigned\",\"booked\":\"No\",\"entrytime\":\"2017-09-25 14:42:25\",\"softtime\":\"2017-09-25 15:12:25\",\"orientation\":\"No\"},{\"cid\":\"151\",\"caredate\":\"2017-09-25\",\"caretime\":\"21:00:00\",\"hours\":\"8\",\"id\":\"10664\",\"status\":\"PNetwork\",\"pfname\":\"Not\",\"plname\":\"Assigned\",\"booked\":\"No\",\"entrytime\":\"2017-09-20 16:48:44\",\"softtime\":\"2017-09-20 17:18:44\",\"orientation\":\"No\"},{\"cid\":\"151\",\"caredate\":\"2017-09-25\",\"caretime\":\"16:00:00\",\"hours\":\"8\",\"id\":\"10749\",\"status\":\"PNetwork\",\"pfname\":\"Not\",\"plname\":\"Assigned\",\"booked\":\"No\",\"entrytime\":\"2017-09-25 14:22:52\",\"softtime\":\"2017-09-25 14:52:52\",\"orientation\":\"No\"},{\"cid\":\"151\",\"caredate\":\"2017-09-25\",\"caretime\":\"16:00:00\",\"hours\":\"8\",\"id\":\"10765\",\"status\":\"PNetwork\",\"pfname\":\"Not\",\"plname\":\"Assigned\",\"booked\":\"No\",\"entrytime\":\"2017-09-25 14:42:25\",\"softtime\":\"2017-09-25 15:12:25\",\"orientation\":\"No\"},{\"cid\":\"151\",\"caredate\":\"2017-09-25\",\"caretime\":\"16:00:00\",\"hours\":\"8\",\"id\":\"10750\",\"status\":\"PNetwork\",\"pfname\":\"Not\",\"plname\":\"Assigned\",\"booked\":\"No\",\"entrytime\":\"2017-09-25 14:22:52\",\"softtime\":\"2017-09-25 14:52:52\",\"orientation\":\"No\"},{\"cid\":\"151\",\"caredate\":\"2017-09-25\",\"caretime\":\"16:00:00\",\"hours\":\"8\",\"id\":\"10766\",\"status\":\"PNetwork\",\"pfname\":\"Not\",\"plname\":\"Assigned\",\"booked\":\"No\",\"entrytime\":\"2017-09-25 14:50:11\",\"softtime\":\"2017-09-25 15:20:11\",\"orientation\":\"No\"},{\"cid\":\"151\",\"caredate\":\"2017-09-25\",\"caretime\":\"16:00:00\",\"hours\":\"8\",\"id\":\"10751\",\"status\":\"PNetwork\",\"pfname\":\"Not\",\"plname\":\"Assigned\",\"booked\":\"No\",\"entrytime\":\"2017-09-25 14:23:56\",\"softtime\":\"2017-09-25 14:53:56\",\"orientation\":\"No\"},{\"cid\":\"151\",\"caredate\":\"2017-09-25\",\"caretime\":\"16:00:00\",\"hours\":\"8\",\"id\":\"10767\",\"status\":\"PNetwork\",\"pfname\":\"Not\",\"plname\":\"Assigned\",\"booked\":\"No\",\"entrytime\":\"2017-09-25 14:50:11\",\"softtime\":\"2017-09-25 15:20:11\",\"orientation\":\"No\"},{\"cid\":\"151\",\"caredate\":\"2017-09-25\",\"caretime\":\"16:00:00\",\"hours\":\"8\",\"id\":\"10752\",\"status\":\"PNetwork\",\"pfname\":\"Not\",\"plname\":\"Assigned\",\"booked\":\"No\",\"entrytime\":\"2017-09-25 14:23:56\",\"softtime\":\"2017-09-25 14:53:56\",\"orientation\":\"No\"},{\"cid\":\"151\",\"caredate\":\"2017-09-25\",\"caretime\":\"16:00:00\",\"hours\":\"8\",\"id\":\"10768\",\"status\":\"PNetwork\",\"pfname\":\"Not\",\"plname\":\"Assigned\",\"booked\":\"No\",\"entrytime\":\"2017-09-25 14:50:11\",\"softtime\":\"2017-09-25 15:20:11\",\"orientation\":\"No\"},{\"cid\":\"151\",\"caredate\":\"2017-09-26\",\"caretime\":\"15:00:00\",\"hours\":\"8\",\"id\":\"10779\",\"status\":\"Completed\",\"pfname\":\"Suku\",\"plname\":\"Test\",\"booked\":\"No\",\"entrytime\":\"2017-09-26 13:15:56\",\"softtime\":\"2017-09-26 13:45:56\",\"orientation\":\"No\"},{\"cid\":\"151\",\"caredate\":\"2017-09-26\",\"caretime\":\"15:00:00\",\"hours\":\"8\",\"id\":\"10780\",\"status\":\"PNetwork\",\"pfname\":\"Not\",\"plname\":\"Assigned\",\"booked\":\"No\",\"entrytime\":\"2017-09-26 13:16:03\",\"softtime\":\"2017-09-26 13:46:03\",\"orientation\":\"No\"},{\"cid\":\"151\",\"caredate\":\"2017-09-26\",\"caretime\":\"15:00:00\",\"hours\":\"8\",\"id\":\"10781\",\"status\":\"PNetwork\",\"pfname\":\"Not\",\"plname\":\"Assigned\",\"booked\":\"No\",\"entrytime\":\"2017-09-26 13:16:03\",\"softtime\":\"2017-09-26 13:46:03\",\"orientation\":\"No\"},{\"cid\":\"151\",\"caredate\":\"2017-09-26\",\"caretime\":\"15:00:00\",\"hours\":\"8\",\"id\":\"10741\",\"status\":\"PNetwork\",\"pfname\":\"Not\",\"plname\":\"Assigned\",\"booked\":\"No\",\"entrytime\":\"2017-09-25 14:16:21\",\"softtime\":\"2017-09-25 14:46:21\",\"orientation\":\"No\"},{\"cid\":\"151\",\"caredate\":\"2017-09-26\",\"caretime\":\"15:00:00\",\"hours\":\"8\",\"id\":\"10742\",\"status\":\"PNetwork\",\"pfname\":\"Not\",\"plname\":\"Assigned\",\"booked\":\"No\",\"entrytime\":\"2017-09-25 14:16:21\",\"softtime\":\"2017-09-25 14:46:21\",\"orientation\":\"No\"},{\"cid\":\"151\",\"caredate\":\"2017-09-26\",\"caretime\":\"23:00:00\",\"hours\":\"8\",\"id\":\"10784\",\"status\":\"PNetwork\",\"pfname\":\"Not\",\"plname\":\"Assigned\",\"booked\":\"No\",\"entrytime\":\"2017-09-26 13:16:20\",\"softtime\":\"2017-09-26 13:46:20\",\"orientation\":\"No\"},{\"cid\":\"151\",\"caredate\":\"2017-09-26\",\"caretime\":\"23:00:00\",\"hours\":\"8\",\"id\":\"10785\",\"status\":\"PNetwork\",\"pfname\":\"Not\",\"plname\":\"Assigned\",\"booked\":\"No\",\"entrytime\":\"2017-09-26 13:16:20\",\"softtime\":\"2017-09-26 13:46:20\",\"orientation\":\"No\"},{\"cid\":\"151\",\"caredate\":\"2017-09-26\",\"caretime\":\"23:00:00\",\"hours\":\"8\",\"id\":\"10786\",\"status\":\"PNetwork\",\"pfname\":\"Not\",\"plname\":\"Assigned\",\"booked\":\"No\",\"entrytime\":\"2017-09-26 13:58:31\",\"softtime\":\"2017-09-26 14:28:31\",\"orientation\":\"No\"},{\"cid\":\"151\",\"caredate\":\"2017-09-26\",\"caretime\":\"23:00:00\",\"hours\":\"8\",\"id\":\"10787\",\"status\":\"Accepted\",\"pfname\":\"Suku\",\"plname\":\"Test\",\"booked\":\"No\",\"entrytime\":\"2017-09-26 13:58:31\",\"softtime\":\"2017-09-26 14:28:31\",\"orientation\":\"No\"},{\"cid\":\"151\",\"caredate\":\"2017-09-27\",\"caretime\":\"07:00:00\",\"hours\":\"8\",\"id\":\"10782\",\"status\":\"PNetwork\",\"pfname\":\"Not\",\"plname\":\"Assigned\",\"booked\":\"No\",\"entrytime\":\"2017-09-26 13:16:12\",\"softtime\":\"2017-09-26 13:46:12\",\"orientation\":\"No\"},{\"cid\":\"151\",\"caredate\":\"2017-09-27\",\"caretime\":\"07:00:00\",\"hours\":\"8\",\"id\":\"10783\",\"status\":\"Accepted\",\"pfname\":\"suku\",\"plname\":\"Docs\",\"booked\":\"No\",\"entrytime\":\"2017-09-26 13:16:12\",\"softtime\":\"2017-09-26 13:46:12\",\"orientation\":\"No\"},{\"cid\":\"151\",\"caredate\":\"2017-09-27\",\"caretime\":\"07:00:00\",\"hours\":\"12\",\"id\":\"10743\",\"status\":\"PNetwork\",\"pfname\":\"suku\",\"plname\":\"Docs\",\"booked\":\"No\",\"entrytime\":\"2017-09-25 14:16:31\",\"softtime\":\"2017-09-25 14:46:31\",\"orientation\":\"No\"},{\"cid\":\"151\",\"caredate\":\"2017-09-27\",\"caretime\":\"16:00:00\",\"hours\":\"8\",\"id\":\"10824\",\"status\":\"PNetwork\",\"pfname\":\"Not\",\"plname\":\"Assigned\",\"booked\":\"No\",\"entrytime\":\"2017-09-27 14:52:52\",\"softtime\":\"2017-09-27 15:22:52\",\"orientation\":\"No\"},{\"cid\":\"151\",\"caredate\":\"2017-09-27\",\"caretime\":\"19:00:00\",\"hours\":\"12\",\"id\":\"10788\",\"status\":\"PNetwork\",\"pfname\":\"Not\",\"plname\":\"Assigned\",\"booked\":\"No\",\"entrytime\":\"2017-09-26 13:58:42\",\"softtime\":\"2017-09-26 14:28:42\",\"orientation\":\"No\"},{\"cid\":\"151\",\"caredate\":\"2017-09-27\",\"caretime\":\"19:00:00\",\"hours\":\"12\",\"id\":\"10789\",\"status\":\"PNetwork\",\"pfname\":\"Not\",\"plname\":\"Assigned\",\"booked\":\"No\",\"entrytime\":\"2017-09-26 13:58:42\",\"softtime\":\"2017-09-26 14:28:42\",\"orientation\":\"No\"},{\"cid\":\"151\",\"caredate\":\"2017-09-28\",\"caretime\":\"07:00:00\",\"hours\":\"8\",\"id\":\"10794\",\"status\":\"Completed\",\"pfname\":\"suku\",\"plname\":\"Docs\",\"booked\":\"No\",\"entrytime\":\"2017-09-26 13:59:04\",\"softtime\":\"2017-09-26 14:29:04\",\"orientation\":\"No\"},{\"cid\":\"151\",\"caredate\":\"2017-09-28\",\"caretime\":\"15:00:00\",\"hours\":\"8\",\"id\":\"10790\",\"status\":\"PNetwork\",\"pfname\":\"Not\",\"plname\":\"Assigned\",\"booked\":\"No\",\"entrytime\":\"2017-09-26 13:58:54\",\"softtime\":\"2017-09-26 14:28:54\",\"orientation\":\"No\"},{\"cid\":\"151\",\"caredate\":\"2017-09-28\",\"caretime\":\"15:00:00\",\"hours\":\"8\",\"id\":\"10791\",\"status\":\"PNetwork\",\"pfname\":\"Not\",\"plname\":\"Assigned\",\"booked\":\"No\",\"entrytime\":\"2017-09-26 13:58:54\",\"softtime\":\"2017-09-26 14:28:54\",\"orientation\":\"No\"},{\"cid\":\"151\",\"caredate\":\"2017-09-28\",\"caretime\":\"17:00:00\",\"hours\":\"8\",\"id\":\"10792\",\"status\":\"Completed\",\"pfname\":\"Suku\",\"plname\":\"Test\",\"booked\":\"No\",\"entrytime\":\"2017-09-26 13:58:54\",\"softtime\":\"2017-09-26 14:28:54\",\"orientation\":\"No\"},{\"cid\":\"151\",\"caredate\":\"2017-09-28\",\"caretime\":\"07:00:00\",\"hours\":\"8\",\"id\":\"10793\",\"status\":\"PNetwork\",\"pfname\":\"Not\",\"plname\":\"Assigned\",\"booked\":\"No\",\"entrytime\":\"2017-09-26 13:59:04\",\"softtime\":\"2017-09-26 14:29:04\",\"orientation\":\"No\"},{\"cid\":\"151\",\"caredate\":\"2017-09-29\",\"caretime\":\"13:29:00\",\"hours\":\"8\",\"id\":\"10795\",\"status\":\"PNetwork\",\"pfname\":\"Not\",\"plname\":\"Assigned\",\"booked\":\"No\",\"entrytime\":\"2017-09-26 13:59:16\",\"softtime\":\"2017-09-26 14:29:16\",\"orientation\":\"No\"},{\"cid\":\"151\",\"caredate\":\"2017-09-29\",\"caretime\":\"07:00:00\",\"hours\":\"8\",\"id\":\"10796\",\"status\":\"PNetwork\",\"pfname\":\"Not\",\"plname\":\"Assigned\",\"booked\":\"No\",\"entrytime\":\"2017-09-26 13:59:16\",\"softtime\":\"2017-09-26 14:29:16\",\"orientation\":\"No\"},{\"cid\":\"151\",\"caredate\":\"2017-09-29\",\"caretime\":\"19:00:00\",\"hours\":\"12\",\"id\":\"10797\",\"status\":\"PNetwork\",\"pfname\":\"Not\",\"plname\":\"Assigned\",\"booked\":\"No\",\"entrytime\":\"2017-09-26 13:59:24\",\"softtime\":\"2017-09-26 14:29:24\",\"orientation\":\"No\"},{\"cid\":\"151\",\"caredate\":\"2017-09-29\",\"caretime\":\"19:00:00\",\"hours\":\"12\",\"id\":\"10798\",\"status\":\"PNetwork\",\"pfname\":\"Not\",\"plname\":\"Assigned\",\"booked\":\"No\",\"entrytime\":\"2017-09-26 13:59:24\",\"softtime\":\"2017-09-26 14:29:24\",\"orientation\":\"No\"},{\"cid\":\"151\",\"caredate\":\"2017-09-29\",\"caretime\":\"13:30:00\",\"hours\":\"8\",\"id\":\"11660\",\"status\":\"Completed\",\"pfname\":\"Sandra\",\"plname\":\"White\",\"booked\":\"No\",\"entrytime\":\"2017-09-29 11:15:44\",\"softtime\":\"2017-09-29 11:45:44\",\"orientation\":\"No\"},{\"cid\":\"151\",\"caredate\":\"2017-09-29\",\"caretime\":\"12:16:36\",\"hours\":\"12\",\"id\":\"11661\",\"status\":\"Completed\",\"pfname\":\"Sandra\",\"plname\":\"White\",\"booked\":\"No\",\"entrytime\":\"2017-09-29 11:15:51\",\"softtime\":\"2017-09-29 11:45:51\",\"orientation\":\"No\"},{\"cid\":\"151\",\"caredate\":\"2017-09-29\",\"caretime\":\"13:16:00\",\"hours\":\"12\",\"id\":\"11662\",\"status\":\"Completed\",\"pfname\":\"Sandra\",\"plname\":\"White\",\"booked\":\"No\",\"entrytime\":\"2017-09-29 11:15:51\",\"softtime\":\"2017-09-29 11:45:51\",\"orientation\":\"No\"},{\"cid\":\"151\",\"caredate\":\"2017-09-29\",\"caretime\":\"12:16:36\",\"hours\":\"12\",\"id\":\"11663\",\"status\":\"PNetwork\",\"pfname\":\"Not\",\"plname\":\"Assigned\",\"booked\":\"No\",\"entrytime\":\"2017-09-29 11:15:51\",\"softtime\":\"2017-09-29 11:45:51\",\"orientation\":\"No\"},{\"cid\":\"151\",\"caredate\":\"2017-09-29\",\"caretime\":\"12:16:36\",\"hours\":\"12\",\"id\":\"11664\",\"status\":\"PNetwork\",\"pfname\":\"Not\",\"plname\":\"Assigned\",\"booked\":\"No\",\"entrytime\":\"2017-09-29 11:15:51\",\"softtime\":\"2017-09-29 11:45:51\",\"orientation\":\"No\"},{\"cid\":\"151\",\"caredate\":\"2017-09-30\",\"caretime\":\"07:00:00\",\"hours\":\"8\",\"id\":\"10799\",\"status\":\"PNetwork\",\"pfname\":\"Not\",\"plname\":\"Assigned\",\"booked\":\"No\",\"entrytime\":\"2017-09-26 13:59:34\",\"softtime\":\"2017-09-26 14:29:34\",\"orientation\":\"No\"},{\"cid\":\"151\",\"caredate\":\"2017-09-30\",\"caretime\":\"07:00:00\",\"hours\":\"8\",\"id\":\"10800\",\"status\":\"PNetwork\",\"pfname\":\"Not\",\"plname\":\"Assigned\",\"booked\":\"No\",\"entrytime\":\"2017-09-26 13:59:34\",\"softtime\":\"2017-09-26 14:29:34\",\"orientation\":\"No\"},{\"cid\":\"151\",\"caredate\":\"2017-10-01\",\"caretime\":\"15:00:00\",\"hours\":\"8\",\"id\":\"11665\",\"status\":\"PNetwork\",\"pfname\":\"Not\",\"plname\":\"Assigned\",\"booked\":\"No\",\"entrytime\":\"2017-09-29 11:15:57\",\"softtime\":\"2017-09-29 11:45:57\",\"orientation\":\"No\"},{\"cid\":\"151\",\"caredate\":\"2017-10-01\",\"caretime\":\"15:00:00\",\"hours\":\"8\",\"id\":\"11666\",\"status\":\"PNetwork\",\"pfname\":\"Not\",\"plname\":\"Assigned\",\"booked\":\"No\",\"entrytime\":\"2017-09-29 11:15:57\",\"softtime\":\"2017-09-29 11:45:57\",\"orientation\":\"No\"},{\"cid\":\"151\",\"caredate\":\"2017-10-02\",\"caretime\":\"23:00:00\",\"hours\":\"4\",\"id\":\"11668\",\"status\":\"Completed\",\"pfname\":\"Sandra\",\"plname\":\"White\",\"booked\":\"No\",\"entrytime\":\"2017-09-29 11:16:01\",\"softtime\":\"2017-09-29 11:46:01\",\"orientation\":\"No\"},{\"cid\":\"151\",\"caredate\":\"2017-10-02\",\"caretime\":\"19:00:00\",\"hours\":\"4\",\"id\":\"11678\",\"status\":\"Completed\",\"pfname\":\"carlos\",\"plname\":\"Tevez\",\"booked\":\"No\",\"entrytime\":\"2017-10-02 14:39:17\",\"softtime\":\"2017-10-02 15:09:17\",\"orientation\":\"No\"},{\"cid\":\"151\",\"caredate\":\"2017-10-02\",\"caretime\":\"23:00:00\",\"hours\":\"8\",\"id\":\"11686\",\"status\":\"Completed\",\"pfname\":\"IlyassPA\",\"plname\":\"PA\",\"booked\":\"No\",\"entrytime\":\"2017-10-02 15:52:24\",\"softtime\":\"2017-10-02 16:22:24\",\"orientation\":\"No\"},{\"cid\":\"151\",\"caredate\":\"2017-10-02\",\"caretime\":\"23:00:00\",\"hours\":\"8\",\"id\":\"11687\",\"status\":\"Completed\",\"pfname\":\"Bilal\",\"plname\":\"elezi\",\"booked\":\"No\",\"entrytime\":\"2017-10-02 15:52:24\",\"softtime\":\"2017-10-02 16:22:24\",\"orientation\":\"No\"},{\"cid\":\"151\",\"caredate\":\"2017-10-02\",\"caretime\":\"23:00:00\",\"hours\":\"8\",\"id\":\"11688\",\"status\":\"Completed\",\"pfname\":\"Johnny\",\"plname\":\"Drop\",\"booked\":\"No\",\"entrytime\":\"2017-10-02 15:52:24\",\"softtime\":\"2017-10-02 16:22:24\",\"orientation\":\"No\"},{\"cid\":\"151\",\"caredate\":\"2017-10-02\",\"caretime\":\"23:00:00\",\"hours\":\"4\",\"id\":\"11689\",\"status\":\"Completed\",\"pfname\":\"Suku\",\"plname\":\"Test1\",\"booked\":\"No\",\"entrytime\":\"2017-10-02 15:52:28\",\"softtime\":\"2017-10-02 16:22:28\",\"orientation\":\"No\"},{\"cid\":\"151\",\"caredate\":\"2017-10-02\",\"caretime\":\"23:00:00\",\"hours\":\"8\",\"id\":\"11690\",\"status\":\"PNetwork\",\"pfname\":\"Not\",\"plname\":\"Assigned\",\"booked\":\"No\",\"entrytime\":\"2017-10-02 15:52:28\",\"softtime\":\"2017-10-02 16:22:28\",\"orientation\":\"No\"},{\"cid\":\"151\",\"caredate\":\"2017-10-02\",\"caretime\":\"11:00:00\",\"hours\":\"4\",\"id\":\"11667\",\"status\":\"Completed\",\"pfname\":\"Suku\",\"plname\":\"Test1\",\"booked\":\"No\",\"entrytime\":\"2017-09-29 11:16:01\",\"softtime\":\"2017-09-29 11:46:01\",\"orientation\":\"No\"},{\"cid\":\"151\",\"caredate\":\"2017-10-03\",\"caretime\":\"23:00:00\",\"hours\":\"8\",\"id\":\"11697\",\"status\":\"PNetwork\",\"pfname\":\"Not\",\"plname\":\"Assigned\",\"booked\":\"No\",\"entrytime\":\"2017-10-03 16:36:39\",\"softtime\":\"2017-10-03 17:06:39\",\"orientation\":\"No\"},{\"cid\":\"151\",\"caredate\":\"2017-10-03\",\"caretime\":\"23:00:00\",\"hours\":\"8\",\"id\":\"11698\",\"status\":\"Process\",\"pfname\":\"Suku\",\"plname\":\"Test\",\"booked\":\"No\",\"entrytime\":\"2017-10-03 16:36:39\",\"softtime\":\"2017-10-03 17:06:39\",\"orientation\":\"No\"},{\"cid\":\"151\",\"caredate\":\"2017-10-03\",\"caretime\":\"23:00:00\",\"hours\":\"8\",\"id\":\"11699\",\"status\":\"PNetwork\",\"pfname\":\"Not\",\"plname\":\"Assigned\",\"booked\":\"No\",\"entrytime\":\"2017-10-03 16:36:47\",\"softtime\":\"2017-10-03 17:06:47\",\"orientation\":\"No\"},{\"cid\":\"151\",\"caredate\":\"2017-10-03\",\"caretime\":\"23:00:00\",\"hours\":\"8\",\"id\":\"11700\",\"status\":\"PNetwork\",\"pfname\":\"Not\",\"plname\":\"Assigned\",\"booked\":\"No\",\"entrytime\":\"2017-10-03 16:36:47\",\"softtime\":\"2017-10-03 17:06:47\",\"orientation\":\"No\"},{\"cid\":\"151\",\"caredate\":\"2017-10-04\",\"caretime\":\"23:00:00\",\"hours\":\"8\",\"id\":\"11726\",\"status\":\"PNetwork\",\"pfname\":\"Not\",\"plname\":\"Assigned\",\"booked\":\"No\",\"entrytime\":\"2017-10-04 15:32:29\",\"softtime\":\"2017-10-04 16:02:29\",\"orientation\":\"No\"},{\"cid\":\"151\",\"caredate\":\"2017-10-04\",\"caretime\":\"23:00:00\",\"hours\":\"8\",\"id\":\"11727\",\"status\":\"PNetwork\",\"pfname\":\"Not\",\"plname\":\"Assigned\",\"booked\":\"No\",\"entrytime\":\"2017-10-04 15:32:29\",\"softtime\":\"2017-10-04 16:02:29\",\"orientation\":\"No\"},{\"cid\":\"151\",\"caredate\":\"2017-10-04\",\"caretime\":\"23:00:00\",\"hours\":\"8\",\"id\":\"11728\",\"status\":\"PNetwork\",\"pfname\":\"Not\",\"plname\":\"Assigned\",\"booked\":\"No\",\"entrytime\":\"2017-10-04 15:32:29\",\"softtime\":\"2017-10-04 16:02:29\",\"orientation\":\"No\"},{\"cid\":\"151\",\"caredate\":\"2017-10-04\",\"caretime\":\"23:00:00\",\"hours\":\"8\",\"id\":\"11729\",\"status\":\"PNetwork\",\"pfname\":\"Not\",\"plname\":\"Assigned\",\"booked\":\"No\",\"entrytime\":\"2017-10-04 15:32:29\",\"softtime\":\"2017-10-04 16:02:29\",\"orientation\":\"No\"},{\"cid\":\"151\",\"caredate\":\"2017-10-04\",\"caretime\":\"23:00:00\",\"hours\":\"8\",\"id\":\"11730\",\"status\":\"PNetwork\",\"pfname\":\"Not\",\"plname\":\"Assigned\",\"booked\":\"No\",\"entrytime\":\"2017-10-04 15:32:32\",\"softtime\":\"2017-10-04 16:02:32\",\"orientation\":\"No\"},{\"cid\":\"151\",\"caredate\":\"2017-10-04\",\"caretime\":\"23:00:00\",\"hours\":\"8\",\"id\":\"11731\",\"status\":\"PNetwork\",\"pfname\":\"Not\",\"plname\":\"Assigned\",\"booked\":\"No\",\"entrytime\":\"2017-10-04 15:32:32\",\"softtime\":\"2017-10-04 16:02:32\",\"orientation\":\"No\"},{\"cid\":\"151\",\"caredate\":\"2017-10-04\",\"caretime\":\"23:00:00\",\"hours\":\"8\",\"id\":\"11732\",\"status\":\"PNetwork\",\"pfname\":\"Not\",\"plname\":\"Assigned\",\"booked\":\"No\",\"entrytime\":\"2017-10-04 15:32:32\",\"softtime\":\"2017-10-04 16:02:32\",\"orientation\":\"No\"},{\"cid\":\"151\",\"caredate\":\"2017-10-04\",\"caretime\":\"07:00:00\",\"hours\":\"8\",\"id\":\"11692\",\"status\":\"PNetwork\",\"pfname\":\"Not\",\"plname\":\"Assigned\",\"booked\":\"No\",\"entrytime\":\"2017-10-03 16:23:11\",\"softtime\":\"2017-10-03 16:53:11\",\"orientation\":\"No\"},{\"cid\":\"151\",\"caredate\":\"2017-10-04\",\"caretime\":\"07:00:00\",\"hours\":\"8\",\"id\":\"11693\",\"status\":\"Completed\",\"pfname\":\"Suku\",\"plname\":\"Test\",\"booked\":\"No\",\"entrytime\":\"2017-10-03 16:23:11\",\"softtime\":\"2017-10-03 16:53:11\",\"orientation\":\"No\"},{\"cid\":\"151\",\"caredate\":\"2017-10-04\",\"caretime\":\"07:00:00\",\"hours\":\"8\",\"id\":\"11694\",\"status\":\"PNetwork\",\"pfname\":\"Not\",\"plname\":\"Assigned\",\"booked\":\"No\",\"entrytime\":\"2017-10-03 16:23:21\",\"softtime\":\"2017-10-03 16:53:21\",\"orientation\":\"No\"},{\"cid\":\"151\",\"caredate\":\"2017-10-04\",\"caretime\":\"07:00:00\",\"hours\":\"8\",\"id\":\"11695\",\"status\":\"PNetwork\",\"pfname\":\"Not\",\"plname\":\"Assigned\",\"booked\":\"No\",\"entrytime\":\"2017-10-03 16:23:21\",\"softtime\":\"2017-10-03 16:53:21\",\"orientation\":\"No\"},{\"cid\":\"151\",\"caredate\":\"2017-10-04\",\"caretime\":\"07:00:00\",\"hours\":\"8\",\"id\":\"11696\",\"status\":\"PNetwork\",\"pfname\":\"Not\",\"plname\":\"Assigned\",\"booked\":\"No\",\"entrytime\":\"2017-10-03 16:23:21\",\"softtime\":\"2017-10-03 16:53:21\",\"orientation\":\"No\"},{\"cid\":\"151\",\"caredate\":\"2017-10-07\",\"caretime\":\"15:00:00\",\"hours\":\"8\",\"id\":\"11737\",\"status\":\"Completed\",\"pfname\":\"FuqingYAYA\",\"plname\":\"WangYAYA\",\"booked\":\"No\",\"entrytime\":\"2017-10-06 10:51:26\",\"softtime\":\"2017-10-06 11:21:26\",\"orientation\":\"No\"},{\"cid\":\"151\",\"caredate\":\"2017-10-07\",\"caretime\":\"23:00:00\",\"hours\":\"8\",\"id\":\"11738\",\"status\":\"Accepted\",\"pfname\":\"Liz\",\"plname\":\"Brown\",\"booked\":\"No\",\"entrytime\":\"2017-10-06 10:52:25\",\"softtime\":\"2017-10-06 11:22:25\",\"orientation\":\"No\"},{\"cid\":\"151\",\"caredate\":\"2017-10-07\",\"caretime\":\"23:00:00\",\"hours\":\"8\",\"id\":\"11740\",\"status\":\"Completed\",\"pfname\":\"Sandra\",\"plname\":\"White\",\"booked\":\"No\",\"entrytime\":\"2017-10-06 16:55:03\",\"softtime\":\"2017-10-06 17:25:03\",\"orientation\":\"No\"},{\"cid\":\"151\",\"caredate\":\"2017-10-08\",\"caretime\":\"23:00:00\",\"hours\":\"8\",\"id\":\"11739\",\"status\":\"Accepted\",\"pfname\":\"Liz\",\"plname\":\"Brown\",\"booked\":\"No\",\"entrytime\":\"2017-10-06 10:52:54\",\"softtime\":\"2017-10-06 11:22:54\",\"orientation\":\"No\"},{\"cid\":\"151\",\"caredate\":\"2017-10-10\",\"caretime\":\"23:00:00\",\"hours\":\"8\",\"id\":\"11753\",\"status\":\"PNetwork\",\"pfname\":\"Not\",\"plname\":\"Assigned\",\"booked\":\"No\",\"entrytime\":\"2017-10-09 11:52:45\",\"softtime\":\"2017-10-09 12:22:45\",\"orientation\":\"No\"},{\"cid\":\"151\",\"caredate\":\"2017-10-10\",\"caretime\":\"23:00:00\",\"hours\":\"8\",\"id\":\"11754\",\"status\":\"PNetwork\",\"pfname\":\"Not\",\"plname\":\"Assigned\",\"booked\":\"No\",\"entrytime\":\"2017-10-09 11:52:45\",\"softtime\":\"2017-10-09 12:22:45\",\"orientation\":\"No\"},{\"cid\":\"151\",\"caredate\":\"2017-10-10\",\"caretime\":\"23:00:00\",\"hours\":\"8\",\"id\":\"11755\",\"status\":\"PNetwork\",\"pfname\":\"Not\",\"plname\":\"Assigned\",\"booked\":\"No\",\"entrytime\":\"2017-10-10 16:03:18\",\"softtime\":\"2017-10-10 16:33:18\",\"orientation\":\"No\"},{\"cid\":\"151\",\"caredate\":\"2017-10-10\",\"caretime\":\"23:00:00\",\"hours\":\"8\",\"id\":\"11756\",\"status\":\"PNetwork\",\"pfname\":\"Not\",\"plname\":\"Assigned\",\"booked\":\"No\",\"entrytime\":\"2017-10-10 16:03:18\",\"softtime\":\"2017-10-10 16:33:18\",\"orientation\":\"No\"},{\"cid\":\"151\",\"caredate\":\"2017-10-10\",\"caretime\":\"23:00:00\",\"hours\":\"8\",\"id\":\"11757\",\"status\":\"PNetwork\",\"pfname\":\"Not\",\"plname\":\"Assigned\",\"booked\":\"No\",\"entrytime\":\"2017-10-10 16:03:18\",\"softtime\":\"2017-10-10 16:33:18\",\"orientation\":\"No\"},{\"cid\":\"151\",\"caredate\":\"2017-10-10\",\"caretime\":\"23:00:00\",\"hours\":\"8\",\"id\":\"11758\",\"status\":\"PNetwork\",\"pfname\":\"Not\",\"plname\":\"Assigned\",\"booked\":\"No\",\"entrytime\":\"2017-10-10 16:03:18\",\"softtime\":\"2017-10-10 16:33:18\",\"orientation\":\"No\"},{\"cid\":\"151\",\"caredate\":\"2017-10-10\",\"caretime\":\"23:00:00\",\"hours\":\"8\",\"id\":\"11759\",\"status\":\"PNetwork\",\"pfname\":\"Not\",\"plname\":\"Assigned\",\"booked\":\"No\",\"entrytime\":\"2017-10-10 16:03:18\",\"softtime\":\"2017-10-10 16:33:18\",\"orientation\":\"No\"},{\"cid\":\"151\",\"caredate\":\"2017-10-10\",\"caretime\":\"23:00:00\",\"hours\":\"8\",\"id\":\"11760\",\"status\":\"PNetwork\",\"pfname\":\"Not\",\"plname\":\"Assigned\",\"booked\":\"No\",\"entrytime\":\"2017-10-10 16:03:22\",\"softtime\":\"2017-10-10 16:33:22\",\"orientation\":\"No\"},{\"cid\":\"151\",\"caredate\":\"2017-10-10\",\"caretime\":\"23:00:00\",\"hours\":\"8\",\"id\":\"11761\",\"status\":\"PNetwork\",\"pfname\":\"Not\",\"plname\":\"Assigned\",\"booked\":\"No\",\"entrytime\":\"2017-10-10 16:03:22\",\"softtime\":\"2017-10-10 16:33:22\",\"orientation\":\"No\"},{\"cid\":\"151\",\"caredate\":\"2017-10-10\",\"caretime\":\"12:00:00\",\"hours\":\"7\",\"id\":\"11763\",\"status\":\"PNetwork\",\"pfname\":\"Not\",\"plname\":\"Assigned\",\"booked\":\"No\",\"entrytime\":\"2017-10-10 16:03:23\",\"softtime\":\"2017-10-10 16:33:23\",\"orientation\":\"No\"},{\"cid\":\"151\",\"caredate\":\"2017-10-10\",\"caretime\":\"15:00:00\",\"hours\":\"8\",\"id\":\"11752\",\"status\":\"Completed\",\"pfname\":\"Sandra\",\"plname\":\"White\",\"booked\":\"No\",\"entrytime\":\"2017-10-09 11:52:45\",\"softtime\":\"2017-10-09 12:22:45\",\"orientation\":\"No\"},{\"cid\":\"151\",\"caredate\":\"2017-10-11\",\"caretime\":\"15:00:00\",\"hours\":\"8\",\"id\":\"11741\",\"status\":\"Completed\",\"pfname\":\"Android\",\"plname\":\"Docs\",\"booked\":\"No\",\"entrytime\":\"2017-10-09 10:39:53\",\"softtime\":\"2017-10-09 11:09:53\",\"orientation\":\"No\"},{\"cid\":\"151\",\"caredate\":\"2017-10-11\",\"caretime\":\"23:00:00\",\"hours\":\"8\",\"id\":\"11749\",\"status\":\"Accepted\",\"pfname\":\"Sandra\",\"plname\":\"White\",\"booked\":\"No\",\"entrytime\":\"2017-10-09 11:52:40\",\"softtime\":\"2017-10-09 12:22:40\",\"orientation\":\"No\"},{\"cid\":\"151\",\"caredate\":\"2017-10-11\",\"caretime\":\"23:00:00\",\"hours\":\"8\",\"id\":\"11750\",\"status\":\"Accepted\",\"pfname\":\"Sandra\",\"plname\":\"White\",\"booked\":\"No\",\"entrytime\":\"2017-10-09 11:52:40\",\"softtime\":\"2017-10-09 12:22:40\",\"orientation\":\"No\"},{\"cid\":\"151\",\"caredate\":\"2017-10-11\",\"caretime\":\"11:00:00\",\"hours\":\"10\",\"id\":\"11751\",\"status\":\"Accepted\",\"pfname\":\"Ily\",\"plname\":\"Hm\",\"booked\":\"No\",\"entrytime\":\"2017-10-09 11:52:40\",\"softtime\":\"2017-10-09 12:22:40\",\"orientation\":\"No\"},{\"cid\":\"151\",\"caredate\":\"2017-10-12\",\"caretime\":\"07:00:00\",\"hours\":\"8\",\"id\":\"11766\",\"status\":\"Completed\",\"pfname\":\"Suku\",\"plname\":\"Test\",\"booked\":\"No\",\"entrytime\":\"2017-10-11 16:38:26\",\"softtime\":\"2017-10-11 17:08:26\",\"orientation\":\"No\"},{\"cid\":\"151\",\"caredate\":\"2017-10-12\",\"caretime\":\"07:00:00\",\"hours\":\"8\",\"id\":\"11767\",\"status\":\"PNetwork\",\"pfname\":\"Not\",\"plname\":\"Assigned\",\"booked\":\"No\",\"entrytime\":\"2017-10-11 16:38:26\",\"softtime\":\"2017-10-11 17:08:26\",\"orientation\":\"No\"},{\"cid\":\"151\",\"caredate\":\"2017-10-12\",\"caretime\":\"07:00:00\",\"hours\":\"12\",\"id\":\"11768\",\"status\":\"PNetwork\",\"pfname\":\"Not\",\"plname\":\"Assigned\",\"booked\":\"No\",\"entrytime\":\"2017-10-11 16:38:33\",\"softtime\":\"2017-10-11 17:08:33\",\"orientation\":\"No\"},{\"cid\":\"151\",\"caredate\":\"2017-10-12\",\"caretime\":\"07:00:00\",\"hours\":\"12\",\"id\":\"11769\",\"status\":\"PNetwork\",\"pfname\":\"Not\",\"plname\":\"Assigned\",\"booked\":\"No\",\"entrytime\":\"2017-10-11 16:38:33\",\"softtime\":\"2017-10-11 17:08:33\",\"orientation\":\"No\"},{\"cid\":\"151\",\"caredate\":\"2017-10-12\",\"caretime\":\"07:00:00\",\"hours\":\"12\",\"id\":\"11770\",\"status\":\"PNetwork\",\"pfname\":\"Not\",\"plname\":\"Assigned\",\"booked\":\"No\",\"entrytime\":\"2017-10-11 16:38:33\",\"softtime\":\"2017-10-11 17:08:33\",\"orientation\":\"No\"},{\"cid\":\"151\",\"caredate\":\"2017-10-13\",\"caretime\":\"07:00:00\",\"hours\":\"8\",\"id\":\"11772\",\"status\":\"PNetwork\",\"pfname\":\"Not\",\"plname\":\"Assigned\",\"booked\":\"No\",\"entrytime\":\"2017-10-11 16:38:41\",\"softtime\":\"2017-10-11 17:08:41\",\"orientation\":\"No\"},{\"cid\":\"151\",\"caredate\":\"2017-10-13\",\"caretime\":\"15:00:00\",\"hours\":\"8\",\"id\":\"11773\",\"status\":\"PNetwork\",\"pfname\":\"Not\",\"plname\":\"Assigned\",\"booked\":\"No\",\"entrytime\":\"2017-10-11 16:38:52\",\"softtime\":\"2017-10-11 17:08:52\",\"orientation\":\"No\"},{\"cid\":\"151\",\"caredate\":\"2017-10-13\",\"caretime\":\"15:00:00\",\"hours\":\"8\",\"id\":\"11774\",\"status\":\"PNetwork\",\"pfname\":\"Not\",\"plname\":\"Assigned\",\"booked\":\"No\",\"entrytime\":\"2017-10-11 16:38:52\",\"softtime\":\"2017-10-11 17:08:52\",\"orientation\":\"No\"},{\"cid\":\"151\",\"caredate\":\"2017-10-13\",\"caretime\":\"15:00:00\",\"hours\":\"8\",\"id\":\"11775\",\"status\":\"PNetwork\",\"pfname\":\"Not\",\"plname\":\"Assigned\",\"booked\":\"No\",\"entrytime\":\"2017-10-11 16:38:52\",\"softtime\":\"2017-10-11 17:08:52\",\"orientation\":\"No\"},{\"cid\":\"151\",\"caredate\":\"2017-10-13\",\"caretime\":\"07:00:00\",\"hours\":\"8\",\"id\":\"11771\",\"status\":\"PNetwork\",\"pfname\":\"Not\",\"plname\":\"Assigned\",\"booked\":\"No\",\"entrytime\":\"2017-10-11 16:38:41\",\"softtime\":\"2017-10-11 17:08:41\",\"orientation\":\"No\"},{\"cid\":\"151\",\"caredate\":\"2017-10-14\",\"caretime\":\"07:00:00\",\"hours\":\"8\",\"id\":\"11777\",\"status\":\"PNetwork\",\"pfname\":\"Not\",\"plname\":\"Assigned\",\"booked\":\"No\",\"entrytime\":\"2017-10-11 16:38:59\",\"softtime\":\"2017-10-11 17:08:59\",\"orientation\":\"No\"},{\"cid\":\"151\",\"caredate\":\"2017-10-15\",\"caretime\":\"15:00:00\",\"hours\":\"8\",\"id\":\"11785\",\"status\":\"PNetwork\",\"pfname\":\"Not\",\"plname\":\"Assigned\",\"booked\":\"No\",\"entrytime\":\"2017-10-12 16:37:33\",\"softtime\":\"2017-10-12 17:07:33\",\"orientation\":\"No\"},{\"cid\":\"151\",\"caredate\":\"2017-10-15\",\"caretime\":\"15:00:00\",\"hours\":\"8\",\"id\":\"11786\",\"status\":\"PNetwork\",\"pfname\":\"Not\",\"plname\":\"Assigned\",\"booked\":\"No\",\"entrytime\":\"2017-10-12 16:37:33\",\"softtime\":\"2017-10-12 17:07:33\",\"orientation\":\"No\"},{\"cid\":\"151\",\"caredate\":\"2017-10-15\",\"caretime\":\"15:00:00\",\"hours\":\"8\",\"id\":\"11787\",\"status\":\"PNetwork\",\"pfname\":\"Not\",\"plname\":\"Assigned\",\"booked\":\"No\",\"entrytime\":\"2017-10-12 16:37:33\",\"softtime\":\"2017-10-12 17:07:33\",\"orientation\":\"No\"},{\"cid\":\"151\",\"caredate\":\"2017-10-16\",\"caretime\":\"11:37:39\",\"hours\":\"8\",\"id\":\"11798\",\"status\":\"Accepted\",\"pfname\":\"Not\",\"plname\":\"Assigned\",\"booked\":\"No\",\"entrytime\":\"2017-10-16 10:36:40\",\"softtime\":\"2017-10-16 11:06:40\",\"orientation\":\"No\"},{\"cid\":\"151\",\"caredate\":\"2017-10-16\",\"caretime\":\"11:37:39\",\"hours\":\"8\",\"id\":\"11799\",\"status\":\"Process\",\"pfname\":\"Bilal\",\"plname\":\"elezi\",\"booked\":\"No\",\"entrytime\":\"2017-10-16 10:36:40\",\"softtime\":\"2017-10-16 11:06:40\",\"orientation\":\"No\"},{\"cid\":\"151\",\"caredate\":\"2017-10-16\",\"caretime\":\"15:00:00\",\"hours\":\"8\",\"id\":\"11800\",\"status\":\"Accepted\",\"pfname\":\"Sandra\",\"plname\":\"White\",\"booked\":\"No\",\"entrytime\":\"2017-10-16 10:36:54\",\"softtime\":\"2017-10-16 11:06:54\",\"orientation\":\"No\"},{\"cid\":\"151\",\"caredate\":\"2017-10-16\",\"caretime\":\"15:00:00\",\"hours\":\"8\",\"id\":\"11801\",\"status\":\"Accepted\",\"pfname\":\"test\",\"plname\":\"cna\",\"booked\":\"No\",\"entrytime\":\"2017-10-16 10:36:54\",\"softtime\":\"2017-10-16 11:06:54\",\"orientation\":\"No\"},{\"cid\":\"151\",\"caredate\":\"2017-10-16\",\"caretime\":\"15:00:00\",\"hours\":\"8\",\"id\":\"11802\",\"status\":\"PNetwork\",\"pfname\":\"Not\",\"plname\":\"Assigned\",\"booked\":\"No\",\"entrytime\":\"2017-10-16 12:17:40\",\"softtime\":\"2017-10-16 12:47:40\",\"orientation\":\"No\"},{\"cid\":\"151\",\"caredate\":\"2017-10-16\",\"caretime\":\"15:00:00\",\"hours\":\"8\",\"id\":\"11803\",\"status\":\"PNetwork\",\"pfname\":\"Not\",\"plname\":\"Assigned\",\"booked\":\"No\",\"entrytime\":\"2017-10-16 12:17:40\",\"softtime\":\"2017-10-16 12:47:40\",\"orientation\":\"No\"},{\"cid\":\"151\",\"caredate\":\"2017-10-17\",\"caretime\":\"23:00:00\",\"hours\":\"8\",\"id\":\"11839\",\"status\":\"PNetwork\",\"pfname\":\"Not\",\"plname\":\"Assigned\",\"booked\":\"No\",\"entrytime\":\"2017-10-17 15:17:10\",\"softtime\":\"2017-10-17 15:47:10\",\"orientation\":\"No\"},{\"cid\":\"151\",\"caredate\":\"2017-10-17\",\"caretime\":\"23:00:00\",\"hours\":\"8\",\"id\":\"11840\",\"status\":\"PNetwork\",\"pfname\":\"Not\",\"plname\":\"Assigned\",\"booked\":\"No\",\"entrytime\":\"2017-10-17 15:19:33\",\"softtime\":\"2017-10-17 15:49:33\",\"orientation\":\"No\"},{\"cid\":\"151\",\"caredate\":\"2017-10-17\",\"caretime\":\"23:00:00\",\"hours\":\"8\",\"id\":\"11841\",\"status\":\"PNetwork\",\"pfname\":\"Not\",\"plname\":\"Assigned\",\"booked\":\"No\",\"entrytime\":\"2017-10-17 15:19:33\",\"softtime\":\"2017-10-17 15:49:33\",\"orientation\":\"No\"},{\"cid\":\"151\",\"caredate\":\"2017-10-17\",\"caretime\":\"23:00:00\",\"hours\":\"8\",\"id\":\"11842\",\"status\":\"PNetwork\",\"pfname\":\"Not\",\"plname\":\"Assigned\",\"booked\":\"No\",\"entrytime\":\"2017-10-17 15:19:33\",\"softtime\":\"2017-10-17 15:49:33\",\"orientation\":\"No\"},{\"cid\":\"151\",\"caredate\":\"2017-10-17\",\"caretime\":\"23:00:00\",\"hours\":\"8\",\"id\":\"11843\",\"status\":\"PNetwork\",\"pfname\":\"Not\",\"plname\":\"Assigned\",\"booked\":\"No\",\"entrytime\":\"2017-10-17 15:32:25\",\"softtime\":\"2017-10-17 16:02:25\",\"orientation\":\"No\"},{\"cid\":\"151\",\"caredate\":\"2017-10-17\",\"caretime\":\"23:00:00\",\"hours\":\"8\",\"id\":\"11844\",\"status\":\"PNetwork\",\"pfname\":\"Not\",\"plname\":\"Assigned\",\"booked\":\"No\",\"entrytime\":\"2017-10-17 15:32:25\",\"softtime\":\"2017-10-17 16:02:25\",\"orientation\":\"No\"},{\"cid\":\"151\",\"caredate\":\"2017-10-17\",\"caretime\":\"07:00:00\",\"hours\":\"8\",\"id\":\"11804\",\"status\":\"Process\",\"pfname\":\"Android\",\"plname\":\"Docs\",\"booked\":\"No\",\"entrytime\":\"2017-10-16 12:48:22\",\"softtime\":\"2017-10-16 13:18:22\",\"orientation\":\"No\"},{\"cid\":\"151\",\"caredate\":\"2017-10-17\",\"caretime\":\"23:00:00\",\"hours\":\"8\",\"id\":\"11845\",\"status\":\"PNetwork\",\"pfname\":\"Not\",\"plname\":\"Assigned\",\"booked\":\"No\",\"entrytime\":\"2017-10-17 15:34:45\",\"softtime\":\"2017-10-17 16:04:45\",\"orientation\":\"No\"},{\"cid\":\"151\",\"caredate\":\"2017-10-17\",\"caretime\":\"07:00:00\",\"hours\":\"8\",\"id\":\"11805\",\"status\":\"Completed\",\"pfname\":\"Ike\",\"plname\":\"Elezi\",\"booked\":\"No\",\"entrytime\":\"2017-10-16 12:48:22\",\"softtime\":\"2017-10-16 13:18:22\",\"orientation\":\"No\"},{\"cid\":\"151\",\"caredate\":\"2017-10-17\",\"caretime\":\"23:00:00\",\"hours\":\"8\",\"id\":\"11846\",\"status\":\"PNetwork\",\"pfname\":\"Not\",\"plname\":\"Assigned\",\"booked\":\"No\",\"entrytime\":\"2017-10-17 15:34:45\",\"softtime\":\"2017-10-17 16:04:45\",\"orientation\":\"No\"},{\"cid\":\"151\",\"caredate\":\"2017-10-17\",\"caretime\":\"07:00:00\",\"hours\":\"12\",\"id\":\"11806\",\"status\":\"PNetwork\",\"pfname\":\"Not\",\"plname\":\"Assigned\",\"booked\":\"No\",\"entrytime\":\"2017-10-16 12:48:30\",\"softtime\":\"2017-10-16 13:18:30\",\"orientation\":\"No\"},{\"cid\":\"151\",\"caredate\":\"2017-10-17\",\"caretime\":\"23:00:00\",\"hours\":\"8\",\"id\":\"11847\",\"status\":\"Accepted\",\"pfname\":\"Ike\",\"plname\":\"Elezi\",\"booked\":\"No\",\"entrytime\":\"2017-10-17 16:48:20\",\"softtime\":\"2017-10-17 17:18:20\",\"orientation\":\"No\"},{\"cid\":\"151\",\"caredate\":\"2017-10-17\",\"caretime\":\"07:00:00\",\"hours\":\"12\",\"id\":\"11807\",\"status\":\"Accepted\",\"pfname\":\"Liz\",\"plname\":\"Brown\",\"booked\":\"No\",\"entrytime\":\"2017-10-16 12:48:30\",\"softtime\":\"2017-10-16 13:18:30\",\"orientation\":\"No\"},{\"cid\":\"151\",\"caredate\":\"2017-10-17\",\"caretime\":\"23:00:00\",\"hours\":\"8\",\"id\":\"11838\",\"status\":\"PNetwork\",\"pfname\":\"Not\",\"plname\":\"Assigned\",\"booked\":\"No\",\"entrytime\":\"2017-10-17 15:17:10\",\"softtime\":\"2017-10-17 15:47:10\",\"orientation\":\"No\"},{\"cid\":\"151\",\"caredate\":\"2017-10-18\",\"caretime\":\"19:00:00\",\"hours\":\"12\",\"id\":\"11870\",\"status\":\"PNetwork\",\"pfname\":\"Not\",\"plname\":\"Assigned\",\"booked\":\"No\",\"entrytime\":\"2017-10-18 14:16:27\",\"softtime\":\"2017-10-18 14:46:27\",\"orientation\":\"No\"},{\"cid\":\"151\",\"caredate\":\"2017-10-18\",\"caretime\":\"15:00:00\",\"hours\":\"8\",\"id\":\"11850\",\"status\":\"Accepted\",\"pfname\":\"IlyassPA\",\"plname\":\"PA\",\"booked\":\"No\",\"entrytime\":\"2017-10-17 17:01:11\",\"softtime\":\"2017-10-17 17:31:11\",\"orientation\":\"No\"},{\"cid\":\"151\",\"caredate\":\"2017-10-18\",\"caretime\":\"04:01:00\",\"hours\":\"8\",\"id\":\"11865\",\"status\":\"Completed\",\"pfname\":\"Suku\",\"plname\":\"Test\",\"booked\":\"No\",\"entrytime\":\"2017-10-18 12:33:40\",\"softtime\":\"2017-10-18 13:03:40\",\"orientation\":\"No\"},{\"cid\":\"151\",\"caredate\":\"2017-10-18\",\"caretime\":\"19:00:00\",\"hours\":\"12\",\"id\":\"11867\",\"status\":\"Accepted\",\"pfname\":\"Trenholm\",\"plname\":\"Ninestein\",\"booked\":\"No\",\"entrytime\":\"2017-10-18 14:16:27\",\"softtime\":\"2017-10-18 14:46:27\",\"orientation\":\"No\"},{\"cid\":\"151\",\"caredate\":\"2017-10-18\",\"caretime\":\"19:00:00\",\"hours\":\"12\",\"id\":\"11868\",\"status\":\"PNetwork\",\"pfname\":\"Not\",\"plname\":\"Assigned\",\"booked\":\"No\",\"entrytime\":\"2017-10-18 14:16:27\",\"softtime\":\"2017-10-18 14:46:27\",\"orientation\":\"No\"},{\"cid\":\"151\",\"caredate\":\"2017-10-18\",\"caretime\":\"19:00:00\",\"hours\":\"12\",\"id\":\"11869\",\"status\":\"PNetwork\",\"pfname\":\"Not\",\"plname\":\"Assigned\",\"booked\":\"No\",\"entrytime\":\"2017-10-18 14:16:27\",\"softtime\":\"2017-10-18 14:46:27\",\"orientation\":\"No\"},{\"cid\":\"151\",\"caredate\":\"2017-10-19\",\"caretime\":\"15:00:00\",\"hours\":\"8\",\"id\":\"11874\",\"status\":\"Accepted\",\"pfname\":\"Sandra\",\"plname\":\"White\",\"booked\":\"No\",\"entrytime\":\"2017-10-19 12:24:16\",\"softtime\":\"2017-10-19 12:54:16\",\"orientation\":\"No\"},{\"cid\":\"151\",\"caredate\":\"2017-10-19\",\"caretime\":\"15:00:00\",\"hours\":\"8\",\"id\":\"11875\",\"status\":\"Accepted\",\"pfname\":\"Android\",\"plname\":\"Docs\",\"booked\":\"No\",\"entrytime\":\"2017-10-19 12:24:26\",\"softtime\":\"2017-10-19 12:54:26\",\"orientation\":\"No\"},{\"cid\":\"151\",\"caredate\":\"2017-10-19\",\"caretime\":\"15:00:00\",\"hours\":\"8\",\"id\":\"11876\",\"status\":\"PNetwork\",\"pfname\":\"Not\",\"plname\":\"Assigned\",\"booked\":\"No\",\"entrytime\":\"2017-10-19 13:27:21\",\"softtime\":\"2017-10-19 13:57:21\",\"orientation\":\"No\"},{\"cid\":\"151\",\"caredate\":\"2017-10-19\",\"caretime\":\"15:00:00\",\"hours\":\"8\",\"id\":\"11877\",\"status\":\"PNetwork\",\"pfname\":\"Not\",\"plname\":\"Assigned\",\"booked\":\"No\",\"entrytime\":\"2017-10-19 13:27:21\",\"softtime\":\"2017-10-19 13:57:21\",\"orientation\":\"No\"},{\"cid\":\"151\",\"caredate\":\"2017-10-19\",\"caretime\":\"15:00:00\",\"hours\":\"8\",\"id\":\"11878\",\"status\":\"PNetwork\",\"pfname\":\"Not\",\"plname\":\"Assigned\",\"booked\":\"No\",\"entrytime\":\"2017-10-19 13:27:21\",\"softtime\":\"2017-10-19 13:57:21\",\"orientation\":\"No\"},{\"cid\":\"151\",\"caredate\":\"2017-10-19\",\"caretime\":\"15:00:00\",\"hours\":\"8\",\"id\":\"11879\",\"status\":\"PNetwork\",\"pfname\":\"Not\",\"plname\":\"Assigned\",\"booked\":\"No\",\"entrytime\":\"2017-10-19 13:27:29\",\"softtime\":\"2017-10-19 13:57:29\",\"orientation\":\"No\"},{\"cid\":\"151\",\"caredate\":\"2017-10-19\",\"caretime\":\"15:00:00\",\"hours\":\"8\",\"id\":\"11880\",\"status\":\"PNetwork\",\"pfname\":\"Not\",\"plname\":\"Assigned\",\"booked\":\"No\",\"entrytime\":\"2017-10-19 13:27:29\",\"softtime\":\"2017-10-19 13:57:29\",\"orientation\":\"No\"},{\"cid\":\"151\",\"caredate\":\"2017-10-19\",\"caretime\":\"15:00:00\",\"hours\":\"8\",\"id\":\"11881\",\"status\":\"PNetwork\",\"pfname\":\"Not\",\"plname\":\"Assigned\",\"booked\":\"No\",\"entrytime\":\"2017-10-19 13:27:29\",\"softtime\":\"2017-10-19 13:57:29\",\"orientation\":\"No\"},{\"cid\":\"151\",\"caredate\":\"2017-10-19\",\"caretime\":\"07:00:00\",\"hours\":\"8\",\"id\":\"11852\",\"status\":\"Accepted\",\"pfname\":\"Android\",\"plname\":\"Docs\",\"booked\":\"No\",\"entrytime\":\"2017-10-18 09:20:28\",\"softtime\":\"2017-10-18 09:50:28\",\"orientation\":\"No\"},{\"cid\":\"151\",\"caredate\":\"2017-10-19\",\"caretime\":\"15:00:00\",\"hours\":\"8\",\"id\":\"11853\",\"status\":\"PNetwork\",\"pfname\":\"Not\",\"plname\":\"Assigned\",\"booked\":\"No\",\"entrytime\":\"2017-10-18 09:20:37\",\"softtime\":\"2017-10-18 09:50:37\",\"orientation\":\"No\"},{\"cid\":\"151\",\"caredate\":\"2017-10-20\",\"caretime\":\"23:00:00\",\"hours\":\"8\",\"id\":\"11889\",\"status\":\"PNetwork\",\"pfname\":\"Not\",\"plname\":\"Assigned\",\"booked\":\"No\",\"entrytime\":\"2017-10-19 13:30:02\",\"softtime\":\"2017-10-19 14:00:02\",\"orientation\":\"No\"},{\"cid\":\"151\",\"caredate\":\"2017-10-20\",\"caretime\":\"23:00:00\",\"hours\":\"8\",\"id\":\"11890\",\"status\":\"PNetwork\",\"pfname\":\"Not\",\"plname\":\"Assigned\",\"booked\":\"No\",\"entrytime\":\"2017-10-19 13:30:02\",\"softtime\":\"2017-10-19 14:00:02\",\"orientation\":\"No\"},{\"cid\":\"151\",\"caredate\":\"2017-10-20\",\"caretime\":\"07:00:00\",\"hours\":\"8\",\"id\":\"11790\",\"status\":\"PNetwork\",\"pfname\":\"Not\",\"plname\":\"Assigned\",\"booked\":\"No\",\"entrytime\":\"2017-10-16 09:32:09\",\"softtime\":\"2017-10-16 10:02:09\",\"orientation\":\"No\"},{\"cid\":\"151\",\"caredate\":\"2017-10-20\",\"caretime\":\"07:00:00\",\"hours\":\"8\",\"id\":\"11791\",\"status\":\"PNetwork\",\"pfname\":\"Not\",\"plname\":\"Assigned\",\"booked\":\"No\",\"entrytime\":\"2017-10-16 09:32:09\",\"softtime\":\"2017-10-16 10:02:09\",\"orientation\":\"No\"},{\"cid\":\"151\",\"caredate\":\"2017-10-20\",\"caretime\":\"07:00:00\",\"hours\":\"8\",\"id\":\"11882\",\"status\":\"PNetwork\",\"pfname\":\"Not\",\"plname\":\"Assigned\",\"booked\":\"No\",\"entrytime\":\"2017-10-19 13:29:28\",\"softtime\":\"2017-10-19 13:59:28\",\"orientation\":\"No\"},{\"cid\":\"151\",\"caredate\":\"2017-10-20\",\"caretime\":\"23:00:00\",\"hours\":\"8\",\"id\":\"11792\",\"status\":\"PNetwork\",\"pfname\":\"Not\",\"plname\":\"Assigned\",\"booked\":\"No\",\"entrytime\":\"2017-10-16 09:32:16\",\"softtime\":\"2017-10-16 10:02:16\",\"orientation\":\"No\"},{\"cid\":\"151\",\"caredate\":\"2017-10-20\",\"caretime\":\"07:00:00\",\"hours\":\"8\",\"id\":\"11883\",\"status\":\"PNetwork\",\"pfname\":\"Not\",\"plname\":\"Assigned\",\"booked\":\"No\",\"entrytime\":\"2017-10-19 13:29:32\",\"softtime\":\"2017-10-19 13:59:32\",\"orientation\":\"No\"},{\"cid\":\"151\",\"caredate\":\"2017-10-20\",\"caretime\":\"23:00:00\",\"hours\":\"8\",\"id\":\"11793\",\"status\":\"PNetwork\",\"pfname\":\"Not\",\"plname\":\"Assigned\",\"booked\":\"No\",\"entrytime\":\"2017-10-16 09:32:16\",\"softtime\":\"2017-10-16 10:02:16\",\"orientation\":\"No\"},{\"cid\":\"151\",\"caredate\":\"2017-10-20\",\"caretime\":\"07:00:00\",\"hours\":\"8\",\"id\":\"11884\",\"status\":\"PNetwork\",\"pfname\":\"Not\",\"plname\":\"Assigned\",\"booked\":\"No\",\"entrytime\":\"2017-10-19 13:29:32\",\"softtime\":\"2017-10-19 13:59:32\",\"orientation\":\"No\"},{\"cid\":\"151\",\"caredate\":\"2017-10-20\",\"caretime\":\"23:00:00\",\"hours\":\"8\",\"id\":\"11794\",\"status\":\"PNetwork\",\"pfname\":\"Not\",\"plname\":\"Assigned\",\"booked\":\"No\",\"entrytime\":\"2017-10-16 09:32:16\",\"softtime\":\"2017-10-16 10:02:16\",\"orientation\":\"No\"},{\"cid\":\"151\",\"caredate\":\"2017-10-20\",\"caretime\":\"07:00:00\",\"hours\":\"8\",\"id\":\"11885\",\"status\":\"PNetwork\",\"pfname\":\"Not\",\"plname\":\"Assigned\",\"booked\":\"No\",\"entrytime\":\"2017-10-19 13:29:32\",\"softtime\":\"2017-10-19 13:59:32\",\"orientation\":\"No\"},{\"cid\":\"151\",\"caredate\":\"2017-10-20\",\"caretime\":\"07:00:00\",\"hours\":\"12\",\"id\":\"11795\",\"status\":\"PNetwork\",\"pfname\":\"Sandra\",\"plname\":\"White\",\"booked\":\"No\",\"entrytime\":\"2017-10-16 09:32:23\",\"softtime\":\"2017-10-16 10:02:23\",\"orientation\":\"No\"},{\"cid\":\"151\",\"caredate\":\"2017-10-20\",\"caretime\":\"23:00:00\",\"hours\":\"8\",\"id\":\"11886\",\"status\":\"PNetwork\",\"pfname\":\"Not\",\"plname\":\"Assigned\",\"booked\":\"No\",\"entrytime\":\"2017-10-19 13:29:58\",\"softtime\":\"2017-10-19 13:59:58\",\"orientation\":\"No\"},{\"cid\":\"151\",\"caredate\":\"2017-10-20\",\"caretime\":\"07:00:00\",\"hours\":\"12\",\"id\":\"11796\",\"status\":\"PNetwork\",\"pfname\":\"Not\",\"plname\":\"Assigned\",\"booked\":\"No\",\"entrytime\":\"2017-10-16 09:32:23\",\"softtime\":\"2017-10-16 10:02:23\",\"orientation\":\"No\"},{\"cid\":\"151\",\"caredate\":\"2017-10-20\",\"caretime\":\"23:00:00\",\"hours\":\"8\",\"id\":\"11887\",\"status\":\"PNetwork\",\"pfname\":\"Not\",\"plname\":\"Assigned\",\"booked\":\"No\",\"entrytime\":\"2017-10-19 13:29:58\",\"softtime\":\"2017-10-19 13:59:58\",\"orientation\":\"No\"},{\"cid\":\"151\",\"caredate\":\"2017-10-20\",\"caretime\":\"07:00:00\",\"hours\":\"12\",\"id\":\"11797\",\"status\":\"Completed\",\"pfname\":\"Kdjfjdsjkq\",\"plname\":\"N\\\\/a\",\"booked\":\"No\",\"entrytime\":\"2017-10-16 09:32:23\",\"softtime\":\"2017-10-16 10:02:23\",\"orientation\":\"No\"},{\"cid\":\"151\",\"caredate\":\"2017-10-20\",\"caretime\":\"23:00:00\",\"hours\":\"8\",\"id\":\"11888\",\"status\":\"PNetwork\",\"pfname\":\"Not\",\"plname\":\"Assigned\",\"booked\":\"No\",\"entrytime\":\"2017-10-19 13:30:02\",\"softtime\":\"2017-10-19 14:00:02\",\"orientation\":\"No\"},{\"cid\":\"151\",\"caredate\":\"2017-10-21\",\"caretime\":\"07:00:00\",\"hours\":\"8\",\"id\":\"11892\",\"status\":\"Accepted\",\"pfname\":\"Matt\",\"plname\":\"\",\"booked\":\"No\",\"entrytime\":\"2017-10-20 17:04:37\",\"softtime\":\"2017-10-20 17:34:37\",\"orientation\":\"No\"},{\"cid\":\"151\",\"caredate\":\"2017-10-23\",\"caretime\":\"07:00:00\",\"hours\":\"12\",\"id\":\"11808\",\"status\":\"PNetwork\",\"pfname\":\"Not\",\"plname\":\"Assigned\",\"booked\":\"No\",\"entrytime\":\"2017-10-16 12:48:41\",\"softtime\":\"2017-10-16 13:18:41\",\"orientation\":\"No\"},{\"cid\":\"151\",\"caredate\":\"2017-10-23\",\"caretime\":\"07:00:00\",\"hours\":\"12\",\"id\":\"11809\",\"status\":\"PNetwork\",\"pfname\":\"Not\",\"plname\":\"Assigned\",\"booked\":\"No\",\"entrytime\":\"2017-10-16 12:48:41\",\"softtime\":\"2017-10-16 13:18:41\",\"orientation\":\"No\"},{\"cid\":\"151\",\"caredate\":\"2017-10-23\",\"caretime\":\"15:00:00\",\"hours\":\"8\",\"id\":\"11810\",\"status\":\"PNetwork\",\"pfname\":\"Not\",\"plname\":\"Assigned\",\"booked\":\"No\",\"entrytime\":\"2017-10-16 12:48:49\",\"softtime\":\"2017-10-16 13:18:49\",\"orientation\":\"No\"},{\"cid\":\"151\",\"caredate\":\"2017-10-23\",\"caretime\":\"15:00:00\",\"hours\":\"8\",\"id\":\"11811\",\"status\":\"PNetwork\",\"pfname\":\"Not\",\"plname\":\"Assigned\",\"booked\":\"No\",\"entrytime\":\"2017-10-16 12:48:49\",\"softtime\":\"2017-10-16 13:18:49\",\"orientation\":\"No\"},{\"cid\":\"151\",\"caredate\":\"2017-10-23\",\"caretime\":\"15:00:00\",\"hours\":\"8\",\"id\":\"11812\",\"status\":\"PNetwork\",\"pfname\":\"Not\",\"plname\":\"Assigned\",\"booked\":\"No\",\"entrytime\":\"2017-10-16 12:48:49\",\"softtime\":\"2017-10-16 13:18:49\",\"orientation\":\"No\"}]'\n"
     ]
    }
   ],
   "source": [
    "import requests\n",
    "import json\n",
    "r2 = requests.post(\"http://intelycare.net/isystem/pages/partcare.php\", data={'uid': 155, 'section': 'Schedule'})\n",
    "##print(r2.content)\n",
    "content = r2.content\n",
    "print(content)"
   ]
  },
  {
   "cell_type": "code",
   "execution_count": 140,
   "metadata": {},
   "outputs": [
    {
     "name": "stdout",
     "output_type": "stream",
     "text": [
      "b'[{\"pid\":\"428\",\"fname\":\"Trenholm\",\"lname\":\"Ninestein\",\"type\":\"Nurse\",\"detail\":\"RN\",\"sex\":\"M\",\"tel\":\"9789434382\",\"coridate\":\"2017-06-22\",\"coristatus\":\"Clear\",\"coriid\":\"180\",\"oigid\":\"428\",\"oigstatus\":\"No Exclusion\",\"oigdate\":\"2017-06-22\",\"sexstatus\":\"No Finding\",\"sexdate\":\"2017-06-22\",\"sexid\":\"428\",\"regstatus\":\"Clear\",\"regdate\":\"2017-10-18\",\"regid\":\"428\",\"dob\":\"1976-10-30\"},{\"pid\":\"479\",\"fname\":\"test\",\"lname\":\"cna\",\"type\":\"CNA\",\"detail\":\"CNA\",\"sex\":\"M\",\"tel\":\"8577562881\",\"coridate\":\"2017-08-23\",\"coristatus\":\"Clear\",\"coriid\":\"229\",\"oigid\":\"479\",\"oigstatus\":\"No Exclusion\",\"oigdate\":\"2017-08-23\",\"sexstatus\":\"No Finding\",\"sexdate\":\"2017-08-23\",\"sexid\":\"479\",\"regstatus\":\"Clear\",\"regdate\":\"2017-08-23\",\"regid\":\"479\",\"dob\":\"1993-03-05\"},{\"pid\":\"594\",\"fname\":\"suku\",\"lname\":\"Docs\",\"type\":\"Nurse\",\"detail\":\"RN\",\"sex\":\"F\",\"tel\":\"8575402666\",\"coridate\":\"2017-09-25\",\"coristatus\":\"Clear\",\"coriid\":\"255\",\"oigid\":\"594\",\"oigstatus\":\"No Exclusion\",\"oigdate\":\"2017-09-25\",\"sexstatus\":\"No Finding\",\"sexdate\":\"2017-09-25\",\"sexid\":\"594\",\"regstatus\":\"Clear\",\"regdate\":\"2017-09-25\",\"regid\":\"594\",\"dob\":\"1966-09-15\"},{\"pid\":\"591\",\"fname\":\"Suku\",\"lname\":\"Test\",\"type\":\"Nurse\",\"detail\":\"RN\",\"sex\":\"F\",\"tel\":\"8575402666\",\"coridate\":\"2017-09-26\",\"coristatus\":\"Clear\",\"coriid\":\"260\",\"oigid\":\"591\",\"oigstatus\":\"No Exclusion\",\"oigdate\":\"2017-09-26\",\"sexstatus\":\"No Finding\",\"sexdate\":\"2017-09-26\",\"sexid\":\"591\",\"regstatus\":\"Clear\",\"regdate\":\"2017-09-27\",\"regid\":\"591\",\"dob\":\"1968-12-12\"},{\"pid\":\"631\",\"fname\":\"Suku\",\"lname\":\"Test1\",\"type\":\"CNA\",\"detail\":\"CNA\",\"sex\":\"M\",\"tel\":\"8575402666\",\"coridate\":\"2017-10-12\",\"coristatus\":\"Clear\",\"coriid\":\"270\",\"oigid\":\"631\",\"oigstatus\":\"No Exclusion\",\"oigdate\":\"2017-10-12\",\"sexstatus\":\"No Finding\",\"sexdate\":\"2017-10-12\",\"sexid\":\"631\",\"regstatus\":\"Clear\",\"regdate\":\"2017-10-12\",\"regid\":\"631\",\"dob\":\"1976-02-04\"},{\"pid\":\"83\",\"fname\":\"Sandra\",\"lname\":\"White\",\"type\":\"CNA\",\"detail\":\"CNA\",\"sex\":\"M\",\"tel\":\"6176516291\",\"coridate\":\"2011-05-05\",\"coristatus\":\"Clear\",\"coriid\":\"10\",\"oigid\":\"83\",\"oigstatus\":\"No Exclusion\",\"oigdate\":\"2017-02-09\",\"sexstatus\":\"No Finding\",\"sexdate\":\"2017-02-09\",\"sexid\":\"83\",\"regstatus\":\"Clear\",\"regdate\":\"2017-05-09\",\"regid\":\"83\",\"dob\":\"1981-08-14\"},{\"pid\":\"36\",\"fname\":\"N\\\\/A\",\"lname\":\"N\\\\/A\",\"type\":\"Nurse\",\"detail\":\"RN\",\"sex\":\"M\",\"tel\":\"7742083581\",\"coridate\":\"2017-02-08\",\"coristatus\":\"Clear\",\"coriid\":\"5\",\"oigid\":\"36\",\"oigstatus\":\"No Exclusion\",\"oigdate\":\"2017-02-08\",\"sexstatus\":\"No Finding\",\"sexdate\":\"0000-00-00\",\"sexid\":\"36\",\"regstatus\":\"Clear\",\"regdate\":\"2017-04-04\",\"regid\":\"36\",\"dob\":\"1955-05-06\"},{\"pid\":\"625\",\"fname\":\"Matt\",\"lname\":\"\",\"type\":\"CNA\",\"detail\":\"CNA\",\"sex\":\"M\",\"tel\":\" \",\"coridate\":\"2017-10-20\",\"coristatus\":\"Clear\",\"coriid\":\"277\",\"oigid\":\"625\",\"oigstatus\":\"No Exclusion\",\"oigdate\":\"2017-10-20\",\"sexstatus\":\"No Finding\",\"sexdate\":\"2017-10-20\",\"sexid\":\"625\",\"regstatus\":null,\"regdate\":null,\"regid\":null,\"dob\":\"1977-10-09\"},{\"pid\":\"82\",\"fname\":\"MA\",\"lname\":\"02186\",\"type\":\"CNA\",\"detail\":\"RN\",\"sex\":\"M\",\"tel\":\"6174701545\",\"coridate\":\"2017-02-09\",\"coristatus\":\"Clear\",\"coriid\":\"9\",\"oigid\":\"82\",\"oigstatus\":\"No Exclusion\",\"oigdate\":\"2017-02-09\",\"sexstatus\":\"No Finding\",\"sexdate\":\"2017-02-09\",\"sexid\":\"82\",\"regstatus\":\"Clear\",\"regdate\":\"2017-04-04\",\"regid\":\"82\",\"dob\":\"1982-07-03\"},{\"pid\":\"116\",\"fname\":\"Liz\",\"lname\":\"Brown\",\"type\":\"CNA\",\"detail\":\"CNA\",\"sex\":\"M\",\"tel\":\"8575402666\",\"coridate\":\"2017-04-21\",\"coristatus\":\"Clear\",\"coriid\":\"83\",\"oigid\":\"116\",\"oigstatus\":\"No Exclusion\",\"oigdate\":\"2017-04-21\",\"sexstatus\":\"No Finding\",\"sexdate\":\"2017-04-21\",\"sexid\":\"116\",\"regstatus\":\"Clear\",\"regdate\":\"2017-04-21\",\"regid\":\"116\",\"dob\":\"1996-04-04\"},{\"pid\":\"582\",\"fname\":\"Kdjfjdsjkq\",\"lname\":\"N\\\\/a\",\"type\":\"CNA\",\"detail\":\"CNA\",\"sex\":\"M\",\"tel\":\"8575402666\",\"coridate\":\"2017-10-20\",\"coristatus\":\"Clear\",\"coriid\":\"276\",\"oigid\":\"582\",\"oigstatus\":\"No Exclusion\",\"oigdate\":\"2017-10-20\",\"sexstatus\":\"No Finding\",\"sexdate\":\"2017-10-20\",\"sexid\":\"582\",\"regstatus\":\"Clear\",\"regdate\":\"2017-10-20\",\"regid\":\"582\",\"dob\":\"2017-08-23\"},{\"pid\":\"638\",\"fname\":\"Johnny\",\"lname\":\"Drop\",\"type\":\"Nurse\",\"detail\":\"RN\",\"sex\":\"M\",\"tel\":\"8575402666\",\"coridate\":\"2017-10-12\",\"coristatus\":\"Clear\",\"coriid\":\"272\",\"oigid\":\"638\",\"oigstatus\":\"No Exclusion\",\"oigdate\":\"2017-10-12\",\"sexstatus\":\"No Finding\",\"sexdate\":\"2017-10-12\",\"sexid\":\"638\",\"regstatus\":\"Clear\",\"regdate\":\"2017-10-12\",\"regid\":\"638\",\"dob\":\"1979-10-09\"},{\"pid\":\"353\",\"fname\":\"Ily\",\"lname\":\"Hm\",\"type\":\"CNA\",\"detail\":\"CNA\",\"sex\":\"M\",\"tel\":\"7742083589\",\"coridate\":\"2017-05-01\",\"coristatus\":\"Clear\",\"coriid\":\"100\",\"oigid\":\"353\",\"oigstatus\":\"No Exclusion\",\"oigdate\":\"2017-05-01\",\"sexstatus\":\"No Finding\",\"sexdate\":\"2017-05-01\",\"sexid\":\"353\",\"regstatus\":\"Clear\",\"regdate\":\"2017-05-09\",\"regid\":\"353\",\"dob\":\"1994-05-04\"},{\"pid\":\"88\",\"fname\":\"Ike\",\"lname\":\"Elezi\",\"type\":\"Nurse\",\"detail\":\"RN\",\"sex\":\"M\",\"tel\":\"8572509872\",\"coridate\":\"2017-03-06\",\"coristatus\":\"Clear\",\"coriid\":\"19\",\"oigid\":\"88\",\"oigstatus\":\"No Exclusion\",\"oigdate\":\"2017-03-06\",\"sexstatus\":\"No Finding\",\"sexdate\":\"2017-03-06\",\"sexid\":\"88\",\"regstatus\":\"Clear\",\"regdate\":\"2017-04-19\",\"regid\":\"88\",\"dob\":\"1989-11-04\"},{\"pid\":\"115\",\"fname\":\"FuqingYAYA\",\"lname\":\"WangYAYA\",\"type\":\"Nurse\",\"detail\":\"RN\",\"sex\":\"F\",\"tel\":\"8574150039\",\"coridate\":\"2017-03-29\",\"coristatus\":\"Clear\",\"coriid\":\"41\",\"oigid\":\"115\",\"oigstatus\":\"No Exclusion\",\"oigdate\":\"2017-03-29\",\"sexstatus\":\"No Finding\",\"sexdate\":\"2017-03-29\",\"sexid\":\"115\",\"regstatus\":\"Clear\",\"regdate\":\"2017-04-04\",\"regid\":\"115\",\"dob\":\"1976-01-01\"},{\"pid\":\"426\",\"fname\":\"carlos\",\"lname\":\"Tevez\",\"type\":\"CNA\",\"detail\":\"CNA\",\"sex\":\"M\",\"tel\":\"7742083585\",\"coridate\":\"2017-07-06\",\"coristatus\":\"Clear\",\"coriid\":\"200\",\"oigid\":\"426\",\"oigstatus\":\"No Exclusion\",\"oigdate\":\"2017-07-06\",\"sexstatus\":\"No Finding\",\"sexdate\":\"2017-07-06\",\"sexid\":\"426\",\"regstatus\":\"Clear\",\"regdate\":\"2017-07-06\",\"regid\":\"426\",\"dob\":\"2013-04-04\"},{\"pid\":\"96\",\"fname\":\"Bilal\",\"lname\":\"elezi\",\"type\":\"CNA\",\"detail\":\"RN\",\"sex\":\"M\",\"tel\":\"8575402666\",\"coridate\":\"2017-03-08\",\"coristatus\":\"Clear\",\"coriid\":\"35\",\"oigid\":\"96\",\"oigstatus\":\"No Exclusion\",\"oigdate\":\"2017-03-08\",\"sexstatus\":\"No Finding\",\"sexdate\":\"2017-03-08\",\"sexid\":\"96\",\"regstatus\":\"Clear\",\"regdate\":\"2017-04-04\",\"regid\":\"96\",\"dob\":\"1984-03-06\"},{\"pid\":\"596\",\"fname\":\"Android\",\"lname\":\"Docs\",\"type\":\"Nurse\",\"detail\":\"RN\",\"sex\":\"F\",\"tel\":\"8575402666\",\"coridate\":\"2017-09-25\",\"coristatus\":\"Clear\",\"coriid\":\"254\",\"oigid\":\"596\",\"oigstatus\":\"No Exclusion\",\"oigdate\":\"2017-09-25\",\"sexstatus\":\"No Finding\",\"sexdate\":\"2017-09-25\",\"sexid\":\"596\",\"regstatus\":\"Clear\",\"regdate\":\"2017-09-25\",\"regid\":\"596\",\"dob\":\"1974-02-02\"},{\"pid\":\"84\",\"fname\":\"\",\"lname\":\"\",\"type\":\"CNA\",\"detail\":\"RN\",\"sex\":\"M\",\"tel\":\"7742083580\",\"coridate\":\"2017-02-24\",\"coristatus\":\"Clear\",\"coriid\":\"13\",\"oigid\":\"84\",\"oigstatus\":\"No Exclusion\",\"oigdate\":\"2017-02-24\",\"sexstatus\":\"No Finding\",\"sexdate\":\"2017-02-24\",\"sexid\":\"84\",\"regstatus\":\"Clear\",\"regdate\":\"2017-04-18\",\"regid\":\"84\",\"dob\":\"1987-08-11\"}]'\n"
     ]
    }
   ],
   "source": []
  },
  {
   "cell_type": "code",
   "execution_count": 155,
   "metadata": {},
   "outputs": [],
   "source": [
    "import requests\n",
    "import json\n",
    "B2 = requests.post(\"http://intelycare.net/isystem/manage/billing.php\", data={'Section': 'main', 'cid': 151, 'uid': 155})\n",
    "##print(r2.content)\n",
    "B2content = B2.content\n",
    "articles = convert(json.loads(content))\n",
    "json_file = open(\"billing.json\", 'wb')\n",
    "json_file.write(content)\n",
    "json_file.close()\n",
    "with open('billing.json') as provJson:\n",
    "    data = provJson.read()\n",
    "    billingData = json.loads(data)\n",
    "goodbilling = billingData['data']['Good To Go']\n",
    "badbilling = billingData['data']['Missing Data']    "
   ]
  },
  {
   "cell_type": "code",
   "execution_count": 159,
   "metadata": {},
   "outputs": [],
   "source": [
    "articles = convert(json.loads(content))\n",
    "json_file = open(\"billing.json\", 'wb')\n",
    "json_file.write(content)\n",
    "json_file.close()\n",
    "with open('billing.json') as provJson:\n",
    "    data = provJson.read()\n",
    "    billingData = json.loads(data)\n",
    "    \n",
    "goodbilling = billingData['data']['Good To Go']\n",
    "badbilling = billingData['data']['Missing Data']"
   ]
  },
  {
   "cell_type": "code",
   "execution_count": 161,
   "metadata": {},
   "outputs": [
    {
     "data": {
      "text/plain": [
       "{'Good To Go': [{'approved': '1',\n",
       "   'caredate': '2017-10-07',\n",
       "   'caretime': '15:00:00',\n",
       "   'checkin': '03:00 PM',\n",
       "   'checkout': '11:00 PM',\n",
       "   'endtime': '23:00:00',\n",
       "   'entered': '1',\n",
       "   'flagged': '1',\n",
       "   'fname': 'FuqingYAYA',\n",
       "   'hours': '8',\n",
       "   'id': '11737',\n",
       "   'in24': '15:00:00',\n",
       "   'insprname': 'pope nursing',\n",
       "   'lname': 'WangYAYA',\n",
       "   'lunch': '30',\n",
       "   'missing_data': '0',\n",
       "   'out24': '23:00:00',\n",
       "   'outsprname': 'pope nursing',\n",
       "   'provid': '115',\n",
       "   'revised': '0',\n",
       "   'status': 'Approved',\n",
       "   'type': 'RN',\n",
       "   'wrkHrs': '8.00'},\n",
       "  {'approved': '0',\n",
       "   'caredate': '2017-10-16',\n",
       "   'caretime': '11:37:39',\n",
       "   'checkin': '01:17 PM',\n",
       "   'checkout': 'No checkout',\n",
       "   'endtime': '19:37:39',\n",
       "   'entered': '1',\n",
       "   'flagged': '0',\n",
       "   'fname': 'Bilal',\n",
       "   'hours': '8',\n",
       "   'id': '11799',\n",
       "   'in24': '13:17:00',\n",
       "   'insprname': 'test nurse',\n",
       "   'lname': 'elezi',\n",
       "   'lunch': '30',\n",
       "   'missing_data': '0',\n",
       "   'out24': 'No checkout',\n",
       "   'outsprname': 'No sign',\n",
       "   'provid': '96',\n",
       "   'revised': '0',\n",
       "   'status': 'Entered',\n",
       "   'type': 'RN',\n",
       "   'wrkHrs': '8.00'},\n",
       "  {'approved': '0',\n",
       "   'caredate': '2017-10-20',\n",
       "   'caretime': '07:00:00',\n",
       "   'checkin': '12:33 PM',\n",
       "   'checkout': '12:34 PM',\n",
       "   'endtime': '19:00:00',\n",
       "   'entered': '1',\n",
       "   'flagged': '0',\n",
       "   'fname': 'Kdjfjdsjkq',\n",
       "   'hours': '12',\n",
       "   'id': '11797',\n",
       "   'in24': '12:33:00',\n",
       "   'insprname': 'test',\n",
       "   'lname': 'N/a',\n",
       "   'lunch': '30',\n",
       "   'missing_data': '0',\n",
       "   'out24': '12:34:00',\n",
       "   'outsprname': 'test',\n",
       "   'provid': '582',\n",
       "   'revised': '0',\n",
       "   'status': 'Entered',\n",
       "   'type': 'CNA',\n",
       "   'wrkHrs': '0.02'}],\n",
       " 'Missing Data': [{'approved': '0',\n",
       "   'caredate': '2017-10-18',\n",
       "   'caretime': '15:00:00',\n",
       "   'checkin': 'No checkin',\n",
       "   'checkout': 'No checkout',\n",
       "   'endtime': '23:00:00',\n",
       "   'entered': '0',\n",
       "   'flagged': '0',\n",
       "   'fname': 'IlyassPA',\n",
       "   'hours': '8',\n",
       "   'id': '11850',\n",
       "   'in24': 'No checkin',\n",
       "   'insprname': 'No sign',\n",
       "   'lname': 'PA',\n",
       "   'lunch': '30',\n",
       "   'missing_data': '1',\n",
       "   'out24': 'No checkout',\n",
       "   'outsprname': 'No sign',\n",
       "   'provid': '634',\n",
       "   'revised': '0',\n",
       "   'status': 'Missing Data',\n",
       "   'type': 'RN',\n",
       "   'wrkHrs': '8.00'},\n",
       "  {'approved': '0',\n",
       "   'caredate': '2017-10-18',\n",
       "   'caretime': '19:00:00',\n",
       "   'checkin': 'No checkin',\n",
       "   'checkout': 'No checkout',\n",
       "   'endtime': '07:00:00',\n",
       "   'entered': '0',\n",
       "   'flagged': '0',\n",
       "   'fname': 'Trenholm',\n",
       "   'hours': '12',\n",
       "   'id': '11867',\n",
       "   'in24': 'No checkin',\n",
       "   'insprname': 'No sign',\n",
       "   'lname': 'Ninestein',\n",
       "   'lunch': '30',\n",
       "   'missing_data': '1',\n",
       "   'out24': 'No checkout',\n",
       "   'outsprname': 'No sign',\n",
       "   'provid': '428',\n",
       "   'revised': '0',\n",
       "   'status': 'Missing Data',\n",
       "   'type': 'RN',\n",
       "   'wrkHrs': '12.00'},\n",
       "  {'approved': '0',\n",
       "   'caredate': '2017-10-19',\n",
       "   'caretime': '07:00:00',\n",
       "   'checkin': 'No checkin',\n",
       "   'checkout': 'No checkout',\n",
       "   'endtime': '15:00:00',\n",
       "   'entered': '0',\n",
       "   'flagged': '0',\n",
       "   'fname': 'Android',\n",
       "   'hours': '8',\n",
       "   'id': '11852',\n",
       "   'in24': 'No checkin',\n",
       "   'insprname': 'No sign',\n",
       "   'lname': 'Docs',\n",
       "   'lunch': '30',\n",
       "   'missing_data': '1',\n",
       "   'out24': 'No checkout',\n",
       "   'outsprname': 'No sign',\n",
       "   'provid': '596',\n",
       "   'revised': '0',\n",
       "   'status': 'Missing Data',\n",
       "   'type': 'RN',\n",
       "   'wrkHrs': '8.00'},\n",
       "  {'approved': '0',\n",
       "   'caredate': '2017-10-19',\n",
       "   'caretime': '15:00:00',\n",
       "   'checkin': 'No checkin',\n",
       "   'checkout': 'No checkout',\n",
       "   'endtime': '23:00:00',\n",
       "   'entered': '0',\n",
       "   'flagged': '0',\n",
       "   'fname': 'Android',\n",
       "   'hours': '8',\n",
       "   'id': '11875',\n",
       "   'in24': 'No checkin',\n",
       "   'insprname': 'No sign',\n",
       "   'lname': 'Docs',\n",
       "   'lunch': '30',\n",
       "   'missing_data': '1',\n",
       "   'out24': 'No checkout',\n",
       "   'outsprname': 'No sign',\n",
       "   'provid': '596',\n",
       "   'revised': '0',\n",
       "   'status': 'Missing Data',\n",
       "   'type': 'RN',\n",
       "   'wrkHrs': '8.00'}]}"
      ]
     },
     "execution_count": 161,
     "metadata": {},
     "output_type": "execute_result"
    }
   ],
   "source": [
    "billingData['data']"
   ]
  },
  {
   "cell_type": "code",
   "execution_count": 192,
   "metadata": {},
   "outputs": [
    {
     "data": {
      "text/plain": [
       "[{'approved': '0',\n",
       "  'caredate': '2017-10-18',\n",
       "  'caretime': '15:00:00',\n",
       "  'checkin': 'No checkin',\n",
       "  'checkout': 'No checkout',\n",
       "  'endtime': '23:00:00',\n",
       "  'entered': '0',\n",
       "  'flagged': '0',\n",
       "  'fname': 'IlyassPA',\n",
       "  'hours': '8',\n",
       "  'id': '11850',\n",
       "  'in24': 'No checkin',\n",
       "  'insprname': 'No sign',\n",
       "  'lname': 'PA',\n",
       "  'lunch': '30',\n",
       "  'missing_data': '1',\n",
       "  'out24': 'No checkout',\n",
       "  'outsprname': 'No sign',\n",
       "  'provid': '634',\n",
       "  'revised': '0',\n",
       "  'status': 'Missing Data',\n",
       "  'type': 'RN',\n",
       "  'wrkHrs': '8.00'},\n",
       " {'approved': '0',\n",
       "  'caredate': '2017-10-18',\n",
       "  'caretime': '19:00:00',\n",
       "  'checkin': 'No checkin',\n",
       "  'checkout': 'No checkout',\n",
       "  'endtime': '07:00:00',\n",
       "  'entered': '0',\n",
       "  'flagged': '0',\n",
       "  'fname': 'Trenholm',\n",
       "  'hours': '12',\n",
       "  'id': '11867',\n",
       "  'in24': 'No checkin',\n",
       "  'insprname': 'No sign',\n",
       "  'lname': 'Ninestein',\n",
       "  'lunch': '30',\n",
       "  'missing_data': '1',\n",
       "  'out24': 'No checkout',\n",
       "  'outsprname': 'No sign',\n",
       "  'provid': '428',\n",
       "  'revised': '0',\n",
       "  'status': 'Missing Data',\n",
       "  'type': 'RN',\n",
       "  'wrkHrs': '12.00'},\n",
       " {'approved': '0',\n",
       "  'caredate': '2017-10-19',\n",
       "  'caretime': '07:00:00',\n",
       "  'checkin': 'No checkin',\n",
       "  'checkout': 'No checkout',\n",
       "  'endtime': '15:00:00',\n",
       "  'entered': '0',\n",
       "  'flagged': '0',\n",
       "  'fname': 'Android',\n",
       "  'hours': '8',\n",
       "  'id': '11852',\n",
       "  'in24': 'No checkin',\n",
       "  'insprname': 'No sign',\n",
       "  'lname': 'Docs',\n",
       "  'lunch': '30',\n",
       "  'missing_data': '1',\n",
       "  'out24': 'No checkout',\n",
       "  'outsprname': 'No sign',\n",
       "  'provid': '596',\n",
       "  'revised': '0',\n",
       "  'status': 'Missing Data',\n",
       "  'type': 'RN',\n",
       "  'wrkHrs': '8.00'},\n",
       " {'approved': '0',\n",
       "  'caredate': '2017-10-19',\n",
       "  'caretime': '15:00:00',\n",
       "  'checkin': 'No checkin',\n",
       "  'checkout': 'No checkout',\n",
       "  'endtime': '23:00:00',\n",
       "  'entered': '0',\n",
       "  'flagged': '0',\n",
       "  'fname': 'Android',\n",
       "  'hours': '8',\n",
       "  'id': '11875',\n",
       "  'in24': 'No checkin',\n",
       "  'insprname': 'No sign',\n",
       "  'lname': 'Docs',\n",
       "  'lunch': '30',\n",
       "  'missing_data': '1',\n",
       "  'out24': 'No checkout',\n",
       "  'outsprname': 'No sign',\n",
       "  'provid': '596',\n",
       "  'revised': '0',\n",
       "  'status': 'Missing Data',\n",
       "  'type': 'RN',\n",
       "  'wrkHrs': '8.00'}]"
      ]
     },
     "execution_count": 192,
     "metadata": {},
     "output_type": "execute_result"
    }
   ],
   "source": [
    "billingData['data']['Missing Data']"
   ]
  },
  {
   "cell_type": "code",
   "execution_count": 193,
   "metadata": {
    "collapsed": true
   },
   "outputs": [],
   "source": [
    "goodbilling = billingData['data']['Good To Go']\n",
    "badbilling = billingData['data']['Missing Data']"
   ]
  },
  {
   "cell_type": "code",
   "execution_count": 168,
   "metadata": {},
   "outputs": [],
   "source": [
    "enteredlst =[]\n",
    "enterednamelst=[]\n",
    "approvedlst=[]\n",
    "approvednamelst=[]\n",
    "if len(badbilling)==0:\n",
    "    lvalue1= \"There is no record Related to missing billing\"\n",
    "else:\n",
    "    for i in range(0,len(badbilling)):\n",
    "        aproved= badbilling[i]['approved']\n",
    "        if aproved !='0':\n",
    "            lname= badbilling[i]['lname']\n",
    "            enterednamelst.append(lname)\n",
    "            enteredlst.append('1')\n",
    "        \n",
    "        else:\n",
    "            lname= goodbilling[i]['lname']\n",
    "            approvednamelst.append(lname)\n",
    "            approvedlst.append(aproved)\n",
    "            \n",
    "        \n",
    "        \n",
    "    "
   ]
  },
  {
   "cell_type": "code",
   "execution_count": null,
   "metadata": {
    "collapsed": true
   },
   "outputs": [],
   "source": []
  },
  {
   "cell_type": "code",
   "execution_count": null,
   "metadata": {
    "collapsed": true
   },
   "outputs": [],
   "source": []
  },
  {
   "cell_type": "code",
   "execution_count": null,
   "metadata": {
    "collapsed": true
   },
   "outputs": [],
   "source": []
  },
  {
   "cell_type": "code",
   "execution_count": null,
   "metadata": {
    "collapsed": true
   },
   "outputs": [],
   "source": []
  },
  {
   "cell_type": "code",
   "execution_count": null,
   "metadata": {
    "collapsed": true
   },
   "outputs": [],
   "source": []
  },
  {
   "cell_type": "code",
   "execution_count": null,
   "metadata": {
    "collapsed": true
   },
   "outputs": [],
   "source": []
  },
  {
   "cell_type": "code",
   "execution_count": 199,
   "metadata": {},
   "outputs": [
    {
     "data": {
      "text/plain": [
       "' The total number of billing which is in entered status is 2'"
      ]
     },
     "execution_count": 199,
     "metadata": {},
     "output_type": "execute_result"
    }
   ],
   "source": [
    "enteredlst =[]\n",
    "enterednamelst=[]\n",
    "if len(goodbilling)==0:\n",
    "    lvalue1= \"There is no record Related to entered billing\"\n",
    "else:\n",
    "    for i in range(0,len(goodbilling)):\n",
    "        aproved= goodbilling[i]['approved']\n",
    "        if aproved =='0':\n",
    "            lname= goodbilling[i]['fname']\n",
    "            enterednamelst.append(lname)\n",
    "            enteredlst.append('1')\n",
    "    \n",
    "    val= len(enterednamelst)\n",
    "    lvalue1 = \" The total number of billing which is in entered status is \" +str(val)\n",
    "lvalue1"
   ]
  },
  {
   "cell_type": "code",
   "execution_count": 200,
   "metadata": {},
   "outputs": [
    {
     "data": {
      "text/plain": [
       "' The total number of billing which is in approved status is 1'"
      ]
     },
     "execution_count": 200,
     "metadata": {},
     "output_type": "execute_result"
    }
   ],
   "source": [
    "approvedlst=[]\n",
    "approvednamelst=[]\n",
    "if len(goodbilling)==0:\n",
    "    lvalue1= \"There is no record Related to approved billing\"\n",
    "else:\n",
    "    for i in range(0,len(goodbilling)):\n",
    "        aproved= goodbilling[i]['approved']\n",
    "        if aproved !='0':\n",
    "            lname= goodbilling[i]['fname']\n",
    "            approvednamelst.append(lname)\n",
    "            approvedlst.append(aproved)\n",
    "            \n",
    "        \n",
    "    val= len(approvednamelst)\n",
    "    lvalue1 = \" The total number of billing which is in approved status is \" +str(val)\n",
    "lvalue1        \n",
    "    "
   ]
  },
  {
   "cell_type": "code",
   "execution_count": null,
   "metadata": {
    "collapsed": true
   },
   "outputs": [],
   "source": []
  },
  {
   "cell_type": "code",
   "execution_count": null,
   "metadata": {
    "collapsed": true
   },
   "outputs": [],
   "source": []
  },
  {
   "cell_type": "code",
   "execution_count": 201,
   "metadata": {},
   "outputs": [
    {
     "data": {
      "text/plain": [
       "' The name of the nurse whose billing status is entered status are following Bilal , Kdjfjdsjkq'"
      ]
     },
     "execution_count": 201,
     "metadata": {},
     "output_type": "execute_result"
    }
   ],
   "source": [
    "enteredlst =[]\n",
    "enterednamelst=[]\n",
    "if len(goodbilling)==0:\n",
    "    lvalue1= \"There is no record Related to entered billing\"\n",
    "else:\n",
    "    for i in range(0,len(goodbilling)):\n",
    "        aproved= goodbilling[i]['approved']\n",
    "        if aproved =='0':\n",
    "            lname= goodbilling[i]['fname']\n",
    "            if lname == 'N/a':\n",
    "                lname = \"Blank\"\n",
    "                enterednamelst.append(lname)\n",
    "                enteredlst.append('1')\n",
    "            else:\n",
    "                enterednamelst.append(lname)\n",
    "                enteredlst.append('1')\n",
    "    \n",
    "\n",
    "    val= ' , '.join(enterednamelst)\n",
    "    lvalue1 = \" The name of the nurse whose billing status is entered status are following \" +str(val)\n",
    "lvalue1"
   ]
  },
  {
   "cell_type": "code",
   "execution_count": 202,
   "metadata": {},
   "outputs": [
    {
     "data": {
      "text/plain": [
       "' The name of the nurse whose billing status is approved status are following FuqingYAYA'"
      ]
     },
     "execution_count": 202,
     "metadata": {},
     "output_type": "execute_result"
    }
   ],
   "source": [
    "approvedlst=[]\n",
    "approvednamelst=[]\n",
    "if len(goodbilling)==0:\n",
    "    lvalue1= \"There is no record Related to approved billing\"\n",
    "else:\n",
    "    for i in range(0,len(goodbilling)):\n",
    "        aproved= goodbilling[i]['approved']\n",
    "        if aproved !='0':\n",
    "            lname= goodbilling[i]['fname']\n",
    "            if lname == 'N/a':\n",
    "                lname = \"Blank\"\n",
    "                approvednamelst.append(lname)\n",
    "                approvedlst.append(aproved)\n",
    "            else:    \n",
    "                approvednamelst.append(lname)\n",
    "                approvedlst.append(aproved)\n",
    "\n",
    "        \n",
    "    val= ' , '.join(approvednamelst)\n",
    "    lvalue1 = \" The name of the nurse whose billing status is approved status are following \" +str(val)\n",
    "lvalue1        \n",
    "    "
   ]
  },
  {
   "cell_type": "code",
   "execution_count": null,
   "metadata": {
    "collapsed": true
   },
   "outputs": [],
   "source": []
  },
  {
   "cell_type": "code",
   "execution_count": null,
   "metadata": {
    "collapsed": true
   },
   "outputs": [],
   "source": []
  },
  {
   "cell_type": "code",
   "execution_count": null,
   "metadata": {
    "collapsed": true
   },
   "outputs": [],
   "source": []
  },
  {
   "cell_type": "code",
   "execution_count": 203,
   "metadata": {},
   "outputs": [
    {
     "data": {
      "text/plain": [
       "' The total number of billing which is in missing status is 4'"
      ]
     },
     "execution_count": 203,
     "metadata": {},
     "output_type": "execute_result"
    }
   ],
   "source": [
    "\n",
    "approvedlst=[]\n",
    "approvednamelst=[]\n",
    "if len(badbilling)==0:\n",
    "    lvalue1= \"There is no record Related to missing billing\"\n",
    "else:\n",
    "    for i in range(0,len(badbilling)):\n",
    "        aproved= badbilling[i]['approved']\n",
    "        if aproved =='0':\n",
    "            lname= badbilling[i]['fname']\n",
    "            approvednamelst.append(lname)\n",
    "            approvedlst.append(aproved)\n",
    "            \n",
    "        \n",
    "    val= len(approvednamelst)\n",
    "    lvalue1 = \" The total number of billing which is in missing status is \" +str(val)\n",
    "lvalue1        \n",
    " "
   ]
  },
  {
   "cell_type": "code",
   "execution_count": 204,
   "metadata": {},
   "outputs": [
    {
     "data": {
      "text/plain": [
       "' The name of the nurse whose billing status is missing status are following IlyassPA , Trenholm , Android , Android'"
      ]
     },
     "execution_count": 204,
     "metadata": {},
     "output_type": "execute_result"
    }
   ],
   "source": [
    "enteredlst =[]\n",
    "enterednamelst=[]\n",
    "if len(badbilling)==0:\n",
    "    lvalue1= \"There is no record Related to entered billing\"\n",
    "else:\n",
    "    for i in range(0,len(badbilling)):\n",
    "        aproved= badbilling[i]['approved']\n",
    "        if aproved =='0':\n",
    "            lname= badbilling[i]['fname']\n",
    "            if lname == 'N/a':\n",
    "                lname = \"Blank\"\n",
    "                enterednamelst.append(lname)\n",
    "                enteredlst.append('1')\n",
    "            else:\n",
    "                enterednamelst.append(lname)\n",
    "                enteredlst.append('1')\n",
    "    \n",
    "\n",
    "    val= ' , '.join(enterednamelst)\n",
    "    lvalue1 = \" The name of the nurse whose billing status is missing status are following \" +str(val)\n",
    "lvalue1"
   ]
  },
  {
   "cell_type": "code",
   "execution_count": null,
   "metadata": {
    "collapsed": true
   },
   "outputs": [],
   "source": []
  },
  {
   "cell_type": "code",
   "execution_count": null,
   "metadata": {
    "collapsed": true
   },
   "outputs": [],
   "source": []
  },
  {
   "cell_type": "code",
   "execution_count": null,
   "metadata": {
    "collapsed": true
   },
   "outputs": [],
   "source": []
  },
  {
   "cell_type": "code",
   "execution_count": null,
   "metadata": {
    "collapsed": true
   },
   "outputs": [],
   "source": []
  },
  {
   "cell_type": "code",
   "execution_count": null,
   "metadata": {
    "collapsed": true
   },
   "outputs": [],
   "source": []
  },
  {
   "cell_type": "code",
   "execution_count": 206,
   "metadata": {},
   "outputs": [],
   "source": [
    "import requests\n",
    "import json\n",
    "r2 = requests.post(\"http://intelycare.net/isystem/pages/partcare.php\", data={'cid': 151, 'section': 'Providers'})\n",
    "##print(r2.content)\n",
    "content = r2.content\n",
    "\n",
    "def convert(input):\n",
    "    if isinstance(input, dict):\n",
    "        return {convert(key): convert(value) for key, value in input.items()}\n",
    "    elif isinstance(input, list):\n",
    "        return [convert(element) for element in input]\n",
    "    else:\n",
    "        return input"
   ]
  },
  {
   "cell_type": "code",
   "execution_count": 207,
   "metadata": {
    "collapsed": true
   },
   "outputs": [],
   "source": [
    "articles = convert(json.loads(content))\n",
    "json_file = open(\"PROVIDER.json\", 'wb')\n",
    "json_file.write(content)\n",
    "json_file.close()\n",
    "with open('PROVIDER.json') as provJson:\n",
    "    data = provJson.read()\n",
    "    PROVIDERData = json.loads(data)\n",
    "    "
   ]
  },
  {
   "cell_type": "code",
   "execution_count": 210,
   "metadata": {},
   "outputs": [
    {
     "data": {
      "text/plain": [
       "[{'coridate': '2017-06-22',\n",
       "  'coriid': '180',\n",
       "  'coristatus': 'Clear',\n",
       "  'detail': 'RN',\n",
       "  'dob': '1976-10-30',\n",
       "  'fname': 'Trenholm',\n",
       "  'lname': 'Ninestein',\n",
       "  'oigdate': '2017-06-22',\n",
       "  'oigid': '428',\n",
       "  'oigstatus': 'No Exclusion',\n",
       "  'pid': '428',\n",
       "  'regdate': '2017-10-18',\n",
       "  'regid': '428',\n",
       "  'regstatus': 'Clear',\n",
       "  'sex': 'M',\n",
       "  'sexdate': '2017-06-22',\n",
       "  'sexid': '428',\n",
       "  'sexstatus': 'No Finding',\n",
       "  'tel': '9789434382',\n",
       "  'type': 'Nurse'},\n",
       " {'coridate': '2017-08-23',\n",
       "  'coriid': '229',\n",
       "  'coristatus': 'Clear',\n",
       "  'detail': 'CNA',\n",
       "  'dob': '1993-03-05',\n",
       "  'fname': 'test',\n",
       "  'lname': 'cna',\n",
       "  'oigdate': '2017-08-23',\n",
       "  'oigid': '479',\n",
       "  'oigstatus': 'No Exclusion',\n",
       "  'pid': '479',\n",
       "  'regdate': '2017-08-23',\n",
       "  'regid': '479',\n",
       "  'regstatus': 'Clear',\n",
       "  'sex': 'M',\n",
       "  'sexdate': '2017-08-23',\n",
       "  'sexid': '479',\n",
       "  'sexstatus': 'No Finding',\n",
       "  'tel': '8577562881',\n",
       "  'type': 'CNA'},\n",
       " {'coridate': '2017-09-25',\n",
       "  'coriid': '255',\n",
       "  'coristatus': 'Clear',\n",
       "  'detail': 'RN',\n",
       "  'dob': '1966-09-15',\n",
       "  'fname': 'suku',\n",
       "  'lname': 'Docs',\n",
       "  'oigdate': '2017-09-25',\n",
       "  'oigid': '594',\n",
       "  'oigstatus': 'No Exclusion',\n",
       "  'pid': '594',\n",
       "  'regdate': '2017-09-25',\n",
       "  'regid': '594',\n",
       "  'regstatus': 'Clear',\n",
       "  'sex': 'F',\n",
       "  'sexdate': '2017-09-25',\n",
       "  'sexid': '594',\n",
       "  'sexstatus': 'No Finding',\n",
       "  'tel': '8575402666',\n",
       "  'type': 'Nurse'},\n",
       " {'coridate': '2017-09-26',\n",
       "  'coriid': '260',\n",
       "  'coristatus': 'Clear',\n",
       "  'detail': 'RN',\n",
       "  'dob': '1968-12-12',\n",
       "  'fname': 'Suku',\n",
       "  'lname': 'Test',\n",
       "  'oigdate': '2017-09-26',\n",
       "  'oigid': '591',\n",
       "  'oigstatus': 'No Exclusion',\n",
       "  'pid': '591',\n",
       "  'regdate': '2017-09-27',\n",
       "  'regid': '591',\n",
       "  'regstatus': 'Clear',\n",
       "  'sex': 'F',\n",
       "  'sexdate': '2017-09-26',\n",
       "  'sexid': '591',\n",
       "  'sexstatus': 'No Finding',\n",
       "  'tel': '8575402666',\n",
       "  'type': 'Nurse'},\n",
       " {'coridate': '2017-10-12',\n",
       "  'coriid': '270',\n",
       "  'coristatus': 'Clear',\n",
       "  'detail': 'CNA',\n",
       "  'dob': '1976-02-04',\n",
       "  'fname': 'Suku',\n",
       "  'lname': 'Test1',\n",
       "  'oigdate': '2017-10-12',\n",
       "  'oigid': '631',\n",
       "  'oigstatus': 'No Exclusion',\n",
       "  'pid': '631',\n",
       "  'regdate': '2017-10-12',\n",
       "  'regid': '631',\n",
       "  'regstatus': 'Clear',\n",
       "  'sex': 'M',\n",
       "  'sexdate': '2017-10-12',\n",
       "  'sexid': '631',\n",
       "  'sexstatus': 'No Finding',\n",
       "  'tel': '8575402666',\n",
       "  'type': 'CNA'},\n",
       " {'coridate': '2011-05-05',\n",
       "  'coriid': '10',\n",
       "  'coristatus': 'Clear',\n",
       "  'detail': 'CNA',\n",
       "  'dob': '1981-08-14',\n",
       "  'fname': 'Sandra',\n",
       "  'lname': 'White',\n",
       "  'oigdate': '2017-02-09',\n",
       "  'oigid': '83',\n",
       "  'oigstatus': 'No Exclusion',\n",
       "  'pid': '83',\n",
       "  'regdate': '2017-05-09',\n",
       "  'regid': '83',\n",
       "  'regstatus': 'Clear',\n",
       "  'sex': 'M',\n",
       "  'sexdate': '2017-02-09',\n",
       "  'sexid': '83',\n",
       "  'sexstatus': 'No Finding',\n",
       "  'tel': '6176516291',\n",
       "  'type': 'CNA'},\n",
       " {'coridate': '2017-02-08',\n",
       "  'coriid': '5',\n",
       "  'coristatus': 'Clear',\n",
       "  'detail': 'RN',\n",
       "  'dob': '1955-05-06',\n",
       "  'fname': 'N/A',\n",
       "  'lname': 'N/A',\n",
       "  'oigdate': '2017-02-08',\n",
       "  'oigid': '36',\n",
       "  'oigstatus': 'No Exclusion',\n",
       "  'pid': '36',\n",
       "  'regdate': '2017-04-04',\n",
       "  'regid': '36',\n",
       "  'regstatus': 'Clear',\n",
       "  'sex': 'M',\n",
       "  'sexdate': '0000-00-00',\n",
       "  'sexid': '36',\n",
       "  'sexstatus': 'No Finding',\n",
       "  'tel': '7742083581',\n",
       "  'type': 'Nurse'},\n",
       " {'coridate': '2017-10-20',\n",
       "  'coriid': '277',\n",
       "  'coristatus': 'Clear',\n",
       "  'detail': 'CNA',\n",
       "  'dob': '1977-10-09',\n",
       "  'fname': 'Matt',\n",
       "  'lname': '',\n",
       "  'oigdate': '2017-10-20',\n",
       "  'oigid': '625',\n",
       "  'oigstatus': 'No Exclusion',\n",
       "  'pid': '625',\n",
       "  'regdate': None,\n",
       "  'regid': None,\n",
       "  'regstatus': None,\n",
       "  'sex': 'M',\n",
       "  'sexdate': '2017-10-20',\n",
       "  'sexid': '625',\n",
       "  'sexstatus': 'No Finding',\n",
       "  'tel': ' ',\n",
       "  'type': 'CNA'},\n",
       " {'coridate': '2017-02-09',\n",
       "  'coriid': '9',\n",
       "  'coristatus': 'Clear',\n",
       "  'detail': 'RN',\n",
       "  'dob': '1982-07-03',\n",
       "  'fname': 'MA',\n",
       "  'lname': '02186',\n",
       "  'oigdate': '2017-02-09',\n",
       "  'oigid': '82',\n",
       "  'oigstatus': 'No Exclusion',\n",
       "  'pid': '82',\n",
       "  'regdate': '2017-04-04',\n",
       "  'regid': '82',\n",
       "  'regstatus': 'Clear',\n",
       "  'sex': 'M',\n",
       "  'sexdate': '2017-02-09',\n",
       "  'sexid': '82',\n",
       "  'sexstatus': 'No Finding',\n",
       "  'tel': '6174701545',\n",
       "  'type': 'CNA'},\n",
       " {'coridate': '2017-04-21',\n",
       "  'coriid': '83',\n",
       "  'coristatus': 'Clear',\n",
       "  'detail': 'CNA',\n",
       "  'dob': '1996-04-04',\n",
       "  'fname': 'Liz',\n",
       "  'lname': 'Brown',\n",
       "  'oigdate': '2017-04-21',\n",
       "  'oigid': '116',\n",
       "  'oigstatus': 'No Exclusion',\n",
       "  'pid': '116',\n",
       "  'regdate': '2017-04-21',\n",
       "  'regid': '116',\n",
       "  'regstatus': 'Clear',\n",
       "  'sex': 'M',\n",
       "  'sexdate': '2017-04-21',\n",
       "  'sexid': '116',\n",
       "  'sexstatus': 'No Finding',\n",
       "  'tel': '8575402666',\n",
       "  'type': 'CNA'},\n",
       " {'coridate': '2017-10-20',\n",
       "  'coriid': '276',\n",
       "  'coristatus': 'Clear',\n",
       "  'detail': 'CNA',\n",
       "  'dob': '2017-08-23',\n",
       "  'fname': 'Kdjfjdsjkq',\n",
       "  'lname': 'N/a',\n",
       "  'oigdate': '2017-10-20',\n",
       "  'oigid': '582',\n",
       "  'oigstatus': 'No Exclusion',\n",
       "  'pid': '582',\n",
       "  'regdate': '2017-10-20',\n",
       "  'regid': '582',\n",
       "  'regstatus': 'Clear',\n",
       "  'sex': 'M',\n",
       "  'sexdate': '2017-10-20',\n",
       "  'sexid': '582',\n",
       "  'sexstatus': 'No Finding',\n",
       "  'tel': '8575402666',\n",
       "  'type': 'CNA'},\n",
       " {'coridate': '2017-10-12',\n",
       "  'coriid': '272',\n",
       "  'coristatus': 'Clear',\n",
       "  'detail': 'RN',\n",
       "  'dob': '1979-10-09',\n",
       "  'fname': 'Johnny',\n",
       "  'lname': 'Drop',\n",
       "  'oigdate': '2017-10-12',\n",
       "  'oigid': '638',\n",
       "  'oigstatus': 'No Exclusion',\n",
       "  'pid': '638',\n",
       "  'regdate': '2017-10-12',\n",
       "  'regid': '638',\n",
       "  'regstatus': 'Clear',\n",
       "  'sex': 'M',\n",
       "  'sexdate': '2017-10-12',\n",
       "  'sexid': '638',\n",
       "  'sexstatus': 'No Finding',\n",
       "  'tel': '8575402666',\n",
       "  'type': 'Nurse'},\n",
       " {'coridate': '2017-05-01',\n",
       "  'coriid': '100',\n",
       "  'coristatus': 'Clear',\n",
       "  'detail': 'CNA',\n",
       "  'dob': '1994-05-04',\n",
       "  'fname': 'Ily',\n",
       "  'lname': 'Hm',\n",
       "  'oigdate': '2017-05-01',\n",
       "  'oigid': '353',\n",
       "  'oigstatus': 'No Exclusion',\n",
       "  'pid': '353',\n",
       "  'regdate': '2017-05-09',\n",
       "  'regid': '353',\n",
       "  'regstatus': 'Clear',\n",
       "  'sex': 'M',\n",
       "  'sexdate': '2017-05-01',\n",
       "  'sexid': '353',\n",
       "  'sexstatus': 'No Finding',\n",
       "  'tel': '7742083589',\n",
       "  'type': 'CNA'},\n",
       " {'coridate': '2017-03-06',\n",
       "  'coriid': '19',\n",
       "  'coristatus': 'Clear',\n",
       "  'detail': 'RN',\n",
       "  'dob': '1989-11-04',\n",
       "  'fname': 'Ike',\n",
       "  'lname': 'Elezi',\n",
       "  'oigdate': '2017-03-06',\n",
       "  'oigid': '88',\n",
       "  'oigstatus': 'No Exclusion',\n",
       "  'pid': '88',\n",
       "  'regdate': '2017-04-19',\n",
       "  'regid': '88',\n",
       "  'regstatus': 'Clear',\n",
       "  'sex': 'M',\n",
       "  'sexdate': '2017-03-06',\n",
       "  'sexid': '88',\n",
       "  'sexstatus': 'No Finding',\n",
       "  'tel': '8572509872',\n",
       "  'type': 'Nurse'},\n",
       " {'coridate': '2017-03-29',\n",
       "  'coriid': '41',\n",
       "  'coristatus': 'Clear',\n",
       "  'detail': 'RN',\n",
       "  'dob': '1976-01-01',\n",
       "  'fname': 'FuqingYAYA',\n",
       "  'lname': 'WangYAYA',\n",
       "  'oigdate': '2017-03-29',\n",
       "  'oigid': '115',\n",
       "  'oigstatus': 'No Exclusion',\n",
       "  'pid': '115',\n",
       "  'regdate': '2017-04-04',\n",
       "  'regid': '115',\n",
       "  'regstatus': 'Clear',\n",
       "  'sex': 'F',\n",
       "  'sexdate': '2017-03-29',\n",
       "  'sexid': '115',\n",
       "  'sexstatus': 'No Finding',\n",
       "  'tel': '8574150039',\n",
       "  'type': 'Nurse'},\n",
       " {'coridate': '2017-07-06',\n",
       "  'coriid': '200',\n",
       "  'coristatus': 'Clear',\n",
       "  'detail': 'CNA',\n",
       "  'dob': '2013-04-04',\n",
       "  'fname': 'carlos',\n",
       "  'lname': 'Tevez',\n",
       "  'oigdate': '2017-07-06',\n",
       "  'oigid': '426',\n",
       "  'oigstatus': 'No Exclusion',\n",
       "  'pid': '426',\n",
       "  'regdate': '2017-07-06',\n",
       "  'regid': '426',\n",
       "  'regstatus': 'Clear',\n",
       "  'sex': 'M',\n",
       "  'sexdate': '2017-07-06',\n",
       "  'sexid': '426',\n",
       "  'sexstatus': 'No Finding',\n",
       "  'tel': '7742083585',\n",
       "  'type': 'CNA'},\n",
       " {'coridate': '2017-03-08',\n",
       "  'coriid': '35',\n",
       "  'coristatus': 'Clear',\n",
       "  'detail': 'RN',\n",
       "  'dob': '1984-03-06',\n",
       "  'fname': 'Bilal',\n",
       "  'lname': 'elezi',\n",
       "  'oigdate': '2017-03-08',\n",
       "  'oigid': '96',\n",
       "  'oigstatus': 'No Exclusion',\n",
       "  'pid': '96',\n",
       "  'regdate': '2017-04-04',\n",
       "  'regid': '96',\n",
       "  'regstatus': 'Clear',\n",
       "  'sex': 'M',\n",
       "  'sexdate': '2017-03-08',\n",
       "  'sexid': '96',\n",
       "  'sexstatus': 'No Finding',\n",
       "  'tel': '8575402666',\n",
       "  'type': 'CNA'},\n",
       " {'coridate': '2017-09-25',\n",
       "  'coriid': '254',\n",
       "  'coristatus': 'Clear',\n",
       "  'detail': 'RN',\n",
       "  'dob': '1974-02-02',\n",
       "  'fname': 'Android',\n",
       "  'lname': 'Docs',\n",
       "  'oigdate': '2017-09-25',\n",
       "  'oigid': '596',\n",
       "  'oigstatus': 'No Exclusion',\n",
       "  'pid': '596',\n",
       "  'regdate': '2017-09-25',\n",
       "  'regid': '596',\n",
       "  'regstatus': 'Clear',\n",
       "  'sex': 'F',\n",
       "  'sexdate': '2017-09-25',\n",
       "  'sexid': '596',\n",
       "  'sexstatus': 'No Finding',\n",
       "  'tel': '8575402666',\n",
       "  'type': 'Nurse'},\n",
       " {'coridate': '2017-02-24',\n",
       "  'coriid': '13',\n",
       "  'coristatus': 'Clear',\n",
       "  'detail': 'RN',\n",
       "  'dob': '1987-08-11',\n",
       "  'fname': '',\n",
       "  'lname': '',\n",
       "  'oigdate': '2017-02-24',\n",
       "  'oigid': '84',\n",
       "  'oigstatus': 'No Exclusion',\n",
       "  'pid': '84',\n",
       "  'regdate': '2017-04-18',\n",
       "  'regid': '84',\n",
       "  'regstatus': 'Clear',\n",
       "  'sex': 'M',\n",
       "  'sexdate': '2017-02-24',\n",
       "  'sexid': '84',\n",
       "  'sexstatus': 'No Finding',\n",
       "  'tel': '7742083580',\n",
       "  'type': 'CNA'}]"
      ]
     },
     "execution_count": 210,
     "metadata": {},
     "output_type": "execute_result"
    }
   ],
   "source": [
    "PROVIDERData"
   ]
  },
  {
   "cell_type": "code",
   "execution_count": null,
   "metadata": {
    "collapsed": true
   },
   "outputs": [],
   "source": [
    "\n",
    "counterm=0\n",
    "if len(PROVIDERData)==0:\n",
    "    lvalue1= \"Number of record for the provider is zero\"\n",
    "else:\n",
    "    for i in range(0,len(PROVIDERData)):\n",
    "        types= PROVIDERData[i]['type']\n",
    "        if types =='Nurse':\n",
    "            counterm =counterm + 1\n",
    "            \n",
    "    lvalue1 = \" count of nurse is \" + str(counterm) \n",
    "\n",
    "        \n",
    "   \n",
    "    "
   ]
  },
  {
   "cell_type": "code",
   "execution_count": null,
   "metadata": {
    "collapsed": true
   },
   "outputs": [],
   "source": [
    "\n",
    "counterm=0\n",
    "if len(PROVIDERData)==0:\n",
    "    lvalue1= \"Number of record for the provider is zero\"\n",
    "else:\n",
    "    for i in range(0,len(PROVIDERData)):\n",
    "        types= PROVIDERData[i]['type']\n",
    "        if types =='CNA':\n",
    "            counterm =counterm + 1\n",
    "            \n",
    "    lvalue1 = \" count of CNA is \" + str(counterm) \n",
    "\n",
    "        \n",
    "   \n",
    "    "
   ]
  },
  {
   "cell_type": "code",
   "execution_count": null,
   "metadata": {
    "collapsed": true
   },
   "outputs": [],
   "source": []
  },
  {
   "cell_type": "code",
   "execution_count": 211,
   "metadata": {
    "collapsed": true
   },
   "outputs": [],
   "source": [
    "\n",
    "counterm=0\n",
    "counterf=0\n",
    "\n",
    "if len(PROVIDERData)==0:\n",
    "    lvalue1= \"Number of record for the provider is zero\"\n",
    "else:\n",
    "    for i in range(0,len(PROVIDERData)):\n",
    "        sex= PROVIDERData[i]['sex']\n",
    "        if sex =='M':\n",
    "            counterm =counterm + 1\n",
    "        if sex =='F':\n",
    "            counterf =counterf + 1\n",
    "        \n",
    "\n",
    "    lvalue1 = \" count of male providers vs the female providers can be expressed as \" +str(counterm)+\" is to \"+str(counterf)"
   ]
  },
  {
   "cell_type": "code",
   "execution_count": null,
   "metadata": {
    "collapsed": true
   },
   "outputs": [],
   "source": []
  },
  {
   "cell_type": "code",
   "execution_count": null,
   "metadata": {
    "collapsed": true
   },
   "outputs": [],
   "source": []
  },
  {
   "cell_type": "code",
   "execution_count": null,
   "metadata": {
    "collapsed": true
   },
   "outputs": [],
   "source": [
    "\n",
    "counterm=0\n",
    "if len(PROVIDERData)==0:\n",
    "    lvalue1= \"Number of record for the provider is zero\"\n",
    "else:\n",
    "    for i in range(0,len(PROVIDERData)):\n",
    "        sex= PROVIDERData[i]['sex']\n",
    "        if sex =='M':\n",
    "            counterm =counterm + 1\n",
    "            \n",
    "    lvalue1 = \" count of male providers is \" + str(counterm) \n",
    "\n",
    "        \n",
    "   \n",
    "    "
   ]
  },
  {
   "cell_type": "code",
   "execution_count": null,
   "metadata": {
    "collapsed": true
   },
   "outputs": [],
   "source": [
    "\n",
    "counterf=0\n",
    "if len(PROVIDERData)==0:\n",
    "    lvalue1= \"Number of record for the provider is zero\"\n",
    "else:\n",
    "    for i in range(0,len(PROVIDERData)):\n",
    "        sex= PROVIDERData[i]['sex']\n",
    "        if sex =='F':\n",
    "            counterf =counterf + 1\n",
    "            \n",
    "\n",
    "   \n",
    "\n",
    "    lvalue1 = \" count of female providers is \" + str(counterf)    "
   ]
  },
  {
   "cell_type": "code",
   "execution_count": null,
   "metadata": {
    "collapsed": true
   },
   "outputs": [],
   "source": []
  },
  {
   "cell_type": "code",
   "execution_count": null,
   "metadata": {
    "collapsed": true
   },
   "outputs": [],
   "source": []
  }
 ],
 "metadata": {
  "kernelspec": {
   "display_name": "Python 3",
   "language": "python",
   "name": "python3"
  },
  "language_info": {
   "codemirror_mode": {
    "name": "ipython",
    "version": 3
   },
   "file_extension": ".py",
   "mimetype": "text/x-python",
   "name": "python",
   "nbconvert_exporter": "python",
   "pygments_lexer": "ipython3",
   "version": "3.6.2"
  }
 },
 "nbformat": 4,
 "nbformat_minor": 2
}
